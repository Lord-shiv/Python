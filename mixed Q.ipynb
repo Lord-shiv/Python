{
 "cells": [
  {
   "cell_type": "code",
   "execution_count": null,
   "metadata": {},
   "outputs": [],
   "source": []
  },
  {
   "cell_type": "code",
   "execution_count": null,
   "metadata": {},
   "outputs": [],
   "source": []
  },
  {
   "cell_type": "code",
   "execution_count": null,
   "metadata": {
    "scrolled": true
   },
   "outputs": [],
   "source": [
    "class Numbers:\n",
    "    def fibonacci(self, n):\n",
    "        a, b = 0, 1\n",
    "        f_out = []\n",
    "        \n",
    "        for _ in range(n):\n",
    "            f_out.append(a)\n",
    "            a, b = b, a+b\n",
    "        return f_out[-1]\n",
    "    \n",
    "        \n",
    "    def fibonacci_series(self, n):\n",
    "        a, b = 0, 1\n",
    "        self.fs_out = []\n",
    "        for _ in range(n):\n",
    "            self.fs_out.append(a)\n",
    "            a, b = b, a+b\n",
    "        return self.fs_out\n",
    "    \n",
    "    \n",
    "    def fibonacci_index(self):\n",
    "        return len(self.fs_out) -1        #return list1.index(list1[-1])\n",
    "    \n",
    "\n",
    "    def isPalindrome_sort(self, x):\n",
    "        if str(x) == str(x)[::-1]:\n",
    "            return True\n",
    "        else:\n",
    "            return False\n",
    "        \n",
    "    def isPalindrome_long(self, n):\n",
    "        rev=0   #reverse valuse\n",
    "        temp = n\n",
    "\n",
    "        while(n>0):\n",
    "            dig=n%10\n",
    "            rev=rev*10+dig\n",
    "            n=n//10           # n //= 10\n",
    "            \n",
    "        if temp == rev:\n",
    "            return True\n",
    "        return False\n",
    "    \n",
    "    \n",
    "    def isArmstrong(self,numnum):\n",
    "        sum_ = 0\n",
    "        temp = numnum\n",
    "        \n",
    "        while temp > 0:\n",
    "            digit = numnum % 10\n",
    "            sum_ += digit ** 3\n",
    "            numnum //= 10\n",
    "            \n",
    "        if numnum == sum_:\n",
    "            return True\n",
    "        return False\n",
    "            \n",
    "            \n",
    "            \n",
    "find_me = Numbers()\n",
    "print(find_me.fibonacci(9))\n",
    "print(find_me.fibonacci_series(9))\n",
    "print(find_me.fibonacci_index())\n",
    "print(find_me.isPalindrome_sort(151))\n",
    "print(find_me.isPalindrome_long(181))\n",
    "print(find_me.isArmstrong(153))"
   ]
  },
  {
   "cell_type": "code",
   "execution_count": null,
   "metadata": {},
   "outputs": [],
   "source": [
    "FibArray = [0, 1]\n",
    " \n",
    "def fibonacci(n):\n",
    "   \n",
    "    # Check is n is less \n",
    "    # than 0\n",
    "    if n <= 0:\n",
    "        print(\"Incorrect input\")\n",
    "         \n",
    "    # Check is n is less \n",
    "    # than len(FibArray)\n",
    "    elif n <= len(FibArray):\n",
    "        return FibArray[n - 1]\n",
    "    else:\n",
    "        temp_fib = fibonacci(n - 1) + fibonacci(n - 2)\n",
    "        FibArray.append(temp_fib)\n",
    "        return temp_fib\n",
    " \n",
    "# Driver Program\n",
    "print(fibonacci(9))"
   ]
  },
  {
   "cell_type": "code",
   "execution_count": 21,
   "metadata": {},
   "outputs": [
    {
     "data": {
      "text/plain": [
       "479001600"
      ]
     },
     "execution_count": 21,
     "metadata": {},
     "output_type": "execute_result"
    }
   ],
   "source": [
    "def factorial(n):\n",
    "    assert n>=0 and int(n) ==n, \"The number must be positive integer only!\"\n",
    "    if n in [0,1]:\n",
    "        return 1\n",
    "    else:\n",
    "        return n * factorial(n-1)\n",
    "    \n",
    "factorial(12)"
   ]
  },
  {
   "cell_type": "code",
   "execution_count": 20,
   "metadata": {},
   "outputs": [
    {
     "data": {
      "text/plain": [
       "144"
      ]
     },
     "execution_count": 20,
     "metadata": {},
     "output_type": "execute_result"
    }
   ],
   "source": [
    "def fibonacci(n):\n",
    "    assert n>= 0 and int(n) == n, \"The number must be positive integer\"\n",
    "#     if n < 0:\n",
    "#         return \"The number must be postive integer\"\n",
    "    if n in [0,1]:\n",
    "        return n\n",
    "    else:\n",
    "        return fibonacci(n-1) + fibonacci(n-2)\n",
    "fibonacci(12)"
   ]
  },
  {
   "cell_type": "code",
   "execution_count": null,
   "metadata": {},
   "outputs": [],
   "source": [
    "# x^n = x^n + x^n-1\n",
    "def power(base, exp):\n",
    "    assert (exp >= 0 and int(exp) == exp), \"No negtive numbers\"\n",
    "    if exp == 0:\n",
    "        return 1\n",
    "    if exp == 1:\n",
    "        return base\n",
    "    return base * power(base, exp-1)\n",
    "\n",
    "power(9, 2)"
   ]
  },
  {
   "cell_type": "code",
   "execution_count": 33,
   "metadata": {},
   "outputs": [
    {
     "name": "stdout",
     "output_type": "stream",
     "text": [
      "123\n",
      "12\n",
      "1\n"
     ]
    },
    {
     "data": {
      "text/plain": [
       "6"
      ]
     },
     "execution_count": 33,
     "metadata": {},
     "output_type": "execute_result"
    }
   ],
   "source": [
    "def sumofDigits(n):\n",
    "    assert n >= 0 and int(n) == n, \"negtivity should't be arround\"\n",
    "    if n == 0:\n",
    "        return 0\n",
    "    print(n)\n",
    "    return int(n%10) + sumofDigits(n//10)\n",
    "sumofDigits(123)"
   ]
  },
  {
   "cell_type": "code",
   "execution_count": 29,
   "metadata": {},
   "outputs": [
    {
     "name": "stdout",
     "output_type": "stream",
     "text": [
      "6\n"
     ]
    }
   ],
   "source": [
    "num = 123\n",
    "sum = 0\n",
    "for i in str(num):\n",
    "    sum += int(i)\n",
    "    \n",
    "print(sum)"
   ]
  },
  {
   "cell_type": "code",
   "execution_count": 31,
   "metadata": {},
   "outputs": [
    {
     "data": {
      "text/plain": [
       "1"
      ]
     },
     "execution_count": 31,
     "metadata": {},
     "output_type": "execute_result"
    }
   ],
   "source": [
    "int(111 % 10) # 1"
   ]
  },
  {
   "cell_type": "code",
   "execution_count": 39,
   "metadata": {},
   "outputs": [
    {
     "data": {
      "text/plain": [
       "10"
      ]
     },
     "execution_count": 39,
     "metadata": {},
     "output_type": "execute_result"
    }
   ],
   "source": [
    "# gcd(a, 0) = a\n",
    "# gcd(a,b) = gcd(b, a mod b)\n",
    "def gcd(a, b):\n",
    "    assert int(a) == a and int(b) == b, \"fuck you and your input\"\n",
    "    if a < 0:\n",
    "        a = -1 * a\n",
    "    if b < 0:\n",
    "        b = -1 * b\n",
    "\n",
    "    if b == 0:\n",
    "        return a\n",
    "    return gcd(b, a % b)\n",
    "\n",
    "gcd(0,10)"
   ]
  },
  {
   "cell_type": "code",
   "execution_count": null,
   "metadata": {},
   "outputs": [],
   "source": [
    "# Delete Starting Even Numbers\n",
    "\n",
    "s = [4,6,11, 23,22]\n",
    "def g(s):\n",
    "\tfor i in range(len(s)):\n",
    "\t\tif s[i] % 2 == 0: continue\n",
    "\t\telse: return s[i:]\n",
    "\treturn []\n",
    "g(s)   \n",
    "    "
   ]
  },
  {
   "cell_type": "code",
   "execution_count": null,
   "metadata": {},
   "outputs": [],
   "source": []
  },
  {
   "cell_type": "code",
   "execution_count": null,
   "metadata": {},
   "outputs": [],
   "source": []
  },
  {
   "cell_type": "code",
   "execution_count": null,
   "metadata": {},
   "outputs": [],
   "source": [
    "# Python program for jumbled words game. \n",
    "\n",
    "# import random module \n",
    "import random \n",
    "\n",
    "# function for choosing random word. \n",
    "def choose(): \n",
    "    # list of word \n",
    "    words = ['rainbow', 'computer', 'science', 'programming', \n",
    "            'mathematics', 'player', 'condition', 'reverse', \n",
    "            'water', 'board', 'geeks'] \n",
    "\n",
    "    # choice() method randomly choose \n",
    "    # any word from the list. \n",
    "    pick = random.choice(words) \n",
    "\n",
    "    return pick \n",
    "\n",
    "# Function for shuffling the \n",
    "# characters of the chosen word. \n",
    "def jumble(word): \n",
    "    # sample() method shuffling the characters of the word \n",
    "    random_word = random.sample(word, len(word)) \n",
    "\n",
    "    # join() method join the elements \n",
    "    # of the iterator(e.g. list) with particular character . \n",
    "    jumbled = ''.join(random_word) \n",
    "    return jumbled \n",
    "\n",
    "# Function for showing final score. \n",
    "def thank(p1n, p2n, p1, p2): \n",
    "    print(p1n, 'Your score is :', p1) \n",
    "    print(p2n, 'Your score is :', p2) \n",
    "\n",
    "    # check_win() function calling \n",
    "    check_win(p1n, p2n, p1, p2) \n",
    "\n",
    "    print('Thanks for playing...') \n",
    "\n",
    "# Function for declaring winner \n",
    "def check_win(player1, player2, p1score, p2score): \n",
    "    if p1score > p2score: \n",
    "        print(\"winner is :\", player1) \n",
    "    elif p2score > p1score: \n",
    "        print(\"winner is :\", player2) \n",
    "    else: \n",
    "        print(\"Draw..Well Played guys..\") \n",
    "\n",
    "# Function for playing the game. \n",
    "def play(): \n",
    "    # enter player1 and player2 name \n",
    "    p1name = input(\"player 1, Please enter your name :\") \n",
    "    p2name = input(\"Player 2 , Please enter your name: \") \n",
    "\n",
    "    # variable for counting score. \n",
    "    pp1 = 0\n",
    "    pp2 = 0\n",
    "\n",
    "    # variable for counting turn \n",
    "    turn = 0\n",
    "\n",
    "    # keep looping \n",
    "    while True: \n",
    "\n",
    "        # choose() function calling \n",
    "        picked_word = choose() \n",
    "\n",
    "        # jumble() fucntion calling \n",
    "        qn = jumble(picked_word) \n",
    "        print(\"jumbled word is :\", qn) \n",
    "\n",
    "        # checking turn is odd or even \n",
    "        if turn % 2 == 0: \n",
    "\n",
    "            # if turn no. is even \n",
    "            # player1 turn \n",
    "            print(p1name, 'Your Turn.') \n",
    "\n",
    "            ans = input(\"what is in your mind? \") \n",
    "\n",
    "            # checking ans is equal to picked_word or not \n",
    "            if ans == picked_word: \n",
    "\n",
    "                # incremented by 1 \n",
    "                pp1 += 1\n",
    "\n",
    "                print('Your score is :', pp1) \n",
    "                turn += 1\n",
    "\n",
    "            else: \n",
    "                print(\"Better luck next time ..\") \n",
    "\n",
    "                # player 2 turn \n",
    "                print(p2name, 'Your turn.') \n",
    "\n",
    "                ans = input('what is in your mind? ') \n",
    "\n",
    "                if ans == picked_word: \n",
    "                    pp2 += 1\n",
    "                    print(\"Your Score is :\", pp2) \n",
    "\n",
    "                else: \n",
    "                    print(\"Better luck next time...correct word is :\", picked_word) \n",
    "\n",
    "                c = int(input(\"press 1 to continue and 0 to quit :\")) \n",
    "\n",
    "                # checking the c is equal to 0 or not \n",
    "                # if c is equal to 0 then break out \n",
    "                # of the while loop o/w keep looping. \n",
    "                if c == 0: \n",
    "                    # thank() function calling \n",
    "                    thank(p1name, p2name, pp1, pp2) \n",
    "                    break\n",
    "\n",
    "        else: \n",
    "\n",
    "            # if turn no. is odd \n",
    "            # player2 turn \n",
    "            print(p2name, 'Your turn.') \n",
    "            ans = input('what is in your mind? ') \n",
    "\n",
    "            if ans == picked_word: \n",
    "                pp2 += 1\n",
    "                print(\"Your Score is :\", pp2) \n",
    "                turn += 1\n",
    "\n",
    "            else: \n",
    "                print(\"Better luck next time.. :\") \n",
    "                print(p1name, 'Your turn.') \n",
    "                ans = input('what is in your mind? ') \n",
    "\n",
    "                if ans == picked_word: \n",
    "                    pp1 += 1\n",
    "                    print(\"Your Score is :\", pp1) \n",
    "\n",
    "                else: \n",
    "                    print(\"Better luck next time...correct word is :\", picked_word) \n",
    "\n",
    "                    c = int(input(\"press 1 to continue and 0 to quit :\")) \n",
    "\n",
    "                    if c == 0: \n",
    "                        # thank() function calling \n",
    "                        thank(p1name, p2name, pp1, pp2) \n",
    "                        break\n",
    "\n",
    "            c = int(input(\"press 1 to continue and 0 to quit :\")) \n",
    "            if c == 0: \n",
    "                # thank() function calling \n",
    "                thank(p1name, p2name, pp1, pp2) \n",
    "                break\n",
    "\n",
    "# Driver code \n",
    "if __name__ == '__main__': \n",
    "\n",
    "    # play() function calling \n",
    "    play() "
   ]
  },
  {
   "cell_type": "code",
   "execution_count": null,
   "metadata": {},
   "outputs": [],
   "source": []
  }
 ],
 "metadata": {
  "kernelspec": {
   "display_name": "Python 3",
   "language": "python",
   "name": "python3"
  },
  "language_info": {
   "codemirror_mode": {
    "name": "ipython",
    "version": 3
   },
   "file_extension": ".py",
   "mimetype": "text/x-python",
   "name": "python",
   "nbconvert_exporter": "python",
   "pygments_lexer": "ipython3",
   "version": "3.7.4"
  }
 },
 "nbformat": 4,
 "nbformat_minor": 2
}
