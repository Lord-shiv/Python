{
 "cells": [
  {
   "cell_type": "code",
   "execution_count": 1,
   "metadata": {},
   "outputs": [
    {
     "data": {
      "text/plain": [
       "16"
      ]
     },
     "execution_count": 1,
     "metadata": {},
     "output_type": "execute_result"
    }
   ],
   "source": [
    "def powerofTwoIt(n):\n",
    "    i = 0\n",
    "    power = 1\n",
    "    while i < n:\n",
    "        power *= 2\n",
    "        i += 1\n",
    "    return power\n",
    "powerofTwoIt(4)"
   ]
  },
  {
   "cell_type": "code",
   "execution_count": 2,
   "metadata": {},
   "outputs": [
    {
     "data": {
      "text/plain": [
       "24"
      ]
     },
     "execution_count": 2,
     "metadata": {},
     "output_type": "execute_result"
    }
   ],
   "source": [
    "def factorial(n):\n",
    "    if n in [0, 1]:\n",
    "        return 1\n",
    "    else:\n",
    "        return n* factorial(n-1)\n",
    "    \n",
    "factorial(4)"
   ]
  },
  {
   "cell_type": "code",
   "execution_count": 3,
   "metadata": {},
   "outputs": [
    {
     "data": {
      "text/plain": [
       "16"
      ]
     },
     "execution_count": 3,
     "metadata": {},
     "output_type": "execute_result"
    }
   ],
   "source": [
    "def powertwo(pow):\n",
    "    if pow == 0:\n",
    "        return 1\n",
    "    power = powertwo(pow-1)\n",
    "    return power*2\n",
    "powertwo(4)"
   ]
  },
  {
   "cell_type": "code",
   "execution_count": 5,
   "metadata": {},
   "outputs": [],
   "source": [
    "def factorial(n):\n",
    "    assert n>=0 and int(n) ==n, \"The number must be positive integer only!\"\n",
    "    if n in [0,1]:\n",
    "        return 1\n",
    "    else:\n",
    "        return n * factorial(n-1)"
   ]
  },
  {
   "cell_type": "code",
   "execution_count": 6,
   "metadata": {},
   "outputs": [
    {
     "data": {
      "text/plain": [
       "1"
      ]
     },
     "execution_count": 6,
     "metadata": {},
     "output_type": "execute_result"
    }
   ],
   "source": [
    "def fibonacci(n):\n",
    "    assert n>= 0 and int(n) == n, \"The number must be positive integer\"\n",
    "    if n in [0,1]:\n",
    "        return n\n",
    "    else:\n",
    "        return fibonacci(n-1) + fibonacci(n-2)\n",
    "fibonacci(1)"
   ]
  },
  {
   "cell_type": "code",
   "execution_count": 7,
   "metadata": {},
   "outputs": [
    {
     "data": {
      "text/plain": [
       "81"
      ]
     },
     "execution_count": 7,
     "metadata": {},
     "output_type": "execute_result"
    }
   ],
   "source": [
    "# x^n = x^n + x^n-1\n",
    "def power(base, exp):\n",
    "    assert (exp >= 0 and int(exp) == exp), \"No negtive numbers\"\n",
    "    if exp == 0:\n",
    "        return 1\n",
    "    if exp == 1:\n",
    "        return base\n",
    "    return base * power(base, exp-1)\n",
    "\n",
    "power(9, 2)"
   ]
  },
  {
   "cell_type": "code",
   "execution_count": 9,
   "metadata": {},
   "outputs": [
    {
     "data": {
      "text/plain": [
       "4"
      ]
     },
     "execution_count": 9,
     "metadata": {},
     "output_type": "execute_result"
    }
   ],
   "source": [
    "def sumofDigits(n):\n",
    "    assert n >= 0 and int(n) == n, \"negtivity should't be arround\"\n",
    "    if n == 0:\n",
    "        return 0\n",
    "    return int(n%10) + sumofDigits(n//10)\n",
    "sumofDigits(1111)"
   ]
  },
  {
   "cell_type": "code",
   "execution_count": 10,
   "metadata": {},
   "outputs": [
    {
     "data": {
      "text/plain": [
       "4"
      ]
     },
     "execution_count": 10,
     "metadata": {},
     "output_type": "execute_result"
    }
   ],
   "source": [
    "# gcd(a, 0) = a\n",
    "# gcd(a,b) = gcd(b, a mod b)\n",
    "def gcd(a, b):\n",
    "    assert int(a) == a and int(b) == b, \"fuck you and your input\"\n",
    "    if a < 0:\n",
    "        a = -1 * a\n",
    "    if b < 0:\n",
    "        b = -1 * b\n",
    "\n",
    "    if b == 0:\n",
    "        return a\n",
    "    return gcd(b, a % b)\n",
    "\n",
    "gcd(-4,16)"
   ]
  },
  {
   "cell_type": "code",
   "execution_count": 1,
   "metadata": {},
   "outputs": [
    {
     "data": {
      "text/plain": [
       "[11, 23, 22]"
      ]
     },
     "execution_count": 1,
     "metadata": {},
     "output_type": "execute_result"
    }
   ],
   "source": [
    "# Delete Starting Even Numbers\n",
    "\n",
    "s = [4,6,11, 23,22]\n",
    "def g(s):\n",
    "\tfor i in range(len(s)):\n",
    "\t\tif s[i] % 2 == 0: continue\n",
    "\t\telse: return s[i:]\n",
    "\treturn []\n",
    "g(s)   \n",
    "    "
   ]
  },
  {
   "cell_type": "code",
   "execution_count": null,
   "metadata": {},
   "outputs": [],
   "source": []
  },
  {
   "cell_type": "code",
   "execution_count": 11,
   "metadata": {},
   "outputs": [
    {
     "ename": "SyntaxError",
     "evalue": "invalid syntax (<ipython-input-11-309e8f99aa2e>, line 38)",
     "output_type": "error",
     "traceback": [
      "\u001b[1;36m  File \u001b[1;32m\"<ipython-input-11-309e8f99aa2e>\"\u001b[1;36m, line \u001b[1;32m38\u001b[0m\n\u001b[1;33m    \"\"\"\u001b[0m\n\u001b[1;37m       \n^\u001b[0m\n\u001b[1;31mSyntaxError\u001b[0m\u001b[1;31m:\u001b[0m invalid syntax\n"
     ]
    }
   ],
   "source": [
    "# Word Jumble\n",
    "# \n",
    "# The computer picks a random word then \"jumbles\" it\n",
    "# The player has to guess the original word\n",
    "#  \n",
    "import random\n",
    " \n",
    "# create a sequence of words to choose from\n",
    "WORDS = (\"python\", \"jumble\", \"easy\", \"difficult\", \"answer\", \"xylophone\")          \n",
    "  \n",
    "#  pick one word randomly from the sequence\n",
    "word = random.choice(WORDS)\n",
    "# create a variable to use later to see if the guess is correct\n",
    "correct = word\n",
    " \n",
    "# create a jumbled version of the word\n",
    "jumble =\"\"\n",
    " \n",
    "while word:\n",
    "  position = random.randrange(len(word))\n",
    "  jumble += word[position]\n",
    "  word = word[:position] + word[(position + 1):]\n",
    "  \n",
    "# sets score to zero\n",
    "score = 0\n",
    " \n",
    "# start the game\n",
    "print \\\n",
    "   \"\"\"\n",
    "              Welcome to Word Jumble!\n",
    " \n",
    " Unscramble the letters to make a word.\n",
    " Enter a guess, an X to give up, or type ? and press enter for a hint.\n",
    " (Press the enter key at the prompt to quit.)\n",
    " \n",
    " Try to get the lowest score possible. For each hint, you gain a point.\n",
    " See if you can win with no points!\n",
    " \"\"\"\n",
    "print \"The jumble is:\", jumble\n",
    "\n",
    "guess = raw_input(\"\\nYour guess: \")\n",
    "guess = guess.lower()\n",
    "lst = range(len(jumble))\n",
    "hint_str = '_'*len(jumble)\n",
    "while True:\n",
    " \n",
    "     \n",
    " if guess == correct:\n",
    "      print \"That's it! You guessed it!\\n Your score is\", score\n",
    "      raw_input(\"\\n\\nPress the enter key to exit.\")\n",
    "      break\n",
    "      guess = raw_input(\"Guess or '?' or 'X': \").lower()\n",
    "\n",
    " elif guess == '?':\n",
    "       i = random.choice(lst)\n",
    "       print correct[i], \"is the\", i+1, \"letter.\"\n",
    "       score += 1\n",
    "       guess = raw_input(\"Guess or '?' or 'X': \").lower()\n",
    "       \n",
    "       \n",
    " elif guess == 'x':\n",
    "       print \"Sorry you gave up!\"\n",
    "       break\n",
    " else:\n",
    "       print \"Sorry, thats not it. Try again.\"\n",
    "       guess = raw_input(\"Guess or '?' or 'X': \").lower()"
   ]
  },
  {
   "cell_type": "code",
   "execution_count": null,
   "metadata": {},
   "outputs": [],
   "source": []
  }
 ],
 "metadata": {
  "kernelspec": {
   "display_name": "Python 3",
   "language": "python",
   "name": "python3"
  },
  "language_info": {
   "codemirror_mode": {
    "name": "ipython",
    "version": 3
   },
   "file_extension": ".py",
   "mimetype": "text/x-python",
   "name": "python",
   "nbconvert_exporter": "python",
   "pygments_lexer": "ipython3",
   "version": "3.7.4"
  }
 },
 "nbformat": 4,
 "nbformat_minor": 2
}
