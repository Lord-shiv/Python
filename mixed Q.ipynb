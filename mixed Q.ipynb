{
 "cells": [
  {
   "cell_type": "code",
   "execution_count": 1,
   "metadata": {},
   "outputs": [
    {
     "data": {
      "text/plain": [
       "16"
      ]
     },
     "execution_count": 1,
     "metadata": {},
     "output_type": "execute_result"
    }
   ],
   "source": [
    "def powerofTwoIt(n):\n",
    "    i = 0\n",
    "    power = 1\n",
    "    while i < n:\n",
    "        power *= 2\n",
    "        i += 1\n",
    "    return power\n",
    "powerofTwoIt(4)"
   ]
  },
  {
   "cell_type": "code",
   "execution_count": 2,
   "metadata": {},
   "outputs": [
    {
     "data": {
      "text/plain": [
       "24"
      ]
     },
     "execution_count": 2,
     "metadata": {},
     "output_type": "execute_result"
    }
   ],
   "source": [
    "def factorial(n):\n",
    "    if n in [0, 1]:\n",
    "        return 1\n",
    "    else:\n",
    "        return n* factorial(n-1)\n",
    "    \n",
    "factorial(4)"
   ]
  },
  {
   "cell_type": "code",
   "execution_count": 3,
   "metadata": {},
   "outputs": [
    {
     "data": {
      "text/plain": [
       "16"
      ]
     },
     "execution_count": 3,
     "metadata": {},
     "output_type": "execute_result"
    }
   ],
   "source": [
    "def powertwo(pow):\n",
    "    if pow == 0:\n",
    "        return 1\n",
    "    power = powertwo(pow-1)\n",
    "    return power*2\n",
    "powertwo(4)"
   ]
  },
  {
   "cell_type": "code",
   "execution_count": 5,
   "metadata": {},
   "outputs": [],
   "source": [
    "def factorial(n):\n",
    "    assert n>=0 and int(n) ==n, \"The number must be positive integer only!\"\n",
    "    if n in [0,1]:\n",
    "        return 1\n",
    "    else:\n",
    "        return n * factorial(n-1)"
   ]
  },
  {
   "cell_type": "code",
   "execution_count": 6,
   "metadata": {},
   "outputs": [
    {
     "data": {
      "text/plain": [
       "1"
      ]
     },
     "execution_count": 6,
     "metadata": {},
     "output_type": "execute_result"
    }
   ],
   "source": [
    "def fibonacci(n):\n",
    "    assert n>= 0 and int(n) == n, \"The number must be positive integer\"\n",
    "    if n in [0,1]:\n",
    "        return n\n",
    "    else:\n",
    "        return fibonacci(n-1) + fibonacci(n-2)\n",
    "fibonacci(1)"
   ]
  },
  {
   "cell_type": "code",
   "execution_count": 7,
   "metadata": {},
   "outputs": [
    {
     "data": {
      "text/plain": [
       "81"
      ]
     },
     "execution_count": 7,
     "metadata": {},
     "output_type": "execute_result"
    }
   ],
   "source": [
    "# x^n = x^n + x^n-1\n",
    "def power(base, exp):\n",
    "    assert (exp >= 0 and int(exp) == exp), \"No negtive numbers\"\n",
    "    if exp == 0:\n",
    "        return 1\n",
    "    if exp == 1:\n",
    "        return base\n",
    "    return base * power(base, exp-1)\n",
    "\n",
    "power(9, 2)"
   ]
  },
  {
   "cell_type": "code",
   "execution_count": 9,
   "metadata": {},
   "outputs": [
    {
     "data": {
      "text/plain": [
       "4"
      ]
     },
     "execution_count": 9,
     "metadata": {},
     "output_type": "execute_result"
    }
   ],
   "source": [
    "def sumofDigits(n):\n",
    "    assert n >= 0 and int(n) == n, \"negtivity should't be arround\"\n",
    "    if n == 0:\n",
    "        return 0\n",
    "    return int(n%10) + sumofDigits(n//10)\n",
    "sumofDigits(1111)"
   ]
  },
  {
   "cell_type": "code",
   "execution_count": 10,
   "metadata": {},
   "outputs": [
    {
     "data": {
      "text/plain": [
       "4"
      ]
     },
     "execution_count": 10,
     "metadata": {},
     "output_type": "execute_result"
    }
   ],
   "source": [
    "# gcd(a, 0) = a\n",
    "# gcd(a,b) = gcd(b, a mod b)\n",
    "def gcd(a, b):\n",
    "    assert int(a) == a and int(b) == b, \"fuck you and your input\"\n",
    "    if a < 0:\n",
    "        a = -1 * a\n",
    "    if b < 0:\n",
    "        b = -1 * b\n",
    "\n",
    "    if b == 0:\n",
    "        return a\n",
    "    return gcd(b, a % b)\n",
    "\n",
    "gcd(-4,16)"
   ]
  },
  {
   "cell_type": "code",
   "execution_count": 1,
   "metadata": {},
   "outputs": [
    {
     "data": {
      "text/plain": [
       "[11, 23, 22]"
      ]
     },
     "execution_count": 1,
     "metadata": {},
     "output_type": "execute_result"
    }
   ],
   "source": [
    "# Delete Starting Even Numbers\n",
    "\n",
    "s = [4,6,11, 23,22]\n",
    "def g(s):\n",
    "\tfor i in range(len(s)):\n",
    "\t\tif s[i] % 2 == 0: continue\n",
    "\t\telse: return s[i:]\n",
    "\treturn []\n",
    "g(s)   \n",
    "    "
   ]
  },
  {
   "cell_type": "code",
   "execution_count": null,
   "metadata": {},
   "outputs": [],
   "source": []
  },
  {
   "cell_type": "code",
   "execution_count": 11,
   "metadata": {},
   "outputs": [
    {
     "ename": "SyntaxError",
     "evalue": "invalid syntax (<ipython-input-11-309e8f99aa2e>, line 38)",
     "output_type": "error",
     "traceback": [
      "\u001b[1;36m  File \u001b[1;32m\"<ipython-input-11-309e8f99aa2e>\"\u001b[1;36m, line \u001b[1;32m38\u001b[0m\n\u001b[1;33m    \"\"\"\u001b[0m\n\u001b[1;37m       \n^\u001b[0m\n\u001b[1;31mSyntaxError\u001b[0m\u001b[1;31m:\u001b[0m invalid syntax\n"
     ]
    }
   ],
   "source": [
    "# Word Jumble\n",
    "# \n",
    "# The computer picks a random word then \"jumbles\" it\n",
    "# The player has to guess the original word\n",
    "#  \n",
    "import random\n",
    " \n",
    "# create a sequence of words to choose from\n",
    "WORDS = (\"python\", \"jumble\", \"easy\", \"difficult\", \"answer\", \"xylophone\")          \n",
    "  \n",
    "#  pick one word randomly from the sequence\n",
    "word = random.choice(WORDS)\n",
    "# create a variable to use later to see if the guess is correct\n",
    "correct = word\n",
    " \n",
    "# create a jumbled version of the word\n",
    "jumble =\"\"\n",
    " \n",
    "while word:\n",
    "  position = random.randrange(len(word))\n",
    "  jumble += word[position]\n",
    "  word = word[:position] + word[(position + 1):]\n",
    "  \n",
    "# sets score to zero\n",
    "score = 0\n",
    " \n",
    "# start the game\n",
    "print \\\n",
    "   \"\"\"\n",
    "              Welcome to Word Jumble!\n",
    " \n",
    " Unscramble the letters to make a word.\n",
    " Enter a guess, an X to give up, or type ? and press enter for a hint.\n",
    " (Press the enter key at the prompt to quit.)\n",
    " \n",
    " Try to get the lowest score possible. For each hint, you gain a point.\n",
    " See if you can win with no points!\n",
    " \"\"\"\n",
    "print \"The jumble is:\", jumble\n",
    "\n",
    "guess = raw_input(\"\\nYour guess: \")\n",
    "guess = guess.lower()\n",
    "lst = range(len(jumble))\n",
    "hint_str = '_'*len(jumble)\n",
    "while True:\n",
    " \n",
    "     \n",
    " if guess == correct:\n",
    "      print \"That's it! You guessed it!\\n Your score is\", score\n",
    "      raw_input(\"\\n\\nPress the enter key to exit.\")\n",
    "      break\n",
    "      guess = raw_input(\"Guess or '?' or 'X': \").lower()\n",
    "\n",
    " elif guess == '?':\n",
    "       i = random.choice(lst)\n",
    "       print correct[i], \"is the\", i+1, \"letter.\"\n",
    "       score += 1\n",
    "       guess = raw_input(\"Guess or '?' or 'X': \").lower()\n",
    "       \n",
    "       \n",
    " elif guess == 'x':\n",
    "       print \"Sorry you gave up!\"\n",
    "       break\n",
    " else:\n",
    "       print \"Sorry, thats not it. Try again.\"\n",
    "       guess = raw_input(\"Guess or '?' or 'X': \").lower()"
   ]
  },
  {
   "cell_type": "code",
   "execution_count": null,
   "metadata": {},
   "outputs": [],
   "source": [
    "# Python program for jumbled words game. \n",
    "\n",
    "# import random module \n",
    "import random \n",
    "\n",
    "# function for choosing random word. \n",
    "def choose(): \n",
    "    # list of word \n",
    "    words = ['rainbow', 'computer', 'science', 'programming', \n",
    "            'mathematics', 'player', 'condition', 'reverse', \n",
    "            'water', 'board', 'geeks'] \n",
    "\n",
    "    # choice() method randomly choose \n",
    "    # any word from the list. \n",
    "    pick = random.choice(words) \n",
    "\n",
    "    return pick \n",
    "\n",
    "# Function for shuffling the \n",
    "# characters of the chosen word. \n",
    "def jumble(word): \n",
    "    # sample() method shuffling the characters of the word \n",
    "    random_word = random.sample(word, len(word)) \n",
    "\n",
    "    # join() method join the elements \n",
    "    # of the iterator(e.g. list) with particular character . \n",
    "    jumbled = ''.join(random_word) \n",
    "    return jumbled \n",
    "\n",
    "# Function for showing final score. \n",
    "def thank(p1n, p2n, p1, p2): \n",
    "    print(p1n, 'Your score is :', p1) \n",
    "    print(p2n, 'Your score is :', p2) \n",
    "\n",
    "    # check_win() function calling \n",
    "    check_win(p1n, p2n, p1, p2) \n",
    "\n",
    "    print('Thanks for playing...') \n",
    "\n",
    "# Function for declaring winner \n",
    "def check_win(player1, player2, p1score, p2score): \n",
    "    if p1score > p2score: \n",
    "        print(\"winner is :\", player1) \n",
    "    elif p2score > p1score: \n",
    "        print(\"winner is :\", player2) \n",
    "    else: \n",
    "        print(\"Draw..Well Played guys..\") \n",
    "\n",
    "# Function for playing the game. \n",
    "def play(): \n",
    "    # enter player1 and player2 name \n",
    "    p1name = input(\"player 1, Please enter your name :\") \n",
    "    p2name = input(\"Player 2 , Please enter your name: \") \n",
    "\n",
    "    # variable for counting score. \n",
    "    pp1 = 0\n",
    "    pp2 = 0\n",
    "\n",
    "    # variable for counting turn \n",
    "    turn = 0\n",
    "\n",
    "    # keep looping \n",
    "    while True: \n",
    "\n",
    "        # choose() function calling \n",
    "        picked_word = choose() \n",
    "\n",
    "        # jumble() fucntion calling \n",
    "        qn = jumble(picked_word) \n",
    "        print(\"jumbled word is :\", qn) \n",
    "\n",
    "        # checking turn is odd or even \n",
    "        if turn % 2 == 0: \n",
    "\n",
    "            # if turn no. is even \n",
    "            # player1 turn \n",
    "            print(p1name, 'Your Turn.') \n",
    "\n",
    "            ans = input(\"what is in your mind? \") \n",
    "\n",
    "            # checking ans is equal to picked_word or not \n",
    "            if ans == picked_word: \n",
    "\n",
    "                # incremented by 1 \n",
    "                pp1 += 1\n",
    "\n",
    "                print('Your score is :', pp1) \n",
    "                turn += 1\n",
    "\n",
    "            else: \n",
    "                print(\"Better luck next time ..\") \n",
    "\n",
    "                # player 2 turn \n",
    "                print(p2name, 'Your turn.') \n",
    "\n",
    "                ans = input('what is in your mind? ') \n",
    "\n",
    "                if ans == picked_word: \n",
    "                    pp2 += 1\n",
    "                    print(\"Your Score is :\", pp2) \n",
    "\n",
    "                else: \n",
    "                    print(\"Better luck next time...correct word is :\", picked_word) \n",
    "\n",
    "                c = int(input(\"press 1 to continue and 0 to quit :\")) \n",
    "\n",
    "                # checking the c is equal to 0 or not \n",
    "                # if c is equal to 0 then break out \n",
    "                # of the while loop o/w keep looping. \n",
    "                if c == 0: \n",
    "                    # thank() function calling \n",
    "                    thank(p1name, p2name, pp1, pp2) \n",
    "                    break\n",
    "\n",
    "        else: \n",
    "\n",
    "            # if turn no. is odd \n",
    "            # player2 turn \n",
    "            print(p2name, 'Your turn.') \n",
    "            ans = input('what is in your mind? ') \n",
    "\n",
    "            if ans == picked_word: \n",
    "                pp2 += 1\n",
    "                print(\"Your Score is :\", pp2) \n",
    "                turn += 1\n",
    "\n",
    "            else: \n",
    "                print(\"Better luck next time.. :\") \n",
    "                print(p1name, 'Your turn.') \n",
    "                ans = input('what is in your mind? ') \n",
    "\n",
    "                if ans == picked_word: \n",
    "                    pp1 += 1\n",
    "                    print(\"Your Score is :\", pp1) \n",
    "\n",
    "                else: \n",
    "                    print(\"Better luck next time...correct word is :\", picked_word) \n",
    "\n",
    "                    c = int(input(\"press 1 to continue and 0 to quit :\")) \n",
    "\n",
    "                    if c == 0: \n",
    "                        # thank() function calling \n",
    "                        thank(p1name, p2name, pp1, pp2) \n",
    "                        break\n",
    "\n",
    "            c = int(input(\"press 1 to continue and 0 to quit :\")) \n",
    "            if c == 0: \n",
    "                # thank() function calling \n",
    "                thank(p1name, p2name, pp1, pp2) \n",
    "                break\n",
    "\n",
    "# Driver code \n",
    "if __name__ == '__main__': \n",
    "\n",
    "    # play() function calling \n",
    "    play() "
   ]
  }
 ],
 "metadata": {
  "kernelspec": {
   "display_name": "Python 3",
   "language": "python",
   "name": "python3"
  },
  "language_info": {
   "codemirror_mode": {
    "name": "ipython",
    "version": 3
   },
   "file_extension": ".py",
   "mimetype": "text/x-python",
   "name": "python",
   "nbconvert_exporter": "python",
   "pygments_lexer": "ipython3",
   "version": "3.7.4"
  }
 },
 "nbformat": 4,
 "nbformat_minor": 2
}
