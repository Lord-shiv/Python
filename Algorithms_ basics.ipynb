{
 "cells": [
  {
   "cell_type": "code",
   "execution_count": 1,
   "metadata": {},
   "outputs": [
    {
     "data": {
      "text/plain": [
       "12"
      ]
     },
     "execution_count": 1,
     "metadata": {},
     "output_type": "execute_result"
    }
   ],
   "source": [
    "# naive way or algo which gives multiplication of two digits\n",
    "def naive(a, b):\n",
    "    x = a\n",
    "    y = b\n",
    "    z = 0\n",
    "    while x > 0:\n",
    "        z = z + y\n",
    "        x = x - 1\n",
    "    return z\n",
    "naive(2, 6)"
   ]
  },
  {
   "cell_type": "code",
   "execution_count": 2,
   "metadata": {},
   "outputs": [
    {
     "data": {
      "text/plain": [
       "140"
      ]
     },
     "execution_count": 2,
     "metadata": {},
     "output_type": "execute_result"
    }
   ],
   "source": [
    "# russian algo to solve same muliplication \n",
    "# 10 >> 1\n",
    "# 20 >> 2\n",
    "# 20-1/2 = 2*2 19/4 = 4.75 AND ROUNDING MAKES IT 5\n",
    "# 100 >> 5 \n",
    "# 2*2*2*2*2 = 32  WHICH IS (100-1)/32 = 3.0102 WHICH MAKES IT 3\n",
    "# 10<<1  basically it dubble or halfs the value\n",
    "def russian(a, b):\n",
    "    x = a;\n",
    "    y = b\n",
    "    z = 0\n",
    "    while x > 0:\n",
    "        if x % 2 == 1: # if it is than add y to z\n",
    "            z = z + y\n",
    "        y = y<<1  # dubble  Y\n",
    "        x = x >> 1  # half and rounding also x \n",
    "    return z\n",
    "\n",
    "russian(20, 7)"
   ]
  },
  {
   "cell_type": "code",
   "execution_count": 14,
   "metadata": {},
   "outputs": [
    {
     "data": {
      "text/plain": [
       "12"
      ]
     },
     "execution_count": 14,
     "metadata": {},
     "output_type": "execute_result"
    }
   ],
   "source": [
    "100>>3"
   ]
  },
  {
   "cell_type": "markdown",
   "metadata": {},
   "source": [
    "# BIG O"
   ]
  },
  {
   "cell_type": "code",
   "execution_count": 12,
   "metadata": {},
   "outputs": [
    {
     "data": {
      "text/plain": [
       "'Eleanor'"
      ]
     },
     "execution_count": 12,
     "metadata": {},
     "output_type": "execute_result"
    }
   ],
   "source": [
    "moms = [\n",
    "       ('Ned', 'Eleanor'),\n",
    "       ('max', 'susan'),\n",
    "       ('susna', 'shelly')\n",
    "]\n",
    "\n",
    "def find_moms(moms, child):            #     n/2\n",
    "    for child_name, mom_name in moms:  #  3* n/2\n",
    "        if child == child_name:        #  1* n/2\n",
    "            return mom_name            #  1\n",
    "    return None\n",
    "\n",
    "find_moms(moms, 'Ned')\n",
    "\n",
    "\n",
    "#  3N / 2 + N/2 + 1 \n",
    "#  2N + 1\n",
    "#  O(N)"
   ]
  },
  {
   "cell_type": "code",
   "execution_count": 15,
   "metadata": {},
   "outputs": [],
   "source": [
    "s = set()\n",
    "for i in range(50000):\n",
    "    s.add(i*47)   #O(1)"
   ]
  },
  {
   "cell_type": "code",
   "execution_count": 16,
   "metadata": {},
   "outputs": [],
   "source": [
    "s = set()\n",
    "for i in range(50000):\n",
    "    s.add(i * (2 ** 61 - 1))"
   ]
  },
  {
   "cell_type": "code",
   "execution_count": 32,
   "metadata": {},
   "outputs": [
    {
     "data": {
      "text/plain": [
       "Coordinate 4.4, -23.9"
      ]
     },
     "execution_count": 32,
     "metadata": {},
     "output_type": "execute_result"
    }
   ],
   "source": [
    "class Cordinate:\n",
    "    def __repr__(self):\n",
    "        return f'Coordinate {self.last}, {self.long}'\n",
    "        \n",
    "cle = Cordinate()\n",
    "cle.last = 4.4\n",
    "cle.long = -23.9\n",
    "cle"
   ]
  },
  {
   "cell_type": "code",
   "execution_count": null,
   "metadata": {},
   "outputs": [],
   "source": []
  }
 ],
 "metadata": {
  "kernelspec": {
   "display_name": "Python 3",
   "language": "python",
   "name": "python3"
  },
  "language_info": {
   "codemirror_mode": {
    "name": "ipython",
    "version": 3
   },
   "file_extension": ".py",
   "mimetype": "text/x-python",
   "name": "python",
   "nbconvert_exporter": "python",
   "pygments_lexer": "ipython3",
   "version": "3.7.4"
  }
 },
 "nbformat": 4,
 "nbformat_minor": 2
}
