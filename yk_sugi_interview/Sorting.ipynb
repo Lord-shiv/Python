{
 "cells": [
  {
   "cell_type": "code",
   "execution_count": 1,
   "metadata": {},
   "outputs": [
    {
     "name": "stdout",
     "output_type": "stream",
     "text": [
      "Starting state:  [6, 20, 8, 19, 56, 23, 87, 41, 49, 53]\n",
      "result: [6, 8, 19, 20, 23, 56, 41, 49, 53, 87]\n",
      "result: [6, 8, 19, 20, 23, 41, 49, 53, 56, 87]\n",
      "result: [6, 8, 19, 20, 23, 41, 49, 53, 56, 87]\n",
      "result: [6, 8, 19, 20, 23, 41, 49, 53, 56, 87]\n",
      "result: [6, 8, 19, 20, 23, 41, 49, 53, 56, 87]\n",
      "result: [6, 8, 19, 20, 23, 41, 49, 53, 56, 87]\n",
      "result: [6, 8, 19, 20, 23, 41, 49, 53, 56, 87]\n",
      "result: [6, 8, 19, 20, 23, 41, 49, 53, 56, 87]\n",
      "result: [6, 8, 19, 20, 23, 41, 49, 53, 56, 87]\n",
      "Final state:  [6, 8, 19, 20, 23, 41, 49, 53, 56, 87]\n"
     ]
    }
   ],
   "source": [
    "# Not pereferd because its runs O(n^2) times\n",
    "def bubble_Sort(dataset):\n",
    "    for i in range(len(dataset) -1, 0, -1):\n",
    "        for j in range(i):\n",
    "            if dataset[j] > dataset[j+1]:\n",
    "                temp = dataset[j]\n",
    "                dataset[j] = dataset[j+1]\n",
    "                dataset[j+1] = temp\n",
    "        print(\"result:\",dataset)\n",
    "\n",
    "def main():\n",
    "    list1 = [6, 20, 8, 19, 56, 23, 87, 41, 49, 53]\n",
    "    print(\"Starting state: \", list1)\n",
    "    bubble_Sort(list1)\n",
    "    print(\"Final state: \", list1)\n",
    "\n",
    "\n",
    "if __name__ == \"__main__\":\n",
    "    main()"
   ]
  },
  {
   "cell_type": "code",
   "execution_count": 42,
   "metadata": {},
   "outputs": [
    {
     "name": "stdout",
     "output_type": "stream",
     "text": [
      "[6, 20, 8, 19, 56, 23, 87, 41, 49, 53]\n",
      "[6, 8, 19, 20, 23, 41, 49, 53, 56, 87]\n"
     ]
    }
   ],
   "source": [
    "# Merge Sort \n",
    "# divide_and _conquer algorithm\n",
    "# breaks a database into individual pieces and merge them\n",
    "#  uses recursion to operate on datasets\n",
    "# Performs well on large sets of data\n",
    "#  In general has a performance of O(n log n) time complexity\n",
    "\n",
    "# Implement a merge sort with recursion\n",
    "\n",
    "\n",
    "items = [6, 20, 8, 19, 56, 23, 87, 41, 49, 53]\n",
    "\n",
    "def mergesort(dataset):\n",
    "    if len(dataset) > 1:\n",
    "        mid = len(dataset) // 2\n",
    "        leftarr = dataset[:mid]\n",
    "        rightarr = dataset[mid:]\n",
    "\n",
    "        # recursively break down the arrays\n",
    "        mergesort(leftarr)\n",
    "        mergesort(rightarr)\n",
    "\n",
    "        # now perform the merging\n",
    "        i=0 # index into the left array\n",
    "        j=0 # index into the right array\n",
    "        k=0 # index into merged array\n",
    "\n",
    "        # while both arrays have content\n",
    "        while i < len(leftarr) and j < len(rightarr):\n",
    "            if leftarr[i] < rightarr[j]:\n",
    "                dataset[k] = leftarr[i]\n",
    "                i += 1\n",
    "            else:\n",
    "                dataset[k] = rightarr[j]\n",
    "                j += 1\n",
    "            k += 1\n",
    "\n",
    "        # if the left array still has values, add them\n",
    "        while i < len(leftarr):\n",
    "            dataset[k] = leftarr[i]\n",
    "            i += 1\n",
    "            k += 1\n",
    "\n",
    "        # if the right array still has values, add them\n",
    "        while j < len(rightarr):\n",
    "            dataset[k] = rightarr[j]\n",
    "            j += 1\n",
    "            k += 1\n",
    "\n",
    "\n",
    "# test the merge sort with data\n",
    "print(items)\n",
    "mergesort(items)\n",
    "print(items)"
   ]
  },
  {
   "cell_type": "code",
   "execution_count": 43,
   "metadata": {},
   "outputs": [
    {
     "name": "stdout",
     "output_type": "stream",
     "text": [
      "[20, 6, 8, 53, 56, 23, 87, 41, 49, 19]\n",
      "[6, 8, 19, 20, 23, 41, 49, 53, 56, 87]\n"
     ]
    }
   ],
   "source": [
    "# Quicksort\n",
    "# Divide and conquer algorithm\n",
    "#  also uses recursion to perform sorting\n",
    "#  Performs better than merge sort O(n Log n)\n",
    "#  Operates in place on the data (and don't need extra space)\n",
    "#  Wort case in O(n2) when data is mostly sorted already\n",
    "# pivot position\n",
    "\n",
    "# Implement a quicksort\n",
    "\n",
    "\n",
    "items = [20, 6, 8, 53, 56, 23, 87, 41, 49, 19]\n",
    "\n",
    "\n",
    "def quickSort(dataset, first, last):\n",
    "    if first < last:\n",
    "        # calculate the split point\n",
    "        pivotIdx = partition(dataset, first, last)\n",
    "\n",
    "        # now sort the two partitions\n",
    "        quickSort(dataset, first, pivotIdx-1)\n",
    "        quickSort(dataset, pivotIdx+1, last)\n",
    "\n",
    "\n",
    "def partition(datavalues, first, last):\n",
    "    # choose the first item as the pivot value\n",
    "    pivotvalue = datavalues[first]\n",
    "    # establish the upper and lower indexes\n",
    "    lower = first + 1\n",
    "    upper = last\n",
    "\n",
    "    # start searching for the crossing point\n",
    "    done = False\n",
    "    while not done:\n",
    "        # advance the lower index\n",
    "        while lower <= upper and datavalues[lower] <= pivotvalue:\n",
    "            lower += 1\n",
    "\n",
    "        # advance the upper index\n",
    "        while datavalues[upper] >= pivotvalue and upper >= lower:\n",
    "            upper -= 1\n",
    "\n",
    "        # if the two indexes cross, we have found the split point\n",
    "        if upper < lower:\n",
    "            done = True\n",
    "        else:\n",
    "            # exchange the two values\n",
    "            temp = datavalues[lower]\n",
    "            datavalues[lower] = datavalues[upper]\n",
    "            datavalues[upper] = temp\n",
    "\n",
    "    # when the split point is found, exchange the pivot value\n",
    "    temp = datavalues[first]\n",
    "    datavalues[first] = datavalues[upper]\n",
    "    datavalues[upper] = temp\n",
    "\n",
    "    # return the split point index\n",
    "    return upper\n",
    "\n",
    "\n",
    "# test the merge sort with data\n",
    "print(items)\n",
    "quickSort(items, 0, len(items)-1)\n",
    "print(items)\n"
   ]
  },
  {
   "cell_type": "code",
   "execution_count": null,
   "metadata": {},
   "outputs": [],
   "source": []
  },
  {
   "cell_type": "code",
   "execution_count": 70,
   "metadata": {},
   "outputs": [
    {
     "name": "stdout",
     "output_type": "stream",
     "text": [
      "[26, 56, 17, 93, 31, 44]\n"
     ]
    }
   ],
   "source": [
    "def Pivot_Point(list_a, first, last):\n",
    "    pivot = list_a[first]\n",
    "    left = first+1\n",
    "    right = left\n",
    "    while True:\n",
    "        \n",
    "        while left <= right and list_a[left] <= pivot:\n",
    "            left = left + 1\n",
    "            \n",
    "        while left <= right and list_a[right] >= pivot:\n",
    "            right = right - 1\n",
    "            \n",
    "        if right < left:\n",
    "            break\n",
    "            \n",
    "        else:\n",
    "            list_a[left], list_a[right] = list_a[right], list_a[left]\n",
    "            \n",
    "    list_a[first], list_a[right] = list_a[right], list_a[first]\n",
    "    return right\n",
    "\n",
    "\n",
    "def Quick_sort(list_a, first, last):\n",
    "    if first<last:\n",
    "        p = Pivot_Point(list_a, first, last)\n",
    "        Quick_sort(list_a, first, p-1)\n",
    "        Quick_sort(list_a, p+1, last)\n",
    "\n",
    "# main\n",
    "list_a = [56,26,93,17,31,44]\n",
    "n = len(list_a)\n",
    "Quick_sort(list_a, 0, n-1)\n",
    "print(list_a)\n",
    "\n",
    "    "
   ]
  },
  {
   "cell_type": "code",
   "execution_count": null,
   "metadata": {},
   "outputs": [],
   "source": []
  },
  {
   "cell_type": "code",
   "execution_count": null,
   "metadata": {},
   "outputs": [],
   "source": []
  }
 ],
 "metadata": {
  "kernelspec": {
   "display_name": "Python 3",
   "language": "python",
   "name": "python3"
  },
  "language_info": {
   "codemirror_mode": {
    "name": "ipython",
    "version": 3
   },
   "file_extension": ".py",
   "mimetype": "text/x-python",
   "name": "python",
   "nbconvert_exporter": "python",
   "pygments_lexer": "ipython3",
   "version": "3.7.4"
  }
 },
 "nbformat": 4,
 "nbformat_minor": 2
}
