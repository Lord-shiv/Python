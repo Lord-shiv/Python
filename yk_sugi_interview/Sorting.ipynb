{
 "cells": [
  {
   "cell_type": "code",
   "execution_count": 1,
   "metadata": {},
   "outputs": [
    {
     "name": "stdout",
     "output_type": "stream",
     "text": [
      "Starting state:  [6, 20, 8, 19, 56, 23, 87, 41, 49, 53]\n",
      "result: [6, 8, 19, 20, 23, 56, 41, 49, 53, 87]\n",
      "result: [6, 8, 19, 20, 23, 41, 49, 53, 56, 87]\n",
      "result: [6, 8, 19, 20, 23, 41, 49, 53, 56, 87]\n",
      "result: [6, 8, 19, 20, 23, 41, 49, 53, 56, 87]\n",
      "result: [6, 8, 19, 20, 23, 41, 49, 53, 56, 87]\n",
      "result: [6, 8, 19, 20, 23, 41, 49, 53, 56, 87]\n",
      "result: [6, 8, 19, 20, 23, 41, 49, 53, 56, 87]\n",
      "result: [6, 8, 19, 20, 23, 41, 49, 53, 56, 87]\n",
      "result: [6, 8, 19, 20, 23, 41, 49, 53, 56, 87]\n",
      "Final state:  [6, 8, 19, 20, 23, 41, 49, 53, 56, 87]\n"
     ]
    }
   ],
   "source": [
    "# Not pereferd because its runs O(n^2) times\n",
    "def bubble_Sort(dataset):\n",
    "    for i in range(len(dataset) -1, 0, -1):\n",
    "        for j in range(i):\n",
    "            if dataset[j] > dataset[j+1]:\n",
    "                temp = dataset[j]\n",
    "                dataset[j] = dataset[j+1]\n",
    "                dataset[j+1] = temp\n",
    "        print(\"result:\",dataset)\n",
    "\n",
    "def main():\n",
    "    list1 = [6, 20, 8, 19, 56, 23, 87, 41, 49, 53]\n",
    "    print(\"Starting state: \", list1)\n",
    "    bubble_Sort(list1)\n",
    "    print(\"Final state: \", list1)\n",
    "\n",
    "\n",
    "if __name__ == \"__main__\":\n",
    "    main()"
   ]
  },
  {
   "cell_type": "code",
   "execution_count": 42,
   "metadata": {},
   "outputs": [
    {
     "name": "stdout",
     "output_type": "stream",
     "text": [
      "[6, 20, 8, 19, 56, 23, 87, 41, 49, 53]\n",
      "[6, 8, 19, 20, 23, 41, 49, 53, 56, 87]\n"
     ]
    }
   ],
   "source": [
    "# Merge Sort \n",
    "# divide_and _conquer algorithm\n",
    "# breaks a database into individual pieces and merge them\n",
    "#  uses recursion to operate on datasets\n",
    "# Performs well on large sets of data\n",
    "#  In general has a performance of O(n log n) time complexity\n",
    "\n",
    "# Implement a merge sort with recursion\n",
    "\n",
    "\n",
    "items = [6, 20, 8, 19, 56, 23, 87, 41, 49, 53]\n",
    "\n",
    "def mergesort(dataset):\n",
    "    if len(dataset) > 1:\n",
    "        mid = len(dataset) // 2\n",
    "        leftarr = dataset[:mid]\n",
    "        rightarr = dataset[mid:]\n",
    "\n",
    "        # recursively break down the arrays\n",
    "        mergesort(leftarr)\n",
    "        mergesort(rightarr)\n",
    "\n",
    "        # now perform the merging\n",
    "        i=0 # index into the left array\n",
    "        j=0 # index into the right array\n",
    "        k=0 # index into merged array\n",
    "\n",
    "        # while both arrays have content\n",
    "        while i < len(leftarr) and j < len(rightarr):\n",
    "            if leftarr[i] < rightarr[j]:\n",
    "                dataset[k] = leftarr[i]\n",
    "                i += 1\n",
    "            else:\n",
    "                dataset[k] = rightarr[j]\n",
    "                j += 1\n",
    "            k += 1\n",
    "\n",
    "        # if the left array still has values, add them\n",
    "        while i < len(leftarr):\n",
    "            dataset[k] = leftarr[i]\n",
    "            i += 1\n",
    "            k += 1\n",
    "\n",
    "        # if the right array still has values, add them\n",
    "        while j < len(rightarr):\n",
    "            dataset[k] = rightarr[j]\n",
    "            j += 1\n",
    "            k += 1\n",
    "\n",
    "\n",
    "# test the merge sort with data\n",
    "print(items)\n",
    "mergesort(items)\n",
    "print(items)"
   ]
  },
  {
   "cell_type": "code",
   "execution_count": null,
   "metadata": {},
   "outputs": [],
   "source": []
  }
 ],
 "metadata": {
  "kernelspec": {
   "display_name": "Python 3",
   "language": "python",
   "name": "python3"
  },
  "language_info": {
   "codemirror_mode": {
    "name": "ipython",
    "version": 3
   },
   "file_extension": ".py",
   "mimetype": "text/x-python",
   "name": "python",
   "nbconvert_exporter": "python",
   "pygments_lexer": "ipython3",
   "version": "3.7.4"
  }
 },
 "nbformat": 4,
 "nbformat_minor": 2
}
