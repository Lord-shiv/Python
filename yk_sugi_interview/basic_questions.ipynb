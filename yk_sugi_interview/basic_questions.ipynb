{
 "cells": [
  {
   "cell_type": "code",
   "execution_count": 2,
   "metadata": {},
   "outputs": [
    {
     "data": {
      "text/plain": [
       "-3"
      ]
     },
     "execution_count": 2,
     "metadata": {},
     "output_type": "execute_result"
    }
   ],
   "source": [
    "# Input:\n",
    "#  a: The given list/array of integers.  Example: [1, -2, 3, 4]\n",
    "# Returns:\n",
    "#  The second largest number in the list or None if\n",
    "#  the array's length is only 1 or 2.\n",
    "def second_largest(given_list):\n",
    "    largest = None\n",
    "    Sec_largest = None\n",
    "    for num_now in given_list:\n",
    "        if largest == None:\n",
    "            largest = num_now        \n",
    "        elif num_now > largest:\n",
    "            Sec_largest = largest\n",
    "            largest = num_now\n",
    "        elif num_now == largest:\n",
    "            Sec_largest = num_now\n",
    "    return Sec_largest \n",
    "\n",
    "second_largest([-3,-4,2])"
   ]
  },
  {
   "cell_type": "code",
   "execution_count": null,
   "metadata": {},
   "outputs": [],
   "source": []
  },
  {
   "cell_type": "code",
   "execution_count": 5,
   "metadata": {},
   "outputs": [],
   "source": [
    "# larger_than( \"112\", \"111\" ) should return True.\n",
    "# larger_than( \"525\", \"1111\" ) should return False.\n",
    "# larger_than( \"11\", \"0\" ) should return True.\n",
    "# larger_than( \"1\", \"1\" ) should return False.\n",
    "# Remember, you can compare single-character numbers in strings as follows:\n",
    "# \"3\" > \"1\"\n",
    "# Input:\n",
    "#  a: The first non-negative integer in string. Example: \"123\"\n",
    "#  b: The second non-negative integer in string. Example: \"3344\"\n",
    "# Returns:\n",
    "#  True if a is larger than b.\n",
    "#  False if a is smaller than or equal to b."
   ]
  },
  {
   "cell_type": "code",
   "execution_count": 6,
   "metadata": {},
   "outputs": [],
   "source": [
    "def larger_than(a, b):\n",
    "    if len(a) > len(b):\n",
    "        return True\n",
    "    elif len(a) < len(b):\n",
    "        return False\n",
    "    \n",
    "    for i in range(len(a)):\n",
    "        if a[i] == b[i]:\n",
    "            continue\n",
    "        elif a[i] > b[i]:\n",
    "            return True\n",
    "        else: \n",
    "            return False\n",
    "    return False"
   ]
  },
  {
   "cell_type": "code",
   "execution_count": null,
   "metadata": {},
   "outputs": [],
   "source": []
  },
  {
   "cell_type": "code",
   "execution_count": 7,
   "metadata": {},
   "outputs": [],
   "source": [
    "# Problem 5: You're given a 2D array with the same number of rows and columns. Write a function that adds up the diagonal elements and returns the sum.\n",
    "# For example, you're given the following 2D array:\n",
    "\n",
    "# [[1, 2, 3],\n",
    "# [4, 5, 6],\n",
    "# [7, 8, 9]]\n",
    "\n",
    "# The diagonal elements are 1, 5, and 9, so your function should return 15.\n"
   ]
  },
  {
   "cell_type": "code",
   "execution_count": 8,
   "metadata": {},
   "outputs": [],
   "source": [
    "# Modify the following function:\n",
    "\n",
    "def diagonal_sum(given_2d):\n",
    "    sumo = 0\n",
    "    for i in range(len(given_2d)):\n",
    "        for j in range(len(given_2d[i])):\n",
    "            if i == j:\n",
    "                sumo += given_2d[i][j]\n",
    "    return sumo\n",
    "\n",
    "# Now smart solution is\n",
    "# def diagonal_sum(given_2d):\n",
    "#     total = 0\n",
    "#     for i in range(len(given_2d)):\n",
    "#         total += given_2d[i][i]  # 0,0 1,1 2,2\n",
    "#     return total"
   ]
  },
  {
   "cell_type": "code",
   "execution_count": null,
   "metadata": {},
   "outputs": [],
   "source": [
    "\n"
   ]
  },
  {
   "cell_type": "code",
   "execution_count": 18,
   "metadata": {},
   "outputs": [
    {
     "data": {
      "text/plain": [
       "True"
      ]
     },
     "execution_count": 18,
     "metadata": {},
     "output_type": "execute_result"
    }
   ],
   "source": [
    "# Input:\n",
    "#  chessboard: A 2-dimensional array that represents.  Example below.\n",
    "#  [[1, 0, 0, 0],\n",
    "#  [0, 1, 0, 0],\n",
    "#  [0, 0, 0, 1],\n",
    "#  [0, 0, 0, 0]]\n",
    "# Returns:\n",
    "#  True if none of the rooks can attack each other.\n",
    "#  False if there is at least one pair of rooks that can attack each other.\n",
    "def rooks_are_safe(chessboard):\n",
    "#    this code right below working fine for only rows count\n",
    "#     for i in range(len(chessboard)):\n",
    "#         if sum(chessboard[i]) == 2:\n",
    "#             return False\n",
    "    n = len(chessboard)\n",
    "    for row in range(n):\n",
    "        row_count = 0\n",
    "        for col in range(n):\n",
    "            row_count += chessboard[row][col] #  00 01 02 03 10 11 12 13\n",
    "        if row_count > 1:\n",
    "            return False\n",
    "    for sol in range(n):\n",
    "        sol_count = 0\n",
    "        for row in range(n):\n",
    "            sol_count += chessboard[row][sol]   # 00 10 20 30 01 11 21 31\n",
    "#             print(chessboard[row][sol], end=\"\")\n",
    "#         print()\n",
    "        if sol_count > 1:\n",
    "            return False\n",
    "    return True\n",
    "rooks_are_safe([[1, 0, 0, 0],\n",
    " [0, 1, 0, 0],\n",
    " [0, 0, 0, 0],\n",
    " [0, 0, 1, 0]])"
   ]
  },
  {
   "cell_type": "code",
   "execution_count": null,
   "metadata": {},
   "outputs": [],
   "source": []
  },
  {
   "cell_type": "code",
   "execution_count": 20,
   "metadata": {},
   "outputs": [
    {
     "data": {
      "text/plain": [
       "6"
      ]
     },
     "execution_count": 20,
     "metadata": {},
     "output_type": "execute_result"
    }
   ],
   "source": [
    "# Input: A 2-dimensional array with integers.  Example below.\n",
    "#[[-4, -3, -1, 1],\n",
    "# [-2, -2,  1, 2],\n",
    "# [-1,  1,  2, 3],\n",
    "# [ 1,  2,  4, 5]]\n",
    "# Returns:\n",
    "#  The number of negative numbers in the array.\n",
    "#  In the above case, this function should return 6\n",
    "#  since there are 6 negative numbers in the array.\n",
    "def count_negatives(given_array):\n",
    "#     this solution have On^2 complexity\n",
    "#     n = len(given_array)\n",
    "#     total = 0\n",
    "#     for i in range(n):\n",
    "#         for j in range(n):\n",
    "#             if given_array[i][j] < 0:\n",
    "#                 total += 1\n",
    "#     return total\n",
    "    count = 0\n",
    "    row = 0\n",
    "    col = len(given_array[0]) - 1\n",
    "    while col >= 0 and row < len(given_array):\n",
    "        if given_array[row][col] < 0:\n",
    "            count += (col + 1)\n",
    "            row += 1\n",
    "        else:\n",
    "            col -= 1\n",
    "    return count\n",
    "    \n",
    "count_negatives(\n",
    "[[-4, -3, -1, 1],\n",
    " [-2, -2,  1, 2],\n",
    " [-1,  1,  2, 3],\n",
    " [ 1,  2,  4, 5]])"
   ]
  },
  {
   "cell_type": "code",
   "execution_count": null,
   "metadata": {},
   "outputs": [],
   "source": []
  },
  {
   "cell_type": "code",
   "execution_count": 21,
   "metadata": {},
   "outputs": [
    {
     "data": {
      "text/plain": [
       "'Tom'"
      ]
     },
     "execution_count": 21,
     "metadata": {},
     "output_type": "execute_result"
    }
   ],
   "source": [
    "# Modify the following function:\n",
    "def appears_twice(given_list):\n",
    "    filter_list = {}\n",
    "    for name in given_list:\n",
    "        if name in filter_list:\n",
    "            return name\n",
    "        else:\n",
    "            filter_list[name] = 1\n",
    "    return filter_list\n",
    "\n",
    "    \n",
    "appears_twice(['George', 'Tom', 'Emily', 'Jenny', 'Tom'])"
   ]
  },
  {
   "cell_type": "code",
   "execution_count": null,
   "metadata": {},
   "outputs": [],
   "source": []
  },
  {
   "cell_type": "code",
   "execution_count": 22,
   "metadata": {},
   "outputs": [],
   "source": [
    "# Input: A list / array with integers.  For example:\n",
    "# [3, 4, 1, 2, 9]\n",
    "# Returns:\n",
    "#  Nothing. However, this function will print out\n",
    "#  a pair of numbers that adds up to 10. For example,\n",
    "#  1, 9.  If no such pair is found, it should print\n",
    "#  \"There is no pair that adds up to 10.\".\n",
    "def pair10(given_list):\n",
    "    num_seen = {}\n",
    "    for i in given_list:\n",
    "        if (10-i) in num_seen:\n",
    "            print(str(10-i) + \",\" + str(i))\n",
    "            return \n",
    "        else:\n",
    "            num_seen[i] = 1\n",
    "    print(\"There is no pair that adds up to 10.\")"
   ]
  },
  {
   "cell_type": "code",
   "execution_count": 2,
   "metadata": {},
   "outputs": [
    {
     "name": "stdout",
     "output_type": "stream",
     "text": [
      "Sum of all values of this tree is (should print 20):\n",
      "20\n"
     ]
    }
   ],
   "source": [
    "class Node:\n",
    "    def __init__(self, data):\n",
    "        self.data = data\n",
    "        self.left = None\n",
    "        self.right = None\n",
    "\n",
    "def sum_values(root):\n",
    "    if (root == None):\n",
    "        return 0\n",
    "    return root.data + sum_values(root.left) + sum_values(root.right)\n",
    "\n",
    "\n",
    "#  Our example tree looks like this:\n",
    "#         2\n",
    "#       /   \\\n",
    "#      3     4\n",
    "#     / \\\n",
    "#    5   6\n",
    "\n",
    "node2 = Node(2)\n",
    "node3 = Node(3)\n",
    "node4 = Node(4)\n",
    "node5 = Node(5)\n",
    "node6 = Node(6)\n",
    "\n",
    "node2.left = node3\n",
    "node2.right = node4\n",
    "node3.left = node5\n",
    "node3.right = node6\n",
    "\n",
    "print(\"Sum of all values of this tree is (should print 20):\")\n",
    "print(sum_values(node2))"
   ]
  },
  {
   "cell_type": "code",
   "execution_count": 3,
   "metadata": {},
   "outputs": [],
   "source": [
    "class Nodes:\n",
    "    def __init__(self, data):\n",
    "        self.data = data\n",
    "        self.left = None\n",
    "        self.right = None\n",
    "        \n",
    "def sum_fun(root):\n",
    "    if root == None:\n",
    "        return 0\n",
    "    return root.data + sum_fun(root.left) + sum_fun(root.right)\n"
   ]
  },
  {
   "cell_type": "code",
   "execution_count": null,
   "metadata": {},
   "outputs": [],
   "source": []
  }
 ],
 "metadata": {
  "kernelspec": {
   "display_name": "Python 3",
   "language": "python",
   "name": "python3"
  },
  "language_info": {
   "codemirror_mode": {
    "name": "ipython",
    "version": 3
   },
   "file_extension": ".py",
   "mimetype": "text/x-python",
   "name": "python",
   "nbconvert_exporter": "python",
   "pygments_lexer": "ipython3",
   "version": "3.7.4"
  }
 },
 "nbformat": 4,
 "nbformat_minor": 2
}
