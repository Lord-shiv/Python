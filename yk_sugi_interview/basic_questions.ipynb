{
 "cells": [
  {
   "cell_type": "code",
   "execution_count": 1,
   "metadata": {},
   "outputs": [],
   "source": [
    "# Input:\n",
    "#  a: The given list/array of integers.  Example: [1, -2, 3, 4]\n",
    "# Returns:\n",
    "#  The second largest number in the list or None if\n",
    "#  the array's length is only 1 or 2.\n",
    "def second_largest(given_list):\n",
    "    largest = None\n",
    "    Sec_largest = None\n",
    "    for num_now in given_list:\n",
    "        if largest == None:\n",
    "            largest = num_now        \n",
    "        elif num_now > largest:\n",
    "            Sec_largest = largest\n",
    "            largest = num_now\n",
    "        elif num_now == largest:\n",
    "            Sec_largest = num_now\n",
    "    return Sec_largest "
   ]
  },
  {
   "cell_type": "code",
   "execution_count": null,
   "metadata": {},
   "outputs": [],
   "source": []
  },
  {
   "cell_type": "code",
   "execution_count": 5,
   "metadata": {},
   "outputs": [],
   "source": [
    "# larger_than( \"112\", \"111\" ) should return True.\n",
    "# larger_than( \"525\", \"1111\" ) should return False.\n",
    "# larger_than( \"11\", \"0\" ) should return True.\n",
    "# larger_than( \"1\", \"1\" ) should return False.\n",
    "# Remember, you can compare single-character numbers in strings as follows:\n",
    "# \"3\" > \"1\"\n",
    "# Input:\n",
    "#  a: The first non-negative integer in string. Example: \"123\"\n",
    "#  b: The second non-negative integer in string. Example: \"3344\"\n",
    "# Returns:\n",
    "#  True if a is larger than b.\n",
    "#  False if a is smaller than or equal to b."
   ]
  },
  {
   "cell_type": "code",
   "execution_count": 6,
   "metadata": {},
   "outputs": [],
   "source": [
    "def larger_than(a, b):\n",
    "    if len(a) > len(b):\n",
    "        return True\n",
    "    elif len(a) < len(b):\n",
    "        return False\n",
    "    \n",
    "    for i in range(len(a)):\n",
    "        if a[i] == b[i]:\n",
    "            continue\n",
    "        elif a[i] > b[i]:\n",
    "            return True\n",
    "        else: \n",
    "            return False\n",
    "    return False"
   ]
  },
  {
   "cell_type": "code",
   "execution_count": null,
   "metadata": {},
   "outputs": [],
   "source": []
  }
 ],
 "metadata": {
  "kernelspec": {
   "display_name": "Python 3",
   "language": "python",
   "name": "python3"
  },
  "language_info": {
   "codemirror_mode": {
    "name": "ipython",
    "version": 3
   },
   "file_extension": ".py",
   "mimetype": "text/x-python",
   "name": "python",
   "nbconvert_exporter": "python",
   "pygments_lexer": "ipython3",
   "version": "3.7.4"
  }
 },
 "nbformat": 4,
 "nbformat_minor": 2
}
