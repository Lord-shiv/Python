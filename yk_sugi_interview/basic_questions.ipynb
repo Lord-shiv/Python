{
 "cells": [
  {
   "cell_type": "code",
   "execution_count": 44,
   "metadata": {},
   "outputs": [
    {
     "data": {
      "text/plain": [
       "-2"
      ]
     },
     "execution_count": 44,
     "metadata": {},
     "output_type": "execute_result"
    }
   ],
   "source": [
    "# Input:\n",
    "#  a: The given list/array of integers.  Example: [1, -2, 3, 4]\n",
    "# Returns:\n",
    "#  The second largest number in the list or None if\n",
    "#  the array's length is only 1 or 2.\n",
    "def second_largesto(given_list):\n",
    "    largest = None\n",
    "    Sec_largest = None\n",
    "    for num_now in given_list:\n",
    "        if largest == None:\n",
    "            largest = num_now\n",
    "        elif num_now > largest:\n",
    "            Sec_largest = largest\n",
    "            largest = num_now\n",
    "        elif Sec_largest == None:\n",
    "            Sec_largest = num_now\n",
    "        elif num_now > Sec_largest:\n",
    "            Sec_largest = num_now\n",
    "    return Sec_largest\n",
    "\n",
    "second_largesto([-1,-2,-3])"
   ]
  },
  {
   "cell_type": "code",
   "execution_count": 43,
   "metadata": {},
   "outputs": [
    {
     "data": {
      "text/plain": [
       "-2"
      ]
     },
     "execution_count": 43,
     "metadata": {},
     "output_type": "execute_result"
    }
   ],
   "source": [
    "lis = [-1,-2,-3]\n",
    "lis.sort()\n",
    "lis[-2]"
   ]
  },
  {
   "cell_type": "code",
   "execution_count": 47,
   "metadata": {},
   "outputs": [
    {
     "data": {
      "text/plain": [
       "[9, 12]"
      ]
     },
     "execution_count": 47,
     "metadata": {},
     "output_type": "execute_result"
    }
   ],
   "source": [
    "a = [32, 37, 28, 30, 37, 25, 27, 24, 35, 55, 23, 31, 55, 21, 40, 18, 50,\n",
    "             35, 41, 49, 37, 19, 40, 41, 31]\n",
    "m = max(a)\n",
    "k = [i for i, j in enumerate(a) if j == m]\n",
    "k"
   ]
  },
  {
   "cell_type": "code",
   "execution_count": 5,
   "metadata": {},
   "outputs": [],
   "source": [
    "# larger_than( \"112\", \"111\" ) should return True.\n",
    "# larger_than( \"525\", \"1111\" ) should return False.\n",
    "# larger_than( \"11\", \"0\" ) should return True.\n",
    "# larger_than( \"1\", \"1\" ) should return False.\n",
    "# Remember, you can compare single-character numbers in strings as follows:\n",
    "# \"3\" > \"1\"\n",
    "# Input:\n",
    "#  a: The first non-negative integer in string. Example: \"123\"\n",
    "#  b: The second non-negative integer in string. Example: \"3344\"\n",
    "# Returns:\n",
    "#  True if a is larger than b.\n",
    "#  False if a is smaller than or equal to b."
   ]
  },
  {
   "cell_type": "code",
   "execution_count": null,
   "metadata": {},
   "outputs": [],
   "source": []
  },
  {
   "cell_type": "code",
   "execution_count": 49,
   "metadata": {},
   "outputs": [
    {
     "data": {
      "text/plain": [
       "True"
      ]
     },
     "execution_count": 49,
     "metadata": {},
     "output_type": "execute_result"
    }
   ],
   "source": [
    "def larger_than(a, b):\n",
    "    if len(a) > len(b):\n",
    "        return True\n",
    "    elif len(a) < len(b):\n",
    "        return False\n",
    "    \n",
    "    for i in range(len(a)):\n",
    "        if a[i] == b[i]:\n",
    "            continue\n",
    "        elif a[i] > b[i]:\n",
    "            return True\n",
    "        else: \n",
    "            return False\n",
    "    return False\n",
    "\n",
    "larger_than(\"112\", \"111\")"
   ]
  },
  {
   "cell_type": "code",
   "execution_count": null,
   "metadata": {},
   "outputs": [],
   "source": []
  },
  {
   "cell_type": "code",
   "execution_count": 7,
   "metadata": {},
   "outputs": [],
   "source": [
    "# Problem 5: You're given a 2D array with the same number of rows and columns. Write a function that adds up the diagonal elements and returns the sum.\n",
    "# For example, you're given the following 2D array:\n",
    "\n",
    "# [[1, 2, 3],\n",
    "# [4, 5, 6],\n",
    "# [7, 8, 9]]\n",
    "\n",
    "# The diagonal elements are 1, 5, and 9, so your function should return 15."
   ]
  },
  {
   "cell_type": "code",
   "execution_count": 51,
   "metadata": {},
   "outputs": [],
   "source": [
    "# Modify the following function:\n",
    "# def diagonal_sum(given_2d):\n",
    "#     sumo = 0\n",
    "#     for i in range(len(given_2d)):\n",
    "#         for j in range(len(given_2d[i])):\n",
    "#             print(j)\n",
    "#             if i == j:\n",
    "#                 sumo += given_2d[i][j]\n",
    "#     return sumo\n",
    "\n"
   ]
  },
  {
   "cell_type": "code",
   "execution_count": 57,
   "metadata": {},
   "outputs": [
    {
     "data": {
      "text/plain": [
       "11"
      ]
     },
     "execution_count": 57,
     "metadata": {},
     "output_type": "execute_result"
    }
   ],
   "source": [
    "# Now smart solution is\n",
    "def diagonal_sum(given_2d):\n",
    "    total = 0\n",
    "    for i in range(len(given_2d)): # 3\n",
    "        total += given_2d[i][i]  # 0,0 1,1 2,2\n",
    "    return total\n",
    "\n",
    "diagonal_sum([[1,2,3], [2,4,5], [23,5,6]])"
   ]
  },
  {
   "cell_type": "code",
   "execution_count": null,
   "metadata": {},
   "outputs": [],
   "source": []
  },
  {
   "cell_type": "code",
   "execution_count": 70,
   "metadata": {},
   "outputs": [
    {
     "data": {
      "text/plain": [
       "True"
      ]
     },
     "execution_count": 70,
     "metadata": {},
     "output_type": "execute_result"
    }
   ],
   "source": [
    "# Input:\n",
    "#  chessboard: A 2-dimensional array that represents.  Example below.\n",
    "#  [[1, 0, 0, 0],\n",
    "#  [0, 1, 0, 0],\n",
    "#  [0, 0, 0, 1],\n",
    "#  [0, 0, 0, 0]]\n",
    "# Returns:\n",
    "#  True if none of the rooks can attack each other.\n",
    "#  False if there is at least one pair of rooks that can attack each other.\n",
    "\n",
    "\n",
    "def rooks_are_safe(chessboard):\n",
    "    n = len(chessboard) # 4\n",
    "    for row in range(n): # 0,1,2,3,\n",
    "        row_count = 0\n",
    "        for col in range(n):  # 0,1,2,3,\n",
    "            row_count += chessboard[row][col] #  00 01 02 03 10 11 12 13\n",
    "        if row_count > 1:\n",
    "            return False\n",
    "    return True\n",
    "\n",
    "rooks_are_safe([[1, 0, 0, 0],\n",
    " [0, 1, 0, 0],\n",
    " [0, 0, 0, 1],\n",
    " [0, 0, 1, 0]])"
   ]
  },
  {
   "cell_type": "code",
   "execution_count": null,
   "metadata": {},
   "outputs": [],
   "source": []
  },
  {
   "cell_type": "code",
   "execution_count": 75,
   "metadata": {},
   "outputs": [
    {
     "data": {
      "text/plain": [
       "6"
      ]
     },
     "execution_count": 75,
     "metadata": {},
     "output_type": "execute_result"
    }
   ],
   "source": [
    "# Input: A 2-dimensional array with integers.  Example below.\n",
    "#[[-4, -3, -1, 1],\n",
    "# [-2, -2,  1, 2],\n",
    "# [-1,  1,  2, 3],\n",
    "# [ 1,  2,  4, 5]]\n",
    "# Returns:\n",
    "#  The number of negative numbers in the array.\n",
    "#  In the above case, this function should return 6\n",
    "#  since there are 6 negative numbers in the array.\n",
    "def count_negatives(given_array):\n",
    "#     this solution have On^2 complexity\n",
    "#     n = len(given_array)\n",
    "#     total = 0\n",
    "#     for i in range(n):\n",
    "#         for j in range(n):\n",
    "#             if given_array[i][j] < 0:\n",
    "#                 total += 1\n",
    "#     return total\n",
    "    count = 0\n",
    "    row = 0\n",
    "    col = len(given_array[0]) - 1\n",
    "    while col >= 0 and row < len(given_array):\n",
    "        if given_array[row][col] < 0:\n",
    "            count += (col + 1)\n",
    "            row += 1\n",
    "        else:\n",
    "            col -= 1\n",
    "    return count\n",
    "    \n",
    "count_negatives(\n",
    "[[-4, -3, -1, 1],\n",
    " [-2, -2,  1, 2],\n",
    " [-1,  1,  2, 3],\n",
    " [ 1,  2,  4, 5]])"
   ]
  },
  {
   "cell_type": "code",
   "execution_count": null,
   "metadata": {},
   "outputs": [],
   "source": []
  },
  {
   "cell_type": "code",
   "execution_count": 21,
   "metadata": {},
   "outputs": [
    {
     "data": {
      "text/plain": [
       "'Tom'"
      ]
     },
     "execution_count": 21,
     "metadata": {},
     "output_type": "execute_result"
    }
   ],
   "source": [
    "# Modify the following function:\n",
    "def appears_twice(given_list):\n",
    "    filter_list = {}\n",
    "    for name in given_list:\n",
    "        if name in filter_list:\n",
    "            return name\n",
    "        \n",
    "        else:\n",
    "            filter_list[name] = 1\n",
    "    return filter_list\n",
    "\n",
    "    \n",
    "appears_twice(['George', 'Tom', 'Emily', 'Jenny', 'Tom'])"
   ]
  },
  {
   "cell_type": "code",
   "execution_count": 85,
   "metadata": {},
   "outputs": [
    {
     "name": "stdout",
     "output_type": "stream",
     "text": [
      "{'George': 1}\n",
      "{'George': 1, 'Tom': 1}\n",
      "{'George': 1, 'Tom': 1, 'Emily': 1}\n",
      "{'George': 1, 'Tom': 1, 'Emily': 1, 'Jenny': 1}\n"
     ]
    },
    {
     "data": {
      "text/plain": [
       "'Tom'"
      ]
     },
     "execution_count": 85,
     "metadata": {},
     "output_type": "execute_result"
    }
   ],
   "source": [
    "def appr(lst):\n",
    "    filt = {}\n",
    "    for name in lst:\n",
    "        if name in filt:\n",
    "            return name\n",
    "        else:\n",
    "            filt[name] = 1\n",
    "            print(filt)\n",
    "    return filt\n",
    "    \n",
    "appr(['George', 'Tom', 'Emily', 'Jenny', 'Tom'])"
   ]
  },
  {
   "cell_type": "code",
   "execution_count": 90,
   "metadata": {},
   "outputs": [
    {
     "name": "stdout",
     "output_type": "stream",
     "text": [
      "1,9\n"
     ]
    }
   ],
   "source": [
    "# Input: A list / array with integers.  For example:\n",
    "# [3, 4, 1, 2, 9]\n",
    "# Returns:\n",
    "#  Nothing. However, this function will print out\n",
    "#  a pair of numbers that adds up to 10. For example,\n",
    "#  1, 9.  If no such pair is found, it should print\n",
    "#  \"There is no pair that adds up to 10.\".\n",
    "def pair10(given_list):\n",
    "    num_seen = {}\n",
    "    for i in given_list:\n",
    "        if (10-i) in num_seen:\n",
    "            print(str(10-i) + \",\" + str(i))\n",
    "            return \n",
    "        else:\n",
    "            num_seen[i] = 1\n",
    "    print(\"There is no pair that adds up to 10.\")\n",
    "    \n",
    "pair10([3, 4, 1, 2, 9])"
   ]
  },
  {
   "cell_type": "code",
   "execution_count": 91,
   "metadata": {},
   "outputs": [
    {
     "name": "stdout",
     "output_type": "stream",
     "text": [
      "Sum of all values of this tree is (should print 20):\n",
      "20\n"
     ]
    }
   ],
   "source": [
    "class Node:\n",
    "    def __init__(self, data):\n",
    "        self.data = data\n",
    "        self.left = None\n",
    "        self.right = None\n",
    "\n",
    "def sum_values(root):\n",
    "    if (root == None):\n",
    "        return 0\n",
    "    return root.data + sum_values(root.left) + sum_values(root.right)\n",
    "\n",
    "\n",
    "#  Our example tree looks like this:\n",
    "#         2\n",
    "#       /   \\\n",
    "#      3     4\n",
    "#     / \\\n",
    "#    5   6\n",
    "\n",
    "node2 = Node(2)\n",
    "node3 = Node(3)\n",
    "node4 = Node(4)\n",
    "node5 = Node(5)\n",
    "node6 = Node(6)\n",
    "\n",
    "node2.left = node3\n",
    "node2.right = node4\n",
    "node3.left = node5\n",
    "node3.right = node6\n",
    "\n",
    "print(\"Sum of all values of this tree is (should print 20):\")\n",
    "print(sum_values(node2))"
   ]
  },
  {
   "cell_type": "code",
   "execution_count": null,
   "metadata": {},
   "outputs": [],
   "source": []
  },
  {
   "cell_type": "code",
   "execution_count": null,
   "metadata": {},
   "outputs": [],
   "source": []
  }
 ],
 "metadata": {
  "kernelspec": {
   "display_name": "Python 3",
   "language": "python",
   "name": "python3"
  },
  "language_info": {
   "codemirror_mode": {
    "name": "ipython",
    "version": 3
   },
   "file_extension": ".py",
   "mimetype": "text/x-python",
   "name": "python",
   "nbconvert_exporter": "python",
   "pygments_lexer": "ipython3",
   "version": "3.7.4"
  }
 },
 "nbformat": 4,
 "nbformat_minor": 2
}
