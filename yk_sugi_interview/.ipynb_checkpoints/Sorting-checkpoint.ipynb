{
 "cells": [
  {
   "cell_type": "code",
   "execution_count": 1,
   "metadata": {},
   "outputs": [
    {
     "name": "stdout",
     "output_type": "stream",
     "text": [
      "Starting state:  [6, 20, 8, 19, 56, 23, 87, 41, 49, 53]\n",
      "result: [6, 8, 19, 20, 23, 56, 41, 49, 53, 87]\n",
      "result: [6, 8, 19, 20, 23, 41, 49, 53, 56, 87]\n",
      "result: [6, 8, 19, 20, 23, 41, 49, 53, 56, 87]\n",
      "result: [6, 8, 19, 20, 23, 41, 49, 53, 56, 87]\n",
      "result: [6, 8, 19, 20, 23, 41, 49, 53, 56, 87]\n",
      "result: [6, 8, 19, 20, 23, 41, 49, 53, 56, 87]\n",
      "result: [6, 8, 19, 20, 23, 41, 49, 53, 56, 87]\n",
      "result: [6, 8, 19, 20, 23, 41, 49, 53, 56, 87]\n",
      "result: [6, 8, 19, 20, 23, 41, 49, 53, 56, 87]\n",
      "Final state:  [6, 8, 19, 20, 23, 41, 49, 53, 56, 87]\n"
     ]
    }
   ],
   "source": [
    "# Not pereferd because its runs O(n^2) times\n",
    "def bubble_Sort(dataset):\n",
    "    for i in range(len(dataset) -1, 0, -1):\n",
    "        for j in range(i):\n",
    "            if dataset[j] > dataset[j+1]:\n",
    "                temp = dataset[j]\n",
    "                dataset[j] = dataset[j+1]\n",
    "                dataset[j+1] = temp\n",
    "        print(\"result:\",dataset)\n",
    "\n",
    "def main():\n",
    "    list1 = [6, 20, 8, 19, 56, 23, 87, 41, 49, 53]\n",
    "    print(\"Starting state: \", list1)\n",
    "    bubble_Sort(list1)\n",
    "    print(\"Final state: \", list1)\n",
    "\n",
    "\n",
    "if __name__ == \"__main__\":\n",
    "    main()"
   ]
  },
  {
   "cell_type": "code",
   "execution_count": 4,
   "metadata": {},
   "outputs": [
    {
     "data": {
      "text/plain": [
       "('result:', [2, 4, 9, 8])"
      ]
     },
     "execution_count": 4,
     "metadata": {},
     "output_type": "execute_result"
    }
   ],
   "source": [
    "def bubble_Sort(dataset):\n",
    "    for i in range(len(dataset) -1, 0, -1):\n",
    "        for j in range(i):\n",
    "            if dataset[j] > dataset[j+1]:\n",
    "                temp = dataset[j]\n",
    "                dataset[j] = dataset[j+1]\n",
    "                dataset[j+1] = temp\n",
    "        return (\"result:\",dataset)\n",
    "    \n",
    "bubble_Sort([4,2,9,8])"
   ]
  },
  {
   "cell_type": "code",
   "execution_count": null,
   "metadata": {},
   "outputs": [],
   "source": [
    "\n",
    "\n",
    "items = [6, 20, 8, 19, 56, 23, 87, 41, 49, 53]\n",
    "\n",
    "def mergesort(dataset):\n",
    "    if len(dataset) > 1:\n",
    "        mid = len(dataset) // 2\n",
    "        leftarr = dataset[:mid]\n",
    "        rightarr = dataset[mid:]\n",
    "\n",
    "        # recursively break down the arrays\n",
    "        mergesort(leftarr)\n",
    "        mergesort(rightarr)\n",
    "\n",
    "        # now perform the merging\n",
    "        i=0 # index into the left array\n",
    "        j=0 # index into the right array\n",
    "        k=0 # index into merged array\n",
    "\n",
    "        # while both arrays have content\n",
    "        while i < len(leftarr) and j < len(rightarr):\n",
    "            if leftarr[i] < rightarr[j]:\n",
    "                dataset[k] = leftarr[i]\n",
    "                i += 1\n",
    "            else:\n",
    "                dataset[k] = rightarr[j]\n",
    "                j += 1\n",
    "            k += 1\n",
    "\n",
    "        # if the left array still has values, add them\n",
    "        while i < len(leftarr):\n",
    "            dataset[k] = leftarr[i]\n",
    "            i += 1\n",
    "            k += 1\n",
    "\n",
    "        # if the right array still has values, add them\n",
    "        while j < len(rightarr):\n",
    "            dataset[k] = rightarr[j]\n",
    "            j += 1\n",
    "            k += 1\n",
    "\n",
    "\n",
    "# test the merge sort with data\n",
    "print(items)\n",
    "mergesort(items)\n",
    "print(items)"
   ]
  },
  {
   "cell_type": "code",
   "execution_count": 34,
   "metadata": {
    "scrolled": true
   },
   "outputs": [
    {
     "name": "stdout",
     "output_type": "stream",
     "text": [
      "None\n"
     ]
    }
   ],
   "source": [
    "#    Merge Sort\n",
    "\n",
    "# divide_and _conquer algorithm\n",
    "# breaks a database into individual pieces and merge them\n",
    "#  uses recursion to operate on datasets\n",
    "# Performs well on large sets of data\n",
    "#  In general has a performance of O(n log n) time complexity\n",
    "\n",
    "# Implement a merge sort with recursion\n",
    "\n",
    "\n",
    "def mergesort(arr):\n",
    "    if len(arr) > 1:   # until there is only one element\n",
    "        mid = len(arr) // 2\n",
    "        leftarr = arr[:mid]\n",
    "        rightarr = arr[mid:]\n",
    "        mergesort(leftarr)\n",
    "        mergesort(rightarr)\n",
    "        \n",
    "#         merge now\n",
    "\n",
    "        left_i = 0   # for left index\n",
    "        right_i = 0  # for right index\n",
    "        k = 0        # new list index\n",
    "        \n",
    "        while left_i < len(leftarr) and right_i < len(rightarr):\n",
    "            if leftarr[left_i] < rightarr[right_i]: # if left i is greater than \n",
    "                arr[k] = leftarr[left_i]            # than put it in k\n",
    "                left_i += 1\n",
    "                k = k+1\n",
    "            else:\n",
    "                arr[k] = rightarr[right_i]\n",
    "                right_i += 1\n",
    "                k = k+1\n",
    "        while left_i < len(leftarr):\n",
    "            arr[k] = leftarr[left_i]\n",
    "            left_i += 1\n",
    "            k = k+1\n",
    "        while right_i < len(rightarr):\n",
    "            arr[k] = rightarr[right_i]\n",
    "            right_i += 1\n",
    "            k = k+1\n",
    "            \n",
    "arr = [2,6,3,27,5,3]       \n",
    "print(mergesort(arr))\n"
   ]
  },
  {
   "cell_type": "code",
   "execution_count": null,
   "metadata": {},
   "outputs": [],
   "source": [
    "# merge sort\n",
    "\n",
    "def mergesort(A):\n",
    "    LA = len(A)\n",
    "    if LA == 1: return A\n",
    "    LH, RH = mergesort(A[:LA//2]), mergesort(A[LA//2:])\n",
    "    return merge(LH,RH)\n",
    "\n",
    "def merge(LH, RH):\n",
    "    LLH, LRH = len(LH), len(RH)\n",
    "    S, i, j = [], 0, 0\n",
    "    while i < LLH and j < LRH:\n",
    "        if LH[i] <= RH[j]: i, _ = i + 1, S.append(LH[i])\n",
    "        else: j, _ = j + 1, S.append(RH[j])\n",
    "    return S + (RH[j:] if i == LLH else LH[i:])\n",
    "\n",
    "mergesort([3,9,8,9,6])"
   ]
  },
  {
   "cell_type": "code",
   "execution_count": null,
   "metadata": {},
   "outputs": [],
   "source": [
    "# ARR = array\n",
    "# L_ = lenth of array\n",
    "\n",
    "class Mergesort:\n",
    "    def mergesort(self, ARR):\n",
    "        L_arr = len(ARR)\n",
    "        Mid = L_arr // 2\n",
    "        if L_arr == 1:\n",
    "            return ARR\n",
    "        left = mergesort(ARR[:Mid])\n",
    "        rght = mergesort(ARR[Mid:])\n",
    "        \n",
    "        return merge(left, rght)\n",
    "    \n",
    "    def meger(self, left, rght):\n",
    "        L_left = len(left)\n",
    "        L_right = len(right)\n",
    "        s = []\n",
    "        i = 0\n",
    "        j = 0\n",
    "        while i <= L_left and j < L_rght:\n",
    "            if left[i] <= right[j]:\n",
    "                i += 1\n",
    "                s.append(left[i])\n",
    "            else:\n",
    "                j += 1\n",
    "                s.append(right[j])\n",
    "\n",
    "        if i == L_left:\n",
    "            s + right[j:]\n",
    "        else:\n",
    "            s + left[i:]\n",
    "            \n",
    "ob = Mergesort()\n",
    "ob.mergesort([4,7,8,9,4,3,2,1])"
   ]
  },
  {
   "cell_type": "code",
   "execution_count": 40,
   "metadata": {},
   "outputs": [
    {
     "name": "stdout",
     "output_type": "stream",
     "text": [
      "[5, 9, 1, 2, 4, 8, 6, 3, 7]\n",
      "[1, 2, 3, 4, 5, 6, 7, 8, 9]\n"
     ]
    }
   ],
   "source": [
    "# better approch\n",
    "#---------------------------------------\n",
    "# Merge Sort\n",
    "#---------------------------------------\n",
    "import sys\n",
    "\n",
    "def merge_sort(A):\n",
    "\tmerge_sort2(A, 0, len(A)-1)\n",
    "\t\n",
    "def merge_sort2(A, first, last):\n",
    "\tif first < last:\n",
    "\t\tmiddle = (first + last)//2\n",
    "\t\tmerge_sort2(A, first, middle)\n",
    "\t\tmerge_sort2(A, middle+1, last)\n",
    "\t\tmerge(A, first, middle, last)\n",
    "\t\t\n",
    "def merge(A, first, middle, last):\n",
    "\tL = A[first:middle+1]\n",
    "\tR = A[middle+1:last+1]\n",
    "\tL.append(sys.maxsize)\n",
    "\tR.append(sys.maxsize)\n",
    "\ti = j = 0\n",
    "\t\n",
    "\tfor k in range (first, last+1):\n",
    "\t\tif L[i] <= R[j]:\n",
    "\t\t\tA[k] = L[i]\n",
    "\t\t\ti += 1\n",
    "\t\telse:\n",
    "\t\t\tA[k] = R[j]\n",
    "\t\t\tj += 1\n",
    "\t\t\t\n",
    "A = [5,9,1,2,4,8,6,3,7]\n",
    "print(A)\n",
    "merge_sort(A)\n",
    "print(A)"
   ]
  },
  {
   "cell_type": "code",
   "execution_count": 43,
   "metadata": {},
   "outputs": [
    {
     "name": "stdout",
     "output_type": "stream",
     "text": [
      "[20, 6, 8, 53, 56, 23, 87, 41, 49, 19]\n",
      "[6, 8, 19, 20, 23, 41, 49, 53, 56, 87]\n"
     ]
    }
   ],
   "source": [
    "#     Quicksort   O(n2)\n",
    "\n",
    "#    left    <=  right\n",
    "#   a[left]  <=  pivot\n",
    "#   a[right] >=  pivot\n",
    "\n",
    "def Pivot_Point(list_a, first, last):\n",
    "    pivot = list_a[first]\n",
    "    left = first+1\n",
    "    right = last\n",
    "    while True:\n",
    "        \n",
    "        while left <= right and list_a[left] <= pivot: # checking left should be less than pivot\n",
    "            left = left + 1\n",
    "            \n",
    "        while left <= right and list_a[right] >= pivot:  # chrck right should be greater than pivot\n",
    "            right = right - 1\n",
    "            \n",
    "        if left > right:  # check if index base condition become false\n",
    "            break\n",
    "            \n",
    "        else:\n",
    "            list_a[left], list_a[right] = list_a[right], list_a[left]\n",
    "            \n",
    "    list_a[first], list_a[right] = list_a[right], list_a[first]\n",
    "    return right\n",
    "\n",
    "\n",
    "def Quick_sort(list_a, first, last):\n",
    "    if first<last:\n",
    "        p = Pivot_Point(list_a, first, last)\n",
    "        Quick_sort(list_a, first, p-1)\n",
    "        Quick_sort(list_a, p+1, last)\n",
    "\n",
    "# main\n",
    "list_a = [56,26,93,17,31,44]\n",
    "print(list_a)\n",
    "n = len(list_a)\n",
    "Quick_sort(list_a, 0, n-1)\n",
    "print(list_a)\n"
   ]
  },
  {
   "cell_type": "code",
   "execution_count": 22,
   "metadata": {},
   "outputs": [
    {
     "name": "stdout",
     "output_type": "stream",
     "text": [
      "Unsorted : [-2, 3, -1, 5, 4, -3, 0]\n",
      "Sorted : [-3, -2, -1, 0, 3, 4, 5]\n"
     ]
    }
   ],
   "source": [
    "# https://www.youtube.com/watch?v=0SkOjNaO1XY&ab_channel=CSDojo\n",
    "# Better way\n",
    "\n",
    "# take pviot last\n",
    "# if left is less than pivot\n",
    "# if right is greater than pivot\n",
    "\n",
    "def partition(arr, left, right):\n",
    "    pivot = arr[right]\n",
    "    lesnar = left - 1 # soldier guy which starting form -1 index outside the list\n",
    "    for moreT in range(left, right): # moreT \n",
    "        if arr[moreT] < pivot:\n",
    "            lesnar += 1\n",
    "            arr[lesnar], arr[moreT] = arr[moreT], arr[lesnar]\n",
    "    arr[lesnar + 1], arr[right] = arr[right], arr[lesnar + 1] # pivot swaping\n",
    "    return lesnar + 1\n",
    "\n",
    "def qs(arr, left, right):\n",
    "    if left >= right:\n",
    "        return\n",
    "    p = partition(arr, left, right)\n",
    "\n",
    "    qs(arr, left, p - 1)\n",
    "    qs(arr, p + 1, right)\n",
    "    \n",
    "def quicksort(arr):\n",
    "    qs(arr, 0, len(arr) - 1)\n",
    "    \n",
    "arr=[-2,3,-1,5,4,-3,0]\n",
    "print(\"Unsorted :\",arr)\n",
    "\n",
    "quicksort(arr)\n",
    "print(\"Sorted :\", arr)"
   ]
  },
  {
   "cell_type": "code",
   "execution_count": 11,
   "metadata": {},
   "outputs": [
    {
     "data": {
      "text/plain": [
       "[56, 2, 2, 6, 0, 0]"
      ]
     },
     "execution_count": 11,
     "metadata": {},
     "output_type": "execute_result"
    }
   ],
   "source": [
    "# Selection sort\n",
    "\n",
    "# step 1 - Find out the minimum value\n",
    "# step 2 - swap minimum value to the 0 index\n",
    "# step 13 - take sublist except sorted part and repeat step 1 and step 2\n",
    "# step 14 - 0 index is soted now ignore 0 index and find the minimum value in left indexes and repeat.\n",
    "\n",
    "# ?? note don't work for duplicate ??\n",
    "\n",
    "def Selection_sort(un_sorted):\n",
    "    for i in range(len(un_sorted)):\n",
    "        min_val = min(un_sorted[i:]) # 0 to all. 1 to all 2 to all\n",
    "        # to decending change to max\n",
    "        min_val_ind = un_sorted.index(min_val)\n",
    "        un_sorted[i], un_sorted[min_val_ind] = un_sorted[min_val_ind], un_sorted[i]\n",
    "    return un_sorted\n",
    "Selection_sort([56, 0, 2, 2, 6, 0])"
   ]
  },
  {
   "cell_type": "code",
   "execution_count": 20,
   "metadata": {},
   "outputs": [
    {
     "name": "stdout",
     "output_type": "stream",
     "text": [
      "0\n",
      "1\n",
      "2\n"
     ]
    }
   ],
   "source": [
    "l = [4,2,1,8]\n",
    "for i in range(len(l) -1):\n",
    "    min_val = min(l[i:])\n",
    "    min_ind = l.index(min_val, i)\n",
    "    print(i)\n",
    "#     print(min_ind)\n",
    "    "
   ]
  },
  {
   "cell_type": "code",
   "execution_count": 24,
   "metadata": {},
   "outputs": [
    {
     "data": {
      "text/plain": [
       "[0, 0, 2, 2, 6, 56]"
      ]
     },
     "execution_count": 24,
     "metadata": {},
     "output_type": "execute_result"
    }
   ],
   "source": [
    "#  Work for duplicates value\n",
    "#  We can also run length of list to -1 bcz we don't need to worry about the last element\n",
    "#  we can also check if nums that we swapping are not eaual too each others if they are then we don't need to swap okaay\n",
    "def Selection_sort(un_sorted):\n",
    "    for i in range(len(un_sorted) -1):\n",
    "        min_val = min(un_sorted[i:]) # 0 to all. 1 to all 2 to all\n",
    "        # to decending change to max\n",
    "        min_val_ind = un_sorted.index(min_val, i)\n",
    "        if un_sorted[i] != un_sorted[min_val_ind]:\n",
    "            un_sorted[i], un_sorted[min_val_ind] = un_sorted[min_val_ind], un_sorted[i]\n",
    "    return un_sorted\n",
    "Selection_sort([56, 0, 2, 2, 6, 0])"
   ]
  },
  {
   "cell_type": "code",
   "execution_count": 23,
   "metadata": {},
   "outputs": [
    {
     "name": "stdout",
     "output_type": "stream",
     "text": [
      "[0, 0, 2, 2, 6, 56]\n"
     ]
    }
   ],
   "source": [
    "# what if we don't want to use min\n",
    "\n",
    "un_sorted = [56, 0, 2, 2, 6, 0]\n",
    "for i in range(len(un_sorted) -1):\n",
    "    min_val = un_sorted[i]\n",
    "    for j in range(i+1, len(un_sorted)):\n",
    "        if un_sorted[j] < min_val: # \" > \" for decending\n",
    "            min_val = un_sorted[j]\n",
    "\n",
    "    # to decending change to max\n",
    "    min_val_ind = un_sorted.index(min_val, i)\n",
    "    if un_sorted[i] != un_sorted[min_val_ind]:\n",
    "        un_sorted[i], un_sorted[min_val_ind] = un_sorted[min_val_ind], un_sorted[i]\n",
    "print(un_sorted)"
   ]
  },
  {
   "cell_type": "code",
   "execution_count": 39,
   "metadata": {},
   "outputs": [
    {
     "name": "stdout",
     "output_type": "stream",
     "text": [
      "how many numbers you want to enter for sorting3\n",
      "enter numbers :12\n",
      "enter numbers :11\n",
      "enter numbers :1\n",
      "Unsorted list you had : [12, 11, 1]\n",
      "Sorted list you have  : [1, 11, 12]\n"
     ]
    }
   ],
   "source": [
    "# what if we don't want index mathod\n",
    "\n",
    "\n",
    "num = int(input(\"how many numbers you want to enter for sorting\"))\n",
    "un_sorted = [int(input(\"enter numbers :\")) for x in range(num)]\n",
    "print(\"Unsorted list you had :\", un_sorted)\n",
    "for i in range(len(un_sorted) -1):\n",
    "    min_val = i\n",
    "    for j in range(i+1, len(un_sorted)):\n",
    "        if un_sorted[j] < un_sorted[min_val]: # \" > \" for decending\n",
    "            min_val = j\n",
    "\n",
    "    if un_sorted[i] != un_sorted[min_val]:\n",
    "        un_sorted[i], un_sorted[min_val] = un_sorted[min_val], un_sorted[i]\n",
    "print(\"Sorted list you have  :\", un_sorted)"
   ]
  },
  {
   "cell_type": "code",
   "execution_count": null,
   "metadata": {},
   "outputs": [],
   "source": []
  },
  {
   "cell_type": "code",
   "execution_count": 41,
   "metadata": {},
   "outputs": [
    {
     "data": {
      "text/plain": [
       "1"
      ]
     },
     "execution_count": 41,
     "metadata": {},
     "output_type": "execute_result"
    }
   ],
   "source": [
    "x = 10\n",
    "y = 2\n",
    "z = 3\n",
    "pow(x,y,z)\n"
   ]
  },
  {
   "cell_type": "code",
   "execution_count": null,
   "metadata": {},
   "outputs": [],
   "source": []
  },
  {
   "cell_type": "code",
   "execution_count": null,
   "metadata": {},
   "outputs": [],
   "source": []
  },
  {
   "cell_type": "code",
   "execution_count": null,
   "metadata": {},
   "outputs": [],
   "source": []
  },
  {
   "cell_type": "code",
   "execution_count": null,
   "metadata": {},
   "outputs": [],
   "source": []
  },
  {
   "cell_type": "code",
   "execution_count": null,
   "metadata": {},
   "outputs": [],
   "source": []
  },
  {
   "cell_type": "code",
   "execution_count": null,
   "metadata": {},
   "outputs": [],
   "source": []
  }
 ],
 "metadata": {
  "kernelspec": {
   "display_name": "Python 3",
   "language": "python",
   "name": "python3"
  },
  "language_info": {
   "codemirror_mode": {
    "name": "ipython",
    "version": 3
   },
   "file_extension": ".py",
   "mimetype": "text/x-python",
   "name": "python",
   "nbconvert_exporter": "python",
   "pygments_lexer": "ipython3",
   "version": "3.7.4"
  }
 },
 "nbformat": 4,
 "nbformat_minor": 2
}
