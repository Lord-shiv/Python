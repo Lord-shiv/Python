{
 "cells": [
  {
   "cell_type": "markdown",
   "metadata": {},
   "source": [
    "# Problem: Compare two strings as numbers!\n",
    "\n",
    "You are given two non-negative integers in strings.\n",
    "\n",
    "Example: \"1221\" and \"123\"\n",
    "\n",
    "Write a function, larger_than(a, b) which returns True if the first number is larger than the second one.\n",
    "\n",
    "***Solve this problem without converting the strings to numbers!***\n",
    "\n",
    "## Examples:\n",
    "\n",
    "- **larger_than( \"112\", \"111\" )** should return True.\n",
    "- **larger_than( \"525\", \"1111\" )** should return False.\n",
    "- **larger_than( \"11\", \"0\" )** should return True.\n",
    "- **larger_than( \"1\", \"1\" )** should return False."
   ]
  },
  {
   "cell_type": "markdown",
   "metadata": {},
   "source": [
    "### NOTE: Make sure to run your program once you write it :)"
   ]
  },
  {
   "cell_type": "markdown",
   "metadata": {},
   "source": [
    "# Implement your function below."
   ]
  },
  {
   "cell_type": "code",
   "execution_count": 1,
   "metadata": {
    "collapsed": false,
    "scrolled": true
   },
   "outputs": [
    {
     "data": {
      "text/plain": [
       "True"
      ]
     },
     "execution_count": 1,
     "metadata": {},
     "output_type": "execute_result"
    }
   ],
   "source": [
    "# Remember, you can compare single-character numbers in strings as follows:\n",
    "\"3\" > \"1\""
   ]
  },
  {
   "cell_type": "code",
   "execution_count": null,
   "metadata": {
    "collapsed": true
   },
   "outputs": [],
   "source": [
    "# Input:\n",
    "#  a: The first non-negative integer in string. Example: \"123\"\n",
    "#  b: The second non-negative integer in string. Example: \"3344\"\n",
    "# Returns:\n",
    "#  True if a is larger than b.\n",
    "#  Flase if a is smaller than or equal to b.\n",
    "def larger_than(a, b):\n",
    "    return False"
   ]
  },
  {
   "cell_type": "markdown",
   "metadata": {},
   "source": [
    "# Use the code below to test your function."
   ]
  },
  {
   "cell_type": "code",
   "execution_count": null,
   "metadata": {
    "collapsed": false
   },
   "outputs": [],
   "source": [
    "print('Is \"112\" larger than \"111\"? (Should be True.)')\n",
    "print(larger_than( \"112\", \"111\" ))"
   ]
  },
  {
   "cell_type": "code",
   "execution_count": null,
   "metadata": {
    "collapsed": false
   },
   "outputs": [],
   "source": [
    "print('Is \"525\" larger than \"1111\"? (Should be False.)')\n",
    "print(larger_than( \"525\", \"1111\" ))"
   ]
  },
  {
   "cell_type": "code",
   "execution_count": null,
   "metadata": {
    "collapsed": false
   },
   "outputs": [],
   "source": [
    "print('Is \"11\" larger than \"0\"? (Should be True.)')\n",
    "print(larger_than( \"11\", \"0\" ))"
   ]
  },
  {
   "cell_type": "code",
   "execution_count": null,
   "metadata": {
    "collapsed": false
   },
   "outputs": [],
   "source": [
    "print('Is \"1\" larger than \"1\"? (Should be False.)')\n",
    "print(larger_than( \"1\", \"1\" ))"
   ]
  },
  {
   "cell_type": "code",
   "execution_count": null,
   "metadata": {
    "collapsed": true
   },
   "outputs": [],
   "source": []
  }
 ],
 "metadata": {
  "anaconda-cloud": {},
  "kernelspec": {
   "display_name": "Python 3",
   "language": "python",
   "name": "python3"
  },
  "language_info": {
   "codemirror_mode": {
    "name": "ipython",
    "version": 3
   },
   "file_extension": ".py",
   "mimetype": "text/x-python",
   "name": "python",
   "nbconvert_exporter": "python",
   "pygments_lexer": "ipython3",
   "version": "3.6.0"
  }
 },
 "nbformat": 4,
 "nbformat_minor": 1
}
