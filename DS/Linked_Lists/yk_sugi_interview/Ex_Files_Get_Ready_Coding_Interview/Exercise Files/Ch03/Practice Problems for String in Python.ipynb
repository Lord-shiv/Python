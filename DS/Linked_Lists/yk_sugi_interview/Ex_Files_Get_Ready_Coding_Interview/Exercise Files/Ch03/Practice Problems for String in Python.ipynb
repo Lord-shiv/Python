{
 "cells": [
  {
   "cell_type": "markdown",
   "metadata": {},
   "source": [
    "# Exercise Problems for String in Python!\n",
    "\n",
    "Keep in mind: String in Python is very similar to List in Python."
   ]
  },
  {
   "cell_type": "markdown",
   "metadata": {},
   "source": [
    "### Problem 1: Initialize a new string, \"ABC\", and store it in a new variable called a_string."
   ]
  },
  {
   "cell_type": "code",
   "execution_count": 1,
   "metadata": {},
   "outputs": [
    {
     "name": "stdout",
     "output_type": "stream",
     "text": [
      "a_string is: \n",
      "ABC\n"
     ]
    }
   ],
   "source": [
    "# Write your solution below:\n",
    "a_string = \"ABC\"\n",
    "print(\"a_string is: \")\n",
    "print(a_string) # This should print ABC."
   ]
  },
  {
   "cell_type": "markdown",
   "metadata": {},
   "source": [
    "### Problem 2: From the string called b_string, defined below, retrieve and print the second character."
   ]
  },
  {
   "cell_type": "code",
   "execution_count": 4,
   "metadata": {},
   "outputs": [
    {
     "name": "stdout",
     "output_type": "stream",
     "text": [
      "b_string's second character is: (should be E)\n",
      "E\n"
     ]
    }
   ],
   "source": [
    "b_string = \"DEF\"\n",
    "print(\"b_string's second character is: (should be E)\")\n",
    "# Write your solution below:\n",
    "print(b_string[1])"
   ]
  },
  {
   "cell_type": "markdown",
   "metadata": {},
   "source": [
    "### Problem 3: Iterate over each character in c_string and print it using the \"for character in ...\" syntax."
   ]
  },
  {
   "cell_type": "code",
   "execution_count": 16,
   "metadata": {},
   "outputs": [
    {
     "name": "stdout",
     "output_type": "stream",
     "text": [
      "G\n",
      "H\n",
      "I\n",
      "Your solution should have printed G, H, and I.\n"
     ]
    }
   ],
   "source": [
    "c_string = \"GHI\"\n",
    "# Write your solution below:\n",
    "for char in c_string:\n",
    "    print(char)\n",
    "\n",
    "\n",
    "print(\"Your solution should have printed G, H, and I.\")"
   ]
  },
  {
   "cell_type": "markdown",
   "metadata": {},
   "source": [
    "### Problem 4: Iterate over each character in d_string and print it using the \"for i in range(...)\" syntax."
   ]
  },
  {
   "cell_type": "code",
   "execution_count": 8,
   "metadata": {},
   "outputs": [
    {
     "name": "stdout",
     "output_type": "stream",
     "text": [
      "P,Q,R,Your solution should have printed P, Q, and R.\n"
     ]
    }
   ],
   "source": [
    "d_string = \"PQR\"\n",
    "# Write your solution below:\n",
    "for i in range(len(d_string)):\n",
    "    print(d_string[i], end=\",\")\n",
    "\n",
    "print(\"Your solution should have printed P, Q, and R.\")"
   ]
  },
  {
   "cell_type": "markdown",
   "metadata": {},
   "source": [
    "### Problem 5: Write a function that takes two strings and returns True if they are reverses of each other.\n",
    "\n",
    "For example, \"ABC\" and \"CBA\" are reverses of each other.  Assume that the two strings are not empty and have the same length."
   ]
  },
  {
   "cell_type": "code",
   "execution_count": 1,
   "metadata": {},
   "outputs": [],
   "source": [
    "# Modify the following function:\n",
    "def are_reverses(string_1, string_2):\n",
    "    if string_1 == string_2[::-1]:\n",
    "        return True\n",
    "    return False\n"
   ]
  },
  {
   "cell_type": "markdown",
   "metadata": {},
   "source": [
    "### Use the code below to test your function."
   ]
  },
  {
   "cell_type": "code",
   "execution_count": 14,
   "metadata": {},
   "outputs": [
    {
     "name": "stdout",
     "output_type": "stream",
     "text": [
      "Are \"ABC\" and \"CBA\" reverses of each other? (Should be True.)\n"
     ]
    },
    {
     "data": {
      "text/plain": [
       "True"
      ]
     },
     "execution_count": 14,
     "metadata": {},
     "output_type": "execute_result"
    }
   ],
   "source": [
    "print('Are \"ABC\" and \"CBA\" reverses of each other? (Should be True.)')\n",
    "are_reverses(\"ABC\", \"CBA\")"
   ]
  },
  {
   "cell_type": "code",
   "execution_count": 15,
   "metadata": {},
   "outputs": [
    {
     "name": "stdout",
     "output_type": "stream",
     "text": [
      "Are \"CBA\" and \"AAA\" reverses of each other? (Should be False.)\n"
     ]
    },
    {
     "data": {
      "text/plain": [
       "False"
      ]
     },
     "execution_count": 15,
     "metadata": {},
     "output_type": "execute_result"
    }
   ],
   "source": [
    "print('Are \"CBA\" and \"AAA\" reverses of each other? (Should be False.)')\n",
    "are_reverses(\"CBA\", \"AAA\")"
   ]
  },
  {
   "cell_type": "code",
   "execution_count": null,
   "metadata": {
    "collapsed": true
   },
   "outputs": [],
   "source": []
  }
 ],
 "metadata": {
  "anaconda-cloud": {},
  "kernelspec": {
   "display_name": "Python 3",
   "language": "python",
   "name": "python3"
  },
  "language_info": {
   "codemirror_mode": {
    "name": "ipython",
    "version": 3
   },
   "file_extension": ".py",
   "mimetype": "text/x-python",
   "name": "python",
   "nbconvert_exporter": "python",
   "pygments_lexer": "ipython3",
   "version": "3.7.4"
  }
 },
 "nbformat": 4,
 "nbformat_minor": 1
}
