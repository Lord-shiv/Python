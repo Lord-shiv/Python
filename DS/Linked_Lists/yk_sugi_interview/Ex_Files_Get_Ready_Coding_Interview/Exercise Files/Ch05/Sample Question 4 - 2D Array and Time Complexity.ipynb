{
 "cells": [
  {
   "cell_type": "markdown",
   "metadata": {},
   "source": [
    "# Problem: Counting the number of negative numbers.\n",
    "\n",
    "You are given a 2-dimensional array with integers.\n",
    "\n",
    "Example Input:  \n",
    "[[-4, -3, -1, 1],  \n",
    "&nbsp;[-2, -2,  1, 2],  \n",
    "&nbsp;[-1,&nbsp; 1,&nbsp; 2, 3],  \n",
    "&nbsp;[ 1,&nbsp; 2,&nbsp; 4, 5]]\n",
    "\n",
    "Write a function, count_negatives(input), which finds and returns the number of negative integers in th array."
   ]
  },
  {
   "cell_type": "markdown",
   "metadata": {},
   "source": [
    "### NOTE: Make sure to run your program once you write it :)"
   ]
  },
  {
   "cell_type": "markdown",
   "metadata": {},
   "source": [
    "# Implement your function below."
   ]
  },
  {
   "cell_type": "code",
   "execution_count": 23,
   "metadata": {},
   "outputs": [],
   "source": [
    "# Input: A 2-dimensional array with integers.  Example below.\n",
    "#[[-4, -3, -1, 1],\n",
    "# [-2, -2,  1, 2],\n",
    "# [-1,  1,  2, 3],\n",
    "# [ 1,  2,  4, 5]]\n",
    "# Returns:\n",
    "#  The number of negative numbers in the array.\n",
    "#  In the above case, this function should return 6\n",
    "#  since there are 6 negative numbers in the array.\n",
    "def count_negatives(given_array):\n",
    "#     this solution have On^2 complexity\n",
    "#     n = len(given_array)\n",
    "#     total = 0\n",
    "#     for i in range(n):\n",
    "#         for j in range(n):\n",
    "#             if given_array[i][j] < 0:\n",
    "#                 total += 1\n",
    "#     return total\n",
    "    count = 0\n",
    "    row = 0\n",
    "    col = len(given_array[0]) - 1\n",
    "    while col >= 0 and row < len(given_array):\n",
    "        if given_array[row][col] < 0:\n",
    "            count += (col + 1)\n",
    "            row += 1\n",
    "        else:\n",
    "            col -= 1\n",
    "    return count\n",
    "    \n"
   ]
  },
  {
   "cell_type": "code",
   "execution_count": null,
   "metadata": {},
   "outputs": [],
   "source": []
  },
  {
   "cell_type": "markdown",
   "metadata": {},
   "source": [
    "# Use the code below to test your function."
   ]
  },
  {
   "cell_type": "code",
   "execution_count": 24,
   "metadata": {},
   "outputs": [
    {
     "name": "stdout",
     "output_type": "stream",
     "text": [
      "\n",
      "How many negative numbers are there in the following array?\n",
      "(There are 6.)\n",
      "\n",
      "[[-4, -3, -1, 1],\n",
      " [-2, -2,  1, 2],\n",
      " [-1,  1,  2, 3],\n",
      " [ 1,  2,  4, 5]]\n",
      "\n"
     ]
    },
    {
     "data": {
      "text/plain": [
       "6"
      ]
     },
     "execution_count": 24,
     "metadata": {},
     "output_type": "execute_result"
    }
   ],
   "source": [
    "print(\"\"\"\n",
    "How many negative numbers are there in the following array?\n",
    "(There are 6.)\n",
    "\n",
    "[[-4, -3, -1, 1],\n",
    " [-2, -2,  1, 2],\n",
    " [-1,  1,  2, 3],\n",
    " [ 1,  2,  4, 5]]\n",
    "\"\"\")\n",
    "\n",
    "count_negatives(\n",
    "[[-4, -3, -1, 1],\n",
    " [-2, -2,  1, 2],\n",
    " [-1,  1,  2, 3],\n",
    " [ 1,  2,  4, 5]])"
   ]
  },
  {
   "cell_type": "code",
   "execution_count": 18,
   "metadata": {},
   "outputs": [
    {
     "name": "stdout",
     "output_type": "stream",
     "text": [
      "\n",
      "How many negative numbers are there in the following array?\n",
      "(There is 1.)\n",
      "\n",
      "[[-1, 0],\n",
      " [0,  0]]\n",
      "\n"
     ]
    },
    {
     "data": {
      "text/plain": [
       "1"
      ]
     },
     "execution_count": 18,
     "metadata": {},
     "output_type": "execute_result"
    }
   ],
   "source": [
    "print(\"\"\"\n",
    "How many negative numbers are there in the following array?\n",
    "(There is 1.)\n",
    "\n",
    "[[-1, 0],\n",
    " [0,  0]]\n",
    "\"\"\")\n",
    "\n",
    "count_negatives(\n",
    "[[-1, 0],\n",
    " [0,  0]])"
   ]
  },
  {
   "cell_type": "code",
   "execution_count": 19,
   "metadata": {},
   "outputs": [
    {
     "name": "stdout",
     "output_type": "stream",
     "text": [
      "\n",
      "How many negative numbers are there in the following array?\n",
      "(There are 2.)\n",
      "\n",
      "[[-2, 0],\n",
      " [-1, 0]]\n",
      "\n"
     ]
    },
    {
     "ename": "IndexError",
     "evalue": "list index out of range",
     "output_type": "error",
     "traceback": [
      "\u001b[1;31m---------------------------------------------------------------------------\u001b[0m",
      "\u001b[1;31mIndexError\u001b[0m                                Traceback (most recent call last)",
      "\u001b[1;32m<ipython-input-19-62d315e32a87>\u001b[0m in \u001b[0;36m<module>\u001b[1;34m\u001b[0m\n\u001b[0;32m      9\u001b[0m count_negatives(\n\u001b[0;32m     10\u001b[0m [[-2, 0],\n\u001b[1;32m---> 11\u001b[1;33m  [-1, 0]])\n\u001b[0m",
      "\u001b[1;32m<ipython-input-16-498c07bd61c2>\u001b[0m in \u001b[0;36mcount_negatives\u001b[1;34m(given_array)\u001b[0m\n\u001b[0;32m     21\u001b[0m     \u001b[0mcol\u001b[0m \u001b[1;33m=\u001b[0m \u001b[0mlen\u001b[0m\u001b[1;33m(\u001b[0m\u001b[0mgiven_array\u001b[0m\u001b[1;33m[\u001b[0m\u001b[1;36m0\u001b[0m\u001b[1;33m]\u001b[0m\u001b[1;33m)\u001b[0m \u001b[1;33m-\u001b[0m \u001b[1;36m1\u001b[0m\u001b[1;33m\u001b[0m\u001b[1;33m\u001b[0m\u001b[0m\n\u001b[0;32m     22\u001b[0m     \u001b[1;32mwhile\u001b[0m \u001b[0mcol\u001b[0m \u001b[1;33m>=\u001b[0m \u001b[1;36m0\u001b[0m\u001b[1;33m:\u001b[0m\u001b[1;33m\u001b[0m\u001b[1;33m\u001b[0m\u001b[0m\n\u001b[1;32m---> 23\u001b[1;33m         \u001b[1;32mif\u001b[0m \u001b[0mgiven_array\u001b[0m\u001b[1;33m[\u001b[0m\u001b[0mrow\u001b[0m\u001b[1;33m]\u001b[0m\u001b[1;33m[\u001b[0m\u001b[0mcol\u001b[0m\u001b[1;33m]\u001b[0m \u001b[1;33m<\u001b[0m \u001b[1;36m0\u001b[0m\u001b[1;33m:\u001b[0m\u001b[1;33m\u001b[0m\u001b[1;33m\u001b[0m\u001b[0m\n\u001b[0m\u001b[0;32m     24\u001b[0m             \u001b[0mcount\u001b[0m \u001b[1;33m+=\u001b[0m \u001b[1;33m(\u001b[0m\u001b[0mcol\u001b[0m \u001b[1;33m+\u001b[0m \u001b[1;36m1\u001b[0m\u001b[1;33m)\u001b[0m\u001b[1;33m\u001b[0m\u001b[1;33m\u001b[0m\u001b[0m\n\u001b[0;32m     25\u001b[0m             \u001b[0mrow\u001b[0m \u001b[1;33m+=\u001b[0m \u001b[1;36m1\u001b[0m\u001b[1;33m\u001b[0m\u001b[1;33m\u001b[0m\u001b[0m\n",
      "\u001b[1;31mIndexError\u001b[0m: list index out of range"
     ]
    }
   ],
   "source": [
    "print(\"\"\"\n",
    "How many negative numbers are there in the following array?\n",
    "(There are 2.)\n",
    "\n",
    "[[-2, 0],\n",
    " [-1, 0]]\n",
    "\"\"\")\n",
    "\n",
    "count_negatives(\n",
    "[[-2, 0],\n",
    " [-1, 0]])"
   ]
  },
  {
   "cell_type": "code",
   "execution_count": 15,
   "metadata": {},
   "outputs": [
    {
     "name": "stdout",
     "output_type": "stream",
     "text": [
      "\n",
      "How many negative numbers are there in the following array?\n",
      "(There are none.)\n",
      "\n",
      "[[0]]\n",
      "\n"
     ]
    },
    {
     "data": {
      "text/plain": [
       "0"
      ]
     },
     "execution_count": 15,
     "metadata": {},
     "output_type": "execute_result"
    }
   ],
   "source": [
    "print(\"\"\"\n",
    "How many negative numbers are there in the following array?\n",
    "(There are none.)\n",
    "\n",
    "[[0]]\n",
    "\"\"\")\n",
    "\n",
    "count_negatives([[0]])"
   ]
  },
  {
   "cell_type": "code",
   "execution_count": null,
   "metadata": {},
   "outputs": [],
   "source": []
  }
 ],
 "metadata": {
  "anaconda-cloud": {},
  "kernelspec": {
   "display_name": "Python 3",
   "language": "python",
   "name": "python3"
  },
  "language_info": {
   "codemirror_mode": {
    "name": "ipython",
    "version": 3
   },
   "file_extension": ".py",
   "mimetype": "text/x-python",
   "name": "python",
   "nbconvert_exporter": "python",
   "pygments_lexer": "ipython3",
   "version": "3.7.4"
  }
 },
 "nbformat": 4,
 "nbformat_minor": 1
}
