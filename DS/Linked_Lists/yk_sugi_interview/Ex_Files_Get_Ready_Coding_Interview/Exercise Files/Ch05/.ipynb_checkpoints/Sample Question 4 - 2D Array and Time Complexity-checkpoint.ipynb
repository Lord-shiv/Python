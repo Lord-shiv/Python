{
 "cells": [
  {
   "cell_type": "markdown",
   "metadata": {},
   "source": [
    "# Problem: Counting the number of negative numbers.\n",
    "\n",
    "You are given a 2-dimensional array with integers.\n",
    "\n",
    "Example Input:  \n",
    "[[-4, -3, -1, 1],  \n",
    "&nbsp;[-2, -2,  1, 2],  \n",
    "&nbsp;[-1,&nbsp; 1,&nbsp; 2, 3],  \n",
    "&nbsp;[ 1,&nbsp; 2,&nbsp; 4, 5]]\n",
    "\n",
    "Write a function, count_negatives(input), which finds and returns the number of negative integers in th array."
   ]
  },
  {
   "cell_type": "markdown",
   "metadata": {},
   "source": [
    "### NOTE: Make sure to run your program once you write it :)"
   ]
  },
  {
   "cell_type": "markdown",
   "metadata": {},
   "source": [
    "# Implement your function below."
   ]
  },
  {
   "cell_type": "code",
   "execution_count": null,
   "metadata": {
    "collapsed": false
   },
   "outputs": [],
   "source": [
    "# Input: A 2-dimensional array with integers.  Example below.\n",
    "#[[-4, -3, -1, 1],\n",
    "# [-2, -2,  1, 2],\n",
    "# [-1,  1,  2, 3],\n",
    "# [ 1,  2,  4, 5]]\n",
    "# Returns:\n",
    "#  The number of negative numbers in the array.\n",
    "#  In the above case, this function should return 6\n",
    "#  since there are 6 negative numbers in the array.\n",
    "def count_negatives(given_array):\n",
    "    count = 0\n",
    "    row_i = 0\n",
    "    col_i = len(given_array[0]) - 1"
   ]
  },
  {
   "cell_type": "markdown",
   "metadata": {},
   "source": [
    "# Use the code below to test your function."
   ]
  },
  {
   "cell_type": "code",
   "execution_count": null,
   "metadata": {
    "collapsed": false
   },
   "outputs": [],
   "source": [
    "print(\"\"\"\n",
    "How many negative numbers are there in the following array?\n",
    "(There are 6.)\n",
    "\n",
    "[[-4, -3, -1, 1],\n",
    " [-2, -2,  1, 2],\n",
    " [-1,  1,  2, 3],\n",
    " [ 1,  2,  4, 5]]\n",
    "\"\"\")\n",
    "\n",
    "count_negatives(\n",
    "[[-4, -3, -1, 1],\n",
    " [-2, -2,  1, 2],\n",
    " [-1,  1,  2, 3],\n",
    " [ 1,  2,  4, 5]])"
   ]
  },
  {
   "cell_type": "code",
   "execution_count": null,
   "metadata": {
    "collapsed": false
   },
   "outputs": [],
   "source": [
    "print(\"\"\"\n",
    "How many negative numbers are there in the following array?\n",
    "(There is 1.)\n",
    "\n",
    "[[-1, 0],\n",
    " [0,  0]]\n",
    "\"\"\")\n",
    "\n",
    "count_negatives(\n",
    "[[-1, 0],\n",
    " [0,  0]])"
   ]
  },
  {
   "cell_type": "code",
   "execution_count": null,
   "metadata": {
    "collapsed": false
   },
   "outputs": [],
   "source": [
    "print(\"\"\"\n",
    "How many negative numbers are there in the following array?\n",
    "(There are 2.)\n",
    "\n",
    "[[-2, 0],\n",
    " [-1, 0]]\n",
    "\"\"\")\n",
    "\n",
    "count_negatives(\n",
    "[[-2, 0],\n",
    " [-1, 0]])"
   ]
  },
  {
   "cell_type": "code",
   "execution_count": null,
   "metadata": {
    "collapsed": false
   },
   "outputs": [],
   "source": [
    "print(\"\"\"\n",
    "How many negative numbers are there in the following array?\n",
    "(There are none.)\n",
    "\n",
    "[[0]]\n",
    "\"\"\")\n",
    "\n",
    "count_negatives([[0]])"
   ]
  }
 ],
 "metadata": {
  "anaconda-cloud": {},
  "kernelspec": {
   "display_name": "Python 3",
   "language": "python",
   "name": "python3"
  },
  "language_info": {
   "codemirror_mode": {
    "name": "ipython",
    "version": 3
   },
   "file_extension": ".py",
   "mimetype": "text/x-python",
   "name": "python",
   "nbconvert_exporter": "python",
   "pygments_lexer": "ipython3",
   "version": "3.6.0"
  }
 },
 "nbformat": 4,
 "nbformat_minor": 1
}
