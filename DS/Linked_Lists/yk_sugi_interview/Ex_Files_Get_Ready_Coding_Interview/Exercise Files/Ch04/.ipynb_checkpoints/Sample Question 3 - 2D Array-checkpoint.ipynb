{
 "cells": [
  {
   "cell_type": "markdown",
   "metadata": {},
   "source": [
    "# Problem: Can rooks attack one another?\n",
    "\n",
    "You are given a configuration of a chessboard with rooks in a 2 dimensional array.\n",
    "\n",
    "Example Input:  \n",
    "[[1, 0, 0, 0],  \n",
    " [0, 1, 0, 0],  \n",
    " [0, 0, 0, 1],  \n",
    " [0, 0, 0, 0]]\n",
    "\n",
    "1 represents that a rook is in the corresponding space on the board, and 0 represents that there's nothing there.\n",
    "\n",
    "***Remember, rooks are able to move horizontally and vertically over any number of spaces.***\n",
    "\n",
    "Write a function, rooks_are_safe(input) which returns True if none of the rooks can attack each other."
   ]
  },
  {
   "cell_type": "markdown",
   "metadata": {},
   "source": [
    "### NOTE: Make sure to run your program once you write it :)"
   ]
  },
  {
   "cell_type": "markdown",
   "metadata": {},
   "source": [
    "# Implement your function below."
   ]
  },
  {
   "cell_type": "code",
   "execution_count": null,
   "metadata": {
    "collapsed": true
   },
   "outputs": [],
   "source": [
    "# Input:\n",
    "#  chessboard: A 2-dimensional array that represents.  Example below.\n",
    "#  [[1, 0, 0, 0],\n",
    "#  [0, 1, 0, 0],\n",
    "#  [0, 0, 0, 1],\n",
    "#  [0, 0, 0, 0]]\n",
    "# Returns:\n",
    "#  True if none of the rooks can attack each other.\n",
    "#  False if there is at least one pair of rooks that can attack each other.\n",
    "def rooks_are_safe(chessboard):\n",
    "    n = len(chessboard)"
   ]
  },
  {
   "cell_type": "markdown",
   "metadata": {},
   "source": [
    "# Use the code below to test your function."
   ]
  },
  {
   "cell_type": "code",
   "execution_count": null,
   "metadata": {
    "collapsed": false
   },
   "outputs": [],
   "source": [
    "print(\"\"\"\n",
    "Are rooks safe in this board? (Should be True.)\n",
    "[[1, 0, 0, 0],\n",
    " [0, 1, 0, 0],\n",
    " [0, 0, 0, 1],\n",
    " [0, 0, 0, 0]]\n",
    "\"\"\")\n",
    "\n",
    "rooks_are_safe(\n",
    "[[1, 0, 0, 0],\n",
    " [0, 1, 0, 0],\n",
    " [0, 0, 0, 1],\n",
    " [0, 0, 0, 0]])"
   ]
  },
  {
   "cell_type": "code",
   "execution_count": null,
   "metadata": {
    "collapsed": false
   },
   "outputs": [],
   "source": [
    "print(\"\"\"\n",
    "Are rooks safe in this board? (Should be True.)\n",
    "[[1]]\n",
    "\"\"\")\n",
    "\n",
    "rooks_are_safe([[1]])"
   ]
  },
  {
   "cell_type": "code",
   "execution_count": null,
   "metadata": {
    "collapsed": false
   },
   "outputs": [],
   "source": [
    "print(\"\"\"\n",
    "Are rooks safe in this board? (Should be False.)\n",
    "[[1, 0],\n",
    " [1, 0]]\n",
    "\"\"\")\n",
    "\n",
    "rooks_are_safe(\n",
    "[[1, 0],\n",
    " [1, 0]])"
   ]
  },
  {
   "cell_type": "code",
   "execution_count": null,
   "metadata": {
    "collapsed": false
   },
   "outputs": [],
   "source": [
    "print(\"\"\"\n",
    "Are rooks safe in this board? (Should be False.)\n",
    "[[0, 0, 0],\n",
    " [1, 0, 1],\n",
    " [0, 0, 0]]\n",
    "\"\"\")\n",
    "\n",
    "rooks_are_safe(\n",
    "[[0, 0, 0],\n",
    " [1, 0, 1],\n",
    " [0, 0, 0]])"
   ]
  },
  {
   "cell_type": "code",
   "execution_count": null,
   "metadata": {
    "collapsed": true
   },
   "outputs": [],
   "source": []
  }
 ],
 "metadata": {
  "anaconda-cloud": {},
  "kernelspec": {
   "display_name": "Python 3",
   "language": "python",
   "name": "python3"
  },
  "language_info": {
   "codemirror_mode": {
    "name": "ipython",
    "version": 3
   },
   "file_extension": ".py",
   "mimetype": "text/x-python",
   "name": "python",
   "nbconvert_exporter": "python",
   "pygments_lexer": "ipython3",
   "version": "3.6.0"
  }
 },
 "nbformat": 4,
 "nbformat_minor": 1
}
