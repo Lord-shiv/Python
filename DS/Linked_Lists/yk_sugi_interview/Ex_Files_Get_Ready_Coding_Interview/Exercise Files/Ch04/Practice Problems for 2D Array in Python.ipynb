{
 "cells": [
  {
   "cell_type": "markdown",
   "metadata": {},
   "source": [
    "# Exercise Problems for 2D Array in Python!\n",
    "\n",
    "Remember: A 2D array is usually implemented as a list of lists in Python."
   ]
  },
  {
   "cell_type": "markdown",
   "metadata": {},
   "source": [
    "### Problem 1: Initialize a new 2D array with [1, 2, 3] in the first row and [5, 6, 7] in the second row.  Store it in a new variable called a_2d."
   ]
  },
  {
   "cell_type": "code",
   "execution_count": 1,
   "metadata": {},
   "outputs": [
    {
     "name": "stdout",
     "output_type": "stream",
     "text": [
      "a_2d is: \n",
      "[[1, 2, 3], [4, 5, 6]]\n"
     ]
    }
   ],
   "source": [
    "# Write your solution below:\n",
    "a_2d = [[1,2,3], [4,5,6]]\n",
    "print(\"a_2d is: \")\n",
    "print(a_2d) # This should print [[1, 2, 3], [5, 6, 7]]."
   ]
  },
  {
   "cell_type": "markdown",
   "metadata": {},
   "source": [
    "### Problem 2: From the 2D array called b_2d, defined below, replace the number 6 with the number 99."
   ]
  },
  {
   "cell_type": "code",
   "execution_count": 2,
   "metadata": {},
   "outputs": [
    {
     "name": "stdout",
     "output_type": "stream",
     "text": [
      "b_2d is: (should be [[1, 2, 3], [5, 99, 7]])\n",
      "[[1, 2, 3], [5, 99, 7]]\n"
     ]
    }
   ],
   "source": [
    "b_2d = [[1, 2, 3], [5, 6, 7]]\n",
    "# Write your solution below:\n",
    "b_2d[1][1] = 99\n",
    "print(\"b_2d is: (should be [[1, 2, 3], [5, 99, 7]])\")\n",
    "print(b_2d)"
   ]
  },
  {
   "cell_type": "markdown",
   "metadata": {},
   "source": [
    "### Problem 3: Iterate over each item in c_2d and print it using the \"for row in ...\" syntax."
   ]
  },
  {
   "cell_type": "code",
   "execution_count": 4,
   "metadata": {},
   "outputs": [
    {
     "name": "stdout",
     "output_type": "stream",
     "text": [
      "a\n",
      "b\n",
      "c\n",
      "x\n",
      "y\n",
      "z\n",
      "Your solution should have printed a, b, c, x, y, and z.\n"
     ]
    }
   ],
   "source": [
    "c_2d = [['a', 'b', 'c'],\n",
    "        ['x', 'y', 'z']]\n",
    "# Write your solution below:\n",
    "for row in c_2d:\n",
    "    for col in row:\n",
    "        print(col)\n",
    "print(\"Your solution should have printed a, b, c, x, y, and z.\")"
   ]
  },
  {
   "cell_type": "markdown",
   "metadata": {},
   "source": [
    "### Problem 4: Iterate over each item in d_2d and print it using the \"for i in range(...)\" syntax."
   ]
  },
  {
   "cell_type": "code",
   "execution_count": 29,
   "metadata": {},
   "outputs": [
    {
     "name": "stdout",
     "output_type": "stream",
     "text": [
      "a\n",
      "b\n",
      "c\n",
      "x\n",
      "y\n",
      "z\n",
      "Your solution should have printed a, b, c, x, y, and z.\n"
     ]
    }
   ],
   "source": [
    "d_2d = [['a', 'b', 'c'],\n",
    "        ['x', 'y', 'z']]\n",
    "# Write your solution below:\n",
    "for i in range(len(d_2d)):\n",
    "    for j in range(len(d_2d[i])):\n",
    "        print(d_2d[i][j])\n",
    "\n",
    "print(\"Your solution should have printed a, b, c, x, y, and z.\")"
   ]
  },
  {
   "cell_type": "markdown",
   "metadata": {},
   "source": [
    "### Problem 5: You're given a 2D array with the same number of rows and columns.  Write a function that adds up the diagonal elements and returns the sum.\n",
    "\n",
    "For example, you're given the following 2D array:\n",
    "\n",
    "[[1, 2, 3],  \n",
    " [4, 5, 6],  \n",
    " [7, 8, 9]]\n",
    "\n",
    "The diagonal elements are 1, 5, and 9, so your function should return 15."
   ]
  },
  {
   "cell_type": "code",
   "execution_count": 54,
   "metadata": {},
   "outputs": [],
   "source": [
    "# Modify the following function:\n",
    "\n",
    "def diagonal_sum(given_2d):\n",
    "    sumo = 0\n",
    "    for i in range(len(given_2d)):\n",
    "        for j in range(len(given_2d[i])):\n",
    "            if i == j:\n",
    "                sumo += given_2d[i][j]\n",
    "    return sumo\n",
    "\n",
    "# Now smart solution is\n",
    "# def diagonal_sum(given_2d):\n",
    "#     total = 0\n",
    "#     for i in range(len(given_2d)):\n",
    "#         total += given_2d[i][i]  # 0,0 1,1 2,2\n",
    "#     return total"
   ]
  },
  {
   "cell_type": "markdown",
   "metadata": {},
   "source": [
    "### Use the code below to test your function."
   ]
  },
  {
   "cell_type": "code",
   "execution_count": 52,
   "metadata": {},
   "outputs": [
    {
     "name": "stdout",
     "output_type": "stream",
     "text": [
      "\n",
      "The diagonal sum of [[1, 0],\n",
      "                     [0, 1]] is: (Should be 2)\n"
     ]
    },
    {
     "data": {
      "text/plain": [
       "2"
      ]
     },
     "execution_count": 52,
     "metadata": {},
     "output_type": "execute_result"
    }
   ],
   "source": [
    "print(\"\"\"\n",
    "The diagonal sum of [[1, 0],\n",
    "                     [0, 1]] is: (Should be 2)\"\"\")\n",
    "diagonal_sum([[1, 0],\n",
    "              [0, 1]])"
   ]
  },
  {
   "cell_type": "code",
   "execution_count": 53,
   "metadata": {},
   "outputs": [
    {
     "name": "stdout",
     "output_type": "stream",
     "text": [
      "\n",
      "The diagonal sum of [[1, 2, 3],\n",
      "                     [4, 5, 6],\n",
      "                     [7, 8, 9]] is: (Should be 15)\n"
     ]
    },
    {
     "data": {
      "text/plain": [
       "15"
      ]
     },
     "execution_count": 53,
     "metadata": {},
     "output_type": "execute_result"
    }
   ],
   "source": [
    "print(\"\"\"\n",
    "The diagonal sum of [[1, 2, 3],\n",
    "                     [4, 5, 6],\n",
    "                     [7, 8, 9]] is: (Should be 15)\"\"\")\n",
    "diagonal_sum([[1, 2, 3],\n",
    "              [4, 5, 6],\n",
    "              [7, 8, 9]])"
   ]
  },
  {
   "cell_type": "code",
   "execution_count": null,
   "metadata": {
    "collapsed": true
   },
   "outputs": [],
   "source": []
  }
 ],
 "metadata": {
  "anaconda-cloud": {},
  "kernelspec": {
   "display_name": "Python 3",
   "language": "python",
   "name": "python3"
  },
  "language_info": {
   "codemirror_mode": {
    "name": "ipython",
    "version": 3
   },
   "file_extension": ".py",
   "mimetype": "text/x-python",
   "name": "python",
   "nbconvert_exporter": "python",
   "pygments_lexer": "ipython3",
   "version": "3.7.4"
  }
 },
 "nbformat": 4,
 "nbformat_minor": 1
}
