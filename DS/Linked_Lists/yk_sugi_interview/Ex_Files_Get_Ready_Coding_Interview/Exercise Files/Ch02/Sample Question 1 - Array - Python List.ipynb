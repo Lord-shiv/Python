{
 "cells": [
  {
   "cell_type": "markdown",
   "metadata": {},
   "source": [
    "# Problem: Find the second largest number in an array!\n",
    "\n",
    "You are given an array (or a Python list) of integers.\n",
    "\n",
    "For example, [1, 3, 4, 5, 0, 2].\n",
    "\n",
    "Write a function, second_largest(given_list), which takes the list as the input, and returns the second largest number.\n",
    "\n",
    "## Examples:\n",
    "\n",
    "- **second_largest( [1, 3, 4, 5, 0, 2] )** should return 4.\n",
    "- **second_largest( [-2, -1] )** should return -2.\n",
    "- **second_largest( [2, 2, 1] )** should return 2.\n",
    "- **second_largest( [2] )** should return None.\n",
    "- **second_largest( [] )** should return None."
   ]
  },
  {
   "cell_type": "markdown",
   "metadata": {},
   "source": [
    "### NOTE: Feel free to use any other language or any other IDE for solving this problem.\n",
    "\n",
    "### NOTE 2: Make sure to run your program once you write it.\n",
    "\n",
    "#### Oh, and most importantly, have fun solving it! :)"
   ]
  },
  {
   "cell_type": "markdown",
   "metadata": {},
   "source": [
    "# Implement your function below."
   ]
  },
  {
   "cell_type": "code",
   "execution_count": 1,
   "metadata": {},
   "outputs": [
    {
     "data": {
      "text/plain": [
       "-2"
      ]
     },
     "execution_count": 1,
     "metadata": {},
     "output_type": "execute_result"
    }
   ],
   "source": [
    "# Input:\n",
    "#  a: The given list/array of integers.  Example: [1, -2, 3, 4]\n",
    "# Returns:\n",
    "#  The second largest number in the list or None if\n",
    "#  the array's length is only 1 or 2.\n",
    "def second_largest(given_list):\n",
    "    largest = None\n",
    "    Sec_largest = None\n",
    "    for num_now in given_list:\n",
    "        if largest == None:\n",
    "            largest = num_now\n",
    "        elif num_now > largest:\n",
    "            Sec_largest = largest\n",
    "            largest = num_now\n",
    "        elif Sec_largest == None:\n",
    "            Sec_largest = num_now\n",
    "#         elif num_now > Sec_largest:\n",
    "#             Sec_largest = num_now\n",
    "    return Sec_largest\n",
    "second_largest([-1,-2,-3])"
   ]
  },
  {
   "cell_type": "code",
   "execution_count": 2,
   "metadata": {},
   "outputs": [
    {
     "data": {
      "text/plain": [
       "-2"
      ]
     },
     "execution_count": 2,
     "metadata": {},
     "output_type": "execute_result"
    }
   ],
   "source": [
    "def second_largest(numbers):\n",
    "    minimum = float('-inf')\n",
    "    first, second = minimum, minimum\n",
    "    for n in numbers:\n",
    "        if n > first:\n",
    "            first, second = n, first\n",
    "        elif first > n > second:\n",
    "            second = n\n",
    "    return second if second != minimum else None\n",
    "second_largest([-1,-2,-4,-7])"
   ]
  },
  {
   "cell_type": "markdown",
   "metadata": {},
   "source": [
    "# Use the code below to test your function."
   ]
  },
  {
   "cell_type": "code",
   "execution_count": 5,
   "metadata": {},
   "outputs": [
    {
     "name": "stdout",
     "output_type": "stream",
     "text": [
      "The second largest number in [1, 3, 4, 5, 0, 2] is (should be 4):\n",
      "4\n"
     ]
    }
   ],
   "source": [
    "print('The second largest number in [1, 3, 4, 5, 0, 2] is (should be 4):')\n",
    "print(second_largest([1, 3, 4, 5, 0, 2]))"
   ]
  },
  {
   "cell_type": "code",
   "execution_count": 6,
   "metadata": {},
   "outputs": [
    {
     "name": "stdout",
     "output_type": "stream",
     "text": [
      "The second largest number in [-2, -1] is: (should be -2)\n",
      "-2\n"
     ]
    }
   ],
   "source": [
    "print('The second largest number in [-2, -1] is: (should be -2)')\n",
    "print(second_largest([-2, -1]))"
   ]
  },
  {
   "cell_type": "code",
   "execution_count": 9,
   "metadata": {},
   "outputs": [
    {
     "name": "stdout",
     "output_type": "stream",
     "text": [
      "The second largest number in [2, 2, 1] is: (should be 2)\n",
      "2\n"
     ]
    }
   ],
   "source": [
    "print('The second largest number in [2, 2, 1] is: (should be 2)')\n",
    "print(second_largest([2, 2, 1]))"
   ]
  },
  {
   "cell_type": "code",
   "execution_count": 10,
   "metadata": {},
   "outputs": [
    {
     "name": "stdout",
     "output_type": "stream",
     "text": [
      "The second largest number in [2] is: (should be None)\n",
      "None\n"
     ]
    }
   ],
   "source": [
    "print('The second largest number in [2] is: (should be None)')\n",
    "print(second_largest([2]))"
   ]
  },
  {
   "cell_type": "code",
   "execution_count": 11,
   "metadata": {},
   "outputs": [
    {
     "name": "stdout",
     "output_type": "stream",
     "text": [
      "The second largest number in [] is: (should be None)\n",
      "None\n"
     ]
    }
   ],
   "source": [
    "print('The second largest number in [] is: (should be None)')\n",
    "print(second_largest([]))"
   ]
  },
  {
   "cell_type": "code",
   "execution_count": null,
   "metadata": {
    "collapsed": true
   },
   "outputs": [],
   "source": []
  }
 ],
 "metadata": {
  "anaconda-cloud": {},
  "kernelspec": {
   "display_name": "Python 3",
   "language": "python",
   "name": "python3"
  },
  "language_info": {
   "codemirror_mode": {
    "name": "ipython",
    "version": 3
   },
   "file_extension": ".py",
   "mimetype": "text/x-python",
   "name": "python",
   "nbconvert_exporter": "python",
   "pygments_lexer": "ipython3",
   "version": "3.7.4"
  }
 },
 "nbformat": 4,
 "nbformat_minor": 1
}
