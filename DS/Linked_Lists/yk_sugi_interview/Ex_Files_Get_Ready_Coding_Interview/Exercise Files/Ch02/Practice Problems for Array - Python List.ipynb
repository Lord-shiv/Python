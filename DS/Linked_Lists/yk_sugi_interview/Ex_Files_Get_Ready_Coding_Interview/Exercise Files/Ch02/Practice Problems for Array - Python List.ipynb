{
 "cells": [
  {
   "cell_type": "markdown",
   "metadata": {},
   "source": [
    "# Exercise Problems for Python List (Array)!\n",
    "\n",
    "Remember, if you're familiar with Array in other languages like Java and C++, it's usually implemented as a List in Python."
   ]
  },
  {
   "cell_type": "markdown",
   "metadata": {},
   "source": [
    "### Problem 1: Initialize a new list called a_list with the elements [\"item1\", \"item2\", \"item3\"]."
   ]
  },
  {
   "cell_type": "code",
   "execution_count": 20,
   "metadata": {},
   "outputs": [
    {
     "name": "stdout",
     "output_type": "stream",
     "text": [
      "shiv\n",
      "shivam\n",
      "shivom\n",
      "shiva\n"
     ]
    }
   ],
   "source": [
    "# Write your solution below:\n",
    "a_list = [\"shiv\", \"shivam\", \"shivom\", \"shiva\"]\n",
    "for i in a_list:\n",
    "    print(i)\n"
   ]
  },
  {
   "cell_type": "code",
   "execution_count": 21,
   "metadata": {},
   "outputs": [
    {
     "name": "stdout",
     "output_type": "stream",
     "text": [
      "a_list is: \n",
      "['shiv', 'shivam', 'shivom', 'shiva']\n"
     ]
    }
   ],
   "source": [
    "print(\"a_list is: \")\n",
    "print(a_list) # This should print ['item1', 'item2', 'item3']"
   ]
  },
  {
   "cell_type": "markdown",
   "metadata": {},
   "source": [
    "### Problem 2: Change the second element in b_list (defined below) to 1."
   ]
  },
  {
   "cell_type": "code",
   "execution_count": 17,
   "metadata": {},
   "outputs": [
    {
     "name": "stdout",
     "output_type": "stream",
     "text": [
      "[0, 1, 0]\n"
     ]
    }
   ],
   "source": [
    "b_list = [0, 0, 0]\n",
    "b_list[1] = 1\n",
    "print(b_list)\n",
    "# Write your solution below:"
   ]
  },
  {
   "cell_type": "code",
   "execution_count": 18,
   "metadata": {},
   "outputs": [
    {
     "name": "stdout",
     "output_type": "stream",
     "text": [
      "b_list is: \n",
      "[0, 1, 0]\n"
     ]
    }
   ],
   "source": [
    "print(\"b_list is: \")\n",
    "print(b_list) # This should print [0, 1, 0]"
   ]
  },
  {
   "cell_type": "markdown",
   "metadata": {},
   "source": [
    "### Problem 3: Iterate over each element in c_list and print it using the \"for element in ...\" syntax."
   ]
  },
  {
   "cell_type": "code",
   "execution_count": 22,
   "metadata": {},
   "outputs": [
    {
     "name": "stdout",
     "output_type": "stream",
     "text": [
      "item0\n",
      "item1\n",
      "item2\n"
     ]
    }
   ],
   "source": [
    "c_list = [\"item0\", \"item1\", \"item2\"]\n",
    "# Write your solution below:\n",
    "for i in c_list:\n",
    "    print(i)"
   ]
  },
  {
   "cell_type": "markdown",
   "metadata": {},
   "source": [
    "### Problem 4: Iterate over each element in d_list and print it using the \"for i in range(...)\" syntax."
   ]
  },
  {
   "cell_type": "code",
   "execution_count": 30,
   "metadata": {},
   "outputs": [
    {
     "name": "stdout",
     "output_type": "stream",
     "text": [
      "item0, item1, item2, Your solution should have printed item0, item1, and item2.\n"
     ]
    }
   ],
   "source": [
    "d_list = [\"item0\", \"item1\", \"item2\"]\n",
    "# Write your solution below:\n",
    "# range(3) -> [0, 1, 2]\n",
    "for i in range(len(d_list)):\n",
    "    if d_list[2]:\n",
    "        d_list.append(\".\")\n",
    "    print(d_list[i], end=\", \")\n",
    "\n",
    "print(\"Your solution should have printed item0, item1, and item2.\")"
   ]
  },
  {
   "cell_type": "markdown",
   "metadata": {},
   "source": [
    "### Problem 5: Find the sum of e_list, which contains: [32, 55, 710, 1]."
   ]
  },
  {
   "cell_type": "code",
   "execution_count": 31,
   "metadata": {},
   "outputs": [
    {
     "name": "stdout",
     "output_type": "stream",
     "text": [
      "798\n",
      "The sum of e_list is (should be 798):\n",
      "0\n"
     ]
    }
   ],
   "source": [
    "e_list = [32, 55, 710, 1]\n",
    "# Write your solution below.\n",
    "total = 0\n",
    "print(sum(e_list))\n",
    "print('The sum of e_list is (should be 798):')\n",
    "print(total)"
   ]
  },
  {
   "cell_type": "code",
   "execution_count": 100,
   "metadata": {},
   "outputs": [
    {
     "data": {
      "text/plain": [
       "'2nd None and 1st 2'"
      ]
     },
     "execution_count": 100,
     "metadata": {},
     "output_type": "execute_result"
    }
   ],
   "source": [
    "list_z = [2,2]\n",
    "def SecondFuno(list_z):\n",
    "    largest = None\n",
    "    sec_largest = None\n",
    "    for num in list_z:\n",
    "        if largest == None:\n",
    "            largest = num\n",
    "        elif num > largest:\n",
    "            sec_largest = largest\n",
    "            largest = num\n",
    "        elif sec_largest == None:\n",
    "            sec_largest == num\n",
    "        elif num > sec_largest:\n",
    "            sec_largest = num\n",
    "    return f\"2nd {sec_largest} and 1st {largest}\"\n",
    "SecondFuno(list_z)"
   ]
  },
  {
   "cell_type": "code",
   "execution_count": 98,
   "metadata": {},
   "outputs": [
    {
     "name": "stdout",
     "output_type": "stream",
     "text": [
      "[2, 2]\n"
     ]
    }
   ],
   "source": [
    "list_sec_max = [2,2]\n",
    "def SecondFun(list_sec_max):\n",
    "    if list_sec_max == []:\n",
    "        return 0\n",
    "    elif len(list_sec_max) == 1:\n",
    "        return \"None\"\n",
    "    list_sec_max.sort(reverse=True)\n",
    "    print(list_sec_max)\n",
    "SecondFun(list_sec_max)"
   ]
  },
  {
   "cell_type": "code",
   "execution_count": 109,
   "metadata": {},
   "outputs": [
    {
     "data": {
      "text/plain": [
       "4"
      ]
     },
     "execution_count": 109,
     "metadata": {},
     "output_type": "execute_result"
    }
   ],
   "source": [
    "def SecondLargest(list_nums):\n",
    "    largest = None\n",
    "    Sec_largest = None\n",
    "    for num_now in list_nums:\n",
    "        if largest == None:\n",
    "            largest = num_now        \n",
    "        elif num_now > largest:\n",
    "            Sec_largest = largest\n",
    "            largest = num_now\n",
    "        elif num_now == largest:\n",
    "            Sec_largest = num_now\n",
    "    return Sec_largest\n",
    "\n",
    "SecondLargest([4,4])"
   ]
  },
  {
   "cell_type": "code",
   "execution_count": null,
   "metadata": {},
   "outputs": [],
   "source": []
  }
 ],
 "metadata": {
  "anaconda-cloud": {},
  "kernelspec": {
   "display_name": "Python 3",
   "language": "python",
   "name": "python3"
  },
  "language_info": {
   "codemirror_mode": {
    "name": "ipython",
    "version": 3
   },
   "file_extension": ".py",
   "mimetype": "text/x-python",
   "name": "python",
   "nbconvert_exporter": "python",
   "pygments_lexer": "ipython3",
   "version": "3.7.4"
  }
 },
 "nbformat": 4,
 "nbformat_minor": 1
}
