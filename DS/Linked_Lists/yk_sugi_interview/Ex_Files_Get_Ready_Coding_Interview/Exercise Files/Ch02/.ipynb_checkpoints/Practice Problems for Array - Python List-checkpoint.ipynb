{
 "cells": [
  {
   "cell_type": "markdown",
   "metadata": {},
   "source": [
    "# Exercise Problems for Python List (Array)!\n",
    "\n",
    "Remember, if you're familiar with Array in other languages like Java and C++, it's usually implemented as a List in Python."
   ]
  },
  {
   "cell_type": "markdown",
   "metadata": {},
   "source": [
    "### Problem 1: Initialize a new list called a_list with the elements [\"item1\", \"item2\", \"item3\"]."
   ]
  },
  {
   "cell_type": "code",
   "execution_count": null,
   "metadata": {
    "collapsed": true
   },
   "outputs": [],
   "source": [
    "# Write your solution below:"
   ]
  },
  {
   "cell_type": "code",
   "execution_count": null,
   "metadata": {
    "collapsed": false
   },
   "outputs": [],
   "source": [
    "print(\"a_list is: \")\n",
    "print(a_list) # This should print ['item1', 'item2', 'item3']"
   ]
  },
  {
   "cell_type": "markdown",
   "metadata": {},
   "source": [
    "### Problem 2: Change the second element in b_list (defined below) to 1."
   ]
  },
  {
   "cell_type": "code",
   "execution_count": null,
   "metadata": {
    "collapsed": true
   },
   "outputs": [],
   "source": [
    "b_list = [0, 0, 0]\n",
    "# Write your solution below:"
   ]
  },
  {
   "cell_type": "code",
   "execution_count": null,
   "metadata": {
    "collapsed": false
   },
   "outputs": [],
   "source": [
    "print(\"b_list is: \")\n",
    "print(b_list) # This should print [0, 1, 0]"
   ]
  },
  {
   "cell_type": "markdown",
   "metadata": {},
   "source": [
    "### Problem 3: Iterate over each element in c_list and print it using the \"for element in ...\" syntax."
   ]
  },
  {
   "cell_type": "code",
   "execution_count": null,
   "metadata": {
    "collapsed": false
   },
   "outputs": [],
   "source": [
    "c_list = [\"item0\", \"item1\", \"item2\"]\n",
    "# Write your solution below:\n",
    "\n",
    "print(\"Your solution should have printed item0, item1, and item2.\")"
   ]
  },
  {
   "cell_type": "markdown",
   "metadata": {},
   "source": [
    "### Problem 4: Iterate over each element in d_list and print it using the \"for i in range(...)\" syntax."
   ]
  },
  {
   "cell_type": "code",
   "execution_count": null,
   "metadata": {
    "collapsed": false
   },
   "outputs": [],
   "source": [
    "d_list = [\"item0\", \"item1\", \"item2\"]\n",
    "# Write your solution below:\n",
    "# range(3) -> [0, 1, 2]\n",
    "\n",
    "print(\"Your solution should have printed item0, item1, and item2.\")"
   ]
  },
  {
   "cell_type": "markdown",
   "metadata": {},
   "source": [
    "### Problem 5: Find the sum of e_list, which contains: [32, 55, 710, 1]."
   ]
  },
  {
   "cell_type": "code",
   "execution_count": null,
   "metadata": {
    "collapsed": false
   },
   "outputs": [],
   "source": [
    "e_list = [32, 55, 710, 1]\n",
    "# Write your solution below.\n",
    "total = 0\n",
    "\n",
    "print('The sum of e_list is (should be 798):')\n",
    "print(total)"
   ]
  }
 ],
 "metadata": {
  "anaconda-cloud": {},
  "kernelspec": {
   "display_name": "Python 3",
   "language": "python",
   "name": "python3"
  },
  "language_info": {
   "codemirror_mode": {
    "name": "ipython",
    "version": 3
   },
   "file_extension": ".py",
   "mimetype": "text/x-python",
   "name": "python",
   "nbconvert_exporter": "python",
   "pygments_lexer": "ipython3",
   "version": "3.6.0"
  }
 },
 "nbformat": 4,
 "nbformat_minor": 1
}
