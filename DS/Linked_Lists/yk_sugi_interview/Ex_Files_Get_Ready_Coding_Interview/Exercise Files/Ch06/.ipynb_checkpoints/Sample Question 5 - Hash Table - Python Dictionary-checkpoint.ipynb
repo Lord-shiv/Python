{
 "cells": [
  {
   "cell_type": "markdown",
   "metadata": {},
   "source": [
    "# Problem: Find a pair of numbers that add up to 10.\n",
    "\n",
    "You are given a list / array with integers.\n",
    "\n",
    "Example Input:  \n",
    "[3, 4, 1, 2, 9]\n",
    "\n",
    "Write a function, pair10(input), which finds and prints out a pair (any of them) of numbers that add up to 10."
   ]
  },
  {
   "cell_type": "markdown",
   "metadata": {},
   "source": [
    "### NOTE: Make sure to run your program once you write it :)"
   ]
  },
  {
   "cell_type": "markdown",
   "metadata": {},
   "source": [
    "# Implement your function below."
   ]
  },
  {
   "cell_type": "code",
   "execution_count": null,
   "metadata": {
    "collapsed": false
   },
   "outputs": [],
   "source": [
    "# Input: A list / array with integers.  For example:\n",
    "# [3, 4, 1, 2, 9]\n",
    "# Returns:\n",
    "#  Nothing. However, this function will print out\n",
    "#  a pair of numbers that adds up to 10. For example,\n",
    "#  1, 9.  If no such pair is found, it should print\n",
    "#  \"There is no pair that adds up to 10.\".\n",
    "def pair10(given_list):\n",
    "    numbers_seen = {}\n",
    "    for item in given_list:\n",
    "        if (10 - item) in numbers_seen:\n",
    "            \n",
    "    print(\"There is no pair that adds up to 10.\")"
   ]
  },
  {
   "cell_type": "markdown",
   "metadata": {},
   "source": [
    "# Use the code below to test your function."
   ]
  },
  {
   "cell_type": "code",
   "execution_count": null,
   "metadata": {
    "collapsed": false
   },
   "outputs": [],
   "source": [
    "print(\"\"\"\n",
    "Which pair adds up to 10? (Should print 1, 9)\n",
    "\n",
    "[3, 4, 1, 2, 9]\n",
    "\"\"\")\n",
    "\n",
    "pair10([3, 4, 1, 2, 9])"
   ]
  },
  {
   "cell_type": "code",
   "execution_count": null,
   "metadata": {
    "collapsed": false
   },
   "outputs": [],
   "source": [
    "print(\"\"\"\n",
    "Which pair adds up to 10? (Should print -20, 30)\n",
    "\n",
    "[-11, -20, 2, 4, 30]\n",
    "\"\"\")\n",
    "\n",
    "pair10([-11, -20, 2, 4, 30])"
   ]
  },
  {
   "cell_type": "code",
   "execution_count": null,
   "metadata": {
    "collapsed": false
   },
   "outputs": [],
   "source": [
    "print(\"\"\"\n",
    "Which pair adds up to 10? (Should print 1, 9 or 2, 8)\n",
    "\n",
    "[1, 2, 9, 8]\n",
    "\"\"\")\n",
    "\n",
    "pair10([1, 2, 9, 8])"
   ]
  },
  {
   "cell_type": "code",
   "execution_count": null,
   "metadata": {
    "collapsed": false
   },
   "outputs": [],
   "source": [
    "print(\"\"\"\n",
    "Which pair adds up to 10? (Should print 1, 9)\n",
    "\n",
    "[1, 1, 1, 2, 3, 9]\n",
    "\"\"\")\n",
    "\n",
    "pair10([1, 1, 1, 2, 3, 9])"
   ]
  },
  {
   "cell_type": "code",
   "execution_count": null,
   "metadata": {
    "collapsed": false
   },
   "outputs": [],
   "source": [
    "print(\"\"\"\n",
    "Which pair adds up to 10? (Should print \"There is no pair that adds up to 10.\")\n",
    "\n",
    "[1, 1, 1, 2, 3, 4, 5]\n",
    "\"\"\")\n",
    "\n",
    "pair10([1, 1, 1, 2, 3, 4, 5])"
   ]
  }
 ],
 "metadata": {
  "anaconda-cloud": {},
  "kernelspec": {
   "display_name": "Python 3",
   "language": "python",
   "name": "python3"
  },
  "language_info": {
   "codemirror_mode": {
    "name": "ipython",
    "version": 3
   },
   "file_extension": ".py",
   "mimetype": "text/x-python",
   "name": "python",
   "nbconvert_exporter": "python",
   "pygments_lexer": "ipython3",
   "version": "3.6.0"
  }
 },
 "nbformat": 4,
 "nbformat_minor": 1
}
