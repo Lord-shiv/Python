{
 "cells": [
  {
   "cell_type": "markdown",
   "metadata": {},
   "source": [
    "# Exercise Problems for Python Dictionary (Hash Table)!"
   ]
  },
  {
   "cell_type": "markdown",
   "metadata": {},
   "source": [
    "### Problem 1: Initialize a dictionary with the key, 'Amy', and the value, 28.  Call it a_dict."
   ]
  },
  {
   "cell_type": "code",
   "execution_count": null,
   "metadata": {
    "collapsed": false
   },
   "outputs": [],
   "source": [
    "# Write your solution below:\n",
    "\n",
    "a_dict = {'Amy': }\n",
    "\n",
    "print(\"a_dict is: \")\n",
    "print(a_dict) # This should print {'Amy': 28}."
   ]
  },
  {
   "cell_type": "markdown",
   "metadata": {},
   "source": [
    "### Problem 2: From the dictionary called b_dict, defined below, retrieve and print the value that corresponds to the key 'Tom'."
   ]
  },
  {
   "cell_type": "code",
   "execution_count": null,
   "metadata": {
    "collapsed": false
   },
   "outputs": [],
   "source": [
    "b_dict = {'Amy': 30, 'Tom': 'AGE UNKNOWN'}\n",
    "\n",
    "print(\"Tom's age is: (should print 'AGE UNKNOWN')\")\n",
    "# Write your solution below:"
   ]
  },
  {
   "cell_type": "markdown",
   "metadata": {},
   "source": [
    "### Problem 3: Given the dictionary c_dict, defined below, add a new key called 'George' with the value 44."
   ]
  },
  {
   "cell_type": "code",
   "execution_count": null,
   "metadata": {
    "collapsed": false
   },
   "outputs": [],
   "source": [
    "c_dict = {'Amy': 30, 'Tom': 'AGE UNKNOWN'}\n",
    "# Write your solution below:\n",
    "\n",
    "print(\"George's age is: (should be 44)\")\n",
    "c_dict['George']"
   ]
  },
  {
   "cell_type": "markdown",
   "metadata": {},
   "source": [
    "### Problem 4: Given a list of names, write a function that finds a name that appears twice in the list.\n",
    "\n",
    "For example, if you're given ['George', 'Tom', 'Emily', 'Jenny', 'Tom'], your function should return 'Tom'.\n",
    "\n",
    "**Just assume that there's only one name that appears twice.**"
   ]
  },
  {
   "cell_type": "code",
   "execution_count": null,
   "metadata": {
    "collapsed": true
   },
   "outputs": [],
   "source": [
    "# Modify the following function:\n",
    "def appears_twice(given_list):\n",
    "    return 'name'"
   ]
  },
  {
   "cell_type": "markdown",
   "metadata": {},
   "source": [
    "### Use the code below to test your function."
   ]
  },
  {
   "cell_type": "code",
   "execution_count": null,
   "metadata": {
    "collapsed": false
   },
   "outputs": [],
   "source": [
    "print(\"Which name appears twice? (Should be 'Tom')\")\n",
    "appears_twice(['George', 'Tom', 'Emily', 'Jenny', 'Tom'])"
   ]
  },
  {
   "cell_type": "code",
   "execution_count": null,
   "metadata": {
    "collapsed": false
   },
   "outputs": [],
   "source": [
    "print(\"Which name appears twice? (Should be 'George')\")\n",
    "appears_twice(['George', 'Claire', 'Tom', 'Lynda', 'George'])"
   ]
  }
 ],
 "metadata": {
  "anaconda-cloud": {},
  "kernelspec": {
   "display_name": "Python 3",
   "language": "python",
   "name": "python3"
  },
  "language_info": {
   "codemirror_mode": {
    "name": "ipython",
    "version": 3
   },
   "file_extension": ".py",
   "mimetype": "text/x-python",
   "name": "python",
   "nbconvert_exporter": "python",
   "pygments_lexer": "ipython3",
   "version": "3.6.0"
  }
 },
 "nbformat": 4,
 "nbformat_minor": 1
}
