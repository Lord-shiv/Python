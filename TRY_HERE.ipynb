{
 "cells": [
  {
   "cell_type": "code",
   "execution_count": null,
   "metadata": {},
   "outputs": [],
   "source": [
    "def naive(a, b):\n",
    "    x = a\n",
    "    y = b\n",
    "    z = 0\n",
    "    while x > 0:\n",
    "        z = z + y\n",
    "        x = x - 1\n",
    "    return z\n",
    "naive(2, 2)"
   ]
  },
  {
   "cell_type": "code",
   "execution_count": null,
   "metadata": {},
   "outputs": [],
   "source": [
    "10 >> 1\n",
    "20 >> 2\n",
    "# 20-1/2 = 2*2 19/4 = 4.75 AND ROUNDING MAKES IT 5\n",
    "100 >> 5 \n",
    "# 2*2*2*2*2 = 32  WHICH IS (100-1)/32 = 3.0102 WHICH MAKES IT 3\n",
    "10<<1"
   ]
  },
  {
   "cell_type": "code",
   "execution_count": null,
   "metadata": {},
   "outputs": [],
   "source": [
    "8 << 5"
   ]
  },
  {
   "cell_type": "code",
   "execution_count": null,
   "metadata": {},
   "outputs": [],
   "source": [
    "\n",
    "8*2*2*2*2*2"
   ]
  },
  {
   "cell_type": "code",
   "execution_count": null,
   "metadata": {},
   "outputs": [],
   "source": [
    "def russian(a, b):\n",
    "    x = a;\n",
    "    y = b\n",
    "    z = 0\n",
    "    while x > 0:\n",
    "        if x % 2 == 1: # if it is than add y to z\n",
    "            z = z + y\n",
    "        y = y<<1  # dubble  Y\n",
    "        x = x >> 1  # half and rounding also x \n",
    "    return z\n",
    "\n",
    "russian(20, 7)"
   ]
  },
  {
   "cell_type": "code",
   "execution_count": null,
   "metadata": {},
   "outputs": [],
   "source": [
    "#  calculate the time of the function\n",
    "import time\n",
    "def dec(func):\n",
    "    def wrapper(*args, **kwargs):\n",
    "        start = time.time()\n",
    "        func(*args, **kwargs)\n",
    "        end = time.time()\n",
    "        print(end - start)\n",
    "    return wrapper\n",
    "@dec\n",
    "def cous():\n",
    "    s = 0\n",
    "    for i in range(10):\n",
    "        s = s+i\n",
    "    print(s)\n",
    "    \n",
    "cous()"
   ]
  },
  {
   "cell_type": "code",
   "execution_count": null,
   "metadata": {},
   "outputs": [],
   "source": [
    "def countdown(x):\n",
    "    y = 0\n",
    "    while x > 0:\n",
    "        x = x -5\n",
    "        y = y+1\n",
    "    print(y)\n",
    "countdown(90)"
   ]
  },
  {
   "cell_type": "code",
   "execution_count": null,
   "metadata": {},
   "outputs": [],
   "source": [
    "round(423.123,2)"
   ]
  },
  {
   "cell_type": "code",
   "execution_count": null,
   "metadata": {},
   "outputs": [],
   "source": [
    "a = 80\n",
    "b = 90\n"
   ]
  },
  {
   "cell_type": "code",
   "execution_count": null,
   "metadata": {},
   "outputs": [],
   "source": [
    "print(2**100)"
   ]
  },
  {
   "cell_type": "code",
   "execution_count": null,
   "metadata": {},
   "outputs": [],
   "source": [
    "alist = [1,2,3,5]\n",
    "alist.append(6)\n",
    "alist.insert(3, 45)\n",
    "alist.sort()\n",
    "alist.reverse()\n",
    "del alist[0]\n",
    "alist.index(5)\n",
    "alist.count(3)\n",
    "alist.remove(5)\n",
    "alist"
   ]
  },
  {
   "cell_type": "code",
   "execution_count": null,
   "metadata": {},
   "outputs": [],
   "source": [
    "(54).__add__(21)"
   ]
  },
  {
   "cell_type": "code",
   "execution_count": null,
   "metadata": {},
   "outputs": [],
   "source": [
    "name = \"shivamSHVAM\"\n",
    "def func(name):\n",
    "    for i in name:\n",
    "        if i.isupper():\n",
    "            print(i)\n",
    "#         if i.islower():\n",
    "#             print(i)\n",
    "func(name)"
   ]
  },
  {
   "cell_type": "code",
   "execution_count": null,
   "metadata": {},
   "outputs": [],
   "source": [
    "items = [6, 20, 8,20, 56, 23, 87]\n",
    "def find_item(item, itemlist):\n",
    "    for i in range(0, len(items)):\n",
    "        if item == itemlist[i]:\n",
    "            return itemlist[i] # i for index\n",
    "    return None\n",
    "\n",
    "print(find_item(8, items))\n"
   ]
  },
  {
   "cell_type": "code",
   "execution_count": null,
   "metadata": {},
   "outputs": [],
   "source": [
    "items = [6, 20, 8,20, 56, 23, 87]\n",
    "item = 87\n",
    "for _ in range(len(items)):\n",
    "    if item == items[_]:\n",
    "        print(_)\n",
    "        \n",
    "\n",
    "    "
   ]
  },
  {
   "cell_type": "code",
   "execution_count": null,
   "metadata": {},
   "outputs": [],
   "source": [
    "import re\n",
    "text = \"Welcome to Python Course\"\n",
    "x = re.search(\"wel. *Course\", text)\n",
    "if x:\n",
    "    print(\"we have a match\")\n",
    "else:\n",
    "    print(\"no match\")"
   ]
  },
  {
   "cell_type": "code",
   "execution_count": null,
   "metadata": {},
   "outputs": [],
   "source": []
  },
  {
   "cell_type": "code",
   "execution_count": null,
   "metadata": {},
   "outputs": [],
   "source": []
  },
  {
   "cell_type": "code",
   "execution_count": null,
   "metadata": {},
   "outputs": [],
   "source": []
  },
  {
   "cell_type": "code",
   "execution_count": null,
   "metadata": {},
   "outputs": [],
   "source": [
    "# my Answer Love me :^\n",
    "row = 7\n",
    "\n",
    "for i in range(0, row):\n",
    "    for j in range(i+1):\n",
    "        print(i*j, end=\" \")\n",
    "    print()"
   ]
  },
  {
   "cell_type": "code",
   "execution_count": null,
   "metadata": {},
   "outputs": [],
   "source": [
    "row = 5\n",
    "k = 1\n",
    "for i in range(1, row+1):\n",
    "    for j in range(i):  \n",
    "        print(k ,end=\" \")\n",
    "    k += 2\n",
    "    print(\"\")"
   ]
  },
  {
   "cell_type": "code",
   "execution_count": null,
   "metadata": {},
   "outputs": [],
   "source": [
    "for row in range(7):\n",
    "    for col in range(7):\n",
    "        if (row+col==3) or (col-row==3) or (row-col==3) or row+col==9:\n",
    "            print(\"*\", end=\"\")\n",
    "        else:\n",
    "            print(end=\" \")\n",
    "    print()\n",
    "            "
   ]
  },
  {
   "cell_type": "code",
   "execution_count": null,
   "metadata": {},
   "outputs": [],
   "source": [
    "for row in range(7):\n",
    "    for col in range(7):\n",
    "        if row+col==3 or col-row==3 or (row==3):\n",
    "            print(\" *\", end=\"\")\n",
    "        else:\n",
    "            print(end=\" \")\n",
    "    print()"
   ]
  },
  {
   "cell_type": "code",
   "execution_count": null,
   "metadata": {},
   "outputs": [],
   "source": [
    "def digit_sum(n):\n",
    "  total = 0\n",
    "  string_n = str(n)\n",
    "  for char in string_n:\n",
    "    total += int(char)\n",
    "  return total\n",
    "\n",
    "#Alternate Solution:\n",
    "\n",
    "#def digit_sum(n):\n",
    "#  total = 0\n",
    "#  while n > 0:\n",
    "#    total += n % 10\n",
    "#    n = n // 10\n",
    "#  return total"
   ]
  },
  {
   "cell_type": "code",
   "execution_count": null,
   "metadata": {},
   "outputs": [],
   "source": [
    "def digit_sum(n):\n",
    "    total = 0\n",
    "    string_n = str(n)\n",
    "    for char in string_n:\n",
    "        total += int(char)\n",
    "    return total\n",
    "digit_sum(123)"
   ]
  },
  {
   "cell_type": "code",
   "execution_count": null,
   "metadata": {},
   "outputs": [],
   "source": [
    "num = 1233\n",
    "total = 0\n",
    "new_num = str(num)\n",
    "for i in new_num:\n",
    "    total += int(i)\n",
    "print(total)"
   ]
  },
  {
   "cell_type": "code",
   "execution_count": null,
   "metadata": {},
   "outputs": [],
   "source": [
    "def factorial(x):\n",
    "    if x == 0:\n",
    "        return 0\n",
    "    return x * (factorial - x)\n",
    "\n",
    "\n",
    "factorial(5)"
   ]
  },
  {
   "cell_type": "code",
   "execution_count": null,
   "metadata": {},
   "outputs": [],
   "source": [
    "def is_prime(x):\n",
    "    for i in range(2, x-1):\n",
    "        if x /  i == int(x):\n",
    "            return False\n",
    "        else:\n",
    "            return True\n",
    "        \n",
    "is_prime(11)"
   ]
  },
  {
   "cell_type": "code",
   "execution_count": null,
   "metadata": {},
   "outputs": [],
   "source": [
    "def is_prime(x):\n",
    "    if x < 2:\n",
    "        return False\n",
    "    else:\n",
    "        for n in range(2, x-1):\n",
    "            if x % n == 0:\n",
    "                return False\n",
    "        return True\n",
    "is_prime(5)"
   ]
  },
  {
   "cell_type": "code",
   "execution_count": null,
   "metadata": {},
   "outputs": [],
   "source": [
    "suitcase = [\"sunglasses\", \"hat\", \"passport\", \"laptop\", \"suit\", \"shoes\"]\n",
    "suitcase[-2:]"
   ]
  },
  {
   "cell_type": "code",
   "execution_count": null,
   "metadata": {},
   "outputs": [],
   "source": [
    "class Employee:\n",
    "    raise_amount = 1.4\n",
    "    def __init__(self, first, last, pay):\n",
    "        self.first = first\n",
    "        self.last = last\n",
    "        self.pay = pay\n",
    "        self.email = first + '.' + last + \"@compny.com\"\n",
    "        \n",
    "    def fullname(self):\n",
    "        return \"{} {}\".format(self.first, self.last)\n",
    "        \n",
    "        \n",
    "    def apply_raise(self):\n",
    "        self.pay = int(self.pay * self.raise_amount)\n",
    "        \n",
    "        \n",
    "        \n",
    "# Employee.fullname(emp1)\n",
    "emp1 = Employee(\"shivam\", \"chouhan\", 50000)\n",
    "emp2 = Employee(\"abhi\", \"chouhan\", 60000)\n",
    "# print(emp1.raise_amount)\n",
    "# Employee.__dict__\n",
    "emp2.raise_amount = 2\n",
    "emp2.apply_raise()\n",
    "print(emp2.pay)"
   ]
  },
  {
   "cell_type": "code",
   "execution_count": null,
   "metadata": {},
   "outputs": [],
   "source": [
    "class Employee:\n",
    "    raise_amount = 1.4\n",
    "    num_of_emps = 0\n",
    "    def __init__(self, first, last, pay):\n",
    "        self.first = first\n",
    "        self.last = last\n",
    "        self.pay = pay\n",
    "        self.email = first + '.' + last + \"@compny.com\"\n",
    "        Employee.num_of_emps += 1\n",
    "        \n",
    "    def fullname(self):\n",
    "        return \"{} {}\".format(self.first, self.last)\n",
    "        \n",
    "        \n",
    "    def apply_raise(self):\n",
    "        self.pay = int(self.pay * self.raise_amount)\n",
    "        \n",
    "        \n",
    "\n",
    "print(Employee.num_of_emps)     \n",
    "# Employee.fullname(emp1)\n",
    "emp1 = Employee(\"shivam\", \"chouhan\", 50000)\n",
    "emp2 = Employee(\"abhi\", \"chouhan\", 60000)\n",
    "\n",
    "print(Employee.num_of_emps)"
   ]
  },
  {
   "cell_type": "code",
   "execution_count": null,
   "metadata": {},
   "outputs": [],
   "source": [
    "class Employee:\n",
    "    raise_amt = 1.04\n",
    "    num_of_emps = 0\n",
    "    def __init__(self, first, last, pay):\n",
    "        self.first = first\n",
    "        self.last = last\n",
    "        self.pay = pay\n",
    "        self.email = first + '.' + last + \"@compny.com\"\n",
    "        Employee.num_of_emps += 1\n",
    "    \n",
    "    def __repr__(self):\n",
    "        return f\"{self.first} {self.last} from repr\"\n",
    "        \n",
    "    def fullname(self):\n",
    "        return \"{} {}\".format(self.first, self.last)\n",
    "        \n",
    "    def apply_raise(self):\n",
    "        self.pay = int(self.pay * self.raise_amount)\n",
    "    \n",
    "    @classmethod\n",
    "    def set_raise_amt(cls, amount):\n",
    "        cls.raise_amt = amount\n",
    "        \n",
    "    @classmethod\n",
    "    def from_string(cls, emp_str):\n",
    "        first, last, pay = emp_str.split('-')\n",
    "        return cls(first, last, pay)  \n",
    "     \n",
    "\n",
    "emp1 = Employee(\"shivam\", \"chouhan\", 50000)\n",
    "emp2 = Employee(\"abhi\", \"chouhan\", 60000)\n",
    "\n",
    "# Employee.set_raise_amt(1.05)\n",
    "# print(Employee.raise_amt)\n",
    "# print(emp1.raise_amt)\n",
    "# print(emp2.raise_amt)\n",
    "\n",
    "emp3 = \"Rick-Doe-90000\"\n",
    "emp4 = \"Nick-will-45000\"\n",
    "\n",
    "emp3 = Employee.from_string(emp3)\n",
    "print(emp3)\n"
   ]
  },
  {
   "cell_type": "code",
   "execution_count": null,
   "metadata": {},
   "outputs": [],
   "source": [
    "class Employee:\n",
    "    raise_amt = 1.04\n",
    "    num_of_emps = 0\n",
    "    def __init__(self, first, last, pay):\n",
    "        self.first = first\n",
    "        self.last = last\n",
    "        self.pay = pay\n",
    "        self.email = first + '.' + last + \"@compny.com\"\n",
    "        Employee.num_of_emps += 1\n",
    "    \n",
    "    def __repr__(self):\n",
    "        return f\"{self.first} {self.last} from repr\"\n",
    "        \n",
    "    def fullname(self):\n",
    "        return \"{} {}\".format(self.first, self.last)\n",
    "        \n",
    "    def apply_raise(self):\n",
    "        self.pay = int(self.pay * self.raise_amount)\n",
    "    \n",
    "    @classmethod\n",
    "    def set_raise_amt(cls, amount):\n",
    "        cls.raise_amt = amount\n",
    "        \n",
    "    @classmethod\n",
    "    def from_string(cls, emp_str):\n",
    "        first, last, pay = emp_str.split('-')\n",
    "        return cls(first, last, pay)  \n",
    "     \n",
    "    @staticmethod\n",
    "    def is_workday(day):\n",
    "        if day.weekday() == 5 or day.weekday() == 6:\n",
    "            return False\n",
    "        return True\n",
    "\n",
    "emp1 = Employee(\"shivam\", \"chouhan\", 50000)\n",
    "emp2 = Employee(\"abhi\", \"chouhan\", 60000)\n",
    "\n",
    "import datetime\n",
    "my_date = datetime.date(2016, 2, 13)\n",
    "\n",
    "\n",
    "print(Employee.is_workday(my_date))"
   ]
  },
  {
   "cell_type": "code",
   "execution_count": null,
   "metadata": {},
   "outputs": [],
   "source": [
    "class Employee:\n",
    "    raise_amt = 1.04\n",
    "    num_of_emps = 0\n",
    "    def __init__(self, first, last, pay):\n",
    "        self.first = first\n",
    "        self.last = last\n",
    "        self.pay = pay\n",
    "        self.email = first + '.' + last + \"@compny.com\"\n",
    "        Employee.num_of_emps += 1\n",
    "    \n",
    "    def __repr__(self):\n",
    "        return f\"{self.first} {self.last} from repr\"\n",
    "        \n",
    "    def fullname(self):\n",
    "        return \"{} {}\".format(self.first, self.last)\n",
    "        \n",
    "    def apply_raise(self):\n",
    "        self.pay = int(self.pay * self.raise_amt)\n",
    "\n",
    "class Developer(Employee):\n",
    "    raise_amt = 1.10\n",
    "    def __init__(self, first, last, pay, prog_lng):\n",
    "        super().__init__(first, last, pay)\n",
    "        self.prog_lng = prog_lng\n",
    "        \n",
    "class Manager(Employee):\n",
    "    def __init__(self, first, last, pay, employees=None):\n",
    "        super().__init__(first, last, pay)\n",
    "        if employees is None:\n",
    "            self.employees = []\n",
    "        else:\n",
    "            self.employees = employees\n",
    "            \n",
    "    def add_emp(self, emp):\n",
    "        if emp not in self.employees:\n",
    "            self.employees.append(emp)\n",
    "            \n",
    "            \n",
    "    def remove_emp(self, emp):\n",
    "        if emp in self.employees:\n",
    "            self.employees.remove(emp)\n",
    "            \n",
    "    def print_emps(self):\n",
    "        for emp in self.employees:\n",
    "            print(\"-->\", emp.fullname())\n",
    "\n",
    "dev1 = Developer(\"shiv\", \"Manswalia\", 50000, \"Python\")\n",
    "dev2 = Developer(\"Test\", \"Employee\", 60000, \"Java\")\n",
    "\n",
    "\n",
    "mnger_1 = Manager(\"Nicki\", \"Smith\", 90000, [dev1])\n",
    "\n",
    "print(mnger_1.email)\n",
    "\n",
    "mnger_1.add_emp(dev2)\n",
    "mnger_1.remove_emp(dev1)\n",
    "\n",
    "mnger_1.print_emps()\n",
    "# print(help(Developer))\n",
    "# print(dev1.prog_lng)\n",
    "# print(dev2.email)\n",
    "\n",
    "# print(dev1.pay)\n",
    "# dev1.apply_raise()\n",
    "# print(dev1.pay)"
   ]
  },
  {
   "cell_type": "code",
   "execution_count": null,
   "metadata": {},
   "outputs": [],
   "source": [
    "class Employee:\n",
    "    raise_amt = 1.04\n",
    "    num_of_emps = 0\n",
    "    def __init__(self, first, last, pay):\n",
    "        self.first = first\n",
    "        self.last = last\n",
    "        self.pay = pay\n",
    "        self.email = first + '.' + last + \"@compny.com\"\n",
    "        Employee.num_of_emps += 1\n",
    "    \n",
    "    def __repr__(self):\n",
    "        return f\"{self.first} {self.last} from repr\"\n",
    "        \n",
    "    def fullname(self):\n",
    "        return \"{} {}\".format(self.first, self.last)\n",
    "        \n",
    "    def apply_raise(self):\n",
    "        self.pay = int(self.pay * self.raise_amt)\n",
    "\n",
    "class Developer(Employee):\n",
    "    raise_amt = 1.10\n",
    "    def __init__(self, first, last, pay, prog_lng):\n",
    "        super().__init__(first, last, pay)\n",
    "        self.prog_lng = prog_lng\n",
    "        \n",
    "class Manager(Employee):\n",
    "    def __init__(self, first, last, pay, employees=None):\n",
    "        super().__init__(first, last, pay)\n",
    "        if employees is None:\n",
    "            self.employees = []\n",
    "        else:\n",
    "            self.employees = employees\n",
    "            \n",
    "    def add_emp(self, emp):\n",
    "        if emp not in self.employees:\n",
    "            self.employees.append(emp)\n",
    "            \n",
    "            \n",
    "    def remove_emp(self, emp):\n",
    "        if emp in self.employees:\n",
    "            self.employees.remove(emp)\n",
    "            \n",
    "    def print_emps(self):\n",
    "        for emp in self.employees:\n",
    "            print(\"-->\", emp.fullname())\n",
    "\n",
    "dev1 = Developer(\"shiv\", \"Manswalia\", 50000, \"Python\")\n",
    "dev2 = Developer(\"Test\", \"Employee\", 60000, \"Java\")\n",
    "\n",
    "\n",
    "mnger_1 = Manager(\"Nicki\", \"Smith\", 90000, [dev1])\n",
    "\n",
    "print(isinstance(mnger_1, Employee))\n",
    "print(issubclass(Manager, Employee))"
   ]
  },
  {
   "cell_type": "code",
   "execution_count": null,
   "metadata": {},
   "outputs": [],
   "source": [
    "class Employee:\n",
    "    raise_amt = 1.04\n",
    "    num_of_emps = 0\n",
    "    def __init__(self, first, last, pay):\n",
    "        self.first = first\n",
    "        self.last = last\n",
    "        self.pay = pay\n",
    "        self.email = first + '.' + last + \"@compny.com\"\n",
    "        Employee.num_of_emps += 1\n",
    "    \n",
    "    def __repr__(self):\n",
    "        return f\"{self.first} {self.last} from repr\"\n",
    "        \n",
    "    def fullname(self):\n",
    "        return \"{} {}\".format(self.first, self.last)\n",
    "        \n",
    "    def apply_raise(self):\n",
    "        self.pay = int(self.pay * self.raise_amt)\n",
    "    \n",
    "    def __repr__(self):\n",
    "        return \"Employee ('{}', '{}', '{}')\".format(self.first, self.last, self.pay)\n",
    "    \n",
    "    def __str__(self):\n",
    "        return \"{} - {}\".format(self.fullname(), self.email)\n",
    "    \n",
    "    def __add__(self, other):\n",
    "        return self.pay + other.pay\n",
    "    \n",
    "    def __len__(self):\n",
    "        return len(self.fullname())\n",
    "    \n",
    "emp1 = Employee(\"shivam\", \"chouhan\", 50000)\n",
    "emp2 = Employee(\"abhi\", \"chouhan\", 60000)\n",
    "\n",
    "print(len(emp1))\n",
    "\n",
    "\n",
    "# __add__\n",
    "# print(emp1 + emp2)\n",
    "\n",
    "# print(repr(emp1))\n",
    "# print(str(emp1))\n",
    "\n",
    "# print(emp1.__str__())\n",
    "# print(emp1.__repr__())\n",
    "\n",
    "# use\n",
    "# (int.__add__(4,6))\n",
    "# (str.__add__(\"a\", \"c\"))\n",
    "# print(\"test\".__len__())\n",
    "\n"
   ]
  },
  {
   "cell_type": "code",
   "execution_count": null,
   "metadata": {},
   "outputs": [],
   "source": [
    "#  The problem is if user changes his first name \n",
    "#  then thier email will not chnge according to \n",
    "#  our code we don't want that we want everything changed\n",
    "\n",
    "# class Employee:\n",
    "#     raise_amt = 1.04\n",
    "#     def __init__(self, first, last):\n",
    "#         self.first = first\n",
    "#         self.last = last\n",
    "#         self.email = first + '.' + last + '@email.com'\n",
    "        \n",
    "#     def fullname(self):\n",
    "#         return \"{} {}\".format(self.first, self.last)\n",
    "    \n",
    "# emp1 = Employee(\"shivam\", \"chouhan\")\n",
    "# # emp2 = Employee(\"abhi\", \"chouhan\")\n",
    "\n",
    "# emp1.first = \"jim\"\n",
    "\n",
    "# print(emp1.first)\n",
    "# print(emp1.email)\n",
    "# print(emp1.fullname())\n",
    "\n",
    "\n",
    "class Employee:\n",
    "    raise_amt = 1.04\n",
    "    def __init__(self, first, last):\n",
    "        self.first = first\n",
    "        self.last = last\n",
    "        \n",
    "    @property #allow us to use our methods like instances --> we can run emp1.email without emp1.email()\n",
    "    def email(self):\n",
    "        return \"{}.{}@email.com\".format(self.first, self.last)\n",
    "    \n",
    "    @property  \n",
    "    def fullname(self):\n",
    "        return \"{} {}\".format(self.first, self.last)\n",
    "    \n",
    "    @fullname.setter\n",
    "    def fullname(self, name):\n",
    "        first, last = name.split(' ')\n",
    "        self.first = first\n",
    "        self.last = last\n",
    "    \n",
    "    @fullname.deleter\n",
    "    def fullname(self):\n",
    "        print('Delete Name')\n",
    "        self.first = None\n",
    "        self.last = None\n",
    "    \n",
    "emp1 = Employee(\"shivam\", \"chouhan\")\n",
    "emp2 = Employee(\"abhi\", \"chouhan\")\n",
    "\n",
    "emp1.fullname = \"shivam Manswalia\"\n",
    "\n",
    "print(emp1.fullname)\n",
    "# print(emp1.first)\n",
    "# print(emp1.email)\n",
    "# print(emp1.fullname)\n",
    "\n",
    "del emp1.fullname"
   ]
  },
  {
   "cell_type": "code",
   "execution_count": null,
   "metadata": {},
   "outputs": [],
   "source": [
    "# Encapsulation\n",
    "class Car:\n",
    "    def __init__(self):\n",
    "        self.__updatesoftware()\n",
    "        \n",
    "    def drive(self):\n",
    "        print(\"driving\")\n",
    "        \n",
    "    def __updatesoftware(self):\n",
    "        print(\"updating software\")\n",
    "        \n",
    "my_car = Car()\n",
    "my_car.drive()\n"
   ]
  },
  {
   "cell_type": "code",
   "execution_count": null,
   "metadata": {},
   "outputs": [],
   "source": [
    "class Car:\n",
    "#     def __init__(self):\n",
    "#         self.__updatesoftware()\n",
    "        \n",
    "    def drive(self):\n",
    "        print(\"driving\")\n",
    "        \n",
    "    def __updatesoftware(self):\n",
    "        print(\"updating software\")\n",
    "        \n",
    "my_car = Car()\n",
    "my_car.drive()"
   ]
  },
  {
   "cell_type": "code",
   "execution_count": null,
   "metadata": {},
   "outputs": [],
   "source": [
    "class car:\n",
    "    __maxspeed = 0 # these variables can be changed \n",
    "    __name = \"\"\n",
    "    \n",
    "    def __init__(self):\n",
    "        self.__maxspeed = 200     # these are private variables \n",
    "        self.__name = \"supercar\"  # Which can be ovewrite only by methods\n",
    "    \n",
    "    def drive(self):\n",
    "        print(\"driving\")\n",
    "        print(self.__maxspeed)\n",
    "        \n",
    "    def setspeed(self, speed):\n",
    "        self.__maxspeed = speed\n",
    "        print(self.__maxspeed)\n",
    "        \n",
    "red_car = car()\n",
    "red_car.drive()\n",
    "# red_car.setspeed(500) we can set values by methods\n",
    "# red_car.__maxspeed = 100\n",
    "# red_car.drive()"
   ]
  },
  {
   "cell_type": "code",
   "execution_count": null,
   "metadata": {},
   "outputs": [],
   "source": [
    "class School:\n",
    "    __hteacher = \" \"\n",
    "    teacher = \" \"\n",
    "    def __init__(self):\n",
    "        self.__name = \"Nvodeya high school\"\n",
    "        self.__students = 500\n",
    "    \n",
    "    def timing(self):\n",
    "        print(\"9 to 3\")\n",
    "        print(self.__students)\n",
    "        print(self.__name)\n",
    "        \n",
    "a = School()\n",
    "a.__name = \"hello\"\n",
    "a.timing()"
   ]
  },
  {
   "cell_type": "code",
   "execution_count": null,
   "metadata": {},
   "outputs": [],
   "source": [
    "# Polymorphism\n",
    "class Dog:\n",
    "    def sound(self):\n",
    "        print(\"bow bow\")\n",
    "        \n",
    "class Cat:\n",
    "    def sound(self):\n",
    "        print(\"meow\")\n",
    "        \n",
    "        \n",
    "def makesound(animaltype):\n",
    "    animaltype.sound()\n",
    "\n",
    "simi = Cat()\n",
    "jacky = Dog()\n",
    "makesound(jacky)"
   ]
  },
  {
   "cell_type": "code",
   "execution_count": null,
   "metadata": {},
   "outputs": [],
   "source": [
    "def palindrome(num):\n",
    "    mnum = str(num)\n",
    "    h = []\n",
    "    for i in range(len(mnum)):\n",
    "        a = int(mnum) % 10\n",
    "    print(h)\n",
    "palindrome(321)"
   ]
  },
  {
   "cell_type": "code",
   "execution_count": null,
   "metadata": {},
   "outputs": [],
   "source": [
    "def reverse_number(n):\n",
    "    r = 0\n",
    "    while n > 0:\n",
    "        r *= 10\n",
    "        r += n % 10\n",
    "        n /= 10\n",
    "    return r"
   ]
  },
  {
   "cell_type": "code",
   "execution_count": null,
   "metadata": {},
   "outputs": [],
   "source": [
    "number = 541\n",
    "revs_number = 0\n",
    "remainder = number % 10  \n",
    "revs_number = (revs_number * 10) + remainder  \n",
    "number = number // 10 \n",
    "print(number)\n",
    "print(revs_number)"
   ]
  },
  {
   "cell_type": "code",
   "execution_count": null,
   "metadata": {},
   "outputs": [],
   "source": [
    "n = 12321\n",
    "str(n) == str(n)[::-1]"
   ]
  },
  {
   "cell_type": "code",
   "execution_count": null,
   "metadata": {},
   "outputs": [],
   "source": []
  },
  {
   "cell_type": "code",
   "execution_count": null,
   "metadata": {},
   "outputs": [],
   "source": [
    "class Solution:\n",
    "    def isPalindrome(self, s: str) -> bool:\n",
    "        if s == s[::-1]:\n",
    "            return True\n",
    "        else:\n",
    "            return False\n",
    "        \n",
    "obj = Solution()\n",
    "obj.isPalindrome('shihs')"
   ]
  },
  {
   "cell_type": "code",
   "execution_count": null,
   "metadata": {},
   "outputs": [],
   "source": [
    "def new(x):\n",
    "    return False if x < 0 else x == int(str(x)[::-1])\n",
    "new(313)"
   ]
  },
  {
   "cell_type": "code",
   "execution_count": null,
   "metadata": {},
   "outputs": [],
   "source": [
    "class Solution:\n",
    "    def isPalindrome(self, x: int) -> bool:\n",
    "        num = str(x)\n",
    "        if str(num) == str(num[::-1]):\n",
    "            return True\n",
    "        else:\n",
    "            return False\n",
    "        \n",
    "obj = Solution()\n",
    "obj.isPalindrome(19891)"
   ]
  },
  {
   "cell_type": "code",
   "execution_count": null,
   "metadata": {},
   "outputs": [],
   "source": [
    "def isPalindrome(self, x: int) -> int:\n",
    "        if (x % 10 == 0 and x != 0): return False\n",
    "        backword = 0\n",
    "        while x > backword:\n",
    "            pop = x % 10\n",
    "            x //= 10\n",
    "            backword = backword * 10 + pop\n",
    "        return x == backword or x == backword//10"
   ]
  },
  {
   "cell_type": "code",
   "execution_count": null,
   "metadata": {},
   "outputs": [],
   "source": []
  },
  {
   "cell_type": "code",
   "execution_count": null,
   "metadata": {},
   "outputs": [],
   "source": []
  },
  {
   "cell_type": "code",
   "execution_count": null,
   "metadata": {},
   "outputs": [],
   "source": []
  },
  {
   "cell_type": "code",
   "execution_count": null,
   "metadata": {},
   "outputs": [],
   "source": []
  },
  {
   "cell_type": "code",
   "execution_count": null,
   "metadata": {},
   "outputs": [],
   "source": []
  },
  {
   "cell_type": "code",
   "execution_count": null,
   "metadata": {},
   "outputs": [],
   "source": []
  },
  {
   "cell_type": "code",
   "execution_count": null,
   "metadata": {},
   "outputs": [],
   "source": []
  },
  {
   "cell_type": "code",
   "execution_count": null,
   "metadata": {},
   "outputs": [],
   "source": [
    "class Number:\n",
    "    def Find_palindrome(self, num: int) -> bool:\n",
    "        if num == int(str(num)[::-1]):\n",
    "            return f\"Number {num} is Palindrome\"\n",
    "        else:\n",
    "            return \"Not Palindrome\"\n",
    "        \n",
    "        \n",
    "obj = Number()\n",
    "obj.Find_palindrome(787)"
   ]
  },
  {
   "cell_type": "code",
   "execution_count": null,
   "metadata": {},
   "outputs": [],
   "source": [
    "def reverse(text):\n",
    "        n = len(text)   # 4\n",
    "        l = \"\"\n",
    "        for i in range(n-1, -1, -1):\n",
    "            l += text[i]\n",
    "        return l\n",
    "reverse(\"hello\")"
   ]
  },
  {
   "cell_type": "code",
   "execution_count": null,
   "metadata": {},
   "outputs": [],
   "source": []
  },
  {
   "cell_type": "code",
   "execution_count": null,
   "metadata": {},
   "outputs": [],
   "source": [
    " "
   ]
  },
  {
   "cell_type": "code",
   "execution_count": null,
   "metadata": {},
   "outputs": [],
   "source": []
  },
  {
   "cell_type": "code",
   "execution_count": null,
   "metadata": {},
   "outputs": [],
   "source": []
  },
  {
   "cell_type": "code",
   "execution_count": null,
   "metadata": {},
   "outputs": [],
   "source": [
    "def palindrome_1(str):\n",
    "    if len(str) <= 1:\n",
    "        return True\n",
    "    if str[0] != str[-1]:\n",
    "        return False\n",
    "    return palindrome_1(str[1:-1])\n",
    "\n",
    "palindrome_1(\"nikin\")"
   ]
  },
  {
   "cell_type": "code",
   "execution_count": null,
   "metadata": {},
   "outputs": [],
   "source": [
    "word = \"hello\"\n",
    "n = len(word)-1\n",
    "\n",
    "for j in range(n, -1, -1):\n",
    "    print(word[j], end=\"\")"
   ]
  },
  {
   "cell_type": "code",
   "execution_count": null,
   "metadata": {},
   "outputs": [],
   "source": []
  },
  {
   "cell_type": "code",
   "execution_count": null,
   "metadata": {
    "scrolled": true
   },
   "outputs": [],
   "source": [
    "def factss(num):\n",
    "    n = 1\n",
    "    for i in range(1,num+1):\n",
    "        n *= i\n",
    "    return n\n",
    "        \n",
    "factss(5)"
   ]
  },
  {
   "cell_type": "code",
   "execution_count": null,
   "metadata": {},
   "outputs": [],
   "source": []
  },
  {
   "cell_type": "code",
   "execution_count": null,
   "metadata": {},
   "outputs": [],
   "source": []
  },
  {
   "cell_type": "code",
   "execution_count": null,
   "metadata": {},
   "outputs": [],
   "source": [
    "class Meckoc:\n",
    "    def fibonaccio(self, n):\n",
    "        assert n>= 0 and int(n) == n, \"The number must be positive integer\"\n",
    "        if n in [0,1]:\n",
    "            return n\n",
    "        else:\n",
    "            return self.fibonaccio(n-1) + self.fibonaccio(n-2)\n",
    "onio = Meckoc()\n",
    "onio.fibonaccio(3)"
   ]
  },
  {
   "cell_type": "code",
   "execution_count": null,
   "metadata": {},
   "outputs": [],
   "source": []
  },
  {
   "cell_type": "code",
   "execution_count": null,
   "metadata": {
    "scrolled": true
   },
   "outputs": [],
   "source": [
    "def romio(num):\n",
    "    add = 0\n",
    "    length = len(str(num))\n",
    "    if len(str(num)) == 1:\n",
    "        return \"Not accepted\"\n",
    "    for i in str(num):\n",
    "        add += int(i) ** length\n",
    "        if add == num:\n",
    "            return \"you won the game\"\n",
    "    return \"try little hard\"\n",
    "romio(407)"
   ]
  },
  {
   "cell_type": "code",
   "execution_count": null,
   "metadata": {},
   "outputs": [],
   "source": [
    "class Find_number:\n",
    "    def is_Arm(self, num):\n",
    "        sum1 = 0\n",
    "        num1 = num\n",
    "        while num > 0:\n",
    "            dg = num % 10 # len of the num\n",
    "            sum1 = sum1 + (dg*dg*dg) # 153%10 = 3 and 27\n",
    "            num = num // 10 # now this will return 15 and loop will go again 15%10 = 5 and 5**3 = 125\n",
    "\n",
    "        if num1 == sum1:\n",
    "            print(\"yes it is\")\n",
    "        else:\n",
    "            print(\"no not\")\n",
    "            \n",
    "    def largest(self, nums):\n",
    "        return max(nums)\n",
    "    \n",
    "    def \n",
    "            \n",
    "arm_boy = Find_number()\n",
    "arm_boy.is_Arm(321)\n",
    "large_boy = Find_number()\n",
    "large_boy.largest([3,4,6,7])"
   ]
  },
  {
   "cell_type": "code",
   "execution_count": null,
   "metadata": {},
   "outputs": [],
   "source": [
    "items = ['apple',\"pear\", \"apple\", \"apple\", \"banana\"]\n",
    "filter = dict()\n",
    "for key in items:\n",
    "    filter[key] = 0\n",
    "result = set(filter.keys())\n",
    "result"
   ]
  },
  {
   "cell_type": "code",
   "execution_count": null,
   "metadata": {},
   "outputs": [],
   "source": [
    "my_str = \"aaaa\"\n",
    "remove = \"h\"\n",
    "new_str = \"\"\n",
    "for i in my_str:\n",
    "    if i not in remove:\n",
    "        new_str += i\n",
    "print(new_str)\n"
   ]
  },
  {
   "cell_type": "code",
   "execution_count": null,
   "metadata": {},
   "outputs": [],
   "source": [
    "def second_largest(nums):\n",
    "    largest = None\n",
    "    sec_largest = None\n",
    "    for current_num in nums:\n",
    "        if largest == None:\n",
    "            largest = current_num\n",
    "        elif current_num > largest:\n",
    "            sec_largest = largest\n",
    "            largest = current_num\n",
    "        elif current_num == largest:\n",
    "            sec_largest = current_num\n",
    "    return sec_largest\n",
    "second_largest([23,2,35,65])\n",
    "            "
   ]
  },
  {
   "cell_type": "code",
   "execution_count": null,
   "metadata": {},
   "outputs": [],
   "source": [
    "asscci_num = 65\n",
    "for i in range(65, 123):\n",
    "    g = chr(asscci_num)\n",
    "    asscci_num += 1\n",
    "    print(g, end=\" \")"
   ]
  },
  {
   "cell_type": "code",
   "execution_count": null,
   "metadata": {},
   "outputs": [],
   "source": [
    "a = \"FGHIJKLMNOP\"\n",
    "for i in range(ord(\"G\"), ord(\"Q\")):\n",
    "    print(i)"
   ]
  },
  {
   "cell_type": "code",
   "execution_count": null,
   "metadata": {},
   "outputs": [],
   "source": []
  },
  {
   "cell_type": "code",
   "execution_count": null,
   "metadata": {},
   "outputs": [],
   "source": []
  },
  {
   "cell_type": "code",
   "execution_count": null,
   "metadata": {},
   "outputs": [],
   "source": []
  },
  {
   "cell_type": "code",
   "execution_count": null,
   "metadata": {},
   "outputs": [],
   "source": [
    "27 // 4"
   ]
  },
  {
   "cell_type": "code",
   "execution_count": null,
   "metadata": {
    "scrolled": true
   },
   "outputs": [],
   "source": [
    "\n"
   ]
  },
  {
   "cell_type": "code",
   "execution_count": null,
   "metadata": {},
   "outputs": [],
   "source": [
    "class Mpytho:\n",
    "    \n",
    "    def tow_sum(self, nums, target):\n",
    "        \"\"\"\n",
    "        this func will return indexes of \n",
    "        numbers which are equal two the target\n",
    "        \n",
    "        \"\"\"\n",
    "        numbers_found = {}\n",
    "        for i in range(len(nums)):\n",
    "            num = nums[i] \n",
    "            get_target = target - num\n",
    "            \n",
    "            if num in numbers_found:\n",
    "                return [numbers_found[num], i]\n",
    "            else:\n",
    "                numbers_found[get_target] = i\n",
    "    \n",
    "    month_days = [0, 31, 28, 31, 30, 31, 30, 31, 30, 31, 30, 31]\n",
    "    def is_leap(self, year):\n",
    "        \"\"\"\n",
    "        this func will return num of days \n",
    "        in month with year you specified\n",
    "        \n",
    "        \"\"\"\n",
    "        return year % 4 == 0 and (year % 100 != 0 or year % 400 == 0)\n",
    "\n",
    "    def days_in_month(self, year, month):\n",
    "        if not 1 <= month <= 12:\n",
    "            return \"invalid month\"\n",
    "\n",
    "        if month == 2 and self.is_leap(year):\n",
    "            return 29\n",
    "        return month_days[month]\n",
    "    \n",
    "    def pattern_of_a(self, length):\n",
    "        \"\"\"pattern of a\"\"\"\n",
    "        for row in range(length):\n",
    "            for col in range(length):\n",
    "                if ((col == 0 or col == 3) and row != 0) or ((row == 0 or row == 3) and (col>0 and col<3)):\n",
    "                    print(\" #\", end=\"\")\n",
    "                else:\n",
    "                    print(end=\"  \")\n",
    "            print()\n",
    "            \n",
    "    def sum_of_1st_last(self, nums):\n",
    "        return sum(nums[0], nums[-1]\n",
    "    \n",
    "                   \n",
    "    def sum_of_matrix(self, X, Y):\n",
    "        result = [[0,0,0], [0,0,0], [0,0,0]]\n",
    "        for i in range(len(X)):\n",
    "            for j in range(len(X[0])):\n",
    "                result[i][j] = X[i][j] + Y[i][j]\n",
    "                \n",
    "        return result\n",
    "# obj_tow_sum = Mpytho()\n",
    "# obj_tow_sum.tow_sum([2,3,4,5], 8)\n",
    "\n",
    "# obj_year = Mpytho()\n",
    "# obj_year.days_in_month(2020, 2)\n",
    "\n",
    "# obj_a = Mpytho()\n",
    "# obj_a.pattern_of_a(7)"
   ]
  },
  {
   "cell_type": "code",
   "execution_count": null,
   "metadata": {},
   "outputs": [],
   "source": []
  },
  {
   "cell_type": "code",
   "execution_count": null,
   "metadata": {},
   "outputs": [],
   "source": [
    "import numpy as np\n",
    "a = np.matrix([[2,5,9,0], [7,8, 8, 7]])\n",
    "b = np.matrix([[3,7,5,3], [4,57,8, 7]])\n",
    "print(a+b)"
   ]
  },
  {
   "cell_type": "code",
   "execution_count": null,
   "metadata": {},
   "outputs": [],
   "source": []
  },
  {
   "cell_type": "code",
   "execution_count": null,
   "metadata": {},
   "outputs": [],
   "source": []
  },
  {
   "cell_type": "code",
   "execution_count": null,
   "metadata": {},
   "outputs": [],
   "source": []
  },
  {
   "cell_type": "code",
   "execution_count": null,
   "metadata": {},
   "outputs": [],
   "source": [
    "\n"
   ]
  },
  {
   "cell_type": "code",
   "execution_count": null,
   "metadata": {},
   "outputs": [],
   "source": [
    "score = {\"a\": 1, \"c\": 3, \"b\": 3, \"e\": 1, \"d\": 2, \"g\": 2, \n",
    "         \"f\": 4, \"i\": 1, \"h\": 4, \"k\": 5, \"j\": 8, \"m\": 3, \n",
    "         \"l\": 1, \"o\": 1, \"n\": 1, \"q\": 10, \"p\": 3, \"s\": 1, \n",
    "         \"r\": 1, \"u\": 1, \"t\": 1, \"w\": 4, \"v\": 4, \"y\": 4, \n",
    "         \"x\": 8, \"z\": 10}\n",
    "def scrabble_score(word):\n",
    "    word = word.lower()\n",
    "    total = 0\n",
    "    for letter in word:\n",
    "        for leter in score:\n",
    "            if letter == leter:\n",
    "                total = total + score[leter]\n",
    "    return total\n",
    "        \n",
    "scrabble_score(\"k\")"
   ]
  },
  {
   "cell_type": "code",
   "execution_count": null,
   "metadata": {},
   "outputs": [],
   "source": [
    "team = {\"s\": 99, \"n\": 98,  \"c\": 100}\n",
    "word = \"chik\"\n",
    "total = 0\n",
    "for name in word:\n",
    "    for player in team:\n",
    "        if name == player:\n",
    "            total += team[player]\n",
    "print(total)"
   ]
  },
  {
   "cell_type": "code",
   "execution_count": null,
   "metadata": {},
   "outputs": [],
   "source": [
    ".sort()\n",
    ".count()"
   ]
  },
  {
   "cell_type": "code",
   "execution_count": null,
   "metadata": {},
   "outputs": [],
   "source": [
    "li = [(1, 'cheese'), (2, 'mushrooms'), (2, 'olives'), (2, 'pepperoni'), (3, 'sausage'), (6, 'pineapple'), (7, 'anchovies')]\n",
    "count_hunt = 0\n",
    "for j in li:\n",
    "    if j[0] == 2:\n",
    "        count_hunt += 1\n",
    "print(count_hunt)"
   ]
  },
  {
   "cell_type": "code",
   "execution_count": null,
   "metadata": {},
   "outputs": [],
   "source": [
    "def append(num):\n",
    "    for i in range(len(num)):\n",
    "        ado = num[-1] + num[-2]\n",
    "        num.append(ado)\n",
    "    return num\n",
    "    \n",
    "append([1,1,2,3])"
   ]
  },
  {
   "cell_type": "code",
   "execution_count": null,
   "metadata": {},
   "outputs": [],
   "source": [
    "nm = [1,1,2]\n",
    "ado = nm[-1] + nm[-2]\n",
    "nm.append(ado)\n",
    "print(nm)"
   ]
  },
  {
   "cell_type": "code",
   "execution_count": null,
   "metadata": {},
   "outputs": [],
   "source": [
    "def n(n1):\n",
    "    return list(range(n1, 101, 3))\n",
    "n(91)"
   ]
  },
  {
   "cell_type": "code",
   "execution_count": null,
   "metadata": {},
   "outputs": [],
   "source": [
    "# Create a function named double_index that has two parameters: a list named lst and a single number named index.\n",
    "def duble_ind(lista, ind):\n",
    "    if ind >= len(lista):\n",
    "        return lista\n",
    "    else:\n",
    "        new_lst = lista[0:ind]\n",
    "        \n",
    "    new_lst.append(lista[ind]*2)\n",
    "    new_lst = new_lst + lista[ind+1:]\n",
    "    return new_lst\n",
    "    \n",
    "g([1,2,3,4], 2)"
   ]
  },
  {
   "cell_type": "code",
   "execution_count": null,
   "metadata": {},
   "outputs": [],
   "source": [
    "def middle_element(lst):\n",
    "    if len(lst) % 2 == 0:\n",
    "        mid = len(lst)//2\n",
    "        j = (lst[mid] + lst[mid-1]) / 2\n",
    "        return j\n",
    "    else:\n",
    "        lst[mid]\n",
    "\n",
    "print(middle_element([5, 2, -10, -4, 4, 5]))"
   ]
  },
  {
   "cell_type": "code",
   "execution_count": null,
   "metadata": {},
   "outputs": [],
   "source": [
    "all_students = [\"Alex\", \"Briana\", \"Cheri\", \"Daniele\", \"Dora\", \"Minerva\", \"Alexa\", \"Obie\", \"Arius\", \"Loki\"]\n",
    "students_in_poetry = []\n",
    "\n",
    "\n",
    "while len(students_in_poetry) < 6:\n",
    "    g = all_students.pop()\n",
    "    students_in_poetry.append(g)\n",
    "print(students_in_poetry)"
   ]
  },
  {
   "cell_type": "code",
   "execution_count": null,
   "metadata": {},
   "outputs": [],
   "source": [
    "sales_data = [[12, 17, 22], [2, 10, 3], [5, 12, 13]]\n",
    "scoops_sold = 0\n",
    "for location in sales_data:\n",
    "    for el in location:\n",
    "        scoops_sold += el\n",
    "  \n",
    "print(scoops_sold)"
   ]
  },
  {
   "cell_type": "code",
   "execution_count": null,
   "metadata": {},
   "outputs": [],
   "source": [
    "heights = [161, 164, 156, 144, 158, 170, 163, 163, 157]\n",
    "can_ride_coaster = [height for height in heights if (height > 161)]\n",
    "print(can_ride_coaster)"
   ]
  },
  {
   "cell_type": "code",
   "execution_count": null,
   "metadata": {},
   "outputs": [],
   "source": [
    "celsius = [0, 10, 15, 32, -5, 27, 3]\n",
    "\n",
    "fahrenheit = [(cel * 9/5 + 32) for cel in celsius]\n",
    "\n",
    "print(fahrenheit)"
   ]
  },
  {
   "cell_type": "code",
   "execution_count": null,
   "metadata": {},
   "outputs": [],
   "source": [
    "single_digits = [0,1,2,3,4,5,6,7,8,9]\n",
    "squares = []\n",
    "for each in single_digits:\n",
    "    each = each ** 2\n",
    "    squares.append(each)\n",
    "print(squares)\n",
    "\n",
    "cubes = []\n",
    "for each in single_digits:\n",
    "    cubes.append(each**3)\n",
    "print(cubes)\n",
    "\n",
    "cube = [(each**3)for each in single_digits]\n",
    "print(cube)"
   ]
  },
  {
   "cell_type": "code",
   "execution_count": null,
   "metadata": {},
   "outputs": [],
   "source": [
    "def divisible_by_ten(nums):\n",
    "    count = 0\n",
    "    for num in nums:\n",
    "        if num % 10 == 0:\n",
    "            count += 1\n",
    "    return count\n",
    "\n",
    "divisible_by_ten([23, 20, 10])"
   ]
  },
  {
   "cell_type": "code",
   "execution_count": null,
   "metadata": {},
   "outputs": [],
   "source": [
    "def now(name):\n",
    "    for i in name:\n",
    "        return [\"Hello, \"] + name\n",
    "\n",
    "now(['shivam', 'max'])"
   ]
  },
  {
   "cell_type": "code",
   "execution_count": null,
   "metadata": {},
   "outputs": [],
   "source": [
    "name = [\"shiv\", \"nick\"]\n",
    "new = []\n",
    "for i in name:\n",
    "    new.append(\"Hello, \"+ i)\n",
    "    \n",
    "print(new)"
   ]
  },
  {
   "cell_type": "code",
   "execution_count": null,
   "metadata": {},
   "outputs": [],
   "source": []
  },
  {
   "cell_type": "code",
   "execution_count": 6,
   "metadata": {},
   "outputs": [
    {
     "data": {
      "text/plain": [
       "[11, 23, 22]"
      ]
     },
     "execution_count": 6,
     "metadata": {},
     "output_type": "execute_result"
    }
   ],
   "source": []
  },
  {
   "cell_type": "code",
   "execution_count": null,
   "metadata": {},
   "outputs": [],
   "source": [
    "f"
   ]
  }
 ],
 "metadata": {
  "kernelspec": {
   "display_name": "Python 3",
   "language": "python",
   "name": "python3"
  },
  "language_info": {
   "codemirror_mode": {
    "name": "ipython",
    "version": 3
   },
   "file_extension": ".py",
   "mimetype": "text/x-python",
   "name": "python",
   "nbconvert_exporter": "python",
   "pygments_lexer": "ipython3",
   "version": "3.7.4"
  }
 },
 "nbformat": 4,
 "nbformat_minor": 2
}
