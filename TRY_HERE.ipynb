{
 "cells": [
  {
   "cell_type": "code",
   "execution_count": 45,
   "metadata": {},
   "outputs": [
    {
     "data": {
      "text/plain": [
       "125"
      ]
     },
     "execution_count": 45,
     "metadata": {},
     "output_type": "execute_result"
    }
   ],
   "source": [
    "def power(num, pwr):\n",
    "    if pwr == 0:\n",
    "        return 1\n",
    "    return num * power(num, pwr-1)\n",
    "power(5,3)"
   ]
  },
  {
   "cell_type": "code",
   "execution_count": 48,
   "metadata": {},
   "outputs": [
    {
     "name": "stdout",
     "output_type": "stream",
     "text": [
      "Starting state:  [6, 20, 8, 19, 56, 23, 87, 41, 49, 53]\n",
      "result: [6, 8, 19, 20, 23, 56, 41, 49, 53, 87]\n",
      "result: [6, 8, 19, 20, 23, 41, 49, 53, 56, 87]\n",
      "result: [6, 8, 19, 20, 23, 41, 49, 53, 56, 87]\n",
      "result: [6, 8, 19, 20, 23, 41, 49, 53, 56, 87]\n",
      "result: [6, 8, 19, 20, 23, 41, 49, 53, 56, 87]\n",
      "result: [6, 8, 19, 20, 23, 41, 49, 53, 56, 87]\n",
      "result: [6, 8, 19, 20, 23, 41, 49, 53, 56, 87]\n",
      "result: [6, 8, 19, 20, 23, 41, 49, 53, 56, 87]\n",
      "result: [6, 8, 19, 20, 23, 41, 49, 53, 56, 87]\n",
      "Final state:  [6, 8, 19, 20, 23, 41, 49, 53, 56, 87]\n"
     ]
    }
   ],
   "source": [
    "def bubble_Sort(dataset):\n",
    "    for i in range(len(dataset) -1, 0, -1):\n",
    "        for j in range(i):\n",
    "            if dataset[j] > dataset[j+1]:\n",
    "                temp = dataset[j]\n",
    "                dataset[j] = dataset[j+1]\n",
    "                dataset[j+1] = temp\n",
    "        print(\"result:\",dataset)\n",
    "\n",
    "def main():\n",
    "    list1 = [6, 20, 8, 19, 56, 23, 87, 41, 49, 53]\n",
    "    print(\"Starting state: \", list1)\n",
    "    bubble_Sort(list1)\n",
    "    print(\"Final state: \", list1)\n",
    "\n",
    "\n",
    "if __name__ == \"__main__\":\n",
    "    main()"
   ]
  },
  {
   "cell_type": "code",
   "execution_count": null,
   "metadata": {},
   "outputs": [],
   "source": []
  }
 ],
 "metadata": {
  "kernelspec": {
   "display_name": "Python 3",
   "language": "python",
   "name": "python3"
  },
  "language_info": {
   "codemirror_mode": {
    "name": "ipython",
    "version": 3
   },
   "file_extension": ".py",
   "mimetype": "text/x-python",
   "name": "python",
   "nbconvert_exporter": "python",
   "pygments_lexer": "ipython3",
   "version": "3.7.4"
  }
 },
 "nbformat": 4,
 "nbformat_minor": 2
}
