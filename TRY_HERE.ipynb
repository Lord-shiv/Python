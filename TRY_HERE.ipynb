{
 "cells": [
  {
   "cell_type": "code",
   "execution_count": null,
   "metadata": {},
   "outputs": [],
   "source": [
    "#  calculate the time of the function\n",
    "import time\n",
    "def dec(func):\n",
    "    def wrapper(*args, **kwargs):\n",
    "        start = time.time()\n",
    "        func(*args, **kwargs)\n",
    "        end = time.time()\n",
    "        print(end - start)\n",
    "    return wrapper\n",
    "@dec\n",
    "def cous():\n",
    "    s = 0\n",
    "    for i in range(10):\n",
    "        s = s+i\n",
    "    print(s)\n",
    "    \n",
    "cous()"
   ]
  },
  {
   "cell_type": "code",
   "execution_count": null,
   "metadata": {},
   "outputs": [],
   "source": [
    "def countdown(x):\n",
    "    y = 0\n",
    "    while x > 0:\n",
    "        x = x -5\n",
    "        y = y+1\n",
    "    print(y)\n",
    "countdown(90)\n",
    "x(4)"
   ]
  },
  {
   "cell_type": "code",
   "execution_count": null,
   "metadata": {},
   "outputs": [],
   "source": [
    "round(423.123,2)"
   ]
  },
  {
   "cell_type": "code",
   "execution_count": null,
   "metadata": {},
   "outputs": [],
   "source": [
    "a = 80\n",
    "b = 90\n"
   ]
  },
  {
   "cell_type": "code",
   "execution_count": null,
   "metadata": {},
   "outputs": [],
   "source": [
    "print(2**100)"
   ]
  },
  {
   "cell_type": "code",
   "execution_count": null,
   "metadata": {},
   "outputs": [],
   "source": [
    "alist = [1,2,3,5]\n",
    "alist.append(6)\n",
    "alist.insert(3, 45)\n",
    "alist.sort()\n",
    "alist.reverse()\n",
    "del alist[0]\n",
    "alist.index(5)\n",
    "alist.count(3)\n",
    "alist.remove(5)\n",
    "alist"
   ]
  },
  {
   "cell_type": "code",
   "execution_count": null,
   "metadata": {},
   "outputs": [],
   "source": [
    "(54).__add__(21)"
   ]
  },
  {
   "cell_type": "code",
   "execution_count": null,
   "metadata": {},
   "outputs": [],
   "source": [
    "name = \"shivamSHVAM\"\n",
    "def func(name):\n",
    "    for i in name:\n",
    "        if i.isupper():\n",
    "            print(i)\n",
    "#         if i.islower():\n",
    "#             print(i)\n",
    "func(name)"
   ]
  },
  {
   "cell_type": "code",
   "execution_count": null,
   "metadata": {},
   "outputs": [],
   "source": [
    "items = [6, 20, 8,20, 56, 23, 87]\n",
    "def find_item(item, itemlist):\n",
    "    for i in range(0, len(items)):\n",
    "        if item == itemlist[i]:\n",
    "            return itemlist[i] # i for index\n",
    "    return None\n",
    "\n",
    "print(find_item(8, items))\n"
   ]
  },
  {
   "cell_type": "code",
   "execution_count": null,
   "metadata": {},
   "outputs": [],
   "source": [
    "items = [6, 20, 8,20, 56, 23, 87]\n",
    "item = 87\n",
    "for _ in range(len(items)):\n",
    "    if item == items[_]:\n",
    "        print(_)\n",
    "        \n",
    "\n",
    "    "
   ]
  },
  {
   "cell_type": "code",
   "execution_count": null,
   "metadata": {},
   "outputs": [],
   "source": [
    "import re\n",
    "text = \"Welcome to Python Course\"\n",
    "x = re.search(\"wel. *Course\", text)\n",
    "if x:\n",
    "    print(\"we have a match\")\n",
    "else:\n",
    "    print(\"no match\")"
   ]
  },
  {
   "cell_type": "code",
   "execution_count": null,
   "metadata": {},
   "outputs": [],
   "source": []
  },
  {
   "cell_type": "code",
   "execution_count": null,
   "metadata": {},
   "outputs": [],
   "source": []
  },
  {
   "cell_type": "code",
   "execution_count": null,
   "metadata": {},
   "outputs": [],
   "source": []
  },
  {
   "cell_type": "code",
   "execution_count": null,
   "metadata": {},
   "outputs": [],
   "source": [
    "# my Answer Love me :^\n",
    "row = 7\n",
    "\n",
    "for i in range(0, row):\n",
    "    for j in range(i+1):\n",
    "        print(i*j, end=\" \")\n",
    "    print()"
   ]
  },
  {
   "cell_type": "code",
   "execution_count": null,
   "metadata": {},
   "outputs": [],
   "source": [
    "row = 5\n",
    "k = 1\n",
    "for i in range(1, row+1):\n",
    "    for j in range(i):  \n",
    "        print(k ,end=\" \")\n",
    "    k += 2\n",
    "    print(\"\")"
   ]
  },
  {
   "cell_type": "code",
   "execution_count": null,
   "metadata": {},
   "outputs": [],
   "source": [
    "for row in range(7):\n",
    "    for col in range(7):\n",
    "        if (row+col==3) or (col-row==3) or (row-col==3) or row+col==9:\n",
    "            print(\"*\", end=\"\")\n",
    "        else:\n",
    "            print(end=\" \")\n",
    "    print()\n",
    "            "
   ]
  },
  {
   "cell_type": "code",
   "execution_count": null,
   "metadata": {},
   "outputs": [],
   "source": [
    "for row in range(7):\n",
    "    for col in range(7):\n",
    "        if row+col==3 or col-row==3 or (row==3):\n",
    "            print(\" *\", end=\"\")\n",
    "        else:\n",
    "            print(end=\" \")\n",
    "    print()"
   ]
  },
  {
   "cell_type": "code",
   "execution_count": null,
   "metadata": {},
   "outputs": [],
   "source": [
    "def digit_sum(n):\n",
    "  total = 0\n",
    "  string_n = str(n)\n",
    "  for char in string_n:\n",
    "    total += int(char)\n",
    "  return total\n",
    "\n",
    "#Alternate Solution:\n",
    "\n",
    "#def digit_sum(n):\n",
    "#  total = 0\n",
    "#  while n > 0:\n",
    "#    total += n % 10\n",
    "#    n = n // 10\n",
    "#  return total"
   ]
  },
  {
   "cell_type": "code",
   "execution_count": null,
   "metadata": {},
   "outputs": [],
   "source": [
    "def digit_sum(n):\n",
    "    total = 0\n",
    "    string_n = str(n)\n",
    "    for char in string_n:\n",
    "        total += int(char)\n",
    "    return total\n",
    "digit_sum(123)"
   ]
  },
  {
   "cell_type": "code",
   "execution_count": null,
   "metadata": {},
   "outputs": [],
   "source": [
    "num = 1233\n",
    "total = 0\n",
    "new_num = str(num)\n",
    "for i in new_num:\n",
    "    total += int(i)\n",
    "print(total)"
   ]
  },
  {
   "cell_type": "code",
   "execution_count": null,
   "metadata": {},
   "outputs": [],
   "source": [
    "def factorial(x):\n",
    "    if x == 0:\n",
    "        return 0\n",
    "    return x * (factorial - x)\n",
    "\n",
    "\n",
    "factorial(5)"
   ]
  },
  {
   "cell_type": "code",
   "execution_count": null,
   "metadata": {},
   "outputs": [],
   "source": [
    "def is_prime(x):\n",
    "    for i in range(2, x-1):\n",
    "        if x /  i == int(x):\n",
    "            return False\n",
    "        else:\n",
    "            return True\n",
    "        \n",
    "is_prime(11)"
   ]
  },
  {
   "cell_type": "code",
   "execution_count": null,
   "metadata": {},
   "outputs": [],
   "source": [
    "def is_prime(x):\n",
    "    if x < 2:\n",
    "        return False\n",
    "    else:\n",
    "        for n in range(2, x-1):\n",
    "            if x % n == 0:\n",
    "                return False\n",
    "        return True\n",
    "is_prime(5)"
   ]
  },
  {
   "cell_type": "code",
   "execution_count": null,
   "metadata": {},
   "outputs": [],
   "source": [
    "suitcase = [\"sunglasses\", \"hat\", \"passport\", \"laptop\", \"suit\", \"shoes\"]\n",
    "suitcase[-2:]"
   ]
  },
  {
   "cell_type": "code",
   "execution_count": null,
   "metadata": {},
   "outputs": [],
   "source": [
    "class Employee:\n",
    "    raise_amount = 1.4\n",
    "    def __init__(self, first, last, pay):\n",
    "        self.first = first\n",
    "        self.last = last\n",
    "        self.pay = pay\n",
    "        self.email = first + '.' + last + \"@compny.com\"\n",
    "        \n",
    "    def fullname(self):\n",
    "        return \"{} {}\".format(self.first, self.last)\n",
    "        \n",
    "        \n",
    "    def apply_raise(self):\n",
    "        self.pay = int(self.pay * self.raise_amount)\n",
    "        \n",
    "        \n",
    "        \n",
    "# Employee.fullname(emp1)\n",
    "emp1 = Employee(\"shivam\", \"chouhan\", 50000)\n",
    "emp2 = Employee(\"abhi\", \"chouhan\", 60000)\n",
    "# print(emp1.raise_amount)\n",
    "# Employee.__dict__\n",
    "emp2.raise_amount = 2\n",
    "emp2.apply_raise()\n",
    "print(emp2.pay)"
   ]
  },
  {
   "cell_type": "code",
   "execution_count": null,
   "metadata": {},
   "outputs": [],
   "source": [
    "class Employee:\n",
    "    raise_amount = 1.4\n",
    "    num_of_emps = 0\n",
    "    def __init__(self, first, last, pay):\n",
    "        self.first = first\n",
    "        self.last = last\n",
    "        self.pay = pay\n",
    "        self.email = first + '.' + last + \"@compny.com\"\n",
    "        Employee.num_of_emps += 1\n",
    "        \n",
    "    def fullname(self):\n",
    "        return \"{} {}\".format(self.first, self.last)\n",
    "        \n",
    "        \n",
    "    def apply_raise(self):\n",
    "        self.pay = int(self.pay * self.raise_amount)\n",
    "        \n",
    "        \n",
    "\n",
    "print(Employee.num_of_emps)     \n",
    "# Employee.fullname(emp1)\n",
    "emp1 = Employee(\"shivam\", \"chouhan\", 50000)\n",
    "emp2 = Employee(\"abhi\", \"chouhan\", 60000)\n",
    "\n",
    "print(Employee.num_of_emps)"
   ]
  },
  {
   "cell_type": "code",
   "execution_count": null,
   "metadata": {},
   "outputs": [],
   "source": [
    "class Employee:\n",
    "    raise_amt = 1.04\n",
    "    num_of_emps = 0\n",
    "    def __init__(self, first, last, pay):\n",
    "        self.first = first\n",
    "        self.last = last\n",
    "        self.pay = pay\n",
    "        self.email = first + '.' + last + \"@compny.com\"\n",
    "        Employee.num_of_emps += 1\n",
    "    \n",
    "    def __repr__(self):\n",
    "        return f\"{self.first} {self.last} from repr\"\n",
    "        \n",
    "    def fullname(self):\n",
    "        return \"{} {}\".format(self.first, self.last)\n",
    "        \n",
    "    def apply_raise(self):\n",
    "        self.pay = int(self.pay * self.raise_amount)\n",
    "    \n",
    "    @classmethod\n",
    "    def set_raise_amt(cls, amount):\n",
    "        cls.raise_amt = amount\n",
    "        \n",
    "    @classmethod\n",
    "    def from_string(cls, emp_str):\n",
    "        first, last, pay = emp_str.split('-')\n",
    "        return cls(first, last, pay)  \n",
    "     \n",
    "\n",
    "emp1 = Employee(\"shivam\", \"chouhan\", 50000)\n",
    "emp2 = Employee(\"abhi\", \"chouhan\", 60000)\n",
    "\n",
    "# Employee.set_raise_amt(1.05)\n",
    "# print(Employee.raise_amt)\n",
    "# print(emp1.raise_amt)\n",
    "# print(emp2.raise_amt)\n",
    "\n",
    "emp3 = \"Rick-Doe-90000\"\n",
    "emp4 = \"Nick-will-45000\"\n",
    "\n",
    "emp3 = Employee.from_string(emp3)\n",
    "print(emp3)\n"
   ]
  },
  {
   "cell_type": "code",
   "execution_count": null,
   "metadata": {},
   "outputs": [],
   "source": [
    "class Employee:\n",
    "    raise_amt = 1.04\n",
    "    num_of_emps = 0\n",
    "    def __init__(self, first, last, pay):\n",
    "        self.first = first\n",
    "        self.last = last\n",
    "        self.pay = pay\n",
    "        self.email = first + '.' + last + \"@compny.com\"\n",
    "        Employee.num_of_emps += 1\n",
    "    \n",
    "    def __repr__(self):\n",
    "        return f\"{self.first} {self.last} from repr\"\n",
    "        \n",
    "    def fullname(self):\n",
    "        return \"{} {}\".format(self.first, self.last)\n",
    "        \n",
    "    def apply_raise(self):\n",
    "        self.pay = int(self.pay * self.raise_amount)\n",
    "    \n",
    "    @classmethod\n",
    "    def set_raise_amt(cls, amount):\n",
    "        cls.raise_amt = amount\n",
    "        \n",
    "    @classmethod\n",
    "    def from_string(cls, emp_str):\n",
    "        first, last, pay = emp_str.split('-')\n",
    "        return cls(first, last, pay)  \n",
    "     \n",
    "    @staticmethod\n",
    "    def is_workday(day):\n",
    "        if day.weekday() == 5 or day.weekday() == 6:\n",
    "            return False\n",
    "        return True\n",
    "\n",
    "emp1 = Employee(\"shivam\", \"chouhan\", 50000)\n",
    "emp2 = Employee(\"abhi\", \"chouhan\", 60000)\n",
    "\n",
    "import datetime\n",
    "my_date = datetime.date(2016, 2, 13)\n",
    "\n",
    "\n",
    "print(Employee.is_workday(my_date))"
   ]
  },
  {
   "cell_type": "code",
   "execution_count": null,
   "metadata": {},
   "outputs": [],
   "source": [
    "class Employee:\n",
    "    raise_amt = 1.04\n",
    "    num_of_emps = 0\n",
    "    def __init__(self, first, last, pay):\n",
    "        self.first = first\n",
    "        self.last = last\n",
    "        self.pay = pay\n",
    "        self.email = first + '.' + last + \"@compny.com\"\n",
    "        Employee.num_of_emps += 1\n",
    "    \n",
    "    def __repr__(self):\n",
    "        return f\"{self.first} {self.last} from repr\"\n",
    "        \n",
    "    def fullname(self):\n",
    "        return \"{} {}\".format(self.first, self.last)\n",
    "        \n",
    "    def apply_raise(self):\n",
    "        self.pay = int(self.pay * self.raise_amt)\n",
    "\n",
    "class Developer(Employee):\n",
    "    raise_amt = 1.10\n",
    "    def __init__(self, first, last, pay, prog_lng):\n",
    "        super().__init__(first, last, pay)\n",
    "        self.prog_lng = prog_lng\n",
    "        \n",
    "class Manager(Employee):\n",
    "    def __init__(self, first, last, pay, employees=None):\n",
    "        super().__init__(first, last, pay)\n",
    "        if employees is None:\n",
    "            self.employees = []\n",
    "        else:\n",
    "            self.employees = employees\n",
    "            \n",
    "    def add_emp(self, emp):\n",
    "        if emp not in self.employees:\n",
    "            self.employees.append(emp)\n",
    "            \n",
    "            \n",
    "    def remove_emp(self, emp):\n",
    "        if emp in self.employees:\n",
    "            self.employees.remove(emp)\n",
    "            \n",
    "    def print_emps(self):\n",
    "        for emp in self.employees:\n",
    "            print(\"-->\", emp.fullname())\n",
    "\n",
    "dev1 = Developer(\"shiv\", \"Manswalia\", 50000, \"Python\")\n",
    "dev2 = Developer(\"Test\", \"Employee\", 60000, \"Java\")\n",
    "\n",
    "\n",
    "mnger_1 = Manager(\"Nicki\", \"Smith\", 90000, [dev1])\n",
    "\n",
    "print(mnger_1.email)\n",
    "\n",
    "mnger_1.add_emp(dev2)\n",
    "mnger_1.remove_emp(dev1)\n",
    "\n",
    "mnger_1.print_emps()\n",
    "# print(help(Developer))\n",
    "# print(dev1.prog_lng)\n",
    "# print(dev2.email)\n",
    "\n",
    "# print(dev1.pay)\n",
    "# dev1.apply_raise()\n",
    "# print(dev1.pay)"
   ]
  },
  {
   "cell_type": "code",
   "execution_count": null,
   "metadata": {},
   "outputs": [],
   "source": [
    "class Employee:\n",
    "    raise_amt = 1.04\n",
    "    num_of_emps = 0\n",
    "    def __init__(self, first, last, pay):\n",
    "        self.first = first\n",
    "        self.last = last\n",
    "        self.pay = pay\n",
    "        self.email = first + '.' + last + \"@compny.com\"\n",
    "        Employee.num_of_emps += 1\n",
    "    \n",
    "    def __repr__(self):\n",
    "        return f\"{self.first} {self.last} from repr\"\n",
    "        \n",
    "    def fullname(self):\n",
    "        return \"{} {}\".format(self.first, self.last)\n",
    "        \n",
    "    def apply_raise(self):\n",
    "        self.pay = int(self.pay * self.raise_amt)\n",
    "\n",
    "class Developer(Employee):\n",
    "    raise_amt = 1.10\n",
    "    def __init__(self, first, last, pay, prog_lng):\n",
    "        super().__init__(first, last, pay)\n",
    "        self.prog_lng = prog_lng\n",
    "        \n",
    "class Manager(Employee):\n",
    "    def __init__(self, first, last, pay, employees=None):\n",
    "        super().__init__(first, last, pay)\n",
    "        if employees is None:\n",
    "            self.employees = []\n",
    "        else:\n",
    "            self.employees = employees\n",
    "            \n",
    "    def add_emp(self, emp):\n",
    "        if emp not in self.employees:\n",
    "            self.employees.append(emp)\n",
    "            \n",
    "            \n",
    "    def remove_emp(self, emp):\n",
    "        if emp in self.employees:\n",
    "            self.employees.remove(emp)\n",
    "            \n",
    "    def print_emps(self):\n",
    "        for emp in self.employees:\n",
    "            print(\"-->\", emp.fullname())\n",
    "\n",
    "dev1 = Developer(\"shiv\", \"Manswalia\", 50000, \"Python\")\n",
    "dev2 = Developer(\"Test\", \"Employee\", 60000, \"Java\")\n",
    "\n",
    "\n",
    "mnger_1 = Manager(\"Nicki\", \"Smith\", 90000, [dev1])\n",
    "\n",
    "print(isinstance(mnger_1, Employee))\n",
    "print(issubclass(Manager, Employee))"
   ]
  },
  {
   "cell_type": "code",
   "execution_count": null,
   "metadata": {},
   "outputs": [],
   "source": [
    "class Employee:\n",
    "    raise_amt = 1.04\n",
    "    num_of_emps = 0\n",
    "    def __init__(self, first, last, pay):\n",
    "        self.first = first\n",
    "        self.last = last\n",
    "        self.pay = pay\n",
    "        self.email = first + '.' + last + \"@compny.com\"\n",
    "        Employee.num_of_emps += 1\n",
    "    \n",
    "    def __repr__(self):\n",
    "        return f\"{self.first} {self.last} from repr\"\n",
    "        \n",
    "    def fullname(self):\n",
    "        return \"{} {}\".format(self.first, self.last)\n",
    "        \n",
    "    def apply_raise(self):\n",
    "        self.pay = int(self.pay * self.raise_amt)\n",
    "    \n",
    "    def __repr__(self):\n",
    "        return \"Employee ('{}', '{}', '{}')\".format(self.first, self.last, self.pay)\n",
    "    \n",
    "    def __str__(self):\n",
    "        return \"{} - {}\".format(self.fullname(), self.email)\n",
    "    \n",
    "    def __add__(self, other):\n",
    "        return self.pay + other.pay\n",
    "    \n",
    "    def __len__(self):\n",
    "        return len(self.fullname())\n",
    "    \n",
    "emp1 = Employee(\"shivam\", \"chouhan\", 50000)\n",
    "emp2 = Employee(\"abhi\", \"chouhan\", 60000)\n",
    "\n",
    "print(len(emp1))\n",
    "\n",
    "\n",
    "# __add__\n",
    "# print(emp1 + emp2)\n",
    "\n",
    "# print(repr(emp1))\n",
    "# print(str(emp1))\n",
    "\n",
    "# print(emp1.__str__())\n",
    "# print(emp1.__repr__())\n",
    "\n",
    "# use\n",
    "# (int.__add__(4,6))\n",
    "# (str.__add__(\"a\", \"c\"))\n",
    "# print(\"test\".__len__())\n",
    "\n"
   ]
  },
  {
   "cell_type": "code",
   "execution_count": null,
   "metadata": {},
   "outputs": [],
   "source": [
    "#  The problem is if user changes his first name \n",
    "#  then thier email will not chnge according to \n",
    "#  our code we don't want that we want everything changed\n",
    "\n",
    "# class Employee:\n",
    "#     raise_amt = 1.04\n",
    "#     def __init__(self, first, last):\n",
    "#         self.first = first\n",
    "#         self.last = last\n",
    "#         self.email = first + '.' + last + '@email.com'\n",
    "        \n",
    "#     def fullname(self):\n",
    "#         return \"{} {}\".format(self.first, self.last)\n",
    "    \n",
    "# emp1 = Employee(\"shivam\", \"chouhan\")\n",
    "# # emp2 = Employee(\"abhi\", \"chouhan\")\n",
    "\n",
    "# emp1.first = \"jim\"\n",
    "\n",
    "# print(emp1.first)\n",
    "# print(emp1.email)\n",
    "# print(emp1.fullname())\n",
    "\n",
    "\n",
    "class Employee:\n",
    "    raise_amt = 1.04\n",
    "    def __init__(self, first, last):\n",
    "        self.first = first\n",
    "        self.last = last\n",
    "        \n",
    "    @property #allow us to use our methods like instances --> we can run emp1.email without emp1.email()\n",
    "    def email(self):\n",
    "        return \"{}.{}@email.com\".format(self.first, self.last)\n",
    "    \n",
    "    @property  \n",
    "    def fullname(self):\n",
    "        return \"{} {}\".format(self.first, self.last)\n",
    "    \n",
    "    @fullname.setter\n",
    "    def fullname(self, name):\n",
    "        first, last = name.split(' ')\n",
    "        self.first = first\n",
    "        self.last = last\n",
    "    \n",
    "    @fullname.deleter\n",
    "    def fullname(self):\n",
    "        print('Delete Name')\n",
    "        self.first = None\n",
    "        self.last = None\n",
    "    \n",
    "emp1 = Employee(\"shivam\", \"chouhan\")\n",
    "emp2 = Employee(\"abhi\", \"chouhan\")\n",
    "\n",
    "emp1.fullname = \"shivam Manswalia\"\n",
    "\n",
    "print(emp1.fullname)\n",
    "# print(emp1.first)\n",
    "# print(emp1.email)\n",
    "# print(emp1.fullname)\n",
    "\n",
    "del emp1.fullname"
   ]
  },
  {
   "cell_type": "code",
   "execution_count": null,
   "metadata": {},
   "outputs": [],
   "source": [
    "# Encapsulation\n",
    "class Car:\n",
    "    def __init__(self):\n",
    "        self.__updatesoftware()\n",
    "        \n",
    "    def drive(self):\n",
    "        print(\"driving\")\n",
    "        \n",
    "    def __updatesoftware(self):\n",
    "        print(\"updating software\")\n",
    "        \n",
    "my_car = Car()\n",
    "my_car.drive()\n"
   ]
  },
  {
   "cell_type": "code",
   "execution_count": null,
   "metadata": {},
   "outputs": [],
   "source": [
    "class Car:\n",
    "#     def __init__(self):\n",
    "#         self.__updatesoftware()\n",
    "        \n",
    "    def drive(self):\n",
    "        print(\"driving\")\n",
    "        \n",
    "    def __updatesoftware(self):\n",
    "        print(\"updating software\")\n",
    "        \n",
    "my_car = Car()\n",
    "my_car.drive()"
   ]
  },
  {
   "cell_type": "code",
   "execution_count": null,
   "metadata": {},
   "outputs": [],
   "source": [
    "class car:\n",
    "    __maxspeed = 0 # these variables can be changed \n",
    "    __name = \"\"\n",
    "    \n",
    "    def __init__(self):\n",
    "        self.__maxspeed = 200     # these are private variables \n",
    "        self.__name = \"supercar\"  # Which can be ovewrite only by methods\n",
    "    \n",
    "    def drive(self):\n",
    "        print(\"driving\")\n",
    "        print(self.__maxspeed)\n",
    "        \n",
    "    def setspeed(self, speed):\n",
    "        self.__maxspeed = speed\n",
    "        print(self.__maxspeed)\n",
    "        \n",
    "red_car = car()\n",
    "red_car.drive()\n",
    "# red_car.setspeed(500) we can set values by methods\n",
    "# red_car.__maxspeed = 100\n",
    "# red_car.drive()"
   ]
  },
  {
   "cell_type": "code",
   "execution_count": null,
   "metadata": {},
   "outputs": [],
   "source": [
    "class School:\n",
    "    __hteacher = \" \"\n",
    "    teacher = \" \"\n",
    "    def __init__(self):\n",
    "        self.__name = \"Nvodeya high school\"\n",
    "        self.__students = 500\n",
    "    \n",
    "    def timing(self):\n",
    "        print(\"9 to 3\")\n",
    "        print(self.__students)\n",
    "        print(self.__name)\n",
    "        \n",
    "a = School()\n",
    "a.__name = \"hello\"\n",
    "a.timing()"
   ]
  },
  {
   "cell_type": "code",
   "execution_count": null,
   "metadata": {},
   "outputs": [],
   "source": [
    "# Polymorphism\n",
    "class Dog:\n",
    "    def sound(self):\n",
    "        print(\"bow bow\")\n",
    "        \n",
    "class Cat:\n",
    "    def sound(self):\n",
    "        print(\"meow\")\n",
    "        \n",
    "        \n",
    "def makesound(animaltype):\n",
    "    animaltype.sound()\n",
    "\n",
    "simi = Cat()\n",
    "jacky = Dog()\n",
    "makesound(jacky)"
   ]
  },
  {
   "cell_type": "code",
   "execution_count": null,
   "metadata": {},
   "outputs": [],
   "source": [
    "def palindrome(num):\n",
    "    mnum = str(num)\n",
    "    h = []\n",
    "    for i in range(len(mnum)):\n",
    "        a = int(mnum) % 10\n",
    "    print(h)\n",
    "palindrome(321)"
   ]
  },
  {
   "cell_type": "code",
   "execution_count": null,
   "metadata": {},
   "outputs": [],
   "source": [
    "def reverse_number(n):\n",
    "    r = 0\n",
    "    while n > 0:\n",
    "        r *= 10\n",
    "        r += n % 10\n",
    "        n /= 10\n",
    "    return r"
   ]
  },
  {
   "cell_type": "code",
   "execution_count": null,
   "metadata": {},
   "outputs": [],
   "source": [
    "number = 541\n",
    "revs_number = 0\n",
    "remainder = number % 10  \n",
    "revs_number = (revs_number * 10) + remainder  \n",
    "number = number // 10 \n",
    "print(number)\n",
    "print(revs_number)"
   ]
  },
  {
   "cell_type": "code",
   "execution_count": null,
   "metadata": {},
   "outputs": [],
   "source": [
    "n = 12321\n",
    "str(n) == str(n)[::-1]"
   ]
  },
  {
   "cell_type": "code",
   "execution_count": null,
   "metadata": {},
   "outputs": [],
   "source": []
  },
  {
   "cell_type": "code",
   "execution_count": null,
   "metadata": {},
   "outputs": [],
   "source": [
    "class Solution:\n",
    "    def isPalindrome(self, s: str) -> bool:\n",
    "        if s == s[::-1]:\n",
    "            return True\n",
    "        else:\n",
    "            return False\n",
    "        \n",
    "obj = Solution()\n",
    "obj.isPalindrome('shihs')"
   ]
  },
  {
   "cell_type": "code",
   "execution_count": null,
   "metadata": {},
   "outputs": [],
   "source": [
    "def new(x):\n",
    "    return False if x < 0 else x == int(str(x)[::-1])\n",
    "new(313)"
   ]
  },
  {
   "cell_type": "code",
   "execution_count": null,
   "metadata": {},
   "outputs": [],
   "source": [
    "class Solution:\n",
    "    def isPalindrome(self, x: int) -> bool:\n",
    "        num = str(x)\n",
    "        if str(num) == str(num[::-1]):\n",
    "            return True\n",
    "        else:\n",
    "            return False\n",
    "        \n",
    "obj = Solution()\n",
    "obj.isPalindrome(19891)"
   ]
  },
  {
   "cell_type": "code",
   "execution_count": null,
   "metadata": {},
   "outputs": [],
   "source": [
    "def isPalindrome(self, x: int) -> int:\n",
    "        if (x % 10 == 0 and x != 0): return False\n",
    "        backword = 0\n",
    "        while x > backword:\n",
    "            pop = x % 10\n",
    "            x //= 10\n",
    "            backword = backword * 10 + pop\n",
    "        return x == backword or x == backword//10"
   ]
  },
  {
   "cell_type": "code",
   "execution_count": null,
   "metadata": {},
   "outputs": [],
   "source": []
  },
  {
   "cell_type": "code",
   "execution_count": null,
   "metadata": {},
   "outputs": [],
   "source": []
  },
  {
   "cell_type": "code",
   "execution_count": null,
   "metadata": {},
   "outputs": [],
   "source": []
  },
  {
   "cell_type": "code",
   "execution_count": null,
   "metadata": {},
   "outputs": [],
   "source": []
  },
  {
   "cell_type": "code",
   "execution_count": null,
   "metadata": {},
   "outputs": [],
   "source": []
  },
  {
   "cell_type": "code",
   "execution_count": null,
   "metadata": {},
   "outputs": [],
   "source": []
  },
  {
   "cell_type": "code",
   "execution_count": null,
   "metadata": {},
   "outputs": [],
   "source": []
  },
  {
   "cell_type": "code",
   "execution_count": null,
   "metadata": {},
   "outputs": [],
   "source": [
    "class Number:\n",
    "    def Find_palindrome(self, num: int) -> bool:\n",
    "        if num == int(str(num)[::-1]):\n",
    "            return f\"Number {num} is Palindrome\"\n",
    "        else:\n",
    "            return \"Not Palindrome\"\n",
    "        \n",
    "        \n",
    "obj = Number()\n",
    "obj.Find_palindrome(787)"
   ]
  },
  {
   "cell_type": "code",
   "execution_count": null,
   "metadata": {},
   "outputs": [],
   "source": [
    "def reverse(text):\n",
    "        n = len(text)   # 4\n",
    "        l = \"\"\n",
    "        for i in range(n-1, -1, -1):\n",
    "            l += text[i]\n",
    "        return l\n",
    "reverse(\"hello\")"
   ]
  },
  {
   "cell_type": "code",
   "execution_count": null,
   "metadata": {},
   "outputs": [],
   "source": []
  },
  {
   "cell_type": "code",
   "execution_count": null,
   "metadata": {},
   "outputs": [],
   "source": [
    " "
   ]
  },
  {
   "cell_type": "code",
   "execution_count": null,
   "metadata": {},
   "outputs": [],
   "source": []
  },
  {
   "cell_type": "code",
   "execution_count": null,
   "metadata": {},
   "outputs": [],
   "source": []
  },
  {
   "cell_type": "code",
   "execution_count": null,
   "metadata": {},
   "outputs": [],
   "source": [
    "def palindrome_1(str):\n",
    "    if len(str) <= 1:\n",
    "        return True\n",
    "    if str[0] != str[-1]:\n",
    "        return False\n",
    "    return palindrome_1(str[1:-1])\n",
    "\n",
    "palindrome_1(\"nikin\")"
   ]
  },
  {
   "cell_type": "code",
   "execution_count": null,
   "metadata": {},
   "outputs": [],
   "source": [
    "word = \"hello\"\n",
    "n = len(word)-1\n",
    "\n",
    "for j in range(n, -1, -1):\n",
    "    print(word[j], end=\"\")"
   ]
  },
  {
   "cell_type": "code",
   "execution_count": null,
   "metadata": {},
   "outputs": [],
   "source": []
  },
  {
   "cell_type": "code",
   "execution_count": null,
   "metadata": {
    "scrolled": true
   },
   "outputs": [],
   "source": [
    "def factss(num):\n",
    "    n = 1\n",
    "    for i in range(1,num+1):\n",
    "        n *= i\n",
    "    return n\n",
    "        \n",
    "factss(5)"
   ]
  },
  {
   "cell_type": "code",
   "execution_count": null,
   "metadata": {},
   "outputs": [],
   "source": []
  },
  {
   "cell_type": "code",
   "execution_count": null,
   "metadata": {},
   "outputs": [],
   "source": []
  },
  {
   "cell_type": "code",
   "execution_count": null,
   "metadata": {},
   "outputs": [],
   "source": [
    "class Meckoc:\n",
    "    def fibonaccio(self, n):\n",
    "        assert n>= 0 and int(n) == n, \"The number must be positive integer\"\n",
    "        if n in [0,1]:\n",
    "            return n\n",
    "        else:\n",
    "            return self.fibonaccio(n-1) + self.fibonaccio(n-2)\n",
    "onio = Meckoc()\n",
    "onio.fibonaccio(3)"
   ]
  },
  {
   "cell_type": "code",
   "execution_count": null,
   "metadata": {},
   "outputs": [],
   "source": []
  },
  {
   "cell_type": "code",
   "execution_count": null,
   "metadata": {
    "scrolled": true
   },
   "outputs": [],
   "source": [
    "def romio(num):\n",
    "    add = 0\n",
    "    length = len(str(num))\n",
    "    if len(str(num)) == 1:\n",
    "        return \"Not accepted\"\n",
    "    for i in str(num):\n",
    "        add += int(i) ** length\n",
    "        if add == num:\n",
    "            return \"you won the game\"\n",
    "    return \"try little hard\"\n",
    "romio(407)"
   ]
  },
  {
   "cell_type": "code",
   "execution_count": null,
   "metadata": {},
   "outputs": [],
   "source": [
    "class Find_number:\n",
    "    def is_Arm(self, num):\n",
    "        sum1 = 0\n",
    "        num1 = num\n",
    "        while num > 0:\n",
    "            dg = num % 10 # len of the num\n",
    "            sum1 = sum1 + (dg*dg*dg) # 153%10 = 3 and 27\n",
    "            num = num // 10 # now this will return 15 and loop will go again 15%10 = 5 and 5**3 = 125\n",
    "\n",
    "        if num1 == sum1:\n",
    "            print(\"yes it is\")\n",
    "        else:\n",
    "            print(\"no not\")\n",
    "            \n",
    "    def largest(self, nums):\n",
    "        return max(nums)\n",
    "    \n",
    "    def \n",
    "            \n",
    "arm_boy = Find_number()\n",
    "arm_boy.is_Arm(321)\n",
    "large_boy = Find_number()\n",
    "large_boy.largest([3,4,6,7])"
   ]
  },
  {
   "cell_type": "code",
   "execution_count": null,
   "metadata": {},
   "outputs": [],
   "source": [
    "items = ['apple',\"pear\", \"apple\", \"apple\", \"banana\"]\n",
    "filter = dict()\n",
    "for key in items:\n",
    "    filter[key] = 0\n",
    "result = set(filter.keys())\n",
    "result"
   ]
  },
  {
   "cell_type": "code",
   "execution_count": null,
   "metadata": {},
   "outputs": [],
   "source": [
    "my_str = \"aaaa\"\n",
    "remove = \"h\"\n",
    "new_str = \"\"\n",
    "for i in my_str:\n",
    "    if i not in remove:\n",
    "        new_str += i\n",
    "print(new_str)\n"
   ]
  },
  {
   "cell_type": "code",
   "execution_count": null,
   "metadata": {},
   "outputs": [],
   "source": [
    "def second_largest(nums):\n",
    "    largest = None\n",
    "    sec_largest = None\n",
    "    for current_num in nums:\n",
    "        if largest == None:\n",
    "            largest = current_num\n",
    "        elif current_num > largest:\n",
    "            sec_largest = largest\n",
    "            largest = current_num\n",
    "        elif current_num == largest:\n",
    "            sec_largest = current_num\n",
    "    return sec_largest\n",
    "second_largest([23,2,35,65])\n",
    "            "
   ]
  },
  {
   "cell_type": "code",
   "execution_count": null,
   "metadata": {},
   "outputs": [],
   "source": [
    "asscci_num = 65\n",
    "for i in range(65, 123):\n",
    "    g = chr(asscci_num)\n",
    "    asscci_num += 1\n",
    "    print(g, end=\" \")"
   ]
  },
  {
   "cell_type": "code",
   "execution_count": null,
   "metadata": {},
   "outputs": [],
   "source": [
    "a = \"FGHIJKLMNOP\"\n",
    "for i in range(ord(\"G\"), ord(\"Q\")):\n",
    "    print(i)"
   ]
  },
  {
   "cell_type": "code",
   "execution_count": null,
   "metadata": {},
   "outputs": [],
   "source": []
  },
  {
   "cell_type": "code",
   "execution_count": null,
   "metadata": {},
   "outputs": [],
   "source": []
  },
  {
   "cell_type": "code",
   "execution_count": null,
   "metadata": {},
   "outputs": [],
   "source": []
  },
  {
   "cell_type": "code",
   "execution_count": null,
   "metadata": {},
   "outputs": [],
   "source": [
    "27 // 4"
   ]
  },
  {
   "cell_type": "code",
   "execution_count": null,
   "metadata": {
    "scrolled": true
   },
   "outputs": [],
   "source": [
    "\n"
   ]
  },
  {
   "cell_type": "code",
   "execution_count": null,
   "metadata": {},
   "outputs": [],
   "source": [
    "class Mpytho:\n",
    "    \n",
    "    def tow_sum(self, nums, target):\n",
    "        \"\"\"\n",
    "        this func will return indexes of \n",
    "        numbers which are equal two the target\n",
    "        \n",
    "        \"\"\"\n",
    "        numbers_found = {}\n",
    "        for i in range(len(nums)):\n",
    "            num = nums[i] \n",
    "            get_target = target - num\n",
    "            \n",
    "            if num in numbers_found:\n",
    "                return [numbers_found[num], i]\n",
    "            else:\n",
    "                numbers_found[get_target] = i\n",
    "    \n",
    "    month_days = [0, 31, 28, 31, 30, 31, 30, 31, 30, 31, 30, 31]\n",
    "    def is_leap(self, year):\n",
    "        \"\"\"\n",
    "        this func will return num of days \n",
    "        in month with year you specified\n",
    "        \n",
    "        \"\"\"\n",
    "        return year % 4 == 0 and (year % 100 != 0 or year % 400 == 0)\n",
    "\n",
    "    def days_in_month(self, year, month):\n",
    "        if not 1 <= month <= 12:\n",
    "            return \"invalid month\"\n",
    "\n",
    "        if month == 2 and self.is_leap(year):\n",
    "            return 29\n",
    "        return month_days[month]\n",
    "    \n",
    "    def pattern_of_a(self, length):\n",
    "        \"\"\"pattern of a\"\"\"\n",
    "        for row in range(length):\n",
    "            for col in range(length):\n",
    "                if ((col == 0 or col == 3) and row != 0) or ((row == 0 or row == 3) and (col>0 and col<3)):\n",
    "                    print(\" #\", end=\"\")\n",
    "                else:\n",
    "                    print(end=\"  \")\n",
    "            print()\n",
    "            \n",
    "    def sum_of_1st_last(self, nums):\n",
    "        return sum(nums[0], nums[-1]\n",
    "    \n",
    "                   \n",
    "    def sum_of_matrix(self, X, Y):\n",
    "        result = [[0,0,0], [0,0,0], [0,0,0]]\n",
    "        for i in range(len(X)):\n",
    "            for j in range(len(X[0])):\n",
    "                result[i][j] = X[i][j] + Y[i][j]\n",
    "                \n",
    "        return result\n",
    "# obj_tow_sum = Mpytho()\n",
    "# obj_tow_sum.tow_sum([2,3,4,5], 8)\n",
    "\n",
    "# obj_year = Mpytho()\n",
    "# obj_year.days_in_month(2020, 2)\n",
    "\n",
    "# obj_a = Mpytho()\n",
    "# obj_a.pattern_of_a(7)"
   ]
  },
  {
   "cell_type": "code",
   "execution_count": null,
   "metadata": {},
   "outputs": [],
   "source": []
  },
  {
   "cell_type": "code",
   "execution_count": null,
   "metadata": {},
   "outputs": [],
   "source": [
    "import numpy as np\n",
    "a = np.matrix([[2,5,9,0], [7,8, 8, 7]])\n",
    "b = np.matrix([[3,7,5,3], [4,57,8, 7]])\n",
    "print(a+b)"
   ]
  },
  {
   "cell_type": "code",
   "execution_count": null,
   "metadata": {},
   "outputs": [],
   "source": []
  },
  {
   "cell_type": "code",
   "execution_count": null,
   "metadata": {},
   "outputs": [],
   "source": []
  },
  {
   "cell_type": "code",
   "execution_count": null,
   "metadata": {},
   "outputs": [],
   "source": []
  },
  {
   "cell_type": "code",
   "execution_count": null,
   "metadata": {},
   "outputs": [],
   "source": [
    "\n"
   ]
  },
  {
   "cell_type": "code",
   "execution_count": null,
   "metadata": {},
   "outputs": [],
   "source": [
    "score = {\"a\": 1, \"c\": 3, \"b\": 3, \"e\": 1, \"d\": 2, \"g\": 2, \n",
    "         \"f\": 4, \"i\": 1, \"h\": 4, \"k\": 5, \"j\": 8, \"m\": 3, \n",
    "         \"l\": 1, \"o\": 1, \"n\": 1, \"q\": 10, \"p\": 3, \"s\": 1, \n",
    "         \"r\": 1, \"u\": 1, \"t\": 1, \"w\": 4, \"v\": 4, \"y\": 4, \n",
    "         \"x\": 8, \"z\": 10}\n",
    "def scrabble_score(word):\n",
    "    word = word.lower()\n",
    "    total = 0\n",
    "    for letter in word:\n",
    "        for leter in score:\n",
    "            if letter == leter:\n",
    "                total = total + score[leter]\n",
    "    return total\n",
    "        \n",
    "scrabble_score(\"k\")"
   ]
  },
  {
   "cell_type": "code",
   "execution_count": null,
   "metadata": {},
   "outputs": [],
   "source": [
    "team = {\"s\": 99, \"n\": 98,  \"c\": 100}\n",
    "word = \"chik\"\n",
    "total = 0\n",
    "for name in word:\n",
    "    for player in team:\n",
    "        if name == player:\n",
    "            total += team[player]\n",
    "print(total)"
   ]
  },
  {
   "cell_type": "code",
   "execution_count": null,
   "metadata": {},
   "outputs": [],
   "source": [
    ".sort()\n",
    ".count()"
   ]
  },
  {
   "cell_type": "code",
   "execution_count": null,
   "metadata": {},
   "outputs": [],
   "source": [
    "li = [(1, 'cheese'), (2, 'mushrooms'), (2, 'olives'), (2, 'pepperoni'), (3, 'sausage'), (6, 'pineapple'), (7, 'anchovies')]\n",
    "count_hunt = 0\n",
    "for j in li:\n",
    "    if j[0] == 2:\n",
    "        count_hunt += 1\n",
    "print(count_hunt)"
   ]
  },
  {
   "cell_type": "code",
   "execution_count": null,
   "metadata": {},
   "outputs": [],
   "source": [
    "def append(num):\n",
    "    for i in range(len(num)):\n",
    "        ado = num[-1] + num[-2]\n",
    "        num.append(ado)\n",
    "    return num\n",
    "    \n",
    "append([1,1,2,3])"
   ]
  },
  {
   "cell_type": "code",
   "execution_count": null,
   "metadata": {},
   "outputs": [],
   "source": [
    "nm = [1,1,2]\n",
    "ado = nm[-1] + nm[-2]\n",
    "nm.append(ado)\n",
    "print(nm)"
   ]
  },
  {
   "cell_type": "code",
   "execution_count": 69,
   "metadata": {},
   "outputs": [
    {
     "data": {
      "text/plain": [
       "[91, 94, 97, 100]"
      ]
     },
     "execution_count": 69,
     "metadata": {},
     "output_type": "execute_result"
    }
   ],
   "source": [
    "def n(n1):\n",
    "    return list(range(n1, 101, 3))\n",
    "n(91)"
   ]
  },
  {
   "cell_type": "code",
   "execution_count": 70,
   "metadata": {},
   "outputs": [
    {
     "name": "stdout",
     "output_type": "stream",
     "text": [
      "['Always', 'in the middle of our bloodiest battles', 'you lay down your arms', 'like flowering mines', '', 'to conquer me home.']\n",
      "Always\n",
      "in the middle of our bloodiest battles\n",
      "you lay down your arms\n",
      "like flowering mines\n",
      "\n",
      "to conquer me home.\n"
     ]
    }
   ],
   "source": [
    "love_maybe_lines = ['Always    ', '     in the middle of our bloodiest battles  ', 'you lay down your arms', '           like flowering mines    ','\\n' ,'   to conquer me home.    ']\n",
    "\n",
    "\n",
    "love_maybe_lines_stripped = []\n",
    "for i in love_maybe_lines:\n",
    "  love_maybe_lines_stripped.append(i.strip())\n",
    "print(love_maybe_lines_stripped)\n",
    "\n",
    "love_maybe_full = '\\n'.join(love_maybe_lines_stripped)\n",
    "\n",
    "print(love_maybe_full)\n"
   ]
  },
  {
   "cell_type": "code",
   "execution_count": 71,
   "metadata": {},
   "outputs": [],
   "source": [
    "god_wills_it_line_one = \"The very earth will disown you\"\n",
    "\n",
    "disown_placement = god_wills_it_line_one.find('disown')"
   ]
  },
  {
   "cell_type": "code",
   "execution_count": 74,
   "metadata": {},
   "outputs": [],
   "source": [
    "def poem_title_card(title, poet):\n",
    "    return \"The poem {} is written by {}.format(TITLE, POET)\""
   ]
  },
  {
   "cell_type": "code",
   "execution_count": 78,
   "metadata": {},
   "outputs": [
    {
     "data": {
      "text/plain": [
       "'The poem {} by {} was originally published in {} in {}.format(title, author, original_work, publishing_date)'"
      ]
     },
     "execution_count": 78,
     "metadata": {},
     "output_type": "execute_result"
    }
   ],
   "source": [
    "def poem_description(publishing_date, author, title, original_work):\n",
    "    poem_desc = \"The poem {} by {} was originally published in {} in {}.format(title, author, original_work, publishing_date)\"\n",
    "    return poem_desc\n",
    "poem_description(\"nick\", \"shiv\", \"chiko\", \"98\")"
   ]
  },
  {
   "cell_type": "code",
   "execution_count": 85,
   "metadata": {},
   "outputs": [
    {
     "name": "stdout",
     "output_type": "stream",
     "text": [
      "['Afterimages', 'The Shadow', 'Ecstasy', 'Georgia Dusk', 'Parting Before Daybreak', 'The Untold Want', \"Mr. Grumpledump's Song\", 'Angel Sound Mexico City', 'In Love', 'Dream Variations', 'Dreamwood']\n"
     ]
    }
   ],
   "source": [
    "j = [['Afterimages', 'Audre Lorde', '1997'], ['The Shadow', 'William Carlos Williams', '1915'], ['Ecstasy', 'Gabriela Mistral', '1925'], ['Georgia Dusk', 'Jean Toomer', '1923'], ['Parting Before Daybreak', 'An Qi', '2014'], ['The Untold Want', 'Walt Whitman', '1871'], [\"Mr. Grumpledump's Song\", 'Shel Silverstein', '2004'], ['Angel Sound Mexico City', 'Carmen Boullosa', '2013'], ['In Love', 'Kamala Suraiyya', '1965'], ['Dream Variations', 'Langston Hughes', '1994'], ['Dreamwood', 'Adrienne Rich', '1987']]\n",
    "titles = []\n",
    "for k in j:\n",
    "    titles.append(k[0])\n",
    "print(titles)"
   ]
  },
  {
   "cell_type": "code",
   "execution_count": 87,
   "metadata": {},
   "outputs": [
    {
     "data": {
      "text/plain": [
       "'hello_my_name'"
      ]
     },
     "execution_count": 87,
     "metadata": {},
     "output_type": "execute_result"
    }
   ],
   "source": [
    "greeting = [\"hello\", \"my\", \"name\"]\n",
    "\"_\".join(greeting)"
   ]
  },
  {
   "cell_type": "code",
   "execution_count": 114,
   "metadata": {},
   "outputs": [
    {
     "name": "stdout",
     "output_type": "stream",
     "text": [
      "[['white'], ['white', 'blue'], ['white', 'blue']]\n"
     ]
    }
   ],
   "source": [
    "daily = '''Edith Mcbride   ;,;$1.21   ;,;   white ;,; \n",
    "09/15/17   ,Herbert Tran   ;,;   $7.29;,; \n",
    "white&blue;,;   09/15/17 ,Paul Clarke ;,;$12.52 \n",
    ";,;   white&blue ;,; 09/15/17''' \n",
    "rep = daily.replace(';,;', '__')\n",
    "daily = rep.split(\",\")\n",
    "# print(day)\n",
    "daily_split = []\n",
    "for each in day:\n",
    "    daily_split.append(each.split(\"__\"))\n",
    "# print(daily_split)\n",
    "\n",
    "transactions_clean = []\n",
    "for i in daily_split:\n",
    "    transactions_clean2 =[]\n",
    "    for j in i:\n",
    "        transactions_clean2.append(j.replace(\"\\n\", \" \").strip(\" \"))\n",
    "    transactions_clean.append(transactions_clean2)\n",
    "\n",
    "# print(transactions_clean)\n",
    "customers = []\n",
    "sales = []\n",
    "thread_sold = []\n",
    "\n",
    "for k in transactions_clean:\n",
    "    customers.append(k[0])\n",
    "    sales.append(k[1])\n",
    "    thread_sold.append(k[2])\n",
    "    \n",
    "# print(customers)\n",
    "# print(sales)\n",
    "# print(thread_sold)\n",
    "\n",
    "total_sales = 0\n",
    "for i in sales:\n",
    "    j = (i.strip(\"$\"))\n",
    "    total_sales += float(j)\n",
    "    \n",
    "thread_sold_split = []\n",
    "for thread in thread_sold:\n",
    "    div = thread.split(\"&\")\n",
    "    thread_sold_split.append(div)\n",
    "    \n",
    "print(thread_sold_split)"
   ]
  },
  {
   "cell_type": "code",
   "execution_count": 116,
   "metadata": {},
   "outputs": [
    {
     "data": {
      "text/plain": [
       "2"
      ]
     },
     "execution_count": 116,
     "metadata": {},
     "output_type": "execute_result"
    }
   ],
   "source": [
    "def color_cont(color):\n",
    "    sum_ = 0\n",
    "    for i in thread_sold_split:\n",
    "        for j in i:\n",
    "            if j == color:\n",
    "                sum_ += 1\n",
    "    return sum_\n",
    "color_cont(\"blue\")     \n"
   ]
  },
  {
   "cell_type": "code",
   "execution_count": 127,
   "metadata": {},
   "outputs": [],
   "source": [
    "def color_count(color):\n",
    "    sum_ = 0\n",
    "    for i in thread_sold_split:\n",
    "        for j in i:\n",
    "            if j == color:\n",
    "                sum_ += 1\n",
    "    return sum_\n",
    "\n",
    "colors = ['red','yellow','green','white','black','blue','purple']\n",
    "\n",
    "# for color in colors:\n",
    "#     print(\"Thread Shed sold {0} threads of {1} thread today.\".format(color_count(color), color))"
   ]
  },
  {
   "cell_type": "code",
   "execution_count": null,
   "metadata": {},
   "outputs": [],
   "source": []
  },
  {
   "cell_type": "code",
   "execution_count": 143,
   "metadata": {},
   "outputs": [
    {
     "data": {
      "text/plain": [
       "4"
      ]
     },
     "execution_count": 143,
     "metadata": {},
     "output_type": "execute_result"
    }
   ],
   "source": [
    "letters = \"ABCDEFGHIJKLMNOPQRSTUVWXYZabcdefghijklmnopqrstuvwxyz\"\n",
    "def unique_english_letters(word):\n",
    "    uniques = 0\n",
    "    for letter in letters:\n",
    "        if letter in word:\n",
    "            uniques += 1\n",
    "    return uniques\n",
    "unique_english_letters(\"Apple\")\n"
   ]
  },
  {
   "cell_type": "code",
   "execution_count": 170,
   "metadata": {},
   "outputs": [
    {
     "name": "stdout",
     "output_type": "stream",
     "text": [
      "3\n"
     ]
    },
    {
     "data": {
      "text/plain": [
       "1"
      ]
     },
     "execution_count": 170,
     "metadata": {},
     "output_type": "execute_result"
    }
   ],
   "source": [
    "def count_multi_char_x(word, x):\n",
    "    splits = word.split(x)\n",
    "    print(splits)\n",
    "    return(len(splits)-1)\n",
    "count_char_x(\"mississippi\", \"iss\")"
   ]
  },
  {
   "cell_type": "code",
   "execution_count": 225,
   "metadata": {},
   "outputs": [
    {
     "name": "stdout",
     "output_type": "stream",
     "text": [
      "1\n",
      "4\n"
     ]
    },
    {
     "data": {
      "text/plain": [
       "'hiv'"
      ]
     },
     "execution_count": 225,
     "metadata": {},
     "output_type": "execute_result"
    }
   ],
   "source": [
    "def sub(hh, start, end):\n",
    "    start_i = 0\n",
    "    end_i = 0\n",
    "    for i in range(len(hh)):\n",
    "        if hh[i] == start:\n",
    "            start_i += i\n",
    "            print(start_i)\n",
    "        if hh[i] == end:\n",
    "            end_i += i\n",
    "            print(end_i)\n",
    "    return hh[start_i:end_i]\n",
    "\n",
    "sub(\"shivam\",\"h\",\"a\")"
   ]
  },
  {
   "cell_type": "code",
   "execution_count": 227,
   "metadata": {},
   "outputs": [],
   "source": [
    "def substring_between_letters(word, start, end):\n",
    "    start_ind = word.find(start)\n",
    "    end_ind = word.find(end)\n",
    "    if start_ind > -1 and end_ind > -1:\n",
    "        return(word[start_ind+1:end_ind])\n",
    "    return word"
   ]
  },
  {
   "cell_type": "code",
   "execution_count": 234,
   "metadata": {},
   "outputs": [
    {
     "name": "stdout",
     "output_type": "stream",
     "text": [
      "['we', 'like', 'apples']\n"
     ]
    },
    {
     "data": {
      "text/plain": [
       "True"
      ]
     },
     "execution_count": 234,
     "metadata": {},
     "output_type": "execute_result"
    }
   ],
   "source": [
    "def x_length_words(sentence, x):\n",
    "    g = sentence.split(\" \")\n",
    "    print(g)\n",
    "    for i in g:\n",
    "        if len(i) >= x:\n",
    "            return True\n",
    "        else:\n",
    "            return False\n",
    "x_length_words(\"we like apples\", 2)\n"
   ]
  },
  {
   "cell_type": "code",
   "execution_count": 256,
   "metadata": {},
   "outputs": [
    {
     "data": {
      "text/plain": [
       "False"
      ]
     },
     "execution_count": 256,
     "metadata": {},
     "output_type": "execute_result"
    }
   ],
   "source": [
    "def x_length_words(sentence, x):\n",
    "    splits = sentence.split(\" \")\n",
    "    if splits[-1].lower() == x.lower():\n",
    "        return True\n",
    "    return False\n",
    "x_length_words(\"my name is Shivam\", \"Shivam\")"
   ]
  },
  {
   "cell_type": "code",
   "execution_count": 269,
   "metadata": {},
   "outputs": [
    {
     "data": {
      "text/plain": [
       "'sia saco u'"
      ]
     },
     "execution_count": 269,
     "metadata": {},
     "output_type": "execute_result"
    }
   ],
   "source": [
    "word = \"shivam is a cool guy\"\n",
    "def every_other_letter(word):\n",
    "    em = \"\"\n",
    "    for i in range(0, len(word), 2):\n",
    "        em += word[i]\n",
    "    return em\n",
    "every_other_letter(\"shivam is a cool guy\")"
   ]
  },
  {
   "cell_type": "code",
   "execution_count": 272,
   "metadata": {},
   "outputs": [
    {
     "data": {
      "text/plain": [
       "'mavihs'"
      ]
     },
     "execution_count": 272,
     "metadata": {},
     "output_type": "execute_result"
    }
   ],
   "source": [
    "def reverse_string(my_string):\n",
    "    g = \"\"\n",
    "    for i in range(len(my_string) - 1, -1, -1):\n",
    "        g += my_string[i]\n",
    "    return g\n",
    "\n",
    "reverse_string(\"shivam\")"
   ]
  },
  {
   "cell_type": "code",
   "execution_count": 279,
   "metadata": {},
   "outputs": [
    {
     "name": "stdout",
     "output_type": "stream",
     "text": [
      "wello Horld!\n"
     ]
    },
    {
     "data": {
      "text/plain": [
       "'Lodecademy Cearn'"
      ]
     },
     "execution_count": 279,
     "metadata": {},
     "output_type": "execute_result"
    }
   ],
   "source": [
    "def make_spoonerism(word1, word2):\n",
    "    return word2[:1] + word1[1:] + \" \" + word1[:1] + word2[1:]\n",
    "\n",
    "print(make_spoonerism(\"Hello\", \"world!\"))\n",
    "make_spoonerism(\"Codecademy\", \"Learn\")"
   ]
  },
  {
   "cell_type": "code",
   "execution_count": 285,
   "metadata": {},
   "outputs": [
    {
     "data": {
      "text/plain": [
       "'shivam is a cool guy he thinks but he should be smart enough to know that.'"
      ]
     },
     "execution_count": 285,
     "metadata": {},
     "output_type": "execute_result"
    }
   ],
   "source": [
    "def add_exclamation(word):\n",
    "    chr = \"\"\n",
    "    for i in range(len(word)):\n",
    "        chr += word[i]\n",
    "    while len(chr) < 20:\n",
    "        chr += \"!\"\n",
    "    return chr\n",
    "add_exclamation(\"shivam is a cool guy he thinks but he should be smart enough to know that.\")"
   ]
  },
  {
   "cell_type": "code",
   "execution_count": 287,
   "metadata": {},
   "outputs": [
    {
     "data": {
      "text/plain": [
       "'shivam!!!!!!!!!!!!!!'"
      ]
     },
     "execution_count": 287,
     "metadata": {},
     "output_type": "execute_result"
    }
   ],
   "source": [
    "def add_exclamation(word):\n",
    "    while(len(word) < 20):\n",
    "        word += \"!\"\n",
    "    return word\n",
    "\n",
    "add_exclamation(\"shivam\")"
   ]
  },
  {
   "cell_type": "code",
   "execution_count": 297,
   "metadata": {},
   "outputs": [
    {
     "name": "stdout",
     "output_type": "stream",
     "text": [
      "36\n"
     ]
    }
   ],
   "source": [
    "import random\n",
    "random_list = [random.randint(1, 101) for i in  range(101)]\n",
    "randomer_number = random.choice(random_list)\n",
    "print(randomer_number)"
   ]
  },
  {
   "cell_type": "code",
   "execution_count": 303,
   "metadata": {},
   "outputs": [
    {
     "data": {
      "image/png": "[encoded data removed]",
      "text/plain": [
       "<Figure size 432x288 with 1 Axes>"
      ]
     },
     "metadata": {
      "needs_background": "light"
     },
     "output_type": "display_data"
    }
   ],
   "source": [
    "from matplotlib import pyplot as plt\n",
    "\n",
    "import random\n",
    "\n",
    "numbers_a = range(1, 17)\n",
    "\n",
    "numbers_b = random.sample(range(1000), 16)\n",
    "\n",
    "plt.plot(numbers_a, numbers_b)\n",
    "plt.show()"
   ]
  },
  {
   "cell_type": "code",
   "execution_count": null,
   "metadata": {},
   "outputs": [],
   "source": [
    "d = {\"nick\"}"
   ]
  },
  {
   "cell_type": "code",
   "execution_count": 334,
   "metadata": {},
   "outputs": [
    {
     "data": {
      "text/plain": [
       "1"
      ]
     },
     "execution_count": 334,
     "metadata": {},
     "output_type": "execute_result"
    }
   ],
   "source": [
    "letters = [\"A\", \"B\", \"C\", \"D\", \"E\", \"F\", \"G\", \"H\", \"I\", \"J\", \"K\", \"L\", \"M\", \"N\", \"O\", \"P\", \"Q\", \"R\", \"S\", \"T\", \"U\", \"V\", \"W\", \"X\", \"Y\", \"Z\"]\n",
    "points = [1, 3, 3, 2, 1, 4, 2, 4, 1, 8, 5, 1, 3, 4, 1, 3, 10, 1, 1, 1, 1, 4, 4, 8, 4, 10]\n",
    "\n",
    "\n",
    "letter_to_points = {letters:points for letters, points in zip(letters, points)}\n",
    "\n",
    "letter_to_points[\" \"] = 0\n",
    "word = \"A\"\n",
    "letter_to_points[\"A\"]"
   ]
  },
  {
   "cell_type": "code",
   "execution_count": 340,
   "metadata": {},
   "outputs": [
    {
     "data": {
      "text/plain": [
       "14"
      ]
     },
     "execution_count": 340,
     "metadata": {},
     "output_type": "execute_result"
    }
   ],
   "source": [
    "def score_word(word):\n",
    "    point_total = 0\n",
    "    for i in word:\n",
    "        if i in word:\n",
    "#             point_total += letter_to_points[letter]\n",
    "            point_total += letter_to_points.get(i, 0)\n",
    "    return point_total\n",
    "\n",
    "score_word(\"SHIVAM\")"
   ]
  },
  {
   "cell_type": "code",
   "execution_count": 344,
   "metadata": {},
   "outputs": [
    {
     "name": "stdout",
     "output_type": "stream",
     "text": [
      "False\n"
     ]
    }
   ],
   "source": [
    "inventory = {\"iron spear\": 12, \"invisible knife\": 30, \"needle of ambition\": 10, \"stone glove\": 20, \"the peacemaker\": 65, \"demonslayer\": 50}\n",
    " \n",
    "print(12 in inventory)"
   ]
  },
  {
   "cell_type": "code",
   "execution_count": 350,
   "metadata": {},
   "outputs": [
    {
     "data": {
      "text/plain": [
       "6"
      ]
     },
     "execution_count": 350,
     "metadata": {},
     "output_type": "execute_result"
    }
   ],
   "source": [
    "def sum_values(my_dictionary):\n",
    "    sum = 0\n",
    "    for i in my_dictionary:\n",
    "        sum += my_dictionary.get(i)\n",
    "    return sum\n",
    "sum_values({10:1, 100:2, 1000:3})"
   ]
  },
  {
   "cell_type": "code",
   "execution_count": 358,
   "metadata": {},
   "outputs": [
    {
     "data": {
      "text/plain": [
       "{10: 11, 100: 12, 1000: 13}"
      ]
     },
     "execution_count": 358,
     "metadata": {},
     "output_type": "execute_result"
    }
   ],
   "source": [
    "def add_ten(my_dictionary):\n",
    "    for i, j in my_dictionary.items():\n",
    "        my_dictionary[i] += 10\n",
    "    return my_dictionary\n",
    "add_ten({10:1, 100:2, 1000:3})"
   ]
  },
  {
   "cell_type": "code",
   "execution_count": 370,
   "metadata": {},
   "outputs": [
    {
     "data": {
      "text/plain": [
       "[1, 4]"
      ]
     },
     "execution_count": 370,
     "metadata": {},
     "output_type": "execute_result"
    }
   ],
   "source": [
    "def values_that_are_keys(my_dictionary):\n",
    "    lst = []\n",
    "    for i in my_dictionary:\n",
    "        if i in my_dictionary.values():\n",
    "            lst.append(i)\n",
    "    return lst\n",
    "values_that_are_keys({1:100, 2:1, 3:4, 4:10})                "
   ]
  },
  {
   "cell_type": "code",
   "execution_count": 395,
   "metadata": {},
   "outputs": [
    {
     "data": {
      "text/plain": [
       "'c'"
      ]
     },
     "execution_count": 395,
     "metadata": {},
     "output_type": "execute_result"
    }
   ],
   "source": [
    "def max_key(my_dictionary):\n",
    "    largest_key = float(\"-inf\") # 0\n",
    "    largest_value = float(\"-inf\") # 0\n",
    "    for key, value in my_dictionary.items():\n",
    "        if value > largest_value:\n",
    "            largest_value = value\n",
    "            largest_key = key\n",
    "    return largest_key\n",
    "max_key({\"a\":100, \"b\":10, \"c\":1000})"
   ]
  },
  {
   "cell_type": "code",
   "execution_count": 404,
   "metadata": {},
   "outputs": [
    {
     "data": {
      "text/plain": [
       "'c'"
      ]
     },
     "execution_count": 404,
     "metadata": {},
     "output_type": "execute_result"
    }
   ],
   "source": [
    "import operator\n",
    "def maxo_key(my_dict):\n",
    "    return max(my_dict.items(), key=operator.itemgetter(1))[0]\n",
    "\n",
    "maxo_key({\"a\":100, \"b\":10, \"c\":1000})  "
   ]
  },
  {
   "cell_type": "code",
   "execution_count": 412,
   "metadata": {},
   "outputs": [
    {
     "data": {
      "text/plain": [
       "{'a': 1, '': 0}"
      ]
     },
     "execution_count": 412,
     "metadata": {},
     "output_type": "execute_result"
    }
   ],
   "source": [
    "def word_length_dictionary(words):\n",
    "    dicto = {}\n",
    "    for i in words:\n",
    "        dicto[i] = len(i)\n",
    "    return dicto\n",
    "\n",
    "word_length_dictionary([\"apple\", \"dog\", \"cat\"])\n",
    "word_length_dictionary([\"a\", \"\"])"
   ]
  },
  {
   "cell_type": "code",
   "execution_count": 416,
   "metadata": {},
   "outputs": [
    {
     "data": {
      "text/plain": [
       "{0: 5}"
      ]
     },
     "execution_count": 416,
     "metadata": {},
     "output_type": "execute_result"
    }
   ],
   "source": [
    "def frequency_dictionary(words):\n",
    "    freqs = {}\n",
    "    for word in words:\n",
    "        freqs[word] = freqs.get(word, 0) + 1\n",
    "    return freqs\n",
    "\n",
    "frequency_dictionary([0,0,0,0,0])"
   ]
  },
  {
   "cell_type": "code",
   "execution_count": 420,
   "metadata": {},
   "outputs": [
    {
     "data": {
      "text/plain": [
       "2"
      ]
     },
     "execution_count": 420,
     "metadata": {},
     "output_type": "execute_result"
    }
   ],
   "source": [
    "def unique_values(my_dictionary):\n",
    "    seen_values = []\n",
    "    for j in my_dictionary.values():\n",
    "        if j not in seen_values:\n",
    "            seen_values.append(j)\n",
    "    return len(seen_values)\n",
    "\n",
    "unique_values({0:3, 1:1, 4:1, 5:3})"
   ]
  },
  {
   "cell_type": "code",
   "execution_count": 434,
   "metadata": {},
   "outputs": [
    {
     "data": {
      "text/plain": [
       "{'S': 7}"
      ]
     },
     "execution_count": 434,
     "metadata": {},
     "output_type": "execute_result"
    }
   ],
   "source": [
    "# Write your count_first_letter function here:\n",
    "def count_first_letter(names):\n",
    "    letters = {}\n",
    "    for key in names:\n",
    "        first_letter = key[0]\n",
    "        if first_letter not in letters:\n",
    "            letters[first_letter] = 0\n",
    "        letters[first_letter] += len(names[key])\n",
    "    return letters\n",
    "\n",
    "count_first_letter({\"Stark\": [\"Ned\", \"Robb\", \"Sansa\"], \"Snow\" : [\"Jon\"], \"Sannister\": [\"Jaime\", \"Cersei\", \"Tywin\"]})"
   ]
  },
  {
   "cell_type": "code",
   "execution_count": 438,
   "metadata": {},
   "outputs": [
    {
     "data": {
      "text/plain": [
       "4.7"
      ]
     },
     "execution_count": 438,
     "metadata": {},
     "output_type": "execute_result"
    }
   ],
   "source": [
    "round(4.66, 1)"
   ]
  },
  {
   "cell_type": "markdown",
   "metadata": {},
   "source": [
    "# classes"
   ]
  },
  {
   "cell_type": "code",
   "execution_count": 442,
   "metadata": {},
   "outputs": [
    {
     "data": {
      "text/plain": [
       "'We are not goona keep you'"
      ]
     },
     "execution_count": 442,
     "metadata": {},
     "output_type": "execute_result"
    }
   ],
   "source": [
    "# don't forget self\n",
    "class Rules:\n",
    "    def return_me(self):\n",
    "        return \"We are not goona keep you\"\n",
    "    \n",
    "obj = Rules()\n",
    "obj.return_me()"
   ]
  },
  {
   "cell_type": "code",
   "execution_count": 444,
   "metadata": {},
   "outputs": [
    {
     "data": {
      "text/plain": [
       "__main__.Facade"
      ]
     },
     "execution_count": 444,
     "metadata": {},
     "output_type": "execute_result"
    }
   ],
   "source": [
    "class Facade:\n",
    "    pass\n",
    "\n",
    "f1 = Facade()\n",
    "f1_type = type(f1)\n",
    "f1_type  #means Facade main class"
   ]
  },
  {
   "cell_type": "code",
   "execution_count": 446,
   "metadata": {},
   "outputs": [],
   "source": [
    "class Circle:\n",
    "    pi = 3.14\n",
    "\n",
    "    def area(self, radius):\n",
    "        return Circle.pi * radius ** 2\n",
    "\n",
    "circle = Circle()\n",
    "pizza_area = circle.area(12 / 2)\n",
    "teaching_table_area = circle.area(36 / 2)\n",
    "round_room_area = circle.area(11460 / 2)"
   ]
  },
  {
   "cell_type": "code",
   "execution_count": 452,
   "metadata": {},
   "outputs": [
    {
     "name": "stdout",
     "output_type": "stream",
     "text": [
      "New circle with diameter: 36\n"
     ]
    }
   ],
   "source": [
    "class Circle:\n",
    "    pi = 3.14\n",
    "\n",
    "  # Add constructor here:\n",
    "    def __init__(self, diameter):\n",
    "        print(f\"New circle with diameter: {diameter}\")\n",
    "        \n",
    "    # Add constructor here:\n",
    "    def __init__(self, diameter):\n",
    "        print(\"New circle with diameter: {diameter}\".format(diameter = diameter))\n",
    "\n",
    "\n",
    "teaching_table = Circle(36)\n"
   ]
  },
  {
   "cell_type": "code",
   "execution_count": 461,
   "metadata": {},
   "outputs": [
    {
     "name": "stdout",
     "output_type": "stream",
     "text": [
      "hey the drug store name is DRUGS and food store name FOOD\n",
      "DRUGS\n"
     ]
    }
   ],
   "source": [
    "# We dont need to declare methods anymore\n",
    "class Store:\n",
    "    pass\n",
    "\n",
    "food_store = Store()\n",
    "drug_store = Store()\n",
    "\n",
    "food_store.store_name = \"FOOD\"\n",
    "drug_store.store_name = \"DRUGS\"\n",
    "\n",
    "#food_store.store_name() # 'str' object is not callable and also it is not a method\n",
    "\n",
    "how_to_make_it_work = f\"hey the drug store name is {drug_store.store_name} and food store name {food_store.store_name}\"\n",
    "print(how_to_make_it_work)\n",
    "print(drug_store.store_name)\n"
   ]
  },
  {
   "cell_type": "code",
   "execution_count": 464,
   "metadata": {},
   "outputs": [
    {
     "name": "stdout",
     "output_type": "stream",
     "text": [
      "hwllo\n",
      "You are going to die\n"
     ]
    }
   ],
   "source": [
    "class Tweet:\n",
    "    pass\n",
    "\n",
    "a = Tweet()\n",
    "b = Tweet()\n",
    "\n",
    "a.message = \"hwllo\" # instance objects stay with the instance and die with the instance they don't affect the main class\n",
    "print(a.message) \n",
    "\n",
    "b.message = \"You are going to die\"\n",
    "print(b.message)"
   ]
  },
  {
   "cell_type": "code",
   "execution_count": 466,
   "metadata": {},
   "outputs": [
    {
     "name": "stdout",
     "output_type": "stream",
     "text": [
      "Welcome\n"
     ]
    }
   ],
   "source": [
    "class Greet:\n",
    "    def __init__(self): # __init__ doesn't return anything and should always return None .\n",
    "        print(\"Welcome\")\n",
    "    \n",
    "a = Greet()"
   ]
  },
  {
   "cell_type": "code",
   "execution_count": 471,
   "metadata": {},
   "outputs": [
    {
     "data": {
      "text/plain": [
       "'hey you are welcome'"
      ]
     },
     "execution_count": 471,
     "metadata": {},
     "output_type": "execute_result"
    }
   ],
   "source": [
    "class Greet:\n",
    "    def __init__(self, message): # __init__ doesn't return anything and should always return None .\n",
    "#         self.message = message\n",
    "        self.m = message\n",
    "    \n",
    "a = Greet(\"hey you are welcome\")\n",
    "a.m"
   ]
  },
  {
   "cell_type": "code",
   "execution_count": 481,
   "metadata": {},
   "outputs": [
    {
     "name": "stdout",
     "output_type": "stream",
     "text": [
      "an instane of tweet\n",
      "5\n"
     ]
    },
    {
     "ename": "TypeError",
     "evalue": "pritn_tweet() missing 1 required positional argument: 'self'",
     "output_type": "error",
     "traceback": [
      "\u001b[1;31m---------------------------------------------------------------------------\u001b[0m",
      "\u001b[1;31mTypeError\u001b[0m                                 Traceback (most recent call last)",
      "\u001b[1;32m<ipython-input-481-e01b8396cf93>\u001b[0m in \u001b[0;36m<module>\u001b[1;34m\u001b[0m\n\u001b[0;32m     12\u001b[0m \u001b[0mnum\u001b[0m\u001b[1;33m.\u001b[0m\u001b[0mpritn_tweet\u001b[0m\u001b[1;33m(\u001b[0m\u001b[1;33m)\u001b[0m\u001b[1;33m\u001b[0m\u001b[1;33m\u001b[0m\u001b[0m\n\u001b[0;32m     13\u001b[0m \u001b[1;33m\u001b[0m\u001b[0m\n\u001b[1;32m---> 14\u001b[1;33m \u001b[0mTweet\u001b[0m\u001b[1;33m.\u001b[0m\u001b[0mpritn_tweet\u001b[0m\u001b[1;33m(\u001b[0m\u001b[1;33m)\u001b[0m\u001b[1;33m\u001b[0m\u001b[1;33m\u001b[0m\u001b[0m\n\u001b[0m",
      "\u001b[1;31mTypeError\u001b[0m: pritn_tweet() missing 1 required positional argument: 'self'"
     ]
    }
   ],
   "source": [
    "class Tweet:\n",
    "    def __init__(self, message):\n",
    "        self.message = message\n",
    "    \n",
    "    def pritn_tweet(self):\n",
    "        print(self.message)\n",
    "        \n",
    "t = Tweet(\"an instane of tweet\")\n",
    "t.pritn_tweet()\n",
    "\n",
    "num = Tweet(5)\n",
    "num.pritn_tweet()\n",
    "\n",
    "Tweet.pritn_tweet()"
   ]
  },
  {
   "cell_type": "code",
   "execution_count": 480,
   "metadata": {},
   "outputs": [
    {
     "name": "stdout",
     "output_type": "stream",
     "text": [
      "an instane of tweet\n",
      "5\n"
     ]
    }
   ],
   "source": [
    "Tweet.pritn_tweet(t)\n",
    "Tweet.pritn_tweet(num)"
   ]
  },
  {
   "cell_type": "code",
   "execution_count": 489,
   "metadata": {},
   "outputs": [
    {
     "name": "stdout",
     "output_type": "stream",
     "text": [
      "cool\n",
      "coffee\n",
      "Tea\n"
     ]
    },
    {
     "data": {
      "text/plain": [
       "{'good': 'Tea'}"
      ]
     },
     "execution_count": 489,
     "metadata": {},
     "output_type": "execute_result"
    }
   ],
   "source": [
    "class glass:\n",
    "    def __init__(sel, good):\n",
    "        sel.good = good\n",
    "        print(good)\n",
    "        \n",
    "a = glass(\"cool\")\n",
    "a.good\n",
    "\n",
    "g = glass(\"coffee\")\n",
    "g.good\n",
    "g = glass(\"Tea\")\n",
    "g.good\n",
    "\n",
    "vars(g)"
   ]
  },
  {
   "cell_type": "raw",
   "metadata": {},
   "source": []
  },
  {
   "cell_type": "code",
   "execution_count": 496,
   "metadata": {},
   "outputs": [
    {
     "name": "stdout",
     "output_type": "stream",
     "text": [
      "{'name1': 'shivam', 'num2': 45, 'name3': 'Rishab'}\n"
     ]
    }
   ],
   "source": [
    "class Geeks: \n",
    "    def __init__(self, name1, num2 = 46, name3 = \"Rishab\"): \n",
    "        self.name1 = name1 \n",
    "        self.num2 = num2 \n",
    "        self.name3 = name3 \n",
    "\n",
    "GeeksforGeeks = Geeks(\"shivam\", 45) \n",
    "print(vars(GeeksforGeeks))"
   ]
  },
  {
   "cell_type": "code",
   "execution_count": 497,
   "metadata": {},
   "outputs": [
    {
     "name": "stdout",
     "output_type": "stream",
     "text": [
      "{'temp': 1}\n"
     ]
    }
   ],
   "source": [
    "def func():\n",
    "    pass\n",
    "\n",
    "func.temp = 1\n",
    "\n",
    "print(func.__dict__)"
   ]
  },
  {
   "cell_type": "code",
   "execution_count": 499,
   "metadata": {},
   "outputs": [],
   "source": [
    "class TempClass:\n",
    "    a = 1\n",
    "    def temp_function(self):\n",
    "        pass\n",
    "\n",
    "# print(TempClass.__dict__)\n"
   ]
  },
  {
   "cell_type": "markdown",
   "metadata": {},
   "source": [
    "class attributes and object att"
   ]
  },
  {
   "cell_type": "code",
   "execution_count": 507,
   "metadata": {},
   "outputs": [
    {
     "name": "stdout",
     "output_type": "stream",
     "text": [
      "shiv 21 forced_email.com\n",
      "rick 31 forced_email.com\n"
     ]
    }
   ],
   "source": [
    "class Person:\n",
    "    # class attributes are not unique if we change its attribute it will effects its instances\n",
    "    email = \"forced_email.com\"\n",
    "    def __init__(self, name, age):\n",
    "        self.name = name\n",
    "        self.age = age\n",
    "\n",
    "# objects attributs are unique to each other and they have there own names\n",
    "p1 = Person(\"shiv\", 21)\n",
    "p2 = Person(\"rick\", 31)\n",
    "\n",
    "print(p1.name, p1.age,  p1.email)\n",
    "print(p2.name, p2.age, p2.email)"
   ]
  },
  {
   "cell_type": "code",
   "execution_count": 533,
   "metadata": {
    "scrolled": true
   },
   "outputs": [
    {
     "data": {
      "text/plain": [
       "True"
      ]
     },
     "execution_count": 533,
     "metadata": {},
     "output_type": "execute_result"
    }
   ],
   "source": [
    "class Person:\n",
    "    def __init__(self, name, age=45, location=\"ind\"):\n",
    "        self.name = name\n",
    "        self.age = age\n",
    "        self.location = location\n",
    "\n",
    "x = Person(name=\"rick\")\n",
    "x = hasattr(x, 'name')\n",
    "x"
   ]
  },
  {
   "cell_type": "code",
   "execution_count": 537,
   "metadata": {},
   "outputs": [
    {
     "data": {
      "text/plain": [
       "'rick'"
      ]
     },
     "execution_count": 537,
     "metadata": {},
     "output_type": "execute_result"
    }
   ],
   "source": [
    "class Person:\n",
    "    def __init__(self, name=\"shiv\", age=45, location=\"ind\"):\n",
    "        self.name = name\n",
    "        self.age = age\n",
    "        self.location = location\n",
    "\n",
    "x = Person(name=\"rick\")\n",
    "x = getattr(x, 'name')\n",
    "x"
   ]
  },
  {
   "cell_type": "code",
   "execution_count": 545,
   "metadata": {},
   "outputs": [
    {
     "name": "stdout",
     "output_type": "stream",
     "text": [
      "<class 'str'>\n",
      "see\n",
      "<class 'list'>\n",
      "see\n"
     ]
    }
   ],
   "source": [
    "# count is a method of some objects, but not of others. For instance, \n",
    "# dict and int objects do not have a count() method, and therefore no \n",
    "# count attribute. Strings and lists do have that attribute.\n",
    "# hasattr is a built in function for testing whether objects have a particular attribute, or not\n",
    "\n",
    "can_we_count_it = [{'s': False}, \"sassafrass\", 18, [\"a\", \"c\", \"s\", \"d\", \"s\"]]\n",
    "for el in can_we_count_it:\n",
    "    if hasattr(el, \"count\"):\n",
    "        print(type(el))\n",
    "        print(\"see\")"
   ]
  },
  {
   "cell_type": "code",
   "execution_count": 548,
   "metadata": {},
   "outputs": [
    {
     "name": "stdout",
     "output_type": "stream",
     "text": [
      "<class 'dict'> does not have the count attribute :(\n",
      "<class 'str'> has the count attribute!\n",
      "<class 'int'> does not have the count attribute :(\n",
      "<class 'list'> has the count attribute!\n"
     ]
    }
   ],
   "source": [
    "can_we_count_it = [{'s': False}, \"sassafrass\", 18, [\"a\", \"c\", \"s\", \"d\", \"s\"]]\n",
    "\n",
    "for el in can_we_count_it:\n",
    "    if hasattr(el, \"count\"):\n",
    "        print(str(type(el)) + \" has the count attribute!\")\n",
    "    else:\n",
    "        print(str(type(el)) + \" does not have the count attribute :(\")"
   ]
  },
  {
   "cell_type": "code",
   "execution_count": 551,
   "metadata": {},
   "outputs": [
    {
     "name": "stdout",
     "output_type": "stream",
     "text": [
      "Circle with radius 6.0\n",
      "Circle with radius 18.0\n",
      "Circle with radius 5730.0\n"
     ]
    }
   ],
   "source": [
    "class Circle:\n",
    "    pi = 3.14\n",
    "\n",
    "    def __init__(self, diameter):\n",
    "        self.radius = diameter / 2\n",
    "\n",
    "    def area(self):\n",
    "        return self.pi * self.radius ** 2\n",
    "\n",
    "    def circumference(self):\n",
    "        return self.pi * 2 * self.radius\n",
    "\n",
    "    def __repr__(self):\n",
    "        return \"Circle with radius {radius}\".format(radius = self.radius)\n",
    "  \n",
    "\n",
    "medium_pizza = Circle(12)\n",
    "print(medium_pizza)\n",
    "teaching_table = Circle(36)\n",
    "print(teaching_table)\n",
    "round_room = Circle(11460)\n",
    "print(round_room)"
   ]
  },
  {
   "cell_type": "code",
   "execution_count": 576,
   "metadata": {},
   "outputs": [
    {
     "name": "stdout",
     "output_type": "stream",
     "text": [
      "Sandro Botticelli 12 [<__main__.Grade object at 0x0000021DE1362048>]\n"
     ]
    }
   ],
   "source": [
    "class Student:\n",
    "    def __init__(self, name, year):\n",
    "        self.name = name\n",
    "        self.year = year\n",
    "        self.grades = []\n",
    "        self.attendance = {}\n",
    "\n",
    "    def add_grade(self, grade):\n",
    "        if type(grade) is Grade:\n",
    "            self.grades.append(grade)\n",
    "\n",
    "    def repr(self):\n",
    "        print(self.name, self.year, self.grades)\n",
    "    \n",
    "\n",
    "roger = Student(\"Roger van der Weyden\", 10)\n",
    "sandro = Student(\"Sandro Botticelli\", 12)\n",
    "pieter = Student(\"Pieter Bruegel the Elder\", 8)\n",
    "\n",
    "class Grade:\n",
    "    minimum_passing = 65\n",
    "    def __init__(self, score):\n",
    "        self.score = score\n",
    "\n",
    "    def is_passing(self):\n",
    "        if self.score >= minimum_passing:\n",
    "            return True\n",
    "        else:\n",
    "            return False\n",
    "        \n",
    "\n",
    "sandroS = Student(\"Sandro Botticelli\", 12)\n",
    "sandroS.add_grade(Grade(100))\n",
    "sandroS.repr()  # MAYBE bz we checking that type of grade  at add_grade method"
   ]
  },
  {
   "cell_type": "code",
   "execution_count": 577,
   "metadata": {},
   "outputs": [
    {
     "name": "stdout",
     "output_type": "stream",
     "text": [
      "Hiya Devorah!\n"
     ]
    }
   ],
   "source": [
    "class User:\n",
    "  def __init__(self, name):\n",
    "    self.name = name\n",
    "    \n",
    "  def __repr__(self):\n",
    "    return \"Hiya {}!\".format(self.name)\n",
    "  \n",
    "devorah = User(\"Devorah\")\n",
    "print(devorah)"
   ]
  },
  {
   "cell_type": "code",
   "execution_count": 578,
   "metadata": {},
   "outputs": [
    {
     "data": {
      "text/plain": [
       "True"
      ]
     },
     "execution_count": 578,
     "metadata": {},
     "output_type": "execute_result"
    }
   ],
   "source": [
    "class HoldsFive:\n",
    "  five = 5\n",
    "  \n",
    "five_holder = HoldsFive()\n",
    " \n",
    "hasattr(five_holder, 'five')"
   ]
  },
  {
   "cell_type": "code",
   "execution_count": 579,
   "metadata": {},
   "outputs": [
    {
     "data": {
      "text/plain": [
       "int"
      ]
     },
     "execution_count": 579,
     "metadata": {},
     "output_type": "execute_result"
    }
   ],
   "source": [
    "type(5)"
   ]
  },
  {
   "cell_type": "code",
   "execution_count": null,
   "metadata": {},
   "outputs": [],
   "source": []
  },
  {
   "cell_type": "code",
   "execution_count": 5,
   "metadata": {},
   "outputs": [
    {
     "name": "stdout",
     "output_type": "stream",
     "text": [
      "Scrabble Game\n",
      "Enter a word: shivam\n",
      "*****************************\n",
      "* Letter * Score *\n",
      "‘*****************************’\n",
      "s  *  1\n",
      "‘*****************************’\n",
      "h  *  1\n",
      "‘*****************************’\n",
      "i  *  4\n",
      "‘*****************************’\n",
      "v  *  4\n",
      "‘*****************************’\n",
      "a  *  1\n",
      "‘*****************************’\n",
      "m  *  1\n",
      "‘*****************************’\n",
      "Total Score : 12\n"
     ]
    }
   ],
   "source": [
    "letters=[]\n",
    "score=0\n",
    "count=0\n",
    "\n",
    "#Defining score feature\n",
    "def checkScores(x):\n",
    "    return {\n",
    "        'a': 1,\n",
    "        'b': 3,\n",
    "        'c': 3,\n",
    "        'd': 1,\n",
    "        'e': 2,\n",
    "        'f': 2,\n",
    "        'g': 4,\n",
    "        'h': 1,\n",
    "        'i': 4,\n",
    "        'j': 5,\n",
    "        'k': 8,\n",
    "        'l': 3,\n",
    "        'm': 1,\n",
    "        'n': 1,\n",
    "        'o': 1,\n",
    "        'p': 10,\n",
    "        'q': 3,\n",
    "        'r': 1,\n",
    "        's': 1,\n",
    "        't': 1,\n",
    "        'u': 1,\n",
    "        'v': 4,\n",
    "        'w': 4,\n",
    "        'x': 4,\n",
    "        'y': 8,\n",
    "        'z': 10\n",
    "    }.get(x.lower(), 0)\n",
    "\n",
    "print(\"Scrabble Game\")\n",
    "word = input(\"Enter a word: \")\n",
    "letters = [x.strip() for x in word]\n",
    "\n",
    "print(\"*****************************\")\n",
    "print(\"* Letter * Score *\")\n",
    "print(\"‘*****************************’\")\n",
    "\n",
    "#Loop to display letters and calculate score for each letters\n",
    "for count in range(len(letters)):\n",
    "    checkPoint = int(checkScores(letters[count]))\n",
    "    if checkPoint != 0 :\n",
    "        print(letters[count],\" * \",checkPoint)\n",
    "        print(\"‘*****************************’\")\n",
    "        if score ==0 :\n",
    "            score = checkPoint\n",
    "        else:\n",
    "            score = score +checkPoint\n",
    "\n",
    "print (\"Total Score :\",score)"
   ]
  },
  {
   "cell_type": "code",
   "execution_count": null,
   "metadata": {},
   "outputs": [],
   "source": [
    "letters = [\"A\", \"B\", \"C\", \"D\", \"E\", \"F\", \"G\", \"H\", \"I\", \"J\", \"K\", \"L\",\n",
    "           \"M\", \"N\", \"O\", \"P\", \"Q\", \"R\", \"S\", \"T\", \"U\", \"V\", \"W\", \"X\", \"Y\", \"Z\"]\n",
    "points = [1, 3, 3, 2, 1, 4, 2, 4, 1, 8, 5, 1,\n",
    "          3, 4, 1, 3, 10, 1, 1, 1, 1, 4, 4, 8, 4, 10]\n",
    "\n",
    "\n",
    "letter_to_points = {letters: points for letters,\n",
    "                    points in zip(letters, points)}\n",
    "print(letter_to_points)\n",
    "letter_to_points[\" \"] = 0\n",
    "\n",
    "name = input(\"Enter your name : \")\n",
    "def score_word(word):\n",
    "    point_total = 0\n",
    "    for letter in word:\n",
    "        if letter in word:\n",
    "            # point_total += letter_to_points[letter]\n",
    "            point_total += letter_to_points.get(letter, 0)\n",
    "    return point_total\n",
    "\n",
    "\n",
    "player_score = score_word(name)\n",
    "print(player_score)\n",
    "\n",
    "\n",
    "player_to_words = {\"Player1\": [\"BLUE\", \"TENNIS\", \"EXIT\"], \"wordNerd\": [\"EARTH\", \"EYES\", \"MACHINE\"], \"Lexi Con\": [\n",
    "    \"ERASER\", \"BELLY\", \"HUSKY\"], \"Prof Reader\": [\"ZAP\", \"COMA\", \"PERIOD\"]}\n",
    "\n",
    "player_to_points = {}\n",
    "\n",
    "for player, words in player_to_words.items():\n",
    "    player_points = 0\n",
    "    for word in words:\n",
    "        player_points += score_word(word)\n",
    "    player_to_points[player] = player_points\n",
    "\n",
    "print(player_to_points)\n",
    "\n",
    "\n",
    "\n",
    "#  YOY DID'T JSUT FINISHED YET"
   ]
  },
  {
   "cell_type": "code",
   "execution_count": null,
   "metadata": {},
   "outputs": [],
   "source": []
  },
  {
   "cell_type": "code",
   "execution_count": 9,
   "metadata": {},
   "outputs": [
    {
     "data": {
      "text/plain": [
       "{'Q': 'hello', 'k': 34}"
      ]
     },
     "execution_count": 9,
     "metadata": {},
     "output_type": "execute_result"
    }
   ],
   "source": [
    "dicto = {\"Q\": \"hi\", \"k\": 34}\n",
    "dictoo = {\"n\": 23, \"k\": 89}\n",
    "\n",
    "dicto.update({\"Q\": \"hello\"})\n",
    "dicto"
   ]
  },
  {
   "cell_type": "code",
   "execution_count": 7,
   "metadata": {},
   "outputs": [
    {
     "name": "stdout",
     "output_type": "stream",
     "text": [
      "Woof!\n"
     ]
    },
    {
     "data": {
      "text/plain": [
       "'Meaaoo!'"
      ]
     },
     "execution_count": 7,
     "metadata": {},
     "output_type": "execute_result"
    }
   ],
   "source": [
    "class Dog:\n",
    "\tdef __init__(self, name):\n",
    "\t\tself._name = name\n",
    "\tdef speak(self):\n",
    "\t\treturn \"Woof!\"\n",
    "\n",
    "class Cat:\n",
    "\tdef __init__(self, name):\n",
    "\t\tself._name = name\n",
    "\tdef speak(self):\n",
    "\t\treturn \"Meaaoo!\"\n",
    "\n",
    "def get_pet(pet=\"dog\"): #the default pet\n",
    "\tpets = dict(dog=Dog(\"hope\"), cat=Cat(\"peace\"))\n",
    "\treturn pets[pet]\n",
    "\n",
    "g = get_pet(\"dog\")\n",
    "print(g.speak())\n",
    "\n",
    "c = get_pet(\"cat\")\n",
    "c.speak()"
   ]
  },
  {
   "cell_type": "code",
   "execution_count": 8,
   "metadata": {},
   "outputs": [
    {
     "name": "stdout",
     "output_type": "stream",
     "text": [
      "Our pet is 'Dog'!\n",
      "Our pet says hello by 'Woof!'\n",
      "Its food is 'Dog Food!'!\n"
     ]
    }
   ],
   "source": [
    "class Dog:\n",
    "\tdef speak(self):\n",
    "\t\treturn \"Woof!\"\n",
    "\n",
    "\tdef __str__(self):\n",
    "\t\treturn \"Dog\"\n",
    "\n",
    "\n",
    "class DogFactory:\n",
    "\n",
    "\tdef get_pet(self):\n",
    "\t\treturn Dog()\n",
    "\n",
    "\tdef get_food(self):\n",
    "\t\treturn \"Dog pizza!\"\n",
    "\n",
    "\n",
    "class PetStore:\n",
    "\tdef __init__(self, pet_factory=None):\n",
    "\t\tself._pet_factory = pet_factory\n",
    "\n",
    "\n",
    "\tdef show_pet(self):\n",
    "\t\tpet = self._pet_factory.get_pet()\n",
    "\t\tpet_food = self._pet_factory.get_food()\n",
    "\n",
    "\t\tprint(\"Our pet is '{}'!\".format(pet))\n",
    "\t\tprint(\"Our pet says hello by '{}'\".format(pet.speak()))\n",
    "\t\tprint(\"Its food is '{}'!\".format(pet_food))\n",
    "\n",
    "\n",
    "#Create a Concrete Factory\n",
    "factory = DogFactory()\n",
    "\n",
    "#Create a pet store housing our Abstract Factory\n",
    "shop = PetStore(factory)\n",
    "\n",
    "#Invoke the utility method to show the details of our pet\n",
    "shop.show_pet()\n",
    "\n"
   ]
  },
  {
   "cell_type": "code",
   "execution_count": null,
   "metadata": {},
   "outputs": [],
   "source": []
  },
  {
   "cell_type": "code",
   "execution_count": null,
   "metadata": {},
   "outputs": [],
   "source": []
  }
 ],
 "metadata": {
  "kernelspec": {
   "display_name": "Python 3",
   "language": "python",
   "name": "python3"
  },
  "language_info": {
   "codemirror_mode": {
    "name": "ipython",
    "version": 3
   },
   "file_extension": ".py",
   "mimetype": "text/x-python",
   "name": "python",
   "nbconvert_exporter": "python",
   "pygments_lexer": "ipython3",
   "version": "3.7.4"
  }
 },
 "nbformat": 4,
 "nbformat_minor": 2
}
