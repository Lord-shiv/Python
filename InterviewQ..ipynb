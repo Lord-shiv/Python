{
 "cells": [
  {
   "cell_type": "code",
   "execution_count": null,
   "metadata": {},
   "outputs": [],
   "source": [
    "# 1. Two Sum\n",
    "# Example 1:\n",
    "\n",
    "# Input: nums = [2,7,11,15], target = 9\n",
    "# Output: [0,1]\n",
    "# Output: Because nums[0] + nums[1] == 9, we return [0, 1].\n",
    "\n",
    "# Input: nums = [3,2,4], target = 6\n",
    "# Output: [1,2]\n",
    "    \n",
    "class Solution:\n",
    "    def twoSum(self, nums: List[int], target: int) -> List[int]:\n",
    "        complementMap = dict()\n",
    "        for i in range(len(nums)):\n",
    "            num = nums[i]\n",
    "            complement = target - num\n",
    "            if num in complementMap:\n",
    "                return [complementMap[num], i]\n",
    "            else:\n",
    "                complementMap[complement] = i"
   ]
  },
  {
   "cell_type": "code",
   "execution_count": null,
   "metadata": {},
   "outputs": [],
   "source": [
    "def Twosum(nums, target):\n",
    "    \n",
    "    fixt = dict()\n",
    "    \n",
    "    for i in range(len(nums)):\n",
    "        \n",
    "            num = nums[i] #0,1,2\n",
    "            \n",
    "            complement = target - num # 6-0=6\n",
    "            \n",
    "            if num in fixt: #4in fixt\n",
    "                \n",
    "                return [fixt[num], i] #fixt(2), 1\n",
    "            \n",
    "            else:\n",
    "                \n",
    "                fixt[complement] = i #fixt[4] = 1\n",
    "Twosum([3,2,4], 6)"
   ]
  },
  {
   "cell_type": "code",
   "execution_count": null,
   "metadata": {},
   "outputs": [],
   "source": [
    "def enough(cap, on, wait):\n",
    "#     return wait + on == cap\n",
    "#     if on == cap:\n",
    "#         return 0\n",
    "#     if on < cap:\n",
    "#         on + wait == cap\n",
    "#     if on < cap:\n",
    "#         need = cap - on\n",
    "#         if need == wait:\n",
    "#             return 0\n",
    "#         else:\n",
    "#             return abs(need - wait)\n",
    "    total = wait + on\n",
    "    if total == cap:\n",
    "        return 0\n",
    "    if total < cap:\n",
    "        return 0\n",
    "    if total > cap:\n",
    "        return total - cap\n",
    "    \n",
    "\n",
    "enough(20,5,5)\n",
    "# enough(100, 60, 50)"
   ]
  },
  {
   "cell_type": "code",
   "execution_count": null,
   "metadata": {},
   "outputs": [],
   "source": [
    "def enough(cap, on, wait):\n",
    "    return max(0, wait - (cap - on))\n"
   ]
  },
  {
   "cell_type": "code",
   "execution_count": null,
   "metadata": {},
   "outputs": [],
   "source": [
    "max(0, 5 - (20-5))"
   ]
  },
  {
   "cell_type": "code",
   "execution_count": null,
   "metadata": {},
   "outputs": [],
   "source": [
    "def check_exam(arr1,arr2):\n",
    "    so = 0\n",
    "    for i,j in enumerate(arr1):\n",
    "#         for m,n in enumerate(arr2):\n",
    "        if j in arr2:\n",
    "            so += 4\n",
    "#             if j != n:\n",
    "#                 so -= 1\n",
    "#             if so < 0:\n",
    "#                 return 0\n",
    "    return so\n",
    "check_exam([\"a\", \"a\", \"b\", \"b\"], [\"a\", \"c\", \"b\", \"d\"])  "
   ]
  },
  {
   "cell_type": "code",
   "execution_count": null,
   "metadata": {},
   "outputs": [],
   "source": [
    "def check_exa(arr1,arr2):\n",
    "    total = 0\n",
    "    for i in range(0, 4):\n",
    "        if \n",
    "            \n",
    "check_exa([\"a\", \"a\", \"b\", \"b\"], [\"a\", \"c\", \"b\", \"d\"])"
   ]
  },
  {
   "cell_type": "code",
   "execution_count": null,
   "metadata": {},
   "outputs": [],
   "source": [
    "def check_exa(arr1,arr2):\n",
    "    total = 0\n",
    "    for i in arr1:\n",
    "#     for i in range(len(arr1)):\n",
    "        for j in arr2:\n",
    "            if i == j:\n",
    "                total += 4\n",
    "        if i != j:\n",
    "            total -= 1\n",
    "        if total < 0:\n",
    "            return 0\n",
    "#         for j in range(len(arr2)):\n",
    "#             if arr2[j] == arr1[i]:\n",
    "#                 total += 4\n",
    "#             if arr1[i] != arr2[j]:\n",
    "#                 total -= 1\n",
    "    return total\n",
    "check_exa([\"a\", \"a\", \"b\", \"b\"], [\"a\", \"c\", \"b\", \"d\"])"
   ]
  },
  {
   "cell_type": "code",
   "execution_count": null,
   "metadata": {},
   "outputs": [],
   "source": [
    "def check_exam(arr1,arr2):\n",
    "    total = 0\n",
    "    for i,j in zip(arr1, arr2):\n",
    "        if i == j:\n",
    "            total += 4\n",
    "        if i != j:\n",
    "            total -= 1\n",
    "        if i\n",
    "        if total < 0:\n",
    "            return 0\n",
    "    return total\n",
    "\n",
    "    \n",
    "check_exam([\"a\", \"a\", \"b\", \"b\"], [\"a\", \"c\", \"b\", \"\"]) "
   ]
  },
  {
   "cell_type": "code",
   "execution_count": null,
   "metadata": {},
   "outputs": [],
   "source": [
    "def check_exam(arr1,arr2):\n",
    "    return [[x for x in arr1 if x not in arr2], [x for x in arr2 if x not in arr1]]\n",
    "check_exam([\"a\", \"a\", \"c\", \"b\"], [\"a\", \"a\", \"b\",  \"\"])"
   ]
  },
  {
   "cell_type": "code",
   "execution_count": 2,
   "metadata": {},
   "outputs": [
    {
     "name": "stdout",
     "output_type": "stream",
     "text": [
      "1\n",
      "2\n",
      "3\n",
      "5\n"
     ]
    }
   ],
   "source": [
    "arr = [1,2,3,5]\n",
    "for i,n in enumerate(arr):\n",
    "    if n > i:\n",
    "        print(n)\n",
    "    else:\n",
    "        print(i,n)\n"
   ]
  },
  {
   "cell_type": "code",
   "execution_count": 90,
   "metadata": {},
   "outputs": [],
   "source": [
    "arr = [31,32]\n",
    "l == list(range(min(l), max(l)+1))\n",
    "def first_non_consecutive(arr):\n",
    "    for i in arr[:-1]:\n",
    "#     for i in range(len(arr) - 1):\n",
    "#         item = arr[i]\n",
    "        if i+1 not in arr:\n",
    "            return i + 1\n",
    "    return None\n",
    "first_non_consecutive(arr)        "
   ]
  },
  {
   "cell_type": "code",
   "execution_count": 44,
   "metadata": {},
   "outputs": [
    {
     "ename": "SyntaxError",
     "evalue": "invalid syntax (<ipython-input-44-02c35ec7c2d8>, line 3)",
     "output_type": "error",
     "traceback": [
      "\u001b[1;36m  File \u001b[1;32m\"<ipython-input-44-02c35ec7c2d8>\"\u001b[1;36m, line \u001b[1;32m3\u001b[0m\n\u001b[1;33m    return [i+1 for i in arr if (i+1) not in arr] else None\u001b[0m\n\u001b[1;37m                                                     ^\u001b[0m\n\u001b[1;31mSyntaxError\u001b[0m\u001b[1;31m:\u001b[0m invalid syntax\n"
     ]
    }
   ],
   "source": [
    "arr = [1,2,3,4,6,7,8]\n",
    "def first_non_consecutive(arr):\n",
    "    return [i+1 for i in arr if (i+1) not in arr] else None\n",
    "\n",
    "first_non_consecutive(arr)"
   ]
  },
  {
   "cell_type": "code",
   "execution_count": 35,
   "metadata": {},
   "outputs": [
    {
     "data": {
      "text/plain": [
       "5"
      ]
     },
     "execution_count": 35,
     "metadata": {},
     "output_type": "execute_result"
    }
   ],
   "source": [
    "nums = [2,3,4,2,3,4,5]\n",
    "def singleNumber(nums):\n",
    "        return 2 * sum(set(nums)) - sum(nums)\n",
    "singleNumber([2,3,4,2,3,4,5])"
   ]
  },
  {
   "cell_type": "code",
   "execution_count": 75,
   "metadata": {},
   "outputs": [
    {
     "name": "stdout",
     "output_type": "stream",
     "text": [
      "[1, 2, 3]\n",
      "[4, 5, 6]\n"
     ]
    }
   ],
   "source": [
    "lst = [1,2,3,4,5,6]\n",
    "def chunks(lst, n):\n",
    "    for i in range(0, len(lst), n):\n",
    "        yield lst[i:i + n]\n",
    "mygenerator = chunks(lst, 3)\n",
    "for i in mygenerator:\n",
    "    print(i)"
   ]
  },
  {
   "cell_type": "code",
   "execution_count": 79,
   "metadata": {
    "scrolled": true
   },
   "outputs": [
    {
     "name": "stdout",
     "output_type": "stream",
     "text": [
      "[1, 2, 3]\n",
      "[4, 5, 6]\n"
     ]
    }
   ],
   "source": [
    "def my_chunk(lst, n):\n",
    "    for i in range(0, len(lst), n):\n",
    "        print(lst[i:i+n])\n",
    "my_chunk([1,2,3,4,5,6], 3)"
   ]
  },
  {
   "cell_type": "code",
   "execution_count": 66,
   "metadata": {},
   "outputs": [
    {
     "name": "stdout",
     "output_type": "stream",
     "text": [
      "(5, 8)\n",
      "(5, 8)\n",
      "(5, 8)\n",
      "(5, 8)\n"
     ]
    }
   ],
   "source": [
    "m = (2,5,8,7,7,9,3)\n",
    "for i in range(4):\n",
    "    n = slice(1,3)\n",
    "    print(m[n])\n",
    "# n = slice(1,3)\n",
    "# print(m[n])"
   ]
  },
  {
   "cell_type": "code",
   "execution_count": 61,
   "metadata": {},
   "outputs": [
    {
     "name": "stdout",
     "output_type": "stream",
     "text": [
      "('a', 'd', 'g')\n"
     ]
    }
   ],
   "source": [
    "a = (\"a\", \"b\", \"c\", \"d\", \"e\", \"f\", \"g\", \"h\")\n",
    "x = slice(0, 8, 3)\n",
    "print(a[x])"
   ]
  },
  {
   "cell_type": "code",
   "execution_count": 44,
   "metadata": {},
   "outputs": [
    {
     "data": {
      "text/plain": [
       "40"
      ]
     },
     "execution_count": 44,
     "metadata": {},
     "output_type": "execute_result"
    }
   ],
   "source": [
    "23+11+6"
   ]
  },
  {
   "cell_type": "code",
   "execution_count": 84,
   "metadata": {},
   "outputs": [
    {
     "name": "stdout",
     "output_type": "stream",
     "text": [
      "31\n"
     ]
    }
   ],
   "source": [
    "month_days = [0, 31, 28, 31, 30, 31, 30, 31, 30, 31, 30, 31]\n",
    "\n",
    "def is_leap(year):\n",
    "    return year % 4 == 0 and (year % 100 != 0 or year % 400 == 0)\n",
    "\n",
    "def days_in_month(year, month):\n",
    "    if not 1 <= month <= 12:\n",
    "        return \"invalid month\"\n",
    "    \n",
    "    if month == 2 and is_leap(year):\n",
    "        return 29\n",
    "    return month_days[month]\n",
    "\n",
    "print(days_in_month(2020,1))\n"
   ]
  },
  {
   "cell_type": "code",
   "execution_count": 93,
   "metadata": {},
   "outputs": [
    {
     "name": "stdout",
     "output_type": "stream",
     "text": [
      "0\n",
      "31\n"
     ]
    }
   ],
   "source": [
    "month_days = [0, 31, 28, 31, 30, 31, 30, 31, 30, 31, 30, 31]\n",
    "print(month_days[0])\n",
    "def is_leap(year):\n",
    "    return year % 4 == 0 and (year % 100 != 0 or year % 400 == 0)\n",
    "def days_in_month(year, month):\n",
    "    if not 1 <= month <= 12:\n",
    "        return \"invalid month\"\n",
    "    if month == 2 and is_leap(year):\n",
    "        return 29\n",
    "    return month_days[month]\n",
    "print(days_in_month(2020,1))"
   ]
  },
  {
   "cell_type": "code",
   "execution_count": 94,
   "metadata": {},
   "outputs": [],
   "source": [
    "def narcissistic(value):\n",
    "     return value == sum(int(x) ** len(str(value)) for x in str(value))"
   ]
  },
  {
   "cell_type": "code",
   "execution_count": 72,
   "metadata": {},
   "outputs": [
    {
     "name": "stdout",
     "output_type": "stream",
     "text": [
      "True\n"
     ]
    }
   ],
   "source": [
    "def armsto(num):\n",
    "    sum = 0\n",
    "    temp = num\n",
    "    while temp > 0:\n",
    "        digit = temp % 10\n",
    "        sum += digit ** 3\n",
    "        temp //= 10\n",
    "    if num == sum:\n",
    "        return True\n",
    "print(armsto(153))"
   ]
  },
  {
   "cell_type": "code",
   "execution_count": null,
   "metadata": {},
   "outputs": [],
   "source": []
  },
  {
   "cell_type": "code",
   "execution_count": 245,
   "metadata": {},
   "outputs": [
    {
     "name": "stdout",
     "output_type": "stream",
     "text": [
      " ### \n",
      "#   #\n",
      "#   #\n",
      "#####\n",
      "#   #\n",
      "#   #\n",
      "#   #\n"
     ]
    }
   ],
   "source": [
    "for row in range(7):\n",
    "    for col in range(5):\n",
    "        if ((col == 0 or col == 4) and row != 0) or ((row == 0 or row == 3) and (col>0 and col<4)):\n",
    "            print(\"#\", end=\"\")\n",
    "        else:\n",
    "            print(end=\" \")\n",
    "    print()"
   ]
  },
  {
   "cell_type": "code",
   "execution_count": 37,
   "metadata": {},
   "outputs": [
    {
     "name": "stdout",
     "output_type": "stream",
     "text": [
      "   # #  \n",
      " #     #\n",
      " #     #\n",
      " # # # #\n",
      " #     #\n",
      " #     #\n",
      " #     #\n"
     ]
    }
   ],
   "source": [
    "for row in range(7):\n",
    "    for col in range(4):\n",
    "        if ((col == 0 or col == 3) and row != 0) or ((row == 0 or row == 3) and (col>0 and col<3)):\n",
    "            print(\" #\", end=\"\")\n",
    "        else:\n",
    "            print(end=\"  \")\n",
    "    print()"
   ]
  },
  {
   "cell_type": "code",
   "execution_count": null,
   "metadata": {},
   "outputs": [],
   "source": []
  },
  {
   "cell_type": "code",
   "execution_count": 8,
   "metadata": {},
   "outputs": [
    {
     "name": "stdout",
     "output_type": "stream",
     "text": [
      "The ASCII value ofa is 97\n"
     ]
    },
    {
     "data": {
      "text/plain": [
       "97"
      ]
     },
     "execution_count": 8,
     "metadata": {},
     "output_type": "execute_result"
    }
   ],
   "source": [
    "c = 'a'\n",
    "print(\"The ASCII value of\" + c + \" is\", ord(c))\n",
    "ord('a') "
   ]
  },
  {
   "cell_type": "code",
   "execution_count": 15,
   "metadata": {},
   "outputs": [
    {
     "data": {
      "text/plain": [
       "'a'"
      ]
     },
     "execution_count": 15,
     "metadata": {},
     "output_type": "execute_result"
    }
   ],
   "source": [
    "chr(97)"
   ]
  },
  {
   "cell_type": "code",
   "execution_count": 43,
   "metadata": {},
   "outputs": [
    {
     "name": "stdout",
     "output_type": "stream",
     "text": [
      "[10, 10, 10]\n",
      "[10, 10, 10]\n",
      "[10, 10, 10]\n"
     ]
    }
   ],
   "source": [
    "X = [[1,2,3], [4,5,6], [7,8,9]]\n",
    "Y = [[9,8,7], [6,5,4], [3,2,1]]\n",
    "result = [[0,0,0], [0,0,0], [0,0,0]]\n",
    "\n",
    "for i in range(len(X)):\n",
    "    for j in range(len(X[0])):\n",
    "        result[i][j] = X[i][j] + Y[i][j]\n",
    "for r in result:\n",
    "    print(r)"
   ]
  },
  {
   "cell_type": "code",
   "execution_count": 18,
   "metadata": {},
   "outputs": [
    {
     "name": "stdout",
     "output_type": "stream",
     "text": [
      "1What's the secret word?f\n",
      "2What's the secret word?fe\n",
      "3What's the secret word?3\n",
      "Calling the FBI ...\n"
     ]
    }
   ],
   "source": [
    "secret = \"shivam\"\n",
    "pw = \" \"\n",
    "auth = False\n",
    "count = 0\n",
    "max_attempt = 3\n",
    "\n",
    "while pw != secret:\n",
    "    count += 1\n",
    "    if count > max_attempt: break\n",
    "    pw = input(f\"{count}What's the secret word?\")\n",
    "else:\n",
    "    auth = True\n",
    "\n",
    "print(\"Authorized\" if auth else \"Calling the FBI ...\")"
   ]
  },
  {
   "cell_type": "code",
   "execution_count": 48,
   "metadata": {},
   "outputs": [
    {
     "name": "stdout",
     "output_type": "stream",
     "text": [
      "woof!\n",
      "Meow!\n"
     ]
    }
   ],
   "source": [
    "class Dog:\n",
    "    \"\"\" A dog class \"\"\"\n",
    "    def __init__(self, name):\n",
    "        self.name = name\n",
    "    def speak(slef):\n",
    "        return \"woof!\"\n",
    "    \n",
    "class Cat:\n",
    "    \"\"\" A cat class \"\"\"\n",
    "    def __init__(self, name):\n",
    "        self.name = name\n",
    "    def speak(slef):\n",
    "        return \"Meow!\"\n",
    "    \n",
    "def get_pet(pet):\n",
    "    \"\"\" the factory method \"\"\"\n",
    "    pets = dict(dog = Dog(\"hope\"), cat=Cat(\"peace\"))\n",
    "    return pets[pet]\n",
    "\n",
    "d = get_pet(\"dog\")\n",
    "print(d.speak())\n",
    "\n",
    "c = get_pet(\"cat\")\n",
    "print(c.speak())"
   ]
  },
  {
   "cell_type": "code",
   "execution_count": null,
   "metadata": {},
   "outputs": [],
   "source": []
  },
  {
   "cell_type": "code",
   "execution_count": null,
   "metadata": {},
   "outputs": [],
   "source": []
  },
  {
   "cell_type": "code",
   "execution_count": null,
   "metadata": {},
   "outputs": [],
   "source": []
  },
  {
   "cell_type": "code",
   "execution_count": null,
   "metadata": {},
   "outputs": [],
   "source": [
    "\n"
   ]
  },
  {
   "cell_type": "code",
   "execution_count": null,
   "metadata": {},
   "outputs": [],
   "source": []
  }
 ],
 "metadata": {
  "kernelspec": {
   "display_name": "Python 3.7.4 64-bit ('base': conda)",
   "language": "python",
   "name": "python37464bitbasecondae769f3229e8e48fda202a28a6965c184"
  },
  "language_info": {
   "codemirror_mode": {
    "name": "ipython",
    "version": 3
   },
   "file_extension": ".py",
   "mimetype": "text/x-python",
   "name": "python",
   "nbconvert_exporter": "python",
   "pygments_lexer": "ipython3",
   "version": "3.7.4"
  }
 },
 "nbformat": 4,
 "nbformat_minor": 2
}
