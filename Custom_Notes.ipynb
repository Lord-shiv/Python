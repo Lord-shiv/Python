{
 "cells": [
  {
   "cell_type": "code",
   "execution_count": 3,
   "metadata": {},
   "outputs": [
    {
     "name": "stdout",
     "output_type": "stream",
     "text": [
      "27\n",
      "64\n"
     ]
    }
   ],
   "source": [
    "# a function without a nme is anonymous func\n",
    "#  lambda keyword is used to definde an anonymous function in pyton\n",
    "#  can have any number of arguments but only one expression\n",
    "\n",
    "def cube(y):\n",
    "    return y*y*y\n",
    "print(cube(3))\n",
    "\n",
    "# Syntax: lambda arguments: expression\n",
    "\n",
    "lambda_cube = lambda y: y*y*y\n",
    "print(lambda_cube(4))"
   ]
  },
  {
   "cell_type": "code",
   "execution_count": 4,
   "metadata": {},
   "outputs": [
    {
     "name": "stdout",
     "output_type": "stream",
     "text": [
      "[8, 10, 12, 14]\n",
      "[2, 4, 6, 8]\n"
     ]
    }
   ],
   "source": [
    "# map function\n",
    "\n",
    "#  syntax: map(fun, iter)\n",
    "\n",
    "# output in list and tuples etc..\n",
    "\n",
    "\n",
    "numbers = (4,5,6,7)\n",
    "def addition(n):\n",
    "    return n + n\n",
    "\n",
    "results = map(addition, numbers)\n",
    "print(list(results))\n",
    "\n",
    "\n",
    "numbers = (1, 2, 3, 4) \n",
    "result = map(lambda x: x + x, numbers) \n",
    "print(list(result)) "
   ]
  },
  {
   "cell_type": "code",
   "execution_count": 5,
   "metadata": {},
   "outputs": [
    {
     "name": "stdout",
     "output_type": "stream",
     "text": [
      "e\n",
      "e\n"
     ]
    }
   ],
   "source": [
    "# filters the given sequence with the help of a function that tests each element in the sequence to be true or not.\n",
    "\n",
    "# syntax: filter(function, sequence)\n",
    "\n",
    "\n",
    "def fun(variable):\n",
    "    letters = ['a', 'e', 'i', 'o', 'u']\n",
    "    if (variable in letters):\n",
    "        return True\n",
    "    else:\n",
    "        return False\n",
    "    \n",
    "sequence = ['g', 'e', 'e', 'j', 'k', 's', 'p', 'r'] \n",
    "filtered = filter(fun, sequence)\n",
    "\n",
    "for s in filtered:\n",
    "    print(s)"
   ]
  },
  {
   "cell_type": "code",
   "execution_count": 6,
   "metadata": {},
   "outputs": [
    {
     "name": "stdout",
     "output_type": "stream",
     "text": [
      "[1, 3, 5, 13]\n",
      "{0, 32, 2, 8, 12}\n",
      "(90, 43, 34)\n"
     ]
    }
   ],
   "source": [
    "# practice\n",
    "\n",
    "seq = [0,1,2,3,5,8,13]\n",
    "\n",
    "result_odd = filter(lambda x: x%2 != 0, seq)\n",
    "print(list(result_odd))\n",
    "\n",
    "mix_seq = [0,1,2,3,5,8,13, 23, 12, 32]\n",
    "result_even = filter(lambda x: x%2 == 0, mix_seq)\n",
    "# print(tuple(result_even))\n",
    "# print(list(result_even))\n",
    "print(set(result_even))\n",
    "\n",
    "ages = [13, 90, 43,2,1,34]\n",
    "result = filter(lambda x: x > 18, ages)\n",
    "print(tuple(result))"
   ]
  },
  {
   "cell_type": "code",
   "execution_count": null,
   "metadata": {},
   "outputs": [],
   "source": []
  },
  {
   "cell_type": "code",
   "execution_count": 7,
   "metadata": {},
   "outputs": [
    {
     "data": {
      "text/plain": [
       "5"
      ]
     },
     "execution_count": 7,
     "metadata": {},
     "output_type": "execute_result"
    }
   ],
   "source": [
    "# import math\n",
    "# math.sqrt(x)\n",
    "def square_root(num):\n",
    "    return int(num ** (1/2))\n",
    "square_root(25)"
   ]
  },
  {
   "cell_type": "code",
   "execution_count": 8,
   "metadata": {},
   "outputs": [],
   "source": [
    "\n",
    "# How to format numer to %\n",
    "\n",
    "def win_percentage(wins, losses):\n",
    "    total_games = wins + losses\n",
    "    win_ratio = wins / total_games\n",
    "    return \"{:.0%}\".format(win_ratio)"
   ]
  },
  {
   "cell_type": "code",
   "execution_count": 9,
   "metadata": {},
   "outputs": [],
   "source": [
    "# how to sum *args passed to func\n",
    "\n",
    "def my_func(*args):\n",
    "    return sum(args)\n"
   ]
  },
  {
   "cell_type": "code",
   "execution_count": 10,
   "metadata": {},
   "outputs": [],
   "source": [
    "# string pro\n",
    "\n",
    "def dog_years(name, age):\n",
    "    return name+\", you are \"+str(age * 7)+\" years old in dog years\""
   ]
  },
  {
   "cell_type": "code",
   "execution_count": 11,
   "metadata": {},
   "outputs": [],
   "source": [
    "f_name = [\"shivam\", \"shital\", \"Mom\"]\n",
    "l_name = ['Manswalia', 'God', \"God\"]\n",
    "\n",
    "combo = zip(f_name, l_name)\n",
    "# print(list(combo))\n",
    "# for i in combo:\n",
    "#     print(i)"
   ]
  },
  {
   "cell_type": "code",
   "execution_count": 12,
   "metadata": {},
   "outputs": [],
   "source": [
    "a = (\"shivam\")\n",
    "x = slice(1, 4)\n",
    "# print(a)"
   ]
  },
  {
   "cell_type": "code",
   "execution_count": 13,
   "metadata": {},
   "outputs": [
    {
     "name": "stdout",
     "output_type": "stream",
     "text": [
      "is even\n"
     ]
    }
   ],
   "source": [
    "# 5//2*2\n",
    "# how to get even without mod\n",
    "num = 6\n",
    "if num//2*2 == num:\n",
    "    print(\"is even\")\n",
    "else:\n",
    "    print(\"odd\")"
   ]
  },
  {
   "cell_type": "code",
   "execution_count": 14,
   "metadata": {},
   "outputs": [
    {
     "name": "stdout",
     "output_type": "stream",
     "text": [
      "2\n"
     ]
    }
   ],
   "source": [
    "import random\n",
    "\n",
    "num = random.randint(1, 6)\n",
    "print(num)"
   ]
  },
  {
   "cell_type": "code",
   "execution_count": 15,
   "metadata": {},
   "outputs": [
    {
     "name": "stdout",
     "output_type": "stream",
     "text": [
      "Numerb is not perfect\n"
     ]
    }
   ],
   "source": [
    "# perfect number if 6 = 1,2,3 (divisival of 6) if we sum them and if sum is equal to the number then it is a perfect numebr\n",
    "# we can also check it untill num + 1 and then divide total/2 and it will work the same \n",
    "\n",
    "num = 7\n",
    "total = 0\n",
    "for i in range(1,num):\n",
    "    if num % i== 0:\n",
    "        total += i\n",
    "if total == num:\n",
    "    print(\"Number is perfect\")\n",
    "else:\n",
    "    print(\"Numerb is not perfect\")\n"
   ]
  },
  {
   "cell_type": "code",
   "execution_count": 16,
   "metadata": {},
   "outputs": [],
   "source": [
    "a = \"FGHIJKLMNOP\"\n",
    "for i in range(ord(\"G\"), ord(\"Q\")):\n",
    "#     print(i)\n",
    "    pass"
   ]
  },
  {
   "cell_type": "code",
   "execution_count": 17,
   "metadata": {},
   "outputs": [
    {
     "name": "stdout",
     "output_type": "stream",
     "text": [
      "A B C D E F G H I J K L M N O P Q R S T U V W X Y Z [ \\ ] ^ _ ` a b c d e f g h i j k l m n o p q r s t u v w x y z "
     ]
    }
   ],
   "source": [
    "asscci_num = 65\n",
    "for i in range(65, 123):\n",
    "    g = chr(asscci_num)\n",
    "    asscci_num += 1\n",
    "    print(g, end=\" \")"
   ]
  },
  {
   "cell_type": "code",
   "execution_count": 18,
   "metadata": {},
   "outputs": [],
   "source": [
    "#   Tuples\n",
    "#   Tuples\n",
    "# \n",
    "# \n",
    "\n",
    "my_info = ('shiv', '21', 'developer')\n",
    "\n",
    "name, age, occupation = my_info\n",
    "age\n",
    "\n",
    "num = (4) # not tuple\n",
    "num = (5,) #tuple"
   ]
  },
  {
   "cell_type": "code",
   "execution_count": 19,
   "metadata": {},
   "outputs": [
    {
     "name": "stdout",
     "output_type": "stream",
     "text": [
      "38\n",
      "34\n",
      "26\n",
      "21\n",
      "67\n",
      "41\n"
     ]
    }
   ],
   "source": [
    "#  Contiune..\n",
    "# Your computer is the doorman at a bar in a country where the drinking age is 21.\n",
    "ages = [12, 38, 34, 26, 21, 19, 67, 41, 17]\n",
    "\n",
    "for age in ages:\n",
    "    if age < 21:\n",
    "        continue\n",
    "    print(age)"
   ]
  },
  {
   "cell_type": "code",
   "execution_count": 20,
   "metadata": {},
   "outputs": [
    {
     "name": "stdout",
     "output_type": "stream",
     "text": [
      "french_bulldog\n",
      "dalmatian\n",
      "They have the dog I want!\n"
     ]
    }
   ],
   "source": [
    "#  Break\n",
    "#  break\n",
    "dog_breeds_available_for_adoption = ['french_bulldog', 'dalmatian', 'shihtzu', 'poodle', 'collie']\n",
    "dog_breed_I_want = 'dalmatian'\n",
    "\n",
    "for breed in dog_breeds_available_for_adoption:\n",
    "    print(breed)\n",
    "    if dog_breed_I_want == breed:\n",
    "        print(\"They have the dog I want!\")\n",
    "        break"
   ]
  },
  {
   "cell_type": "code",
   "execution_count": 21,
   "metadata": {},
   "outputs": [
    {
     "data": {
      "text/plain": [
       "[25, 20, 35, 15, 15, 30, 45, 30]"
      ]
     },
     "execution_count": 21,
     "metadata": {},
     "output_type": "execute_result"
    }
   ],
   "source": [
    "prices = [30, 25, 40, 20, 20, 35, 50, 35]\n",
    "new_prices = [(less-5) for less in prices]\n",
    "new_prices"
   ]
  },
  {
   "cell_type": "code",
   "execution_count": 22,
   "metadata": {},
   "outputs": [
    {
     "name": "stdout",
     "output_type": "stream",
     "text": [
      "['Lorde', 'Mistral', 'Toomer', 'Qi', 'Whitman', 'Silverstein', 'Boullosa', 'Suraiyya', 'Hughes', 'Rich', 'Giovanni']\n"
     ]
    }
   ],
   "source": [
    "# how to remove last names\n",
    "authors = \"Audre Lorde,Gabriela Mistral,Jean Toomer,An Qi,Walt Whitman,Shel Silverstein,Carmen Boullosa,Kamala Suraiyya,Langston Hughes,Adrienne Rich,Nikki Giovanni\"\n",
    "authors_ = authors.split(\",\")\n",
    "author_last_names = []\n",
    "for i in authors_:\n",
    "    author_last_names.append(i.split()[-1])\n",
    "    \n",
    "print(author_last_names)"
   ]
  },
  {
   "cell_type": "code",
   "execution_count": 23,
   "metadata": {},
   "outputs": [
    {
     "data": {
      "text/plain": [
       "['s', 'h', 'i', 'a']"
      ]
     },
     "execution_count": 23,
     "metadata": {},
     "output_type": "execute_result"
    }
   ],
   "source": [
    "def common_letters(string_one, string_two):\n",
    "    count = []\n",
    "    for i in string_one:\n",
    "        if (i in string_two) and not (i in count):\n",
    "            count.append(i)\n",
    "    return count\n",
    "\n",
    "common_letters(\"shivams\", \"shitals\")"
   ]
  },
  {
   "cell_type": "code",
   "execution_count": 24,
   "metadata": {},
   "outputs": [
    {
     "data": {
      "text/plain": [
       "\"He said, '''blueberries are my favorite!'''\""
      ]
     },
     "execution_count": 24,
     "metadata": {},
     "output_type": "execute_result"
    }
   ],
   "source": [
    "favorite_fruit_conversation = \"He said, \\'''blueberries are my favorite!\\'''\"\n",
    "favorite_fruit_conversation"
   ]
  },
  {
   "cell_type": "code",
   "execution_count": 25,
   "metadata": {},
   "outputs": [
    {
     "data": {
      "text/plain": [
       "True"
      ]
     },
     "execution_count": 25,
     "metadata": {},
     "output_type": "execute_result"
    }
   ],
   "source": [
    "def reversed_listk(lst1, lst2):\n",
    "    for index in range(len(lst1)):\n",
    "        if lst1[index] != lst2[len(lst2) - 1 - index]:\n",
    "            return False\n",
    "        return True\n",
    "reversed_listk([1, 2, 3], [3, 2, 1])"
   ]
  },
  {
   "cell_type": "code",
   "execution_count": 26,
   "metadata": {},
   "outputs": [
    {
     "data": {
      "text/plain": [
       "[0, 2, 3]"
      ]
     },
     "execution_count": 26,
     "metadata": {},
     "output_type": "execute_result"
    }
   ],
   "source": [
    "def same_values(lst1, lst2):\n",
    "    k = []\n",
    "    for i in range(len(lst1)):\n",
    "        if lst1[i] == lst2[i]:\n",
    "            k.append(i)\n",
    "    return k\n",
    "same_values([5, 1, -10, 3, 3], [5, 10, -10, 3, 5])      "
   ]
  },
  {
   "cell_type": "code",
   "execution_count": 27,
   "metadata": {},
   "outputs": [
    {
     "data": {
      "text/plain": [
       "9"
      ]
     },
     "execution_count": 27,
     "metadata": {},
     "output_type": "execute_result"
    }
   ],
   "source": [
    "def max_number(nums):\n",
    "    maximum = nums[0]\n",
    "    for number in nums:\n",
    "        if number > maximum:\n",
    "            maximum = number\n",
    "    return maximum\n",
    "max_number([3,4,6,7,9])"
   ]
  },
  {
   "cell_type": "code",
   "execution_count": 28,
   "metadata": {},
   "outputs": [
    {
     "data": {
      "text/plain": [
       "9020"
      ]
     },
     "execution_count": 28,
     "metadata": {},
     "output_type": "execute_result"
    }
   ],
   "source": [
    "def over_nine_thousand(lst):\n",
    "    sum = 0\n",
    "    for number in lst:\n",
    "        sum += number\n",
    "        if (sum > 9000):\n",
    "            break\n",
    "    return sum\n",
    "over_nine_thousand([8000, 900, 120, 5000])"
   ]
  },
  {
   "cell_type": "code",
   "execution_count": 29,
   "metadata": {},
   "outputs": [
    {
     "name": "stdout",
     "output_type": "stream",
     "text": [
      "[32.0, 50.0, 59.0, 89.6, 23.0, 80.6, 37.4]\n"
     ]
    }
   ],
   "source": [
    "celsius = [0, 10, 15, 32, -5, 27, 3]\n",
    "\n",
    "fahrenheit = [(cel * 9/5 + 32) for cel in celsius]\n",
    "\n",
    "print(fahrenheit)"
   ]
  },
  {
   "cell_type": "code",
   "execution_count": 30,
   "metadata": {},
   "outputs": [
    {
     "name": "stdout",
     "output_type": "stream",
     "text": [
      "['Loki', 'Arius', 'Obie', 'Alexa', 'Minerva', 'Dora']\n"
     ]
    }
   ],
   "source": [
    "all_students = [\"Alex\", \"Briana\", \"Cheri\", \"Daniele\", \"Dora\", \"Minerva\", \"Alexa\", \"Obie\", \"Arius\", \"Loki\"]\n",
    "students_in_poetry = []\n",
    "\n",
    "\n",
    "while len(students_in_poetry) < 6:\n",
    "    g = all_students.pop()\n",
    "    students_in_poetry.append(g)\n",
    "print(students_in_poetry)"
   ]
  },
  {
   "cell_type": "code",
   "execution_count": 31,
   "metadata": {},
   "outputs": [
    {
     "data": {
      "text/plain": [
       "[1, 2, 6, 4]"
      ]
     },
     "execution_count": 31,
     "metadata": {},
     "output_type": "execute_result"
    }
   ],
   "source": [
    "# Create a function named double_index that has two parameters: a list named lst and a single number named index.\n",
    "def duble_ind(lista, ind):\n",
    "    if ind >= len(lista):\n",
    "        return lista\n",
    "    else:\n",
    "        new_lst = lista[0:ind]\n",
    "        \n",
    "    new_lst.append(lista[ind]*2)\n",
    "    new_lst = new_lst + lista[ind+1:]\n",
    "    return new_lst\n",
    "    \n",
    "duble_ind([1,2,3,4], 2)"
   ]
  },
  {
   "cell_type": "code",
   "execution_count": 32,
   "metadata": {},
   "outputs": [
    {
     "name": "stdout",
     "output_type": "stream",
     "text": [
      "Player 1 won!\n"
     ]
    }
   ],
   "source": [
    "# Rock paper Scissors\n",
    "def rps(p1, p2):\n",
    "    hand = {'rock':0, 'paper':1, 'scissors':2}\n",
    "    results = ['Draw!', 'Player 1 won!', 'Player 2 won!']\n",
    "    return results[hand[p1] - hand[p2]]\n",
    "\n",
    "print(rps('paper', 'rock'))"
   ]
  },
  {
   "cell_type": "code",
   "execution_count": 33,
   "metadata": {},
   "outputs": [
    {
     "ename": "TypeError",
     "evalue": "f() missing 1 required positional argument: 'a'",
     "output_type": "error",
     "traceback": [
      "\u001b[1;31m---------------------------------------------------------------------------\u001b[0m",
      "\u001b[1;31mTypeError\u001b[0m                                 Traceback (most recent call last)",
      "\u001b[1;32m<ipython-input-33-4b77b056b850>\u001b[0m in \u001b[0;36m<module>\u001b[1;34m\u001b[0m\n\u001b[0;32m     14\u001b[0m \u001b[1;33m\u001b[0m\u001b[0m\n\u001b[0;32m     15\u001b[0m \u001b[1;33m\u001b[0m\u001b[0m\n\u001b[1;32m---> 16\u001b[1;33m \u001b[0mf\u001b[0m\u001b[1;33m(\u001b[0m\u001b[1;33m)\u001b[0m  \u001b[1;31m# Error, argument required\u001b[0m\u001b[1;33m\u001b[0m\u001b[1;33m\u001b[0m\u001b[0m\n\u001b[0m\u001b[0;32m     17\u001b[0m \u001b[0mf\u001b[0m\u001b[1;33m(\u001b[0m\u001b[1;36m1\u001b[0m\u001b[1;33m)\u001b[0m  \u001b[1;31m# Allowed, it's a positional argument\u001b[0m\u001b[1;33m\u001b[0m\u001b[1;33m\u001b[0m\u001b[0m\n\u001b[0;32m     18\u001b[0m \u001b[0mf\u001b[0m\u001b[1;33m(\u001b[0m\u001b[0ma\u001b[0m\u001b[1;33m=\u001b[0m\u001b[1;36m1\u001b[0m\u001b[1;33m)\u001b[0m  \u001b[1;31m# Error, positional only argument\u001b[0m\u001b[1;33m\u001b[0m\u001b[1;33m\u001b[0m\u001b[0m\n",
      "\u001b[1;31mTypeError\u001b[0m: f() missing 1 required positional argument: 'a'"
     ]
    }
   ],
   "source": [
    "# Positional argument that is optional\n",
    "def f(a=2):\n",
    "    pass\n",
    "\n",
    "\n",
    "f()  # Allowed, argument is optional\n",
    "f(1)  # Allowed, it's a positional argument\n",
    "f(a=1)  # Error, positional only argument\n",
    "\n",
    "\n",
    "# Positional argument that is required \n",
    "def f(a):\n",
    "    pass\n",
    "\n",
    "\n",
    "f()  # Error, argument required\n",
    "f(1)  # Allowed, it's a positional argument\n",
    "f(a=1)  # Error, positional only argument"
   ]
  },
  {
   "cell_type": "code",
   "execution_count": null,
   "metadata": {},
   "outputs": [],
   "source": [
    "# Keyword argument that is optional\n",
    "\n",
    "def f(*, a=1):\n",
    "    pass\n",
    "\n",
    "\n",
    "f()  # Allowed\n",
    "f(1)  # Error, keyword only arguments\n",
    "f(a=1)  # Allowed, it's a keyword argument\n",
    "\n",
    "# keyword argument that is required\n",
    "\n",
    "def f(*, a)\n",
    "    pass\n",
    "\n",
    "\n",
    "f()  # Error, argument required\n",
    "f(1)  # Error, keyword only arguments\n",
    "f(a=1)  # Allowed, it's a keyword argument"
   ]
  },
  {
   "cell_type": "code",
   "execution_count": null,
   "metadata": {},
   "outputs": [],
   "source": [
    "Positional and keyword argument that is optional\n",
    "\n",
    "def f(a=1)\n",
    "    pass\n",
    "\n",
    "\n",
    "f()  # Allowed, argument is optional\n",
    "f(1)  # Allowed, it's a positional argument\n",
    "f(a=1)  # Allowed, it's a keyword argument\n",
    "\n",
    "# In fact this function is the same as\n",
    "def f(*, a=1, /):\n",
    "    pass\n",
    "\n",
    "\n",
    "Positional and keyword argument that is required\n",
    "\n",
    "def f(a):\n",
    "    pass\n",
    "\n",
    "\n",
    "f()  # Error, argument required\n",
    "f(1)  # Allowed, it's a positional argument\n",
    "f(a=1)  # Allowed, it's a keyword argument\n",
    "\n",
    "# In fact this function is the same as\n",
    "def f(*, a, /):\n",
    "    pass"
   ]
  },
  {
   "cell_type": "code",
   "execution_count": null,
   "metadata": {},
   "outputs": [],
   "source": [
    "def truncate_sentences(length, *sentences):\n",
    "    for sentence in sentences:\n",
    "    print(sentence[:length])\n",
    "\n",
    "truncate_sentences(8, \"What's going on here\", \"Looks like we've been cut off\")"
   ]
  },
  {
   "cell_type": "code",
   "execution_count": null,
   "metadata": {},
   "outputs": [],
   "source": [
    "from os.path import join\n",
    "\n",
    "def myjoin(*args):\n",
    "    print(type(args))\n",
    "    joined_string = args[0]\n",
    "    \n",
    "    for arg in args[1:]:\n",
    "        joined_string += '/' + arg\n",
    "        \n",
    "    return joined_string\n",
    "\n",
    "myjoin(\"hi\", \"morgan\", \"welcome\", \"to\")"
   ]
  },
  {
   "cell_type": "code",
   "execution_count": null,
   "metadata": {},
   "outputs": [],
   "source": [
    "def arbitrary_keyword_args(**kwargs):\n",
    "    print(type(kwargs))\n",
    "    print(kwargs)\n",
    "    # See if there's an \"anything_goes\" keyword arg\n",
    "    # and print it\n",
    "    print(kwargs.get('anything_goes'))\n",
    " \n",
    "g = arbitrary_keyword_args(this_arg=\"wowzers\",anything_goes=101)\n",
    "h = arbitrary_keyword_args(a = \"hi\", b = \"shiv\", c = \"rick\")\n",
    "h"
   ]
  },
  {
   "cell_type": "code",
   "execution_count": null,
   "metadata": {},
   "outputs": [],
   "source": [
    "def rick(**kwargs):\n",
    "    return kwargs\n",
    "\n",
    "rick(a = \"shiv\", b = 34, c = \"rick\", d = 78)"
   ]
  },
  {
   "cell_type": "code",
   "execution_count": null,
   "metadata": {},
   "outputs": [],
   "source": [
    "def concatenate(**words):\n",
    "    result = \"\"\n",
    "    for arg in words.values():\n",
    "        result += arg\n",
    "    return result\n",
    "\n",
    "print(concatenate(a=\"Real\", b=\"Python\", c=\"Is\", d=\"Great\", e=\"!\"))"
   ]
  },
  {
   "cell_type": "code",
   "execution_count": null,
   "metadata": {},
   "outputs": [],
   "source": [
    "d = {'a':\"shiv\", 'b':\"rick\"}\n",
    "x = d.get('b')\n",
    "x"
   ]
  },
  {
   "cell_type": "code",
   "execution_count": null,
   "metadata": {},
   "outputs": [],
   "source": [
    "def takes_many_args(*args):\n",
    "    print(args)\n",
    "\n",
    "long_list_of_args = [145, \"Mexico City\", 10.9, \"85C\"]\n",
    "\n",
    "takes_many_args(*long_list_of_args)"
   ]
  },
  {
   "cell_type": "code",
   "execution_count": null,
   "metadata": {},
   "outputs": [],
   "source": [
    "\n",
    "\n",
    "def myFun(*args,**kwargs): \n",
    "    print(\"args: \", args) \n",
    "    print(\"kwargs: \", kwargs) \n",
    "  \n",
    "  \n",
    "# Now we can use both *args ,**kwargs \n",
    "# to pass arguments to this function : \n",
    "myFun('geeks','for','geeks',first=\"Geeks\",mid=\"for\",last=\"Geeks\") "
   ]
  },
  {
   "cell_type": "code",
   "execution_count": null,
   "metadata": {},
   "outputs": [],
   "source": [
    "SHIPPING_PRICES = {\n",
    "    'Ground': 1,\n",
    "    'Priority': 1.6,\n",
    "    'Overnight': 2.3,\n",
    "}\n",
    "\n",
    "g = SHIPPING_PRICES['Ground']\n",
    "g"
   ]
  },
  {
   "cell_type": "code",
   "execution_count": null,
   "metadata": {},
   "outputs": [],
   "source": [
    "def add_five(num):\n",
    "    def add_two(num):\n",
    "        return num+2\n",
    "    \n",
    "    num_plu_two = add_two(num)\n",
    "    print(num_plu_two + 3)\n",
    "    \n",
    "    \n",
    "add_five(10)\n"
   ]
  },
  {
   "cell_type": "markdown",
   "metadata": {},
   "source": [
    "# decorators"
   ]
  },
  {
   "cell_type": "code",
   "execution_count": null,
   "metadata": {},
   "outputs": [],
   "source": [
    "def greet():\n",
    "    def hello():\n",
    "        print(\"hello we welcome you.\")\n",
    "    def hi():\n",
    "        print(\"hi, How are you.\")\n",
    "    return hello, hi\n",
    "\n",
    "hello, hi = greet()\n",
    "hi()"
   ]
  },
  {
   "cell_type": "code",
   "execution_count": null,
   "metadata": {},
   "outputs": [],
   "source": [
    "def make_pretty(func):\n",
    "    def i_decorates():\n",
    "        print(\"I decorated the object you have provided\")\n",
    "        func()\n",
    "    return i_decorates\n",
    "\n",
    "\n",
    "def takes_object():\n",
    "    print(\"I want to decorate my resume\")\n",
    "    \n",
    "    \n",
    "resume = make_pretty(takes_object)\n",
    "resume()"
   ]
  },
  {
   "cell_type": "code",
   "execution_count": null,
   "metadata": {},
   "outputs": [],
   "source": [
    "@make_pretty\n",
    "def takes_objects():\n",
    "    print(\"i want to modify my car\")\n",
    "    \n",
    "car_mod = takes_objects()\n",
    "car_mod"
   ]
  },
  {
   "cell_type": "code",
   "execution_count": null,
   "metadata": {},
   "outputs": [],
   "source": [
    "def smart_divide(func):\n",
    "    def main_fun(a, b):\n",
    "        print(\"We will devide entered numbers only if they satisfy our conditions: \\n\")\n",
    "        if b == 0:\n",
    "            print(\"Whoops! can't divide\")\n",
    "            return\n",
    "        if type(a) == str or type(b) == str:\n",
    "            print(\"You have provided us string please enter number\")\n",
    "            return \n",
    "        return func(a, b)\n",
    "        \n",
    "    return main_fun\n",
    "\n",
    "\n",
    "@smart_divide\n",
    "def divide(a, b):             #clean & readable\n",
    "    return (\"Answer: \",a/b)\n",
    "\n",
    "c = divide(90, 10)\n",
    "c"
   ]
  },
  {
   "cell_type": "code",
   "execution_count": null,
   "metadata": {},
   "outputs": [],
   "source": [
    "def muliples_30(func):\n",
    "    def inner(*args, **kwargs):\n",
    "        print(\"I will decorate any function\")\n",
    "        return func(*args, **kwargs)\n",
    "    return inner\n"
   ]
  },
  {
   "cell_type": "code",
   "execution_count": null,
   "metadata": {},
   "outputs": [],
   "source": [
    "def star(func):\n",
    "    def inner(*args, **kwargs):\n",
    "        print(\"*\" * 20)\n",
    "        func(*args, **kwargs)\n",
    "        print(\"*\" * 20)\n",
    "    return inner\n",
    "\n",
    "\n",
    "def percent(func):\n",
    "    def inner(*args, **kwargs):\n",
    "        print(\"%\" * 30)\n",
    "        func(*args, **kwargs)\n",
    "        print(\"%\" * 30)\n",
    "    return inner\n",
    "\n",
    "\n",
    "@star\n",
    "@percent\n",
    "def printer(msg):\n",
    "    print(msg)\n",
    "    \n",
    "printer(\"hello\")"
   ]
  },
  {
   "cell_type": "markdown",
   "metadata": {},
   "source": []
  },
  {
   "cell_type": "markdown",
   "metadata": {},
   "source": [
    "# name spaces\n"
   ]
  },
  {
   "cell_type": "code",
   "execution_count": null,
   "metadata": {},
   "outputs": [],
   "source": [
    "type(globals())"
   ]
  },
  {
   "cell_type": "code",
   "execution_count": null,
   "metadata": {},
   "outputs": [],
   "source": [
    "x = \"shiv\"\n",
    "globals()['y'] = 100\n",
    "globals()"
   ]
  },
  {
   "cell_type": "code",
   "execution_count": null,
   "metadata": {},
   "outputs": [],
   "source": [
    "import datetime\n",
    "globals()"
   ]
  },
  {
   "cell_type": "code",
   "execution_count": null,
   "metadata": {},
   "outputs": [],
   "source": [
    "dir(__builtins__)"
   ]
  },
  {
   "cell_type": "code",
   "execution_count": null,
   "metadata": {},
   "outputs": [],
   "source": [
    "3.2 * 10 ** -12"
   ]
  },
  {
   "cell_type": "code",
   "execution_count": null,
   "metadata": {},
   "outputs": [],
   "source": [
    "# Write an expression for a string literal consisting of the following ASCII characters:\n",
    "\n",
    "# Horizontal Tab character\n",
    "# Newline (ASCII Linefeed) character\n",
    "# The character with hexadecimal value 7E\n",
    "\n",
    "\n",
    "\"\\t\\n\\x7E\""
   ]
  },
  {
   "cell_type": "code",
   "execution_count": null,
   "metadata": {},
   "outputs": [],
   "source": [
    "print(r'hello\\n now new line\\n no \\t hello tab')"
   ]
  },
  {
   "cell_type": "code",
   "execution_count": null,
   "metadata": {},
   "outputs": [],
   "source": [
    "def do_twice(func):\n",
    "    def wrapper_do_twice():\n",
    "        func()\n",
    "        func()\n",
    "    return wrapper_do_twice\n",
    "\n",
    "# from decorators import do_twice \n",
    "# we can create diff file for decorators and than can import \n",
    "\n",
    "@do_twice\n",
    "def say_whee():\n",
    "    print(\"Whee\")\n",
    "    \n",
    "say_whee()"
   ]
  },
  {
   "cell_type": "code",
   "execution_count": null,
   "metadata": {},
   "outputs": [],
   "source": [
    "def do_twice_(func):\n",
    "    def wrapper_do_twice(*args, **kwargs):\n",
    "        func(*args, **kwargs)\n",
    "        func(*args, **kwargs)\n",
    "    return wrapper_do_twice\n",
    "\n",
    "@do_twice_\n",
    "def greet(name):\n",
    "    print(f\"hello {name}\")\n",
    "    \n",
    "greet(\"shivam\")\n",
    "greet.__name__\n",
    "help(greet)"
   ]
  },
  {
   "cell_type": "code",
   "execution_count": null,
   "metadata": {},
   "outputs": [],
   "source": [
    "import functools\n",
    "def do_twico(func):\n",
    "    @functools.wraps(func)\n",
    "    def wrapper_do_twice(*args, **kwargs):\n",
    "        func(*args, **kwargs)\n",
    "        return func(*args, **kwargs)\n",
    "    return wrapper_do_twice\n",
    "\n",
    "@do_twico\n",
    "def yahoo():\n",
    "    print(\"yaaahoooo!\")\n",
    "    \n",
    "yahoo.__name__\n",
    "help(yahoo)"
   ]
  },
  {
   "cell_type": "code",
   "execution_count": null,
   "metadata": {},
   "outputs": [],
   "source": [
    "def get_math_fun(operation):\n",
    "    def add(n1, n2):\n",
    "        return n1 + n2\n",
    "    def sub(n1, n2):\n",
    "        return n1 - n2\n",
    "    \n",
    "    if operation == \"+\":\n",
    "        return add\n",
    "    elif operation == \"-\":\n",
    "        return sub\n",
    "    \n",
    "add_me = get_math_fun(\"+\")\n",
    "add_me(2,2)\n",
    "\n",
    "sub_me = get_math_fun(\"-\")\n",
    "sub_me(10,8)"
   ]
  },
  {
   "cell_type": "code",
   "execution_count": 35,
   "metadata": {},
   "outputs": [
    {
     "name": "stdout",
     "output_type": "stream",
     "text": [
      "Professor: \n",
      "we will remeber your name!\n"
     ]
    }
   ],
   "source": [
    "def title_deco(name_func):\n",
    "    def wrapper():\n",
    "        print(\"Professor: \")\n",
    "        return name_func()\n",
    "    return wrapper()\n",
    "\n",
    "@title_deco\n",
    "def print_my_name():\n",
    "    print(\"we will remeber your name!\")\n",
    "    \n"
   ]
  },
  {
   "cell_type": "code",
   "execution_count": 37,
   "metadata": {},
   "outputs": [
    {
     "name": "stdout",
     "output_type": "stream",
     "text": [
      "Professor: \n",
      "rick\n"
     ]
    }
   ],
   "source": [
    "def title_d(names_func):\n",
    "    def inner():\n",
    "        print(\"Professor: \")\n",
    "        names_func()\n",
    "    return inner()\n",
    "\n",
    "def shiv():\n",
    "    print(\"shiv\")\n",
    "\n",
    "def rick():\n",
    "    print(\"rick\")\n",
    "    \n",
    "objec = title_d(rick)\n",
    "objec"
   ]
  },
  {
   "cell_type": "code",
   "execution_count": 52,
   "metadata": {},
   "outputs": [
    {
     "name": "stdout",
     "output_type": "stream",
     "text": [
      "Professor: \n",
      "shiv\n",
      "Professor: \n",
      "rick\n"
     ]
    }
   ],
   "source": [
    "def title_d(names_func):\n",
    "    def inner():\n",
    "        print(\"Professor: \")\n",
    "        names_func()\n",
    "    return inner()\n",
    "\n",
    "@title_d\n",
    "def shiv():\n",
    "    print(\"shiv\")\n",
    "@title_d\n",
    "def rick():\n",
    "    print(\"rick\")\n",
    "    "
   ]
  },
  {
   "cell_type": "code",
   "execution_count": 83,
   "metadata": {},
   "outputs": [
    {
     "name": "stdout",
     "output_type": "stream",
     "text": [
      "Professor: \n",
      "shivam chouhan\n"
     ]
    }
   ],
   "source": [
    "def title_d(names_func):\n",
    "    def inner(na, la):\n",
    "        print(\"Professor: \")\n",
    "        return names_func(na, la)\n",
    "    return inner\n",
    "\n",
    "@title_d\n",
    "def shiv(na, ln):\n",
    "    print(na, ln)\n",
    "    \n",
    "shiv(\"shivam\", \"chouhan\")"
   ]
  },
  {
   "cell_type": "code",
   "execution_count": 90,
   "metadata": {},
   "outputs": [
    {
     "name": "stdout",
     "output_type": "stream",
     "text": [
      "Professor: \n",
      "shiv is God without powers\n"
     ]
    }
   ],
   "source": [
    "def title_d(names_func):\n",
    "    def inner(*args):\n",
    "        print(\"Professor: \")\n",
    "        return names_func(*args)\n",
    "    return inner\n",
    "\n",
    "@title_d\n",
    "def shiv(*args):\n",
    "    print(*args)\n",
    "    \n",
    "shiv(\"shiv\", \"is\", \"God\", \"without\", \"powers\")"
   ]
  },
  {
   "cell_type": "code",
   "execution_count": 97,
   "metadata": {},
   "outputs": [
    {
     "name": "stdout",
     "output_type": "stream",
     "text": [
      "shiv\n",
      "is\n",
      "super\n",
      "hero\n",
      "a b c d\n"
     ]
    }
   ],
   "source": [
    "def title_do(names_func):\n",
    "    def inner(**kwargs):\n",
    "        for j,k in kwargs.items():\n",
    "            print(k)\n",
    "        return names_func(**kwargs)\n",
    "    return inner\n",
    "\n",
    "@title_do\n",
    "def shiv(**kwargs):\n",
    "    print(*kwargs) # unfortunately it is printing keys\n",
    "    \n",
    "shiv(a=\"shiv\", b=\"is\", c=\"super\", d=\"hero\")\n"
   ]
  },
  {
   "cell_type": "code",
   "execution_count": null,
   "metadata": {},
   "outputs": [
    {
     "name": "stdout",
     "output_type": "stream",
     "text": [
      "['_', '_', '_', '_', '_', '_', '_', '_', '_']\n",
      "['_', '_', '_', '_', '_', '_', '_', '_', '_']\n"
     ]
    }
   ],
   "source": [
    "word = \"HAPPINESS\"\n",
    "reveal = list(len(word)*'_')\n",
    "print(reveal)\n",
    "\n",
    "\n",
    "lives = 7\n",
    "gameWon = False\n",
    "\n",
    "\n",
    "while gameWon == False and lives > 0:\n",
    "    print(reveal)\n",
    "    guess = input(\"Guess a letter : \")\n",
    "    guess = guess.upper()\n",
    "\n",
    "    if guess == word:\n",
    "        gameWon = True # this will check the final results if word in last in == to the word(guess) we have. eg. happy == happy\n",
    "\n",
    "    if len(guess) == 1 and guess in word:  # we making sure if len guess == 1 so user can guess only 1 char at a time\n",
    "        for i in range(0, len(word)): # 0, 1, 2\n",
    "            letter = word[i]\n",
    "            print(letter)\n",
    "            if guess == letter:\n",
    "                reveal[i] = guess\n",
    "                \n",
    "        if '_' not in reveal:  # last termination if we have filled all the empty spaces\n",
    "            gameWon = True\n",
    "\n",
    "    else:\n",
    "        lives -= 1\n",
    "\n",
    "if gameWon:\n",
    "    print(\"Well Done you Are a **~ CHAMPION ~**\")\n",
    "else:\n",
    "    print(\"*_* YOU FAILED *_*\")\n",
    "    print(\"The word was : \", word)\n",
    "\n",
    "\n",
    "#  first basics <initial commit have it all>\n",
    "#  How do we gonna guess single word letters\n"
   ]
  },
  {
   "cell_type": "code",
   "execution_count": 104,
   "metadata": {},
   "outputs": [
    {
     "data": {
      "text/plain": [
       "'H'"
      ]
     },
     "execution_count": 104,
     "metadata": {},
     "output_type": "execute_result"
    }
   ],
   "source": [
    "reveal[0]"
   ]
  },
  {
   "cell_type": "code",
   "execution_count": null,
   "metadata": {},
   "outputs": [],
   "source": []
  }
 ],
 "metadata": {
  "kernelspec": {
   "display_name": "Python 3",
   "language": "python",
   "name": "python3"
  },
  "language_info": {
   "codemirror_mode": {
    "name": "ipython",
    "version": 3
   },
   "file_extension": ".py",
   "mimetype": "text/x-python",
   "name": "python",
   "nbconvert_exporter": "python",
   "pygments_lexer": "ipython3",
   "version": "3.7.4"
  }
 },
 "nbformat": 4,
 "nbformat_minor": 2
}
