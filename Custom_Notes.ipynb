{
 "cells": [
  {
   "cell_type": "code",
   "execution_count": 1,
   "metadata": {},
   "outputs": [
    {
     "name": "stdout",
     "output_type": "stream",
     "text": [
      "27\n",
      "64\n"
     ]
    }
   ],
   "source": [
    "# a function without a nme is anonymous func\n",
    "#  lambda keyword is used to definde an anonymous function in pyton\n",
    "#  can have any number of arguments but only one expression\n",
    "\n",
    "def cube(y):\n",
    "    return y*y*y\n",
    "print(cube(3))\n",
    "\n",
    "# Syntax: lambda arguments: expression\n",
    "\n",
    "lambda_cube = lambda y: y*y*y\n",
    "print(lambda_cube(4))"
   ]
  },
  {
   "cell_type": "code",
   "execution_count": 2,
   "metadata": {},
   "outputs": [
    {
     "name": "stdout",
     "output_type": "stream",
     "text": [
      "[8, 10, 12, 14]\n",
      "[2, 4, 6, 8]\n"
     ]
    }
   ],
   "source": [
    "# map function\n",
    "\n",
    "#  syntax: map(fun, iter)\n",
    "\n",
    "# output in list and tuples etc..\n",
    "\n",
    "\n",
    "numbers = (4,5,6,7)\n",
    "def addition(n):\n",
    "    return n + n\n",
    "\n",
    "results = map(addition, numbers)\n",
    "print(list(results))\n",
    "\n",
    "\n",
    "numbers = (1, 2, 3, 4) \n",
    "result = map(lambda x: x + x, numbers) \n",
    "print(list(result)) "
   ]
  },
  {
   "cell_type": "code",
   "execution_count": 3,
   "metadata": {},
   "outputs": [
    {
     "name": "stdout",
     "output_type": "stream",
     "text": [
      "e\n",
      "e\n"
     ]
    }
   ],
   "source": [
    "# filters the given sequence with the help of a function that tests each element in the sequence to be true or not.\n",
    "\n",
    "# syntax: filter(function, sequence)\n",
    "\n",
    "\n",
    "def fun(variable):\n",
    "    letters = ['a', 'e', 'i', 'o', 'u']\n",
    "    if (variable in letters):\n",
    "        return True\n",
    "    else:\n",
    "        return False\n",
    "    \n",
    "sequence = ['g', 'e', 'e', 'j', 'k', 's', 'p', 'r'] \n",
    "filtered = filter(fun, sequence)\n",
    "for s in filtered:\n",
    "    print(s)"
   ]
  },
  {
   "cell_type": "code",
   "execution_count": 4,
   "metadata": {},
   "outputs": [
    {
     "name": "stdout",
     "output_type": "stream",
     "text": [
      "[1, 3, 5, 13]\n",
      "{0, 32, 2, 8, 12}\n",
      "(90, 43, 34)\n"
     ]
    }
   ],
   "source": [
    "# practice\n",
    "\n",
    "seq = [0,1,2,3,5,8,13]\n",
    "\n",
    "result_odd = filter(lambda x: x%2 != 0, seq)\n",
    "print(list(result_odd))\n",
    "\n",
    "mix_seq = [0,1,2,3,5,8,13, 23, 12, 32]\n",
    "result_even = filter(lambda x: x%2 == 0, mix_seq)\n",
    "# print(tuple(result_even))\n",
    "# print(list(result_even))\n",
    "print(set(result_even))\n",
    "\n",
    "ages = [13, 90, 43,2,1,34]\n",
    "result = filter(lambda x: x > 18, ages)\n",
    "print(tuple(result))"
   ]
  },
  {
   "cell_type": "code",
   "execution_count": null,
   "metadata": {},
   "outputs": [],
   "source": []
  },
  {
   "cell_type": "code",
   "execution_count": 7,
   "metadata": {},
   "outputs": [],
   "source": [
    "# import math\n",
    "# math.sqrt(x)\n",
    "def square_root(num):\n",
    "    return int(num ** (1/2))"
   ]
  },
  {
   "cell_type": "code",
   "execution_count": 8,
   "metadata": {},
   "outputs": [],
   "source": [
    "\n",
    "# How to format numer to %\n",
    "\n",
    "def win_percentage(wins, losses):\n",
    "    total_games = wins + losses\n",
    "    win_ratio = wins / total_games\n",
    "    return \"{:.0%}\".format(win_ratio)"
   ]
  },
  {
   "cell_type": "code",
   "execution_count": 10,
   "metadata": {},
   "outputs": [],
   "source": [
    "# how to sum *args passed to func\n",
    "\n",
    "def my_func(*args):\n",
    "    return sum(args)\n"
   ]
  },
  {
   "cell_type": "code",
   "execution_count": 12,
   "metadata": {},
   "outputs": [],
   "source": [
    "# string pro\n",
    "\n",
    "def dog_years(name, age):\n",
    "    return name+\", you are \"+str(age * 7)+\" years old in dog years\""
   ]
  },
  {
   "cell_type": "code",
   "execution_count": 14,
   "metadata": {},
   "outputs": [],
   "source": [
    "f_name = [\"shivam\", \"shital\", \"Mom\"]\n",
    "l_name = ['Manswalia', 'God', \"God\"]\n",
    "\n",
    "combo = zip(f_name, l_name)\n",
    "# print(list(combo))\n",
    "# for i in combo:\n",
    "#     print(i)"
   ]
  },
  {
   "cell_type": "code",
   "execution_count": 16,
   "metadata": {},
   "outputs": [],
   "source": [
    "a = (\"shivam\")\n",
    "x = slice(1, 4)\n",
    "# print(a)"
   ]
  },
  {
   "cell_type": "code",
   "execution_count": 17,
   "metadata": {},
   "outputs": [
    {
     "name": "stdout",
     "output_type": "stream",
     "text": [
      "is even\n"
     ]
    }
   ],
   "source": [
    "# 5//2*2\n",
    "# how to get even without mod\n",
    "num = 6\n",
    "if num//2*2 == num:\n",
    "    print(\"is even\")\n",
    "else:\n",
    "    print(\"odd\")"
   ]
  },
  {
   "cell_type": "code",
   "execution_count": 18,
   "metadata": {},
   "outputs": [
    {
     "name": "stdout",
     "output_type": "stream",
     "text": [
      "5\n"
     ]
    }
   ],
   "source": [
    "import random\n",
    "\n",
    "num = random.randint(1, 6)\n",
    "print(num)"
   ]
  },
  {
   "cell_type": "code",
   "execution_count": 20,
   "metadata": {},
   "outputs": [
    {
     "name": "stdout",
     "output_type": "stream",
     "text": [
      "Numerb is not perfect\n"
     ]
    }
   ],
   "source": [
    "# perfect number if 6 = 1,2,3 (divisival of 6) if we sum them and if sum is equal to the number then it is a perfect numebr\n",
    "# we can also check it untill num + 1 and then divide total/2 and it will work the same \n",
    "\n",
    "num = 7\n",
    "total = 0\n",
    "for i in range(1,num):\n",
    "    if num % i== 0:\n",
    "        total += i\n",
    "if total == num:\n",
    "    print(\"Number is perfect\")\n",
    "else:\n",
    "    print(\"Numerb is not perfect\")\n"
   ]
  },
  {
   "cell_type": "code",
   "execution_count": 24,
   "metadata": {},
   "outputs": [],
   "source": [
    "a = \"FGHIJKLMNOP\"\n",
    "for i in range(ord(\"G\"), ord(\"Q\")):\n",
    "#     print(i)\n",
    "    pass"
   ]
  },
  {
   "cell_type": "code",
   "execution_count": 25,
   "metadata": {},
   "outputs": [
    {
     "name": "stdout",
     "output_type": "stream",
     "text": [
      "A B C D E F G H I J K L M N O P Q R S T U V W X Y Z [ \\ ] ^ _ ` a b c d e f g h i j k l m n o p q r s t u v w x y z "
     ]
    }
   ],
   "source": [
    "asscci_num = 65\n",
    "for i in range(65, 123):\n",
    "    g = chr(asscci_num)\n",
    "    asscci_num += 1\n",
    "    print(g, end=\" \")"
   ]
  },
  {
   "cell_type": "code",
   "execution_count": 5,
   "metadata": {},
   "outputs": [
    {
     "data": {
      "text/plain": [
       "'21'"
      ]
     },
     "execution_count": 5,
     "metadata": {},
     "output_type": "execute_result"
    }
   ],
   "source": [
    "#   Tuples\n",
    "#   Tuples\n",
    "# \n",
    "# \n",
    "\n",
    "my_info = ('shiv', '21', 'developer')\n",
    "\n",
    "name, age, occupation = my_info\n",
    "age\n",
    "\n",
    "num = (4) # not tuple\n",
    "num = (5,) #tuple"
   ]
  },
  {
   "cell_type": "code",
   "execution_count": null,
   "metadata": {},
   "outputs": [],
   "source": []
  }
 ],
 "metadata": {
  "kernelspec": {
   "display_name": "Python 3",
   "language": "python",
   "name": "python3"
  },
  "language_info": {
   "codemirror_mode": {
    "name": "ipython",
    "version": 3
   },
   "file_extension": ".py",
   "mimetype": "text/x-python",
   "name": "python",
   "nbconvert_exporter": "python",
   "pygments_lexer": "ipython3",
   "version": "3.7.4"
  }
 },
 "nbformat": 4,
 "nbformat_minor": 2
}
