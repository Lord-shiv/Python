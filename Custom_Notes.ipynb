{
 "cells": [
  {
   "cell_type": "code",
   "execution_count": 1,
   "metadata": {},
   "outputs": [
    {
     "name": "stdout",
     "output_type": "stream",
     "text": [
      "27\n",
      "64\n"
     ]
    }
   ],
   "source": [
    "# a function without a nme is anonymous func\n",
    "#  lambda keyword is used to definde an anonymous function in pyton\n",
    "#  can have any number of arguments but only one expression\n",
    "\n",
    "def cube(y):\n",
    "    return y*y*y\n",
    "print(cube(3))\n",
    "\n",
    "# Syntax: lambda arguments: expression\n",
    "\n",
    "lambda_cube = lambda y: y*y*y\n",
    "print(lambda_cube(4))"
   ]
  },
  {
   "cell_type": "code",
   "execution_count": 2,
   "metadata": {},
   "outputs": [
    {
     "name": "stdout",
     "output_type": "stream",
     "text": [
      "[8, 10, 12, 14]\n",
      "[2, 4, 6, 8]\n"
     ]
    }
   ],
   "source": [
    "# map function\n",
    "\n",
    "#  syntax: map(fun, iter)\n",
    "\n",
    "# output in list and tuples etc..\n",
    "\n",
    "\n",
    "numbers = (4,5,6,7)\n",
    "def addition(n):\n",
    "    return n + n\n",
    "\n",
    "results = map(addition, numbers)\n",
    "print(list(results))\n",
    "\n",
    "\n",
    "numbers = (1, 2, 3, 4) \n",
    "result = map(lambda x: x + x, numbers) \n",
    "print(list(result)) "
   ]
  },
  {
   "cell_type": "code",
   "execution_count": 3,
   "metadata": {},
   "outputs": [
    {
     "name": "stdout",
     "output_type": "stream",
     "text": [
      "e\n",
      "e\n"
     ]
    }
   ],
   "source": [
    "# filters the given sequence with the help of a function that tests each element in the sequence to be true or not.\n",
    "\n",
    "# syntax: filter(function, sequence)\n",
    "\n",
    "\n",
    "def fun(variable):\n",
    "    letters = ['a', 'e', 'i', 'o', 'u']\n",
    "    if (variable in letters):\n",
    "        return True\n",
    "    else:\n",
    "        return False\n",
    "    \n",
    "sequence = ['g', 'e', 'e', 'j', 'k', 's', 'p', 'r'] \n",
    "filtered = filter(fun, sequence)\n",
    "for s in filtered:\n",
    "    print(s)"
   ]
  },
  {
   "cell_type": "code",
   "execution_count": 4,
   "metadata": {},
   "outputs": [
    {
     "name": "stdout",
     "output_type": "stream",
     "text": [
      "[1, 3, 5, 13]\n",
      "{0, 32, 2, 8, 12}\n",
      "(90, 43, 34)\n"
     ]
    }
   ],
   "source": [
    "seq = [0,1,2,3,5,8,13]\n",
    "\n",
    "result_odd = filter(lambda x: x%2 != 0, seq)\n",
    "print(list(result_odd))\n",
    "\n",
    "mix_seq = [0,1,2,3,5,8,13, 23, 12, 32]\n",
    "result_even = filter(lambda x: x%2 == 0, mix_seq)\n",
    "# print(tuple(result_even))\n",
    "# print(list(result_even))\n",
    "print(set(result_even))\n",
    "\n",
    "ages = [13, 90, 43,2,1,34]\n",
    "result = filter(lambda x: x > 18, ages)\n",
    "print(tuple(result))"
   ]
  },
  {
   "cell_type": "code",
   "execution_count": null,
   "metadata": {},
   "outputs": [],
   "source": []
  }
 ],
 "metadata": {
  "kernelspec": {
   "display_name": "Python 3",
   "language": "python",
   "name": "python3"
  },
  "language_info": {
   "codemirror_mode": {
    "name": "ipython",
    "version": 3
   },
   "file_extension": ".py",
   "mimetype": "text/x-python",
   "name": "python",
   "nbconvert_exporter": "python",
   "pygments_lexer": "ipython3",
   "version": "3.7.4"
  }
 },
 "nbformat": 4,
 "nbformat_minor": 2
}
