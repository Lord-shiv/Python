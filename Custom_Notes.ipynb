{
 "cells": [
  {
   "cell_type": "code",
   "execution_count": 1,
   "metadata": {},
   "outputs": [
    {
     "name": "stdout",
     "output_type": "stream",
     "text": [
      "27\n",
      "64\n"
     ]
    }
   ],
   "source": [
    "# a function without a nme is anonymous func\n",
    "#  lambda keyword is used to definde an anonymous function in pyton\n",
    "#  can have any number of arguments but only one expression\n",
    "\n",
    "def cube(y):\n",
    "    return y*y*y\n",
    "print(cube(3))\n",
    "\n",
    "# Syntax: lambda arguments: expression\n",
    "\n",
    "lambda_cube = lambda y: y*y*y\n",
    "print(lambda_cube(4))"
   ]
  },
  {
   "cell_type": "code",
   "execution_count": 2,
   "metadata": {},
   "outputs": [
    {
     "name": "stdout",
     "output_type": "stream",
     "text": [
      "[8, 10, 12, 14]\n",
      "[2, 4, 6, 8]\n"
     ]
    }
   ],
   "source": [
    "# map function\n",
    "\n",
    "#  syntax: map(fun, iter)\n",
    "\n",
    "# output in list and tuples etc..\n",
    "\n",
    "\n",
    "numbers = (4,5,6,7)\n",
    "def addition(n):\n",
    "    return n + n\n",
    "\n",
    "results = map(addition, numbers)\n",
    "print(list(results))\n",
    "\n",
    "\n",
    "numbers = (1, 2, 3, 4) \n",
    "result = map(lambda x: x + x, numbers) \n",
    "print(list(result)) "
   ]
  },
  {
   "cell_type": "code",
   "execution_count": 2,
   "metadata": {},
   "outputs": [
    {
     "name": "stdout",
     "output_type": "stream",
     "text": [
      "<filter object at 0x0000024A7F02FA48>\n",
      "e\n",
      "e\n"
     ]
    }
   ],
   "source": [
    "# filters the given sequence with the help of a function that tests each element in the sequence to be true or not.\n",
    "\n",
    "# syntax: filter(function, sequence)\n",
    "\n",
    "\n",
    "def fun(variable):\n",
    "    letters = ['a', 'e', 'i', 'o', 'u']\n",
    "    if (variable in letters):\n",
    "        return True\n",
    "    else:\n",
    "        return False\n",
    "    \n",
    "sequence = ['g', 'e', 'e', 'j', 'k', 's', 'p', 'r'] \n",
    "filtered = filter(fun, sequence)\n",
    "\n",
    "for s in filtered:\n",
    "    print(s)"
   ]
  },
  {
   "cell_type": "code",
   "execution_count": 4,
   "metadata": {},
   "outputs": [
    {
     "name": "stdout",
     "output_type": "stream",
     "text": [
      "[1, 3, 5, 13]\n",
      "{0, 32, 2, 8, 12}\n",
      "(90, 43, 34)\n"
     ]
    }
   ],
   "source": [
    "# practice\n",
    "\n",
    "seq = [0,1,2,3,5,8,13]\n",
    "\n",
    "result_odd = filter(lambda x: x%2 != 0, seq)\n",
    "print(list(result_odd))\n",
    "\n",
    "mix_seq = [0,1,2,3,5,8,13, 23, 12, 32]\n",
    "result_even = filter(lambda x: x%2 == 0, mix_seq)\n",
    "# print(tuple(result_even))\n",
    "# print(list(result_even))\n",
    "print(set(result_even))\n",
    "\n",
    "ages = [13, 90, 43,2,1,34]\n",
    "result = filter(lambda x: x > 18, ages)\n",
    "print(tuple(result))"
   ]
  },
  {
   "cell_type": "code",
   "execution_count": null,
   "metadata": {},
   "outputs": [],
   "source": []
  },
  {
   "cell_type": "code",
   "execution_count": 6,
   "metadata": {},
   "outputs": [
    {
     "data": {
      "text/plain": [
       "5"
      ]
     },
     "execution_count": 6,
     "metadata": {},
     "output_type": "execute_result"
    }
   ],
   "source": [
    "# import math\n",
    "# math.sqrt(x)\n",
    "def square_root(num):\n",
    "    return int(num ** (1/2))\n",
    "square_root(25)"
   ]
  },
  {
   "cell_type": "code",
   "execution_count": 8,
   "metadata": {},
   "outputs": [],
   "source": [
    "\n",
    "# How to format numer to %\n",
    "\n",
    "def win_percentage(wins, losses):\n",
    "    total_games = wins + losses\n",
    "    win_ratio = wins / total_games\n",
    "    return \"{:.0%}\".format(win_ratio)"
   ]
  },
  {
   "cell_type": "code",
   "execution_count": 10,
   "metadata": {},
   "outputs": [],
   "source": [
    "# how to sum *args passed to func\n",
    "\n",
    "def my_func(*args):\n",
    "    return sum(args)\n"
   ]
  },
  {
   "cell_type": "code",
   "execution_count": 12,
   "metadata": {},
   "outputs": [],
   "source": [
    "# string pro\n",
    "\n",
    "def dog_years(name, age):\n",
    "    return name+\", you are \"+str(age * 7)+\" years old in dog years\""
   ]
  },
  {
   "cell_type": "code",
   "execution_count": 14,
   "metadata": {},
   "outputs": [],
   "source": [
    "f_name = [\"shivam\", \"shital\", \"Mom\"]\n",
    "l_name = ['Manswalia', 'God', \"God\"]\n",
    "\n",
    "combo = zip(f_name, l_name)\n",
    "# print(list(combo))\n",
    "# for i in combo:\n",
    "#     print(i)"
   ]
  },
  {
   "cell_type": "code",
   "execution_count": 16,
   "metadata": {},
   "outputs": [],
   "source": [
    "a = (\"shivam\")\n",
    "x = slice(1, 4)\n",
    "# print(a)"
   ]
  },
  {
   "cell_type": "code",
   "execution_count": 17,
   "metadata": {},
   "outputs": [
    {
     "name": "stdout",
     "output_type": "stream",
     "text": [
      "is even\n"
     ]
    }
   ],
   "source": [
    "# 5//2*2\n",
    "# how to get even without mod\n",
    "num = 6\n",
    "if num//2*2 == num:\n",
    "    print(\"is even\")\n",
    "else:\n",
    "    print(\"odd\")"
   ]
  },
  {
   "cell_type": "code",
   "execution_count": 18,
   "metadata": {},
   "outputs": [
    {
     "name": "stdout",
     "output_type": "stream",
     "text": [
      "5\n"
     ]
    }
   ],
   "source": [
    "import random\n",
    "\n",
    "num = random.randint(1, 6)\n",
    "print(num)"
   ]
  },
  {
   "cell_type": "code",
   "execution_count": 20,
   "metadata": {},
   "outputs": [
    {
     "name": "stdout",
     "output_type": "stream",
     "text": [
      "Numerb is not perfect\n"
     ]
    }
   ],
   "source": [
    "# perfect number if 6 = 1,2,3 (divisival of 6) if we sum them and if sum is equal to the number then it is a perfect numebr\n",
    "# we can also check it untill num + 1 and then divide total/2 and it will work the same \n",
    "\n",
    "num = 7\n",
    "total = 0\n",
    "for i in range(1,num):\n",
    "    if num % i== 0:\n",
    "        total += i\n",
    "if total == num:\n",
    "    print(\"Number is perfect\")\n",
    "else:\n",
    "    print(\"Numerb is not perfect\")\n"
   ]
  },
  {
   "cell_type": "code",
   "execution_count": 24,
   "metadata": {},
   "outputs": [],
   "source": [
    "a = \"FGHIJKLMNOP\"\n",
    "for i in range(ord(\"G\"), ord(\"Q\")):\n",
    "#     print(i)\n",
    "    pass"
   ]
  },
  {
   "cell_type": "code",
   "execution_count": 25,
   "metadata": {},
   "outputs": [
    {
     "name": "stdout",
     "output_type": "stream",
     "text": [
      "A B C D E F G H I J K L M N O P Q R S T U V W X Y Z [ \\ ] ^ _ ` a b c d e f g h i j k l m n o p q r s t u v w x y z "
     ]
    }
   ],
   "source": [
    "asscci_num = 65\n",
    "for i in range(65, 123):\n",
    "    g = chr(asscci_num)\n",
    "    asscci_num += 1\n",
    "    print(g, end=\" \")"
   ]
  },
  {
   "cell_type": "code",
   "execution_count": 5,
   "metadata": {},
   "outputs": [
    {
     "data": {
      "text/plain": [
       "'21'"
      ]
     },
     "execution_count": 5,
     "metadata": {},
     "output_type": "execute_result"
    }
   ],
   "source": [
    "#   Tuples\n",
    "#   Tuples\n",
    "# \n",
    "# \n",
    "\n",
    "my_info = ('shiv', '21', 'developer')\n",
    "\n",
    "name, age, occupation = my_info\n",
    "age\n",
    "\n",
    "num = (4) # not tuple\n",
    "num = (5,) #tuple"
   ]
  },
  {
   "cell_type": "code",
   "execution_count": 8,
   "metadata": {},
   "outputs": [
    {
     "name": "stdout",
     "output_type": "stream",
     "text": [
      "38\n",
      "34\n",
      "26\n",
      "21\n",
      "67\n",
      "41\n"
     ]
    }
   ],
   "source": [
    "#  Contiune..\n",
    "# Your computer is the doorman at a bar in a country where the drinking age is 21.\n",
    "ages = [12, 38, 34, 26, 21, 19, 67, 41, 17]\n",
    "\n",
    "for age in ages:\n",
    "    if age < 21:\n",
    "        continue\n",
    "    print(age)"
   ]
  },
  {
   "cell_type": "code",
   "execution_count": 6,
   "metadata": {},
   "outputs": [
    {
     "name": "stdout",
     "output_type": "stream",
     "text": [
      "french_bulldog\n",
      "dalmatian\n",
      "They have the dog I want!\n"
     ]
    }
   ],
   "source": [
    "#  Break\n",
    "#  break\n",
    "dog_breeds_available_for_adoption = ['french_bulldog', 'dalmatian', 'shihtzu', 'poodle', 'collie']\n",
    "dog_breed_I_want = 'dalmatian'\n",
    "\n",
    "for breed in dog_breeds_available_for_adoption:\n",
    "    print(breed)\n",
    "    if dog_breed_I_want == breed:\n",
    "        print(\"They have the dog I want!\")\n",
    "        break"
   ]
  },
  {
   "cell_type": "code",
   "execution_count": 7,
   "metadata": {},
   "outputs": [
    {
     "data": {
      "text/plain": [
       "[25, 20, 35, 15, 15, 30, 45, 30]"
      ]
     },
     "execution_count": 7,
     "metadata": {},
     "output_type": "execute_result"
    }
   ],
   "source": [
    "prices = [30, 25, 40, 20, 20, 35, 50, 35]\n",
    "new_prices = [(less-5) for less in prices]\n",
    "new_prices"
   ]
  },
  {
   "cell_type": "code",
   "execution_count": 1,
   "metadata": {},
   "outputs": [
    {
     "name": "stdout",
     "output_type": "stream",
     "text": [
      "['Lorde', 'Mistral', 'Toomer', 'Qi', 'Whitman', 'Silverstein', 'Boullosa', 'Suraiyya', 'Hughes', 'Rich', 'Giovanni']\n"
     ]
    }
   ],
   "source": [
    "# how to remove last names\n",
    "authors = \"Audre Lorde,Gabriela Mistral,Jean Toomer,An Qi,Walt Whitman,Shel Silverstein,Carmen Boullosa,Kamala Suraiyya,Langston Hughes,Adrienne Rich,Nikki Giovanni\"\n",
    "authors_ = authors.split(\",\")\n",
    "author_last_names = []\n",
    "for i in authors_:\n",
    "    author_last_names.append(i.split()[-1])\n",
    "    \n",
    "print(author_last_names)"
   ]
  },
  {
   "cell_type": "code",
   "execution_count": 2,
   "metadata": {},
   "outputs": [
    {
     "data": {
      "text/plain": [
       "['s', 'h', 'i', 'a']"
      ]
     },
     "execution_count": 2,
     "metadata": {},
     "output_type": "execute_result"
    }
   ],
   "source": [
    "def common_letters(string_one, string_two):\n",
    "    count = []\n",
    "    for i in string_one:\n",
    "        if (i in string_two) and not (i in count):\n",
    "            count.append(i)\n",
    "    return count\n",
    "\n",
    "common_letters(\"shivams\", \"shitals\")"
   ]
  },
  {
   "cell_type": "code",
   "execution_count": 3,
   "metadata": {},
   "outputs": [
    {
     "data": {
      "text/plain": [
       "\"He said, '''blueberries are my favorite!'''\""
      ]
     },
     "execution_count": 3,
     "metadata": {},
     "output_type": "execute_result"
    }
   ],
   "source": [
    "favorite_fruit_conversation = \"He said, \\'''blueberries are my favorite!\\'''\"\n",
    "favorite_fruit_conversation"
   ]
  },
  {
   "cell_type": "code",
   "execution_count": 4,
   "metadata": {},
   "outputs": [
    {
     "data": {
      "text/plain": [
       "True"
      ]
     },
     "execution_count": 4,
     "metadata": {},
     "output_type": "execute_result"
    }
   ],
   "source": [
    "def reversed_listk(lst1, lst2):\n",
    "    for index in range(len(lst1)):\n",
    "        if lst1[index] != lst2[len(lst2) - 1 - index]:\n",
    "            return False\n",
    "        return True\n",
    "reversed_listk([1, 2, 3], [3, 2, 1])"
   ]
  },
  {
   "cell_type": "code",
   "execution_count": 5,
   "metadata": {},
   "outputs": [
    {
     "data": {
      "text/plain": [
       "[0, 2, 3]"
      ]
     },
     "execution_count": 5,
     "metadata": {},
     "output_type": "execute_result"
    }
   ],
   "source": [
    "def same_values(lst1, lst2):\n",
    "    k = []\n",
    "    for i in range(len(lst1)):\n",
    "        if lst1[i] == lst2[i]:\n",
    "            k.append(i)\n",
    "    return k\n",
    "same_values([5, 1, -10, 3, 3], [5, 10, -10, 3, 5])      "
   ]
  },
  {
   "cell_type": "code",
   "execution_count": 6,
   "metadata": {},
   "outputs": [
    {
     "data": {
      "text/plain": [
       "9"
      ]
     },
     "execution_count": 6,
     "metadata": {},
     "output_type": "execute_result"
    }
   ],
   "source": [
    "def max_number(nums):\n",
    "    maximum = nums[0]\n",
    "    for number in nums:\n",
    "        if number > maximum:\n",
    "            maximum = number\n",
    "    return maximum\n",
    "max_number([3,4,6,7,9])"
   ]
  },
  {
   "cell_type": "code",
   "execution_count": 7,
   "metadata": {},
   "outputs": [
    {
     "data": {
      "text/plain": [
       "9020"
      ]
     },
     "execution_count": 7,
     "metadata": {},
     "output_type": "execute_result"
    }
   ],
   "source": [
    "def over_nine_thousand(lst):\n",
    "    sum = 0\n",
    "    for number in lst:\n",
    "        sum += number\n",
    "        if (sum > 9000):\n",
    "            break\n",
    "    return sum\n",
    "over_nine_thousand([8000, 900, 120, 5000])"
   ]
  },
  {
   "cell_type": "code",
   "execution_count": 8,
   "metadata": {},
   "outputs": [
    {
     "name": "stdout",
     "output_type": "stream",
     "text": [
      "[32.0, 50.0, 59.0, 89.6, 23.0, 80.6, 37.4]\n"
     ]
    }
   ],
   "source": [
    "celsius = [0, 10, 15, 32, -5, 27, 3]\n",
    "\n",
    "fahrenheit = [(cel * 9/5 + 32) for cel in celsius]\n",
    "\n",
    "print(fahrenheit)"
   ]
  },
  {
   "cell_type": "code",
   "execution_count": 9,
   "metadata": {},
   "outputs": [
    {
     "name": "stdout",
     "output_type": "stream",
     "text": [
      "['Loki', 'Arius', 'Obie', 'Alexa', 'Minerva', 'Dora']\n"
     ]
    }
   ],
   "source": [
    "all_students = [\"Alex\", \"Briana\", \"Cheri\", \"Daniele\", \"Dora\", \"Minerva\", \"Alexa\", \"Obie\", \"Arius\", \"Loki\"]\n",
    "students_in_poetry = []\n",
    "\n",
    "\n",
    "while len(students_in_poetry) < 6:\n",
    "    g = all_students.pop()\n",
    "    students_in_poetry.append(g)\n",
    "print(students_in_poetry)"
   ]
  },
  {
   "cell_type": "code",
   "execution_count": 10,
   "metadata": {},
   "outputs": [
    {
     "data": {
      "text/plain": [
       "[1, 2, 6, 4]"
      ]
     },
     "execution_count": 10,
     "metadata": {},
     "output_type": "execute_result"
    }
   ],
   "source": [
    "# Create a function named double_index that has two parameters: a list named lst and a single number named index.\n",
    "def duble_ind(lista, ind):\n",
    "    if ind >= len(lista):\n",
    "        return lista\n",
    "    else:\n",
    "        new_lst = lista[0:ind]\n",
    "        \n",
    "    new_lst.append(lista[ind]*2)\n",
    "    new_lst = new_lst + lista[ind+1:]\n",
    "    return new_lst\n",
    "    \n",
    "duble_ind([1,2,3,4], 2)"
   ]
  },
  {
   "cell_type": "code",
   "execution_count": 1,
   "metadata": {},
   "outputs": [
    {
     "name": "stdout",
     "output_type": "stream",
     "text": [
      "Player 1 won!\n"
     ]
    }
   ],
   "source": [
    "# Rock paper Scissors\n",
    "def rps(p1, p2):\n",
    "    hand = {'rock':0, 'paper':1, 'scissors':2}\n",
    "    results = ['Draw!', 'Player 1 won!', 'Player 2 won!']\n",
    "    return results[hand[p1] - hand[p2]]\n",
    "\n",
    "print(rps('paper', 'rock'))"
   ]
  },
  {
   "cell_type": "code",
   "execution_count": 2,
   "metadata": {},
   "outputs": [
    {
     "ename": "TypeError",
     "evalue": "f() missing 1 required positional argument: 'a'",
     "output_type": "error",
     "traceback": [
      "\u001b[1;31m---------------------------------------------------------------------------\u001b[0m",
      "\u001b[1;31mTypeError\u001b[0m                                 Traceback (most recent call last)",
      "\u001b[1;32m<ipython-input-2-4b77b056b850>\u001b[0m in \u001b[0;36m<module>\u001b[1;34m\u001b[0m\n\u001b[0;32m     14\u001b[0m \u001b[1;33m\u001b[0m\u001b[0m\n\u001b[0;32m     15\u001b[0m \u001b[1;33m\u001b[0m\u001b[0m\n\u001b[1;32m---> 16\u001b[1;33m \u001b[0mf\u001b[0m\u001b[1;33m(\u001b[0m\u001b[1;33m)\u001b[0m  \u001b[1;31m# Error, argument required\u001b[0m\u001b[1;33m\u001b[0m\u001b[1;33m\u001b[0m\u001b[0m\n\u001b[0m\u001b[0;32m     17\u001b[0m \u001b[0mf\u001b[0m\u001b[1;33m(\u001b[0m\u001b[1;36m1\u001b[0m\u001b[1;33m)\u001b[0m  \u001b[1;31m# Allowed, it's a positional argument\u001b[0m\u001b[1;33m\u001b[0m\u001b[1;33m\u001b[0m\u001b[0m\n\u001b[0;32m     18\u001b[0m \u001b[0mf\u001b[0m\u001b[1;33m(\u001b[0m\u001b[0ma\u001b[0m\u001b[1;33m=\u001b[0m\u001b[1;36m1\u001b[0m\u001b[1;33m)\u001b[0m  \u001b[1;31m# Error, positional only argument\u001b[0m\u001b[1;33m\u001b[0m\u001b[1;33m\u001b[0m\u001b[0m\n",
      "\u001b[1;31mTypeError\u001b[0m: f() missing 1 required positional argument: 'a'"
     ]
    }
   ],
   "source": [
    "# Positional argument that is optional\n",
    "def f(a=2):\n",
    "    pass\n",
    "\n",
    "\n",
    "f()  # Allowed, argument is optional\n",
    "f(1)  # Allowed, it's a positional argument\n",
    "f(a=1)  # Error, positional only argument\n",
    "\n",
    "\n",
    "# Positional argument that is required \n",
    "def f(a):\n",
    "    pass\n",
    "\n",
    "\n",
    "f()  # Error, argument required\n",
    "f(1)  # Allowed, it's a positional argument\n",
    "f(a=1)  # Error, positional only argument"
   ]
  },
  {
   "cell_type": "code",
   "execution_count": 3,
   "metadata": {},
   "outputs": [
    {
     "ename": "TypeError",
     "evalue": "f() takes 0 positional arguments but 1 was given",
     "output_type": "error",
     "traceback": [
      "\u001b[1;31m---------------------------------------------------------------------------\u001b[0m",
      "\u001b[1;31mTypeError\u001b[0m                                 Traceback (most recent call last)",
      "\u001b[1;32m<ipython-input-3-2462d79bf741>\u001b[0m in \u001b[0;36m<module>\u001b[1;34m\u001b[0m\n\u001b[0;32m      5\u001b[0m \u001b[1;33m\u001b[0m\u001b[0m\n\u001b[0;32m      6\u001b[0m \u001b[0mf\u001b[0m\u001b[1;33m(\u001b[0m\u001b[1;33m)\u001b[0m  \u001b[1;31m# Allowed\u001b[0m\u001b[1;33m\u001b[0m\u001b[1;33m\u001b[0m\u001b[0m\n\u001b[1;32m----> 7\u001b[1;33m \u001b[0mf\u001b[0m\u001b[1;33m(\u001b[0m\u001b[1;36m1\u001b[0m\u001b[1;33m)\u001b[0m  \u001b[1;31m# Error, keyword only arguments\u001b[0m\u001b[1;33m\u001b[0m\u001b[1;33m\u001b[0m\u001b[0m\n\u001b[0m\u001b[0;32m      8\u001b[0m \u001b[0mf\u001b[0m\u001b[1;33m(\u001b[0m\u001b[0ma\u001b[0m\u001b[1;33m=\u001b[0m\u001b[1;36m1\u001b[0m\u001b[1;33m)\u001b[0m  \u001b[1;31m# Allowed, it's a keyword argument\u001b[0m\u001b[1;33m\u001b[0m\u001b[1;33m\u001b[0m\u001b[0m\n",
      "\u001b[1;31mTypeError\u001b[0m: f() takes 0 positional arguments but 1 was given"
     ]
    }
   ],
   "source": [
    "# Keyword argument that is optional\n",
    "\n",
    "def f(*, a=1):\n",
    "    pass\n",
    "\n",
    "\n",
    "f()  # Allowed\n",
    "f(1)  # Error, keyword only arguments\n",
    "f(a=1)  # Allowed, it's a keyword argument\n",
    "\n",
    "# keyword argument that is required\n",
    "\n",
    "def f(*, a)\n",
    "    pass\n",
    "\n",
    "\n",
    "f()  # Error, argument required\n",
    "f(1)  # Error, keyword only arguments\n",
    "f(a=1)  # Allowed, it's a keyword argument"
   ]
  },
  {
   "cell_type": "code",
   "execution_count": 4,
   "metadata": {},
   "outputs": [
    {
     "ename": "SyntaxError",
     "evalue": "invalid syntax (<ipython-input-4-8bbf74cc6488>, line 1)",
     "output_type": "error",
     "traceback": [
      "\u001b[1;36m  File \u001b[1;32m\"<ipython-input-4-8bbf74cc6488>\"\u001b[1;36m, line \u001b[1;32m1\u001b[0m\n\u001b[1;33m    Positional and keyword argument that is optional\u001b[0m\n\u001b[1;37m                                  ^\u001b[0m\n\u001b[1;31mSyntaxError\u001b[0m\u001b[1;31m:\u001b[0m invalid syntax\n"
     ]
    }
   ],
   "source": [
    "Positional and keyword argument that is optional\n",
    "\n",
    "def f(a=1)\n",
    "    pass\n",
    "\n",
    "\n",
    "f()  # Allowed, argument is optional\n",
    "f(1)  # Allowed, it's a positional argument\n",
    "f(a=1)  # Allowed, it's a keyword argument\n",
    "\n",
    "# In fact this function is the same as\n",
    "def f(*, a=1, /):\n",
    "    pass\n",
    "\n",
    "\n",
    "Positional and keyword argument that is required\n",
    "\n",
    "def f(a):\n",
    "    pass\n",
    "\n",
    "\n",
    "f()  # Error, argument required\n",
    "f(1)  # Allowed, it's a positional argument\n",
    "f(a=1)  # Allowed, it's a keyword argument\n",
    "\n",
    "# In fact this function is the same as\n",
    "def f(*, a, /):\n",
    "    pass"
   ]
  },
  {
   "cell_type": "code",
   "execution_count": 55,
   "metadata": {},
   "outputs": [
    {
     "name": "stdout",
     "output_type": "stream",
     "text": [
      "What's g\n",
      "Looks li\n"
     ]
    }
   ],
   "source": [
    "def truncate_sentences(length, *sentences):\n",
    "    for sentence in sentences:\n",
    "    print(sentence[:length])\n",
    "\n",
    "truncate_sentences(8, \"What's going on here\", \"Looks like we've been cut off\")"
   ]
  },
  {
   "cell_type": "code",
   "execution_count": 76,
   "metadata": {},
   "outputs": [
    {
     "name": "stdout",
     "output_type": "stream",
     "text": [
      "<class 'tuple'>\n"
     ]
    },
    {
     "data": {
      "text/plain": [
       "'hi/morgan/welcome/to'"
      ]
     },
     "execution_count": 76,
     "metadata": {},
     "output_type": "execute_result"
    }
   ],
   "source": [
    "from os.path import join\n",
    "\n",
    "def myjoin(*args):\n",
    "    print(type(args))\n",
    "    joined_string = args[0]\n",
    "    \n",
    "    for arg in args[1:]:\n",
    "        joined_string += '/' + arg\n",
    "        \n",
    "    return joined_string\n",
    "\n",
    "myjoin(\"hi\", \"morgan\", \"welcome\", \"to\")"
   ]
  },
  {
   "cell_type": "code",
   "execution_count": 90,
   "metadata": {},
   "outputs": [
    {
     "name": "stdout",
     "output_type": "stream",
     "text": [
      "<class 'dict'>\n",
      "{'this_arg': 'wowzers', 'anything_goes': 101}\n",
      "101\n",
      "<class 'dict'>\n",
      "{'a': 'hi', 'b': 'shiv', 'c': 'rick'}\n",
      "None\n"
     ]
    }
   ],
   "source": [
    "def arbitrary_keyword_args(**kwargs):\n",
    "    print(type(kwargs))\n",
    "    print(kwargs)\n",
    "    # See if there's an \"anything_goes\" keyword arg\n",
    "    # and print it\n",
    "    print(kwargs.get('anything_goes'))\n",
    " \n",
    "g = arbitrary_keyword_args(this_arg=\"wowzers\",anything_goes=101)\n",
    "h = arbitrary_keyword_args(a = \"hi\", b = \"shiv\", c = \"rick\")\n",
    "h"
   ]
  },
  {
   "cell_type": "code",
   "execution_count": 91,
   "metadata": {},
   "outputs": [
    {
     "data": {
      "text/plain": [
       "{'a': 'shiv', 'b': 34, 'c': 'rick', 'd': 78}"
      ]
     },
     "execution_count": 91,
     "metadata": {},
     "output_type": "execute_result"
    }
   ],
   "source": [
    "def rick(**kwargs):\n",
    "    return kwargs\n",
    "\n",
    "rick(a = \"shiv\", b = 34, c = \"rick\", d = 78)"
   ]
  },
  {
   "cell_type": "code",
   "execution_count": 93,
   "metadata": {},
   "outputs": [
    {
     "name": "stdout",
     "output_type": "stream",
     "text": [
      "RealPythonIsGreat!\n"
     ]
    }
   ],
   "source": [
    "def concatenate(**words):\n",
    "    result = \"\"\n",
    "    for arg in words.values():\n",
    "        result += arg\n",
    "    return result\n",
    "\n",
    "print(concatenate(a=\"Real\", b=\"Python\", c=\"Is\", d=\"Great\", e=\"!\"))"
   ]
  },
  {
   "cell_type": "code",
   "execution_count": 103,
   "metadata": {},
   "outputs": [
    {
     "data": {
      "text/plain": [
       "'rick'"
      ]
     },
     "execution_count": 103,
     "metadata": {},
     "output_type": "execute_result"
    }
   ],
   "source": [
    "d = {'a':\"shiv\", 'b':\"rick\"}\n",
    "x = d.get('b')\n",
    "x"
   ]
  },
  {
   "cell_type": "code",
   "execution_count": 123,
   "metadata": {},
   "outputs": [
    {
     "name": "stdout",
     "output_type": "stream",
     "text": [
      "(145, 'Mexico City', 10.9, '85C')\n"
     ]
    }
   ],
   "source": [
    "def takes_many_args(*args):\n",
    "    print(args)\n",
    "\n",
    "long_list_of_args = [145, \"Mexico City\", 10.9, \"85C\"]\n",
    "\n",
    "takes_many_args(*long_list_of_args)"
   ]
  },
  {
   "cell_type": "code",
   "execution_count": 135,
   "metadata": {},
   "outputs": [
    {
     "name": "stdout",
     "output_type": "stream",
     "text": [
      "args:  ('geeks', 'for', 'geeks')\n",
      "kwargs:  {'first': 'Geeks', 'mid': 'for', 'last': 'Geeks'}\n"
     ]
    }
   ],
   "source": [
    "\n",
    "\n",
    "def myFun(*args,**kwargs): \n",
    "    print(\"args: \", args) \n",
    "    print(\"kwargs: \", kwargs) \n",
    "  \n",
    "  \n",
    "# Now we can use both *args ,**kwargs \n",
    "# to pass arguments to this function : \n",
    "myFun('geeks','for','geeks',first=\"Geeks\",mid=\"for\",last=\"Geeks\") "
   ]
  },
  {
   "cell_type": "code",
   "execution_count": 130,
   "metadata": {},
   "outputs": [
    {
     "data": {
      "text/plain": [
       "1"
      ]
     },
     "execution_count": 130,
     "metadata": {},
     "output_type": "execute_result"
    }
   ],
   "source": [
    "SHIPPING_PRICES = {\n",
    "    'Ground': 1,\n",
    "    'Priority': 1.6,\n",
    "    'Overnight': 2.3,\n",
    "}\n",
    "\n",
    "g = SHIPPING_PRICES['Ground']\n",
    "g"
   ]
  },
  {
   "cell_type": "code",
   "execution_count": null,
   "metadata": {},
   "outputs": [],
   "source": []
  }
 ],
 "metadata": {
  "kernelspec": {
   "display_name": "Python 3",
   "language": "python",
   "name": "python3"
  },
  "language_info": {
   "codemirror_mode": {
    "name": "ipython",
    "version": 3
   },
   "file_extension": ".py",
   "mimetype": "text/x-python",
   "name": "python",
   "nbconvert_exporter": "python",
   "pygments_lexer": "ipython3",
   "version": "3.7.4"
  }
 },
 "nbformat": 4,
 "nbformat_minor": 2
}
