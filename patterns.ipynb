{
 "cells": [
  {
   "cell_type": "code",
   "execution_count": 446,
   "metadata": {},
   "outputs": [
    {
     "name": "stdout",
     "output_type": "stream",
     "text": [
      "     \n",
      "    * \n",
      "   * * \n",
      "  * * * \n",
      " * * * * \n",
      "* * * * * \n",
      " * * * * \n",
      "  * * * \n",
      "   * * \n",
      "    * \n"
     ]
    }
   ],
   "source": [
    "def pyrim(height):\n",
    "    for row in range(height):\n",
    "        print(\" \"* (height-row) + \"* \"*(row))\n",
    "    for col in range(height, 0, -1):\n",
    "        print(\" \"* (height-col) + \"* \"* (col))\n",
    "\n",
    "pyrim(5)\n",
    "\n"
   ]
  },
  {
   "cell_type": "code",
   "execution_count": 22,
   "metadata": {},
   "outputs": [
    {
     "name": "stdout",
     "output_type": "stream",
     "text": [
      "     \n",
      "    * \n",
      "   * * \n",
      "  * * * \n",
      " * * * * \n",
      "* * * * * \n",
      " * * * * \n",
      "  * * * \n",
      "   * * \n",
      "    * \n"
     ]
    }
   ],
   "source": [
    "def pyrim(height):\n",
    "    for i in range(height, 0, -1):\n",
    "        print(\" \"*i + \"* \"*(height-i))\n",
    "        \n",
    "    for j in range(height):\n",
    "        print(\" \"*j + \"* \"*(height - j))\n",
    "        \n",
    "        \n",
    "pyrim(5)\n"
   ]
  },
  {
   "cell_type": "code",
   "execution_count": 25,
   "metadata": {},
   "outputs": [
    {
     "name": "stdout",
     "output_type": "stream",
     "text": [
      "     *\n",
      "    **\n",
      "   ***\n",
      "  ****\n",
      " *****\n"
     ]
    }
   ],
   "source": [
    "def rightangle(num):\n",
    "    for i in range(num):\n",
    "        print(\" \"*(num-i) + \"*\"*(i+1))\n",
    "rightangle(5)"
   ]
  },
  {
   "cell_type": "code",
   "execution_count": null,
   "metadata": {},
   "outputs": [],
   "source": []
  },
  {
   "cell_type": "code",
   "execution_count": 41,
   "metadata": {},
   "outputs": [
    {
     "name": "stdout",
     "output_type": "stream",
     "text": [
      "55555\n",
      "4444\n",
      "333\n",
      "22\n",
      "1\n"
     ]
    }
   ],
   "source": [
    "def nums(num):\n",
    "    for i in range(num, 0, -1):\n",
    "        print(f\"{i}\"*i)\n",
    "nums(5)"
   ]
  },
  {
   "cell_type": "code",
   "execution_count": null,
   "metadata": {},
   "outputs": [],
   "source": []
  },
  {
   "cell_type": "code",
   "execution_count": 47,
   "metadata": {
    "scrolled": true
   },
   "outputs": [
    {
     "name": "stdout",
     "output_type": "stream",
     "text": [
      "11111\n",
      "2222\n",
      "333\n",
      "44\n",
      "5\n"
     ]
    }
   ],
   "source": [
    "def hello(height):\n",
    "    k = 1\n",
    "    for i in range(height, 0, -1):\n",
    "        print(f'{k}'*i)\n",
    "        k+=1\n",
    "hello(5)"
   ]
  },
  {
   "cell_type": "code",
   "execution_count": 108,
   "metadata": {},
   "outputs": [
    {
     "name": "stdout",
     "output_type": "stream",
     "text": [
      "\n",
      "1\n",
      "22\n",
      "333\n",
      "4444\n",
      "55555\n"
     ]
    }
   ],
   "source": [
    "def U(height):\n",
    "    for i in range(height+1):\n",
    "        print(f\"{i}\"*i)\n",
    "U(5)"
   ]
  },
  {
   "cell_type": "code",
   "execution_count": 987,
   "metadata": {},
   "outputs": [
    {
     "name": "stdout",
     "output_type": "stream",
     "text": [
      "p\n",
      "yy\n",
      "ttt\n",
      "hhhh\n",
      "ooooo\n",
      "nnnnnn\n"
     ]
    }
   ],
   "source": [
    "word = \"python\"\n",
    "i = 0\n",
    "for c in word:\n",
    "    i += 1\n",
    "    print(c*i)"
   ]
  },
  {
   "cell_type": "code",
   "execution_count": 55,
   "metadata": {},
   "outputs": [
    {
     "name": "stdout",
     "output_type": "stream",
     "text": [
      "h\n",
      "oo\n",
      "www\n",
      "aaaa\n",
      "rrrrr\n",
      "eeeeee\n",
      "yyyyyyy\n",
      "oooooooo\n",
      "uuuuuuuuu\n"
     ]
    }
   ],
   "source": [
    "def strin(word):\n",
    "    n  = 1\n",
    "    for i in word:\n",
    "        print(i*n)\n",
    "        n +=1\n",
    "        \n",
    "strin(\"howareyou\")"
   ]
  },
  {
   "cell_type": "code",
   "execution_count": 117,
   "metadata": {},
   "outputs": [
    {
     "name": "stdout",
     "output_type": "stream",
     "text": [
      "\n",
      "1 \n",
      "1 2 \n",
      "1 2 3 \n",
      "1 2 3 4 \n",
      "1 2 3 4 5 \n"
     ]
    }
   ],
   "source": [
    "def cnums(num):\n",
    "    for i in range(num+1):\n",
    "        for j in range(1, i+1):\n",
    "            print(j, end=\" \")\n",
    "        print()\n",
    "cnums(5)"
   ]
  },
  {
   "cell_type": "code",
   "execution_count": null,
   "metadata": {},
   "outputs": [],
   "source": []
  },
  {
   "cell_type": "code",
   "execution_count": null,
   "metadata": {},
   "outputs": [],
   "source": []
  },
  {
   "cell_type": "code",
   "execution_count": null,
   "metadata": {},
   "outputs": [],
   "source": []
  },
  {
   "cell_type": "code",
   "execution_count": 88,
   "metadata": {},
   "outputs": [
    {
     "name": "stdout",
     "output_type": "stream",
     "text": [
      "55555\n",
      "5555\n",
      "555\n",
      "55\n",
      "5\n"
     ]
    }
   ],
   "source": [
    "def Onums(num):\n",
    "    for i in range(num, 0, -1):\n",
    "        print(f\"{num}\" *i)\n",
    "Onums(5)"
   ]
  },
  {
   "cell_type": "code",
   "execution_count": 481,
   "metadata": {},
   "outputs": [
    {
     "name": "stdout",
     "output_type": "stream",
     "text": [
      "55555\n",
      "5555\n",
      "555\n",
      "55\n",
      "5\n"
     ]
    }
   ],
   "source": [
    "def Only(height):\n",
    "    for i in range(height, 0, -1):\n",
    "        print(f\"{height}\"* i) \n",
    "        \n",
    "Only(5)"
   ]
  },
  {
   "cell_type": "code",
   "execution_count": 119,
   "metadata": {},
   "outputs": [
    {
     "name": "stdout",
     "output_type": "stream",
     "text": [
      "1 \n",
      "2 1 \n",
      "3 2 1 \n",
      "4 3 2 1 \n",
      "5 4 3 2 1 \n"
     ]
    }
   ],
   "source": [
    "def cnums(num):\n",
    "    for i in range(1, num+1):\n",
    "        for j in range(i, 0, -1):\n",
    "            print(j, end=\" \")\n",
    "        print()\n",
    "cnums(5)"
   ]
  },
  {
   "cell_type": "code",
   "execution_count": 120,
   "metadata": {},
   "outputs": [
    {
     "name": "stdout",
     "output_type": "stream",
     "text": [
      "\n",
      "1 \n",
      "2 1 \n",
      "3 2 1 \n",
      "4 3 2 1 \n",
      "5 4 3 2 1 \n"
     ]
    }
   ],
   "source": [
    "def Pyrim(height):\n",
    "    for i in range(height+1):\n",
    "        for j in range(i, 0, -1):\n",
    "            print(j, end=\" \")\n",
    "        print()\n",
    "Pyrim(5)"
   ]
  },
  {
   "cell_type": "code",
   "execution_count": null,
   "metadata": {},
   "outputs": [],
   "source": []
  },
  {
   "cell_type": "code",
   "execution_count": 129,
   "metadata": {},
   "outputs": [
    {
     "name": "stdout",
     "output_type": "stream",
     "text": [
      "0 1 2 3 4 5 \n",
      "0 1 2 3 4 \n",
      "0 1 2 3 \n",
      "0 1 2 \n",
      "0 1 \n"
     ]
    }
   ],
   "source": [
    "def nums(num):\n",
    "    for i in range(num, 0, -1):\n",
    "        for j in range(0, i+1):\n",
    "            print(j, end=\" \")\n",
    "        print()\n",
    "nums(5)"
   ]
  },
  {
   "cell_type": "code",
   "execution_count": 496,
   "metadata": {},
   "outputs": [
    {
     "name": "stdout",
     "output_type": "stream",
     "text": [
      "0 1 2 3 4 5 \n",
      "0 1 2 3 4 \n",
      "0 1 2 3 \n",
      "0 1 2 \n",
      "0 1 \n"
     ]
    }
   ],
   "source": [
    "def Fromz(height):\n",
    "    for i in range(height, 0, -1):\n",
    "        for j in range(i+1):\n",
    "            print(j, end=\" \")\n",
    "        print()\n",
    "Fromz(5)"
   ]
  },
  {
   "cell_type": "code",
   "execution_count": 698,
   "metadata": {},
   "outputs": [
    {
     "name": "stdout",
     "output_type": "stream",
     "text": [
      "7 6 5 4 3 2 1 \n",
      "6 5 4 3 2 1 \n",
      "5 4 3 2 1 \n",
      "4 3 2 1 \n",
      "3 2 1 \n",
      "2 1 \n",
      "1 \n"
     ]
    }
   ],
   "source": [
    "for i in range(rows):\n",
    "    for j in range(rows-i, 0, -1):\n",
    "        print(j, end=\" \")\n",
    "    print()"
   ]
  },
  {
   "cell_type": "code",
   "execution_count": 729,
   "metadata": {},
   "outputs": [
    {
     "name": "stdout",
     "output_type": "stream",
     "text": [
      "1 \n",
      "2 3 \n",
      "4 5 6 \n",
      "7 8 9 10 \n"
     ]
    }
   ],
   "source": [
    "k = 1\n",
    "length = 5\n",
    "for i in range(1, length):\n",
    "    for j in range(i, 0, -1):\n",
    "        print(k, end=\" \")\n",
    "        k+= 1\n",
    "    print()"
   ]
  },
  {
   "cell_type": "code",
   "execution_count": 859,
   "metadata": {},
   "outputs": [
    {
     "name": "stdout",
     "output_type": "stream",
     "text": [
      "1  \n",
      "3 2  \n",
      "6 5 4  \n",
      "10 9 8 7  \n"
     ]
    }
   ],
   "source": [
    "length = 6\n",
    "start = 1\n",
    "stop = 2\n",
    "currentNumber = stop\n",
    "for row in range(stop, length):\n",
    "    for col in range(start, stop):\n",
    "        currentNumber -= 1\n",
    "        print(currentNumber, end=\" \")\n",
    "    print(\" \")\n",
    "    start = stop\n",
    "    stop += row\n",
    "    currentNumber = stop\n",
    "    \n",
    "#### for loop does not change\n",
    "# for row in range(2, 6): 2, 3, 4, 5,\n",
    "\n",
    "### for loop 2 ###\n",
    "#     for col in range(1, 2): start, stop\n",
    "#         currentNumber -= 1  # 2-1 = 1\n",
    "#         print(1)\n",
    "#      start = stop  # (start = 2)\n",
    "#      stop += 2  # (row currently = 2) so now stop = 2 + 2 = 4\n",
    "#      currentNumber = 4\n",
    "\n",
    "### for loop 3 ###\n",
    "#     for col in range(2, 4): 2, 3 means 2 time will loop run\n",
    "#         currentnum = 4-1 = 3,\n",
    "#         currentnum = 3-2 = 2\n",
    "#         print(3, 2)\n",
    "#     start = stop  # (start = 4)\n",
    "#     stop += 3  # (row currently = 3) so now stop = 4 + 3 = 7\n",
    "#     currentnum = 7\n",
    "\n",
    "### for loop 4 ###\n",
    "#     for col in range(4, 7):  # 4, 5, 6 i.e. loop 3 times\n",
    "#         currentnum = 7-1 = 6,\n",
    "#         currentnum = 6-1 = 5\n",
    "#         currentnum = 5 - 1 = 4\n",
    "#         print(6, 5, 4)\n",
    "#     start = stop  # (start = 7)\n",
    "#     stop += 4  # (row currently = 4) so now stop = 7 + 4 = 11\n",
    "#     currentnum = 11\n",
    "\n",
    "### for loop 5 ###\n",
    "#     for col in range(7, 11):  # 7, 8, 9, 10 i.e. loop 4 times\n",
    "#         currentnum = 11 - 1 = 10\n",
    "#         currentnum = 10 - 1 = 9\n",
    "#         currentnum = 9 - 1 = 8\n",
    "#         currentnum = 8 - 1 = 7\n",
    "#         print(10, 9, 8, 7)\n",
    "#     start = stop  # (start = 11)\n",
    "#     stop += 5  # (row currently = 5) so now stop = 11 + 5 = 16\n",
    "#     currentnum = 16"
   ]
  },
  {
   "cell_type": "code",
   "execution_count": null,
   "metadata": {},
   "outputs": [],
   "source": []
  },
  {
   "cell_type": "code",
   "execution_count": 806,
   "metadata": {},
   "outputs": [
    {
     "name": "stdout",
     "output_type": "stream",
     "text": [
      "\n",
      "1 \n",
      "2 3 \n",
      "4 5 6 \n",
      "7 8 9 10 \n"
     ]
    }
   ],
   "source": [
    "for_row = 1\n",
    "length = 5\n",
    "for row in range(length):\n",
    "    for col in range(row):\n",
    "        print(for_row, end=\" \")\n",
    "        \n",
    "        for_row += 1\n",
    "    print()\n",
    "        "
   ]
  },
  {
   "cell_type": "code",
   "execution_count": 755,
   "metadata": {},
   "outputs": [
    {
     "data": {
      "text/plain": [
       "360360"
      ]
     },
     "execution_count": 755,
     "metadata": {},
     "output_type": "execute_result"
    }
   ],
   "source": [
    "1\n",
    "3*2\n",
    "4*5*6\n",
    "10*9*8*7\n",
    "11*12*13*14*15"
   ]
  },
  {
   "cell_type": "code",
   "execution_count": 639,
   "metadata": {},
   "outputs": [
    {
     "name": "stdout",
     "output_type": "stream",
     "text": [
      "1 \n",
      "3 3 \n",
      "5 5 5 \n",
      "7 7 7 7 \n",
      "9 9 9 9 9 \n"
     ]
    }
   ],
   "source": [
    "num = 5\n",
    "k = 1\n",
    "for i in range(1,num+1):\n",
    "    for j in range(i):\n",
    "        print(f\"{k}\", end=\" \")\n",
    "    k+=2\n",
    "    print()"
   ]
  },
  {
   "cell_type": "code",
   "execution_count": 869,
   "metadata": {},
   "outputs": [
    {
     "name": "stdout",
     "output_type": "stream",
     "text": [
      "1\n",
      "121\n",
      "12321\n",
      "1234321\n",
      "123454321\n"
     ]
    }
   ],
   "source": [
    "nums = 5\n",
    "for i in range(0, nums):\n",
    "    for j in range(1, i+1):\n",
    "        print(j, end=\"\")\n",
    "    for j in range(i+1, 0, -1):\n",
    "        print(j, end=\"\")\n",
    "    print()"
   ]
  },
  {
   "cell_type": "code",
   "execution_count": null,
   "metadata": {},
   "outputs": [],
   "source": []
  },
  {
   "cell_type": "code",
   "execution_count": 123,
   "metadata": {},
   "outputs": [
    {
     "name": "stdout",
     "output_type": "stream",
     "text": [
      "5432112345\n",
      "54322345\n",
      "543345\n",
      "5445\n",
      "55\n"
     ]
    }
   ],
   "source": [
    "nums = 5\n",
    "for i in range(nums):\n",
    "    for j in range(nums, i, -1):\n",
    "        print(j, end=\"\")\n",
    "    for k in range(i+1, nums+1):\n",
    "        print(k, end=\"\")\n",
    "    print()"
   ]
  },
  {
   "cell_type": "code",
   "execution_count": 1,
   "metadata": {},
   "outputs": [
    {
     "name": "stdout",
     "output_type": "stream",
     "text": [
      "A \n",
      "B C \n",
      "D E F \n",
      "G H I J \n",
      "K L M N O \n",
      "P Q R S T U \n",
      "V W X Y Z [ \\ \n"
     ]
    }
   ],
   "source": [
    "asciiNumber = 65\n",
    "for i in range(0, 7):\n",
    "    for j in range(0, i+1):\n",
    "        character = chr(asciiNumber)\n",
    "        print(character, end=\" \")\n",
    "        asciiNumber += 1\n",
    "    print()"
   ]
  },
  {
   "cell_type": "code",
   "execution_count": 4,
   "metadata": {},
   "outputs": [
    {
     "name": "stdout",
     "output_type": "stream",
     "text": [
      "A \n",
      "B C \n",
      "D E F \n",
      "G H I J \n",
      "K L M N O \n",
      "P Q R S T U \n",
      "V W X Y Z [ \\ \n"
     ]
    }
   ],
   "source": [
    "accssinum = 65\n",
    "for i in range(0, 7):\n",
    "    for j in range(0, i+1):\n",
    "        char = chr(accssinum)\n",
    "        print(char, end=\" \")\n",
    "        accssinum += 1 \n",
    "    print()"
   ]
  },
  {
   "cell_type": "code",
   "execution_count": 967,
   "metadata": {},
   "outputs": [
    {
     "name": "stdout",
     "output_type": "stream",
     "text": [
      "       A \n",
      "      B C \n",
      "     D E F \n",
      "    G H I J \n",
      "   K L M N O \n",
      "  P Q R S T U \n",
      " V W X Y Z [ \\ \n"
     ]
    }
   ],
   "source": [
    "asciiNumber = 65\n",
    "height = 5\n",
    "for i in range(0, 7):\n",
    "    for j in range(0, 7-i):\n",
    "        print(end=\" \")\n",
    "    for j in range(0, i+1):\n",
    "        character = chr(asciiNumber)\n",
    "        print(character, end=\" \")\n",
    "        asciiNumber += 1\n",
    "    print()  \n"
   ]
  },
  {
   "cell_type": "code",
   "execution_count": 100,
   "metadata": {},
   "outputs": [
    {
     "name": "stdout",
     "output_type": "stream",
     "text": [
      "-------a \n",
      "------b c \n",
      "-----d e f \n",
      "----g h i j \n",
      "---k l m n o \n",
      "--p q r s t u \n",
      "-v w x y z { | \n"
     ]
    }
   ],
   "source": [
    "asciiNumber = 97\n",
    "height = 7\n",
    "for i in range(0, 7):\n",
    "    for j in range(0, 7-i):\n",
    "        print(end=\"-\")\n",
    "    for j in range(0, i+1):\n",
    "        character = chr(asciiNumber)\n",
    "        print(character, end=\" \")\n",
    "        asciiNumber += 1\n",
    "    print()\n",
    "        \n"
   ]
  },
  {
   "cell_type": "code",
   "execution_count": 957,
   "metadata": {},
   "outputs": [
    {
     "name": "stdout",
     "output_type": "stream",
     "text": [
      "p\n",
      "py\n",
      "pyt\n",
      "pyth\n",
      "pytho\n",
      "python\n"
     ]
    }
   ],
   "source": [
    "word = \"python\"\n",
    "x = \"\"\n",
    "for i in word:\n",
    "    x += i\n",
    "    print(x)"
   ]
  },
  {
   "cell_type": "code",
   "execution_count": null,
   "metadata": {},
   "outputs": [],
   "source": []
  },
  {
   "cell_type": "code",
   "execution_count": 658,
   "metadata": {},
   "outputs": [
    {
     "name": "stdout",
     "output_type": "stream",
     "text": [
      "1 2 3 4 5 \n",
      "2 2 3 4 5 \n",
      "3 3 3 4 5 \n",
      "4 4 4 4 5 \n",
      "5 5 5 5 5 \n"
     ]
    }
   ],
   "source": [
    "def cnums(num):\n",
    "    for i in range(1,num+1):\n",
    "        for j in range(1, num+1):\n",
    "            if j <= i:\n",
    "                print(i, end=\" \")\n",
    "            else:\n",
    "                print(j, end=\" \")\n",
    "        print()\n",
    "cnums(5)"
   ]
  },
  {
   "cell_type": "code",
   "execution_count": 665,
   "metadata": {},
   "outputs": [
    {
     "name": "stdout",
     "output_type": "stream",
     "text": [
      "\n",
      "*\n",
      "**\n",
      "***\n",
      "****\n",
      "*****\n",
      "*****\n",
      "****\n",
      "***\n",
      "**\n",
      "*\n"
     ]
    }
   ],
   "source": [
    "def shape(length):\n",
    "    for i in range(length+1):\n",
    "        print(\"*\"*i)\n",
    "    for j in range(length, 0, -1):\n",
    "        print(\"*\"*j)\n",
    "shape(5)"
   ]
  },
  {
   "cell_type": "code",
   "execution_count": 672,
   "metadata": {},
   "outputs": [
    {
     "name": "stdout",
     "output_type": "stream",
     "text": [
      "* * * * * \n",
      " * * * * \n",
      "  * * * \n",
      "   * * \n",
      "    * \n",
      "    * \n",
      "   * * \n",
      "  * * * \n",
      " * * * * \n",
      "* * * * * \n"
     ]
    }
   ],
   "source": [
    "def Shape(length):\n",
    "    for i in range(length, 0, -1):\n",
    "        print(\" \"*(length-i)+ \"* \"*(i))\n",
    "    for j in range(1, length+1):\n",
    "        print(\" \"*(length-j)+ \"* \"*(j))\n",
    "        \n",
    "Shape(5)\n",
    "    "
   ]
  },
  {
   "cell_type": "code",
   "execution_count": 685,
   "metadata": {},
   "outputs": [
    {
     "name": "stdout",
     "output_type": "stream",
     "text": [
      "1 \n",
      "2 3 4 \n",
      "5 6 7 8 9 \n",
      "10 11 12 13 14 15 16 \n"
     ]
    }
   ],
   "source": [
    "nums = 4\n",
    "k = 1\n",
    "stop = 2\n",
    "for i in range(nums):\n",
    "    for j in range(1, stop):\n",
    "        print(k, end=\" \")\n",
    "        k += 1\n",
    "    print()\n",
    "    stop += 2"
   ]
  },
  {
   "cell_type": "code",
   "execution_count": 31,
   "metadata": {},
   "outputs": [
    {
     "name": "stdout",
     "output_type": "stream",
     "text": [
      "\n",
      "*\n",
      "**\n",
      "***\n",
      "****\n",
      "*****\n",
      "****\n",
      "***\n",
      "**\n",
      "*\n"
     ]
    }
   ],
   "source": [
    "def shape(length):\n",
    "    for i in range(length):\n",
    "        print(\"*\"*i)\n",
    "    for j in range(length, 0, -1):\n",
    "        print(\"*\"*j)\n",
    "#     for i in range(length+1):\n",
    "#         print(\"*\"*i)\n",
    "#     for j in range(length, 0, -1):\n",
    "#         print(\"*\"*j)\n",
    "shape(5)"
   ]
  },
  {
   "cell_type": "code",
   "execution_count": 63,
   "metadata": {},
   "outputs": [
    {
     "name": "stdout",
     "output_type": "stream",
     "text": [
      "* * * * * \n",
      " * * * * \n",
      "  * * * \n",
      "   * * \n",
      "    * \n",
      "    * \n",
      "   * * \n",
      "  * * * \n",
      " * * * * \n",
      "* * * * * \n"
     ]
    }
   ],
   "source": [
    "def pyrim(length):\n",
    "    for i in range(length, 0, -1):\n",
    "        print(\" \"*(length-i) + \"* \"*(i))\n",
    "    for j in range(1, length+1):\n",
    "        print(\" \"*(length-j) + \"* \"*(j))\n",
    "        \n",
    "pyrim(5)"
   ]
  },
  {
   "cell_type": "code",
   "execution_count": 69,
   "metadata": {},
   "outputs": [
    {
     "name": "stdout",
     "output_type": "stream",
     "text": [
      "\n",
      "* \n",
      "* * \n",
      "* * * \n",
      "* * * * \n",
      "* * * * * \n",
      "\n",
      "* * * * * \n",
      "* * * * \n",
      "* * * \n",
      "* * \n",
      "* \n"
     ]
    }
   ],
   "source": [
    "def Prum(length):\n",
    "    for i in range(length+1):\n",
    "        print(\"* \"*i)\n",
    "    print()\n",
    "    for j in range(length, 0, -1):\n",
    "        print(\"* \"*j)\n",
    "        \n",
    "Prum(5)"
   ]
  },
  {
   "cell_type": "code",
   "execution_count": 90,
   "metadata": {},
   "outputs": [
    {
     "name": "stdout",
     "output_type": "stream",
     "text": [
      "    * \n",
      "   * * \n",
      "  * * * \n",
      " * * * * \n",
      "* * * * * \n",
      " * * * * \n",
      "  * * * \n",
      "   * * \n",
      "    * \n"
     ]
    }
   ],
   "source": [
    "def Diomd(length):\n",
    "    for i in range(1,length):\n",
    "        print(\" \"*(length-i) + \"* \"*(i))\n",
    "    for j in  range(length, 0, -1):\n",
    "        print(\" \"*(length-j) + \"* \"*(j))\n",
    "Diomd(5)"
   ]
  },
  {
   "cell_type": "code",
   "execution_count": 22,
   "metadata": {},
   "outputs": [
    {
     "name": "stdout",
     "output_type": "stream",
     "text": [
      "0 \n",
      "2 4 \n",
      "4 8 8 \n",
      "8 16 16 16 \n"
     ]
    }
   ],
   "source": [
    "num = 4\n",
    "counter = 0\n",
    "for i in range(0, num):\n",
    "    for j in range(0, i+1):\n",
    "        print(counter, end=\" \")\n",
    "        counter = 2**(i+1)\n",
    "    print()\n",
    "        "
   ]
  },
  {
   "cell_type": "code",
   "execution_count": 5,
   "metadata": {},
   "outputs": [
    {
     "name": "stdout",
     "output_type": "stream",
     "text": [
      "10 \n",
      "10 8 \n",
      "10 8 6 \n",
      "10 8 6 4 \n",
      "10 8 6 4 2 \n"
     ]
    }
   ],
   "source": [
    "rows = 5\n",
    "lastEvenNumber = 2 * rows\n",
    "evenNumber = lastEvenNumber\n",
    "\n",
    "for i in range(1, rows+1):\n",
    "    evenNumber = lastEvenNumber\n",
    "    for j in range(i):\n",
    "        print(evenNumber, end=\" \")\n",
    "        evenNumber -= 2\n",
    "    print(\"\")"
   ]
  },
  {
   "cell_type": "code",
   "execution_count": 1,
   "metadata": {},
   "outputs": [
    {
     "name": "stdout",
     "output_type": "stream",
     "text": [
      "0 \n",
      "0 1 \n",
      "0 2 4 \n",
      "0 3 6 9 \n",
      "0 4 8 12 16 \n",
      "0 5 10 15 20 25 \n",
      "0 6 12 18 24 30 36 \n"
     ]
    }
   ],
   "source": [
    "# my Answer Love me :^\n",
    "row = 7\n",
    "\n",
    "for i in range(0, row):\n",
    "    for j in range(i+1):\n",
    "        print(i*j, end=\" \")\n",
    "    print()"
   ]
  },
  {
   "cell_type": "code",
   "execution_count": 2,
   "metadata": {},
   "outputs": [
    {
     "name": "stdout",
     "output_type": "stream",
     "text": [
      "1 \n",
      "3 3 \n",
      "5 5 5 \n",
      "7 7 7 7 \n",
      "9 9 9 9 9 \n"
     ]
    }
   ],
   "source": [
    "row = 5\n",
    "k = 1\n",
    "for i in range(1, row+1):\n",
    "    for j in range(i):  \n",
    "        print(k ,end=\" \")\n",
    "    k += 2\n",
    "    print(\"\")"
   ]
  },
  {
   "cell_type": "code",
   "execution_count": 1,
   "metadata": {},
   "outputs": [
    {
     "name": "stdout",
     "output_type": "stream",
     "text": [
      "          1 \n",
      "        1 2 \n",
      "      1 2 3 \n",
      "    1 2 3 4 \n",
      "  1 2 3 4 5 \n",
      "1 2 3 4 5 6 \n"
     ]
    }
   ],
   "source": [
    "num = 6\n",
    "for i in range(1, num+1):\n",
    "    for j in range(num - i):\n",
    "        print(\" \", end=\" \")\n",
    "    for j in range(1, i+1):\n",
    "        print(j, end=\" \")\n",
    "    print()"
   ]
  },
  {
   "cell_type": "code",
   "execution_count": 81,
   "metadata": {},
   "outputs": [
    {
     "name": "stdout",
     "output_type": "stream",
     "text": [
      "   *   \n",
      "  * *  \n",
      " *   * \n",
      "*     *\n",
      " *   * \n",
      "  * *  \n",
      "   *   \n"
     ]
    }
   ],
   "source": [
    "for row in range(7):\n",
    "    for col in range(7):\n",
    "        if (row+col==3) or (col-row==3) or (row-col==3) or (row+col==9):\n",
    "            print(\"*\", end=\"\")\n",
    "        else:\n",
    "            print(end=\" \")\n",
    "    print()"
   ]
  },
  {
   "cell_type": "code",
   "execution_count": 93,
   "metadata": {},
   "outputs": [
    {
     "name": "stdout",
     "output_type": "stream",
     "text": [
      "*     \n",
      "**    \n",
      "* *   \n",
      "*  *  \n",
      "*   * \n",
      "******\n"
     ]
    }
   ],
   "source": [
    "for row in range(6):\n",
    "    for col in range(6):\n",
    "        if (row==5) or (col==0) or (row==col):\n",
    "            print(\"*\", end=\"\")\n",
    "        else:\n",
    "            print(end=\" \")\n",
    "    print()"
   ]
  },
  {
   "cell_type": "code",
   "execution_count": 113,
   "metadata": {},
   "outputs": [
    {
     "name": "stdout",
     "output_type": "stream",
     "text": [
      "----1\n",
      "---212\n",
      "--32123\n",
      "-4321234\n",
      "543212345\n"
     ]
    }
   ],
   "source": [
    "def nums(num):\n",
    "    for i in range(1,num+1):\n",
    "        for j in range(num-i):\n",
    "            print(\"-\", end=\"\")\n",
    "        for j in range(i, 0, -1):\n",
    "            print(j, end=\"\")\n",
    "        for j in range(2, i+1):\n",
    "            print(j, end=\"\")\n",
    "        print()\n",
    "nums(5)"
   ]
  },
  {
   "cell_type": "code",
   "execution_count": 2,
   "metadata": {},
   "outputs": [
    {
     "name": "stdout",
     "output_type": "stream",
     "text": [
      "----1\n",
      "---12\n",
      "--123\n",
      "-1234\n",
      "12345\n"
     ]
    }
   ],
   "source": [
    "for i in range(1, 5+1):\n",
    "    for j in range(1, 5+1-i):\n",
    "        print(end=\"-\")\n",
    "    for j in range(1, i+1):\n",
    "        print(j, end=\"\")\n",
    "    print()"
   ]
  },
  {
   "cell_type": "code",
   "execution_count": null,
   "metadata": {},
   "outputs": [],
   "source": []
  }
 ],
 "metadata": {
  "kernelspec": {
   "display_name": "Python 3",
   "language": "python",
   "name": "python3"
  },
  "language_info": {
   "codemirror_mode": {
    "name": "ipython",
    "version": 3
   },
   "file_extension": ".py",
   "mimetype": "text/x-python",
   "name": "python",
   "nbconvert_exporter": "python",
   "pygments_lexer": "ipython3",
   "version": "3.7.4"
  }
 },
 "nbformat": 4,
 "nbformat_minor": 2
}
