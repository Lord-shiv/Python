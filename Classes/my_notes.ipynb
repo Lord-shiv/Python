{
 "cells": [
  {
   "cell_type": "markdown",
   "metadata": {},
   "source": [
    "# class"
   ]
  },
  {
   "cell_type": "code",
   "execution_count": 244,
   "metadata": {},
   "outputs": [
    {
     "name": "stdout",
     "output_type": "stream",
     "text": [
      "rick\n",
      "<__main__.Cars object at 0x00000181C5AF5A48>\n"
     ]
    }
   ],
   "source": [
    "class Test:\n",
    "    \n",
    "    a = \"rick\"\n",
    "    b = None\n",
    "\n",
    "#     a and b are only variables defined for the class itself - accessible via Test.a and Test.b and not specific to any instance\n",
    "\n",
    "    def __init__(self):\n",
    "        print(self.a)\n",
    "        self.a = a #will now reference the instance variable\n",
    "        print(a)\n",
    "        self._x = 123\n",
    "        self.__y = 123\n",
    "        b = 'meow' # It is not available from anywhere but the __init__ function as it's not saved in the instance, class or global scope.\n",
    "        \n",
    "b = Test()  # b is the instance of the class Test"
   ]
  },
  {
   "cell_type": "markdown",
   "metadata": {},
   "source": [
    "# Error with classes"
   ]
  },
  {
   "cell_type": "code",
   "execution_count": 292,
   "metadata": {},
   "outputs": [
    {
     "name": "stdout",
     "output_type": "stream",
     "text": [
      "OUt of stock\n"
     ]
    },
    {
     "ename": "OutOfStock",
     "evalue": "",
     "output_type": "error",
     "traceback": [
      "\u001b[1;31m---------------------------------------------------------------------------\u001b[0m",
      "\u001b[1;31mOutOfStock\u001b[0m                                Traceback (most recent call last)",
      "\u001b[1;32m<ipython-input-292-a77c74f9e5bb>\u001b[0m in \u001b[0;36m<module>\u001b[1;34m\u001b[0m\n\u001b[0;32m     21\u001b[0m \u001b[1;33m\u001b[0m\u001b[0m\n\u001b[0;32m     22\u001b[0m \u001b[1;31m# This should raise OutOfStock:\u001b[0m\u001b[1;33m\u001b[0m\u001b[1;33m\u001b[0m\u001b[1;33m\u001b[0m\u001b[0m\n\u001b[1;32m---> 23\u001b[1;33m \u001b[0mcandle_shop\u001b[0m\u001b[1;33m.\u001b[0m\u001b[0mbuy\u001b[0m\u001b[1;33m(\u001b[0m\u001b[1;34m'green'\u001b[0m\u001b[1;33m)\u001b[0m\u001b[1;33m\u001b[0m\u001b[1;33m\u001b[0m\u001b[0m\n\u001b[0m",
      "\u001b[1;32m<ipython-input-292-a77c74f9e5bb>\u001b[0m in \u001b[0;36mbuy\u001b[1;34m(self, color)\u001b[0m\n\u001b[0;32m     12\u001b[0m     \u001b[1;32mdef\u001b[0m \u001b[0mbuy\u001b[0m\u001b[1;33m(\u001b[0m\u001b[0mself\u001b[0m\u001b[1;33m,\u001b[0m \u001b[0mcolor\u001b[0m\u001b[1;33m)\u001b[0m\u001b[1;33m:\u001b[0m\u001b[1;33m\u001b[0m\u001b[1;33m\u001b[0m\u001b[0m\n\u001b[0;32m     13\u001b[0m         \u001b[1;32mif\u001b[0m \u001b[0mself\u001b[0m\u001b[1;33m.\u001b[0m\u001b[0mstock\u001b[0m\u001b[1;33m[\u001b[0m\u001b[0mcolor\u001b[0m\u001b[1;33m]\u001b[0m \u001b[1;33m<\u001b[0m \u001b[1;36m1\u001b[0m\u001b[1;33m:\u001b[0m\u001b[1;33m\u001b[0m\u001b[1;33m\u001b[0m\u001b[0m\n\u001b[1;32m---> 14\u001b[1;33m             \u001b[1;32mraise\u001b[0m \u001b[0mOutOfStock\u001b[0m\u001b[1;33m\u001b[0m\u001b[1;33m\u001b[0m\u001b[0m\n\u001b[0m\u001b[0;32m     15\u001b[0m         \u001b[0mself\u001b[0m\u001b[1;33m.\u001b[0m\u001b[0mstock\u001b[0m\u001b[1;33m[\u001b[0m\u001b[0mcolor\u001b[0m\u001b[1;33m]\u001b[0m \u001b[1;33m=\u001b[0m \u001b[0mself\u001b[0m\u001b[1;33m.\u001b[0m\u001b[0mstock\u001b[0m\u001b[1;33m[\u001b[0m\u001b[0mcolor\u001b[0m\u001b[1;33m]\u001b[0m \u001b[1;33m-\u001b[0m \u001b[1;36m1\u001b[0m\u001b[1;33m\u001b[0m\u001b[1;33m\u001b[0m\u001b[0m\n\u001b[0;32m     16\u001b[0m \u001b[1;31m#         print(\"after buying :\", self.stock[color])\u001b[0m\u001b[1;33m\u001b[0m\u001b[1;33m\u001b[0m\u001b[1;33m\u001b[0m\u001b[0m\n",
      "\u001b[1;31mOutOfStock\u001b[0m: "
     ]
    }
   ],
   "source": [
    "# Define your exception up here:\n",
    "class OutOfStock(Exception):\n",
    "    print(\"OUt of stock\")\n",
    "\n",
    "# Update the class below to raise OutOfStock\n",
    "class CandleShop:\n",
    "    name = \"Here's a Hot Tip: Buy Drip Candles\"\n",
    "    def __init__(self, stock):\n",
    "        self.stock = stock\n",
    "#         print(\"the sotock of candles we have :\",self.stock)\n",
    "\n",
    "    def buy(self, color):\n",
    "        if self.stock[color] < 1:\n",
    "            raise OutOfStock\n",
    "        self.stock[color] = self.stock[color] - 1\n",
    "#         print(\"after buying :\", self.stock[color])\n",
    "\n",
    "candle_shop = CandleShop({'blue': 6, 'red': 2, 'green': 0})\n",
    "candle_shop.buy('blue')\n",
    "\n",
    "\n",
    "# This should raise OutOfStock:\n",
    "candle_shop.buy('green')"
   ]
  },
  {
   "cell_type": "code",
   "execution_count": 275,
   "metadata": {},
   "outputs": [
    {
     "data": {
      "text/plain": [
       "'this is prev error'"
      ]
     },
     "execution_count": 275,
     "metadata": {},
     "output_type": "execute_result"
    }
   ],
   "source": [
    "class Error(Exception): #base class\n",
    "    pass\n",
    "class InputError(Error):  # exception rasied for errors\n",
    "    def __init__(self, expression, message):\n",
    "        self.expression = expression\n",
    "        self.message = message\n",
    "        \n",
    "class TransitionError(Error):\n",
    "    def __init__(self, previous, next, message):\n",
    "        self.previous = previous\n",
    "        self.next = next\n",
    "        self.message = message\n",
    "        \n",
    "\n",
    "obj = TransitionError(\"this is prev error\", \"this is next error\", \"this message\")\n",
    "obj.previous\n"
   ]
  },
  {
   "cell_type": "code",
   "execution_count": 294,
   "metadata": {},
   "outputs": [],
   "source": [
    "class CustomError(Exception):\n",
    "    pass\n",
    "\n",
    "\n",
    "# raise CustomError\n",
    "# raise CustomError(\"An error occurred\")"
   ]
  },
  {
   "cell_type": "code",
   "execution_count": 8,
   "metadata": {},
   "outputs": [
    {
     "name": "stdout",
     "output_type": "stream",
     "text": [
      "Enter a number: 15\n",
      "This value is little larger!\n",
      "Enter a number: 10\n",
      "Hurray you got the number\n"
     ]
    }
   ],
   "source": [
    "# define Python user-defined exceptions\n",
    "class Error(Exception):\n",
    "    \"\"\"Base class for other exceptions\"\"\"\n",
    "    pass\n",
    "\n",
    "class ValueTooSmallError(Error):\n",
    "    \"\"\"Raised when the input value is too small\"\"\"\n",
    "    pass\n",
    "\n",
    "class ValueSmallError(Error):\n",
    "    \"\"\"Raised when the input value is too small\"\"\"\n",
    "    pass\n",
    "\n",
    "class ValueTooLargeError(Error):\n",
    "    \"\"\"Raised when the input value is too large\"\"\"\n",
    "    pass\n",
    "\n",
    "class ValueLargeError(Error):\n",
    "    \"\"\"Raised when the input value is too large\"\"\"\n",
    "    pass\n",
    "\n",
    "number = 10\n",
    "\n",
    "while True:\n",
    "    try:\n",
    "        i_num = int(input(\"Enter a number: \"))\n",
    "        \n",
    "        if (i_num == 9) or (i_num == 8) or (i_num == 7) or (i_num == 6) or (i_num == 5):\n",
    "            raise ValueSmallError\n",
    "            \n",
    "        elif (i_num == 11) or (i_num == 12) or (i_num == 13) or (i_num == 14) or (i_num == 15):\n",
    "            raise ValueLargeError\n",
    "            \n",
    "        elif i_num < number:\n",
    "            raise ValueTooSmallError\n",
    "            \n",
    "        elif i_num > number:\n",
    "            raise ValueTooLargeError\n",
    "            \n",
    "        break\n",
    "        \n",
    "    except ValueTooSmallError:\n",
    "        print(\"This value is too small, try again!\")\n",
    "        print()\n",
    "    except ValueTooLargeError:\n",
    "        print(\"This value is too large, try again!\")\n",
    "        print()\n",
    "    except ValueSmallError:\n",
    "        print(\"This value is little smaller!\")\n",
    "        print()\n",
    "    except ValueLargeError:\n",
    "        print(\"This value is little larger!\")\n",
    "        \n",
    "        \n",
    "if i_num == 10:\n",
    "    print(\"Hurray you got the number\")"
   ]
  },
  {
   "cell_type": "code",
   "execution_count": 18,
   "metadata": {},
   "outputs": [
    {
     "name": "stdout",
     "output_type": "stream",
     "text": [
      "Enter salary amount: 9000\n"
     ]
    }
   ],
   "source": [
    "class SalaryNotInRangeError(Exception):\n",
    "    \"\"\"Exception raised for errors in the input salary.\n",
    "\n",
    "    Attributes:\n",
    "        salary -- input salary which caused the error\n",
    "        message -- explanation of the error\n",
    "    \"\"\"\n",
    "\n",
    "    def __init__(self, salary, message=\"Salary is not in (5000, 15000) range\"):\n",
    "        self.salary = salary\n",
    "        self.message = message\n",
    "        super().__init__(self.message)\n",
    "    \n",
    "    def __str__(self):\n",
    "        return f'{self.salary} -> {self.message}'  #overriddig\n",
    "\n",
    "\n",
    "salary = int(input(\"Enter salary amount: \"))\n",
    "if not 5000 < salary < 15000:\n",
    "    raise SalaryNotInRangeError(salary)"
   ]
  },
  {
   "cell_type": "code",
   "execution_count": 27,
   "metadata": {},
   "outputs": [
    {
     "name": "stdout",
     "output_type": "stream",
     "text": [
      "SubClass doing something!\n"
     ]
    },
    {
     "ename": "NotImplementedError",
     "evalue": "BaseClass.do_something",
     "output_type": "error",
     "traceback": [
      "\u001b[1;31m---------------------------------------------------------------------------\u001b[0m",
      "\u001b[1;31mNotImplementedError\u001b[0m                       Traceback (most recent call last)",
      "\u001b[1;32m<ipython-input-27-06b2f238a1c5>\u001b[0m in \u001b[0;36m<module>\u001b[1;34m\u001b[0m\n\u001b[0;32m     14\u001b[0m \u001b[1;33m\u001b[0m\u001b[0m\n\u001b[0;32m     15\u001b[0m \u001b[0mSubClass\u001b[0m\u001b[1;33m(\u001b[0m\u001b[1;33m)\u001b[0m\u001b[1;33m.\u001b[0m\u001b[0mdo_something\u001b[0m\u001b[1;33m(\u001b[0m\u001b[1;33m)\u001b[0m\u001b[1;33m\u001b[0m\u001b[1;33m\u001b[0m\u001b[0m\n\u001b[1;32m---> 16\u001b[1;33m \u001b[0mBaseClass\u001b[0m\u001b[1;33m(\u001b[0m\u001b[1;33m)\u001b[0m\u001b[1;33m.\u001b[0m\u001b[0mdo_something\u001b[0m\u001b[1;33m(\u001b[0m\u001b[1;33m)\u001b[0m\u001b[1;33m\u001b[0m\u001b[1;33m\u001b[0m\u001b[0m\n\u001b[0m",
      "\u001b[1;32m<ipython-input-27-06b2f238a1c5>\u001b[0m in \u001b[0;36mdo_something\u001b[1;34m(self)\u001b[0m\n\u001b[0;32m      5\u001b[0m     \u001b[1;32mdef\u001b[0m \u001b[0mdo_something\u001b[0m\u001b[1;33m(\u001b[0m\u001b[0mself\u001b[0m\u001b[1;33m)\u001b[0m\u001b[1;33m:\u001b[0m\u001b[1;33m\u001b[0m\u001b[1;33m\u001b[0m\u001b[0m\n\u001b[0;32m      6\u001b[0m         \u001b[1;34m\"\"\"The interface, not implemented\"\"\"\u001b[0m\u001b[1;33m\u001b[0m\u001b[1;33m\u001b[0m\u001b[0m\n\u001b[1;32m----> 7\u001b[1;33m         \u001b[1;32mraise\u001b[0m \u001b[0mNotImplementedError\u001b[0m\u001b[1;33m(\u001b[0m\u001b[0mself\u001b[0m\u001b[1;33m.\u001b[0m\u001b[0m__class__\u001b[0m\u001b[1;33m.\u001b[0m\u001b[0m__name__\u001b[0m \u001b[1;33m+\u001b[0m \u001b[1;34m'.do_something'\u001b[0m\u001b[1;33m)\u001b[0m\u001b[1;33m\u001b[0m\u001b[1;33m\u001b[0m\u001b[0m\n\u001b[0m\u001b[0;32m      8\u001b[0m \u001b[1;33m\u001b[0m\u001b[0m\n\u001b[0;32m      9\u001b[0m \u001b[1;32mclass\u001b[0m \u001b[0mSubClass\u001b[0m\u001b[1;33m(\u001b[0m\u001b[0mBaseClass\u001b[0m\u001b[1;33m)\u001b[0m\u001b[1;33m:\u001b[0m\u001b[1;33m\u001b[0m\u001b[1;33m\u001b[0m\u001b[0m\n",
      "\u001b[1;31mNotImplementedError\u001b[0m: BaseClass.do_something"
     ]
    }
   ],
   "source": [
    "# exception NotImplementedError\n",
    "# This exception is derived from RuntimeError. Abstract methods in user defined classed should raise \n",
    "# this exception when the derived classes override the method.\n",
    "\n",
    "class BaseClass(object): \n",
    "    \"\"\"Defines the interface\"\"\"\n",
    "    def __init__(self): \n",
    "        super(BaseClass, self).__init__() \n",
    "    def do_something(self): \n",
    "        \"\"\"The interface, not implemented\"\"\"\n",
    "        raise NotImplementedError(self.__class__.__name__ + '.do_something') \n",
    "\n",
    "class SubClass(BaseClass): \n",
    "    \"\"\"Implementes the interface\"\"\"\n",
    "    def do_something(self): #error because \n",
    "        \"\"\"really does something\"\"\"\n",
    "        print (self.__class__.__name__ + ' doing something!') \n",
    "\n",
    "SubClass().do_something() \n",
    "# BaseClass().do_something()"
   ]
  },
  {
   "cell_type": "code",
   "execution_count": 28,
   "metadata": {},
   "outputs": [
    {
     "name": "stdout",
     "output_type": "stream",
     "text": [
      "A New Exception occured:  6\n"
     ]
    }
   ],
   "source": [
    "class MyError(Exception): \n",
    "  \n",
    "    # Constructor or Initializer \n",
    "    def __init__(self, value): \n",
    "        self.value = value \n",
    "  \n",
    "    # __str__ is to print() the value \n",
    "    def __str__(self): \n",
    "        return(repr(self.value)) \n",
    "  \n",
    "try: \n",
    "    raise(MyError(3*2)) \n",
    "  \n",
    "# Value of Exception is stored in error \n",
    "except MyError as error: \n",
    "    print('A New Exception occured: ',error.value) "
   ]
  },
  {
   "cell_type": "code",
   "execution_count": 29,
   "metadata": {},
   "outputs": [
    {
     "name": "stdout",
     "output_type": "stream",
     "text": [
      "Exception occured:  Not Allowed\n"
     ]
    }
   ],
   "source": [
    "# class Error is derived from super class Exception \n",
    "class Error(Exception): \n",
    "\n",
    "\t# Error is derived class for Exception, but \n",
    "\t# Base class for exceptions in this module \n",
    "\tpass\n",
    "\n",
    "class TransitionError(Error): \n",
    "\n",
    "\t# Raised when an operation attempts a state \n",
    "\t# transition that's not allowed. \n",
    "\tdef __init__(self, prev, nex, msg): \n",
    "\t\tself.prev = prev \n",
    "\t\tself.next = nex \n",
    "\n",
    "\t\t# Error message thrown is saved in msg \n",
    "\t\tself.msg = msg \n",
    "try: \n",
    "\traise(TransitionError(2,3*2,\"Not Allowed\")) \n",
    "\n",
    "# Value of Exception is stored in error \n",
    "except TransitionError as error: \n",
    "\tprint('Exception occured: ',error.msg) \n"
   ]
  },
  {
   "cell_type": "markdown",
   "metadata": {},
   "source": [
    "# Overriding Methods"
   ]
  },
  {
   "cell_type": "code",
   "execution_count": null,
   "metadata": {},
   "outputs": [],
   "source": [
    "class Message:\n",
    "  def __init__(self, sender, recipient, text):\n",
    "    self.sender = sender\n",
    "    self.recipient = recipient\n",
    "    self.text = text\n",
    "\n",
    "class User:\n",
    "  def __init__(self, username):\n",
    "    self.username = username\n",
    "    \n",
    "  def edit_message(self, message, new_text):\n",
    "    if message.sender == self.username:\n",
    "      message.text = new_text\n",
    "\n",
    "class Admin(User):\n",
    "  def edit_message(self, message, new_text):\n",
    "      message.text = new_text"
   ]
  },
  {
   "cell_type": "code",
   "execution_count": 31,
   "metadata": {},
   "outputs": [
    {
     "name": "stdout",
     "output_type": "stream",
     "text": [
      "('E', 'r', 'r', 'o', 'r')\n"
     ]
    }
   ],
   "source": [
    "\n",
    "# NetworkError has base RuntimeError \n",
    "# and not Exception \n",
    "class Networkerror(RuntimeError): \n",
    "    def __init__(self, arg): \n",
    "        self.args = arg \n",
    "  \n",
    "try: \n",
    "    raise Networkerror(\"Error\") \n",
    "  \n",
    "except Networkerror as e: \n",
    "    print (e.args) "
   ]
  },
  {
   "cell_type": "markdown",
   "metadata": {},
   "source": [
    "\n",
    "# super()\n"
   ]
  },
  {
   "cell_type": "code",
   "execution_count": null,
   "metadata": {},
   "outputs": [],
   "source": [
    "Overriding methods is really useful in some cases but \n",
    "sometimes we want to add some extra\n",
    "logic to the existing method."
   ]
  },
  {
   "cell_type": "code",
   "execution_count": null,
   "metadata": {},
   "outputs": [],
   "source": [
    "class PotatoSalad:\n",
    "  def __init__(self, potatoes, celery, onions):\n",
    "    self.potatoes = potatoes\n",
    "    self.celery = celery\n",
    "    self.onions = onions\n",
    "\n",
    "class SpecialPotatoSalad(PotatoSalad):\n",
    "  def __init__(self, potatoes, celery, onions):\n",
    "    super().__init__(potatoes, celery, onions)\n",
    "    self.raisins = 40"
   ]
  },
  {
   "cell_type": "markdown",
   "metadata": {},
   "source": [
    "# public protected private"
   ]
  },
  {
   "cell_type": "code",
   "execution_count": 20,
   "metadata": {},
   "outputs": [
    {
     "name": "stdout",
     "output_type": "stream",
     "text": [
      "<__main__.Test object at 0x00000181C59F33C8>\n",
      "230303\n",
      "90\n"
     ]
    }
   ],
   "source": [
    "class Test():\n",
    "    def __init__(self, num):\n",
    "        self.num = num\n",
    "        self.__num2 = 230303\n",
    "    \n",
    "    def get(self):          # to get protected var\n",
    "        return self.__num2\n",
    "    \n",
    "    def set(self, num):     # to set new val to protected var\n",
    "        self.__num2 = num\n",
    "        return self.__num2\n",
    "        \n",
    "if __name__ == \"__main__\":\n",
    "    obj = Test(5)\n",
    "    print(obj)\n",
    "    print(obj.get())\n",
    "    print(obj.set(90))"
   ]
  },
  {
   "cell_type": "markdown",
   "metadata": {},
   "source": [
    "# public "
   ]
  },
  {
   "cell_type": "markdown",
   "metadata": {},
   "source": [
    "(accessible from any part of program)"
   ]
  },
  {
   "cell_type": "code",
   "execution_count": 29,
   "metadata": {},
   "outputs": [
    {
     "name": "stdout",
     "output_type": "stream",
     "text": [
      "<__main__.Hero object at 0x00000181C5805C88>\n",
      "Shiv\n",
      "21\n",
      "Hero name is Shiv and he is 21 years old. we have infomation that he is working on a movie called AI-2021\n"
     ]
    }
   ],
   "source": [
    "class Hero:\n",
    "    def __init__(self, name, age):\n",
    "        \n",
    "        #public data mambers\n",
    "        self.heroName = name\n",
    "        self.heroAge = age\n",
    "        \n",
    "    def moreAbout(self):\n",
    "        return (f\"Hero name is {self.heroName} and he is {self.heroAge} years old. we have infomation that he is working on a movie called AI-2021\")\n",
    "        \n",
    "\n",
    "inst = Hero(\"Shiv\", 21)\n",
    "print(inst)\n",
    "print(inst.heroName)\n",
    "print(inst.heroAge)\n",
    "print(inst.moreAbout())"
   ]
  },
  {
   "cell_type": "markdown",
   "metadata": {},
   "source": [
    "# Protected"
   ]
  },
  {
   "cell_type": "markdown",
   "metadata": {},
   "source": [
    "Protected members of a class are accessible from within the class and are also available to its sub-classes. No other environment is permitted access to it"
   ]
  },
  {
   "cell_type": "code",
   "execution_count": 62,
   "metadata": {},
   "outputs": [
    {
     "ename": "TypeError",
     "evalue": "descriptor 'setter' requires a 'property' object but received a 'function'",
     "output_type": "error",
     "traceback": [
      "\u001b[1;31m---------------------------------------------------------------------------\u001b[0m",
      "\u001b[1;31mTypeError\u001b[0m                                 Traceback (most recent call last)",
      "\u001b[1;32m<ipython-input-62-eda71546c74c>\u001b[0m in \u001b[0;36m<module>\u001b[1;34m\u001b[0m\n\u001b[1;32m----> 1\u001b[1;33m \u001b[1;32mclass\u001b[0m \u001b[0mStudent\u001b[0m\u001b[1;33m:\u001b[0m\u001b[1;33m\u001b[0m\u001b[1;33m\u001b[0m\u001b[0m\n\u001b[0m\u001b[0;32m      2\u001b[0m     \u001b[1;31m#protected data members\u001b[0m\u001b[1;33m\u001b[0m\u001b[1;33m\u001b[0m\u001b[1;33m\u001b[0m\u001b[0m\n\u001b[0;32m      3\u001b[0m     \u001b[0m_name\u001b[0m \u001b[1;33m=\u001b[0m \u001b[1;32mNone\u001b[0m\u001b[1;33m\u001b[0m\u001b[1;33m\u001b[0m\u001b[0m\n\u001b[0;32m      4\u001b[0m     \u001b[0m_roll\u001b[0m \u001b[1;33m=\u001b[0m \u001b[1;32mNone\u001b[0m\u001b[1;33m\u001b[0m\u001b[1;33m\u001b[0m\u001b[0m\n\u001b[0;32m      5\u001b[0m     \u001b[0m_year\u001b[0m \u001b[1;33m=\u001b[0m \u001b[1;32mNone\u001b[0m\u001b[1;33m\u001b[0m\u001b[1;33m\u001b[0m\u001b[0m\n",
      "\u001b[1;32m<ipython-input-62-eda71546c74c>\u001b[0m in \u001b[0;36mStudent\u001b[1;34m()\u001b[0m\n\u001b[0;32m     16\u001b[0m         \u001b[0mprint\u001b[0m\u001b[1;33m(\u001b[0m\u001b[1;34m\"Year: \"\u001b[0m\u001b[1;33m,\u001b[0m \u001b[0mself\u001b[0m\u001b[1;33m.\u001b[0m\u001b[0m_year\u001b[0m\u001b[1;33m)\u001b[0m\u001b[1;33m\u001b[0m\u001b[1;33m\u001b[0m\u001b[0m\n\u001b[0;32m     17\u001b[0m \u001b[1;33m\u001b[0m\u001b[0m\n\u001b[1;32m---> 18\u001b[1;33m     \u001b[1;33m@\u001b[0m\u001b[0mproperty\u001b[0m\u001b[1;33m.\u001b[0m\u001b[0msetter\u001b[0m   \u001b[1;31m#this deco making it protected so only available for this class not even for inherited\u001b[0m\u001b[1;33m\u001b[0m\u001b[1;33m\u001b[0m\u001b[0m\n\u001b[0m\u001b[0;32m     19\u001b[0m     \u001b[1;32mdef\u001b[0m \u001b[0mchange_roll\u001b[0m\u001b[1;33m(\u001b[0m\u001b[0mself\u001b[0m\u001b[1;33m,\u001b[0m \u001b[0mnewRoll\u001b[0m\u001b[1;33m)\u001b[0m\u001b[1;33m:\u001b[0m\u001b[1;33m\u001b[0m\u001b[1;33m\u001b[0m\u001b[0m\n\u001b[0;32m     20\u001b[0m         \u001b[0mself\u001b[0m\u001b[1;33m.\u001b[0m\u001b[0m_roll\u001b[0m \u001b[1;33m=\u001b[0m \u001b[0mnewRoll\u001b[0m\u001b[1;33m\u001b[0m\u001b[1;33m\u001b[0m\u001b[0m\n",
      "\u001b[1;31mTypeError\u001b[0m: descriptor 'setter' requires a 'property' object but received a 'function'"
     ]
    }
   ],
   "source": [
    "class Student:\n",
    "    #protected data members\n",
    "    _name = None\n",
    "    _roll = None\n",
    "    _year = None\n",
    "    \n",
    "    def __init__(self, name, roll, year):\n",
    "        self._name = name\n",
    "        self._roll = roll\n",
    "        self._year = year\n",
    "        \n",
    "    #protected method\n",
    "    def _displayDetails(self):\n",
    "        print(\"Roll: \", self._roll)\n",
    "        print(\"Name: \", self._name)\n",
    "        print(\"Year: \", self._year)\n",
    "    \n",
    "    @property.setter   #this deco making it protected so only available for this class not even for inherited \n",
    "    def change_roll(self, newRoll):\n",
    "        self._roll = newRoll\n",
    "        \n",
    "\n",
    "class New(Student):\n",
    "    \n",
    "    def __init__(self, name, roll, year):\n",
    "        Student.__init__(self, name, roll, year)\n",
    "        \n",
    "    def displayabout(self):\n",
    "        print(\"Name: \", self._name)\n",
    "        self._displayDetails()\n",
    "        \n",
    "\n",
    "insta = New(\"Rick\", 123432, \"Final year\")\n",
    "\n",
    "\n",
    "# insta.change_roll(999)\n",
    "insta.displayabout()\n",
    "\n",
    "stu_insta = Student(\"Morty\", 8888, \"first\")\n",
    "stu_insta.roll = 4444\n",
    "print(stu_insta._displayDetails())"
   ]
  },
  {
   "cell_type": "markdown",
   "metadata": {},
   "source": [
    "# private\n"
   ]
  },
  {
   "cell_type": "markdown",
   "metadata": {},
   "source": [
    "private members of a class are only accessible within the class"
   ]
  },
  {
   "cell_type": "code",
   "execution_count": 127,
   "metadata": {},
   "outputs": [
    {
     "ename": "AttributeError",
     "evalue": "'StudentK' object has no attribute '__display'",
     "output_type": "error",
     "traceback": [
      "\u001b[1;31m---------------------------------------------------------------------------\u001b[0m",
      "\u001b[1;31mAttributeError\u001b[0m                            Traceback (most recent call last)",
      "\u001b[1;32m<ipython-input-127-35347decb921>\u001b[0m in \u001b[0;36m<module>\u001b[1;34m\u001b[0m\n\u001b[0;32m     11\u001b[0m \u001b[0minstanc\u001b[0m \u001b[1;33m=\u001b[0m \u001b[0mStudentK\u001b[0m\u001b[1;33m(\u001b[0m\u001b[1;34m\"jasika\"\u001b[0m\u001b[1;33m,\u001b[0m \u001b[1;36m18\u001b[0m\u001b[1;33m)\u001b[0m\u001b[1;33m\u001b[0m\u001b[1;33m\u001b[0m\u001b[0m\n\u001b[0;32m     12\u001b[0m \u001b[1;31m# instanc._StudentK__name\u001b[0m\u001b[1;33m\u001b[0m\u001b[1;33m\u001b[0m\u001b[1;33m\u001b[0m\u001b[0m\n\u001b[1;32m---> 13\u001b[1;33m \u001b[0minstanc\u001b[0m\u001b[1;33m.\u001b[0m\u001b[0m__display\u001b[0m\u001b[1;33m(\u001b[0m\u001b[1;33m)\u001b[0m\u001b[1;33m\u001b[0m\u001b[1;33m\u001b[0m\u001b[0m\n\u001b[0m\u001b[0;32m     14\u001b[0m \u001b[1;31m# instanc._StudentK__display()\u001b[0m\u001b[1;33m\u001b[0m\u001b[1;33m\u001b[0m\u001b[1;33m\u001b[0m\u001b[0m\n",
      "\u001b[1;31mAttributeError\u001b[0m: 'StudentK' object has no attribute '__display'"
     ]
    }
   ],
   "source": [
    "class StudentK:\n",
    "    __schoolName = 'XYZ School' # private class attribute\n",
    "\n",
    "    def __init__(self, name, age):\n",
    "        self.__name=name  # private instance attribute\n",
    "        self.__salary=age # private instance attribute\n",
    "        \n",
    "    def __display(self):  # private method\n",
    "\t    print('This is private method.')\n",
    "        \n",
    "        \n",
    "instanc = StudentK(\"jasika\", 18)\n",
    "# instanc._StudentK__name\n",
    "instanc.__display()\n",
    "# instanc._StudentK__display()"
   ]
  },
  {
   "cell_type": "code",
   "execution_count": 59,
   "metadata": {},
   "outputs": [
    {
     "ename": "AttributeError",
     "evalue": "'Modifiers' object has no attribute '__private_member'",
     "output_type": "error",
     "traceback": [
      "\u001b[1;31m---------------------------------------------------------------------------\u001b[0m",
      "\u001b[1;31mAttributeError\u001b[0m                            Traceback (most recent call last)",
      "\u001b[1;32m<ipython-input-59-c63741296fe3>\u001b[0m in \u001b[0;36m<module>\u001b[1;34m\u001b[0m\n\u001b[0;32m      5\u001b[0m \u001b[1;33m\u001b[0m\u001b[0m\n\u001b[0;32m      6\u001b[0m \u001b[0mm\u001b[0m \u001b[1;33m=\u001b[0m \u001b[0mModifiers\u001b[0m\u001b[1;33m(\u001b[0m\u001b[1;34m\"SKAUL05\"\u001b[0m\u001b[1;33m)\u001b[0m\u001b[1;33m\u001b[0m\u001b[1;33m\u001b[0m\u001b[0m\n\u001b[1;32m----> 7\u001b[1;33m \u001b[0mprint\u001b[0m\u001b[1;33m(\u001b[0m\u001b[0mm\u001b[0m\u001b[1;33m.\u001b[0m\u001b[0m__private_member\u001b[0m\u001b[1;33m)\u001b[0m\u001b[1;33m\u001b[0m\u001b[1;33m\u001b[0m\u001b[0m\n\u001b[0m",
      "\u001b[1;31mAttributeError\u001b[0m: 'Modifiers' object has no attribute '__private_member'"
     ]
    }
   ],
   "source": [
    "class Modifiers:\n",
    "\n",
    "    def __init__(self, name):\n",
    "        self.__private_member = name  # Private Attribute\n",
    "\n",
    "m = Modifiers(\"SKAUL05\")\n",
    "print(m.__private_member)"
   ]
  },
  {
   "cell_type": "code",
   "execution_count": 60,
   "metadata": {},
   "outputs": [
    {
     "name": "stdout",
     "output_type": "stream",
     "text": [
      "___________Output_____________\n",
      "SKAUL05\n",
      "Github\n"
     ]
    }
   ],
   "source": [
    "class Modifiers:\n",
    "\n",
    "    def __init__(self, name):\n",
    "        self.__private_member = name  # Private Attribute\n",
    "\n",
    "print(\"___________Output_____________\")\n",
    "m = Modifiers(\"SKAUL05\")\n",
    "print(m._Modifiers__private_member)\n",
    "m._Modifiers__private_member = \"Github\"\n",
    "print(m._Modifiers__private_member)"
   ]
  },
  {
   "cell_type": "code",
   "execution_count": 117,
   "metadata": {},
   "outputs": [
    {
     "data": {
      "text/plain": [
       "'Car type is SUV'"
      ]
     },
     "execution_count": 117,
     "metadata": {},
     "output_type": "execute_result"
    }
   ],
   "source": [
    "# We can access private var using method layers\n",
    "\n",
    "class Cars:\n",
    "    __my_car = \"SUV\"\n",
    "    \n",
    "    def what(self):\n",
    "        return f\"Car type is {Cars.__my_car}\"\n",
    "    \n",
    "a = Cars() \n",
    "a.what()"
   ]
  },
  {
   "cell_type": "markdown",
   "metadata": {},
   "source": [
    "# Abstract classes"
   ]
  },
  {
   "cell_type": "markdown",
   "metadata": {},
   "source": [
    "abstract method from parent class must be redefind in child classes"
   ]
  },
  {
   "cell_type": "code",
   "execution_count": 116,
   "metadata": {},
   "outputs": [
    {
     "name": "stdout",
     "output_type": "stream",
     "text": [
      "you need oxygen\n",
      "you need water\n",
      "you need food\n",
      "you may need it\n"
     ]
    }
   ],
   "source": [
    "from abc import ABC, abstractmethod\n",
    "class Person(ABC):\n",
    "    def __init__(self):\n",
    "        pass\n",
    "    \n",
    "    @abstractmethod\n",
    "    def oxygen(self):\n",
    "        return \"you need oxygen\"\n",
    "    \n",
    "    @abstractmethod\n",
    "    def water(self):\n",
    "        return \"you need water\"\n",
    "    \n",
    "    @abstractmethod\n",
    "    def food(self):\n",
    "        return \"you need food\"\n",
    "    \n",
    "    def exercise(self):\n",
    "        return \"you may need it\"\n",
    " \n",
    "\n",
    "class Dog(Person):  \n",
    "   \n",
    "    def oxygen(self):\n",
    "        return \"you need oxygen\"\n",
    "    \n",
    "    \n",
    "    def water(self):\n",
    "        return \"you need water\"\n",
    "    \n",
    "   \n",
    "    def food(self):\n",
    "        return \"you need food\"\n",
    "        \n",
    "\n",
    "dog_a = Dog()\n",
    "print(dog_a.oxygen())\n",
    "print(dog_a.water())\n",
    "print(dog_a.food())\n",
    "print(dog_a.exercise())"
   ]
  },
  {
   "cell_type": "code",
   "execution_count": 142,
   "metadata": {},
   "outputs": [
    {
     "name": "stdout",
     "output_type": "stream",
     "text": [
      "dog can run\n"
     ]
    }
   ],
   "source": [
    " \n",
    "from abc import ABC,abstractmethod \n",
    "  \n",
    "class Animal(ABC): \n",
    "    def __init__(self):\n",
    "        pass\n",
    "    \n",
    "    @abstractmethod\n",
    "    def move(self): \n",
    "        print(\"animal can move\")\n",
    "    \n",
    "class Human(Animal): \n",
    "    def move(self): \n",
    "        print(\"I can walk and run\") \n",
    "  \n",
    "class Snake(Animal): \n",
    "    def move(self): \n",
    "        print(\"I can crawl\") \n",
    "  \n",
    "class Dog(Animal): \n",
    "    def move(self):\n",
    "        print(\"dog can run\")\n",
    "  \n",
    "class Lion(Animal): \n",
    "    def move(self): \n",
    "        print(\"I can roar\") \n",
    "  \n",
    "g = Dog()\n",
    "\n",
    "g.move()"
   ]
  },
  {
   "cell_type": "code",
   "execution_count": 148,
   "metadata": {},
   "outputs": [
    {
     "data": {
      "text/plain": [
       "'hello from child class'"
      ]
     },
     "execution_count": 148,
     "metadata": {},
     "output_type": "execute_result"
    }
   ],
   "source": [
    "from abc import ABC, abstractmethod\n",
    "\n",
    "class BaseClass(ABC):\n",
    "    @abstractmethod\n",
    "    def say_hello(self):\n",
    "        return \"hello from base class\"\n",
    "    \n",
    "class Child(BaseClass):\n",
    "    def say_hello(self):\n",
    "        return \"hello from child class\"\n",
    "    \n",
    "#c = BaseClass()   #will through us error because we can't create object with absrcact class\n",
    "obj = Child()      # What we can access its childs\n",
    "obj.say_hello()"
   ]
  },
  {
   "cell_type": "code",
   "execution_count": null,
   "metadata": {},
   "outputs": [],
   "source": []
  },
  {
   "cell_type": "markdown",
   "metadata": {},
   "source": [
    "# Python @property decorator"
   ]
  },
  {
   "cell_type": "markdown",
   "metadata": {},
   "source": [
    " helpful in defining the properties effortlessly without manually calling the inbuilt function property(). Which is used to return the property attributes of a class from the stated getter, setter and deleter as parameters.\n",
    "syntax\n",
    "property(fget=None, fset=None, fdel=None, doc=None)\n",
    "doc is a string (like a comment)"
   ]
  },
  {
   "cell_type": "code",
   "execution_count": 95,
   "metadata": {},
   "outputs": [
    {
     "name": "stdout",
     "output_type": "stream",
     "text": [
      "37\n",
      "98.60000000000001\n",
      "-387.40000000000003\n"
     ]
    }
   ],
   "source": [
    "# https://www.programiz.com/python-programming/property#:~:text=this%20private%20variable.-,The%20%40property%20Decorator,set%20value%20of%20the%20attribute\n",
    "# Making Getters and Setter methods\n",
    "class Celsius:\n",
    "    def __init__(self, temperature=0):\n",
    "        self.set_temperature(temperature)\n",
    "\n",
    "    def to_fahrenheit(self):\n",
    "        return (self.get_temperature() * 1.8) + 32\n",
    "\n",
    "    # getter method\n",
    "    def get_temperature(self):\n",
    "        return self._temperature\n",
    "\n",
    "    # setter method\n",
    "    def set_temperature(self, value):\n",
    "        if value < -273.15:\n",
    "            raise ValueError(\"Temperature below -273.15 is not possible.\")\n",
    "        self._temperature = value\n",
    "        \n",
    "\n",
    "human = Celsius(37)\n",
    "\n",
    "print(human.get_temperature())\n",
    "print(human.to_fahrenheit())\n",
    "\n",
    "human.set_temperature(-233)\n",
    "\n",
    "print(human.to_fahrenheit())"
   ]
  },
  {
   "cell_type": "code",
   "execution_count": 97,
   "metadata": {},
   "outputs": [
    {
     "name": "stdout",
     "output_type": "stream",
     "text": [
      "Setting value...\n",
      "Getting value...\n",
      "37\n",
      "Getting value...\n",
      "98.60000000000001\n",
      "Setting value...\n"
     ]
    }
   ],
   "source": [
    "# using property class\n",
    "class Celsius:\n",
    "    def __init__(self, temperature=0):\n",
    "        self.temperature = temperature\n",
    "\n",
    "    def to_fahrenheit(self):\n",
    "        return (self.temperature * 1.8) + 32\n",
    "\n",
    "    # getter\n",
    "    def get_temperature(self):\n",
    "        print(\"Getting value...\")\n",
    "        return self._temperature\n",
    "\n",
    "    # setter\n",
    "    def set_temperature(self, value):\n",
    "        print(\"Setting value...\")\n",
    "        if value < -273.15:\n",
    "            raise ValueError(\"Temperature below -273.15 is not possible\")\n",
    "        self._temperature = value\n",
    "\n",
    "    # creating a property object\n",
    "    temperature = property(get_temperature, set_temperature)\n",
    "\n",
    "\n",
    "human = Celsius(37)\n",
    "\n",
    "print(human.temperature)\n",
    "\n",
    "print(human.to_fahrenheit())\n",
    "\n",
    "human.temperature = -122"
   ]
  },
  {
   "cell_type": "code",
   "execution_count": null,
   "metadata": {},
   "outputs": [],
   "source": []
  },
  {
   "cell_type": "code",
   "execution_count": 100,
   "metadata": {},
   "outputs": [
    {
     "name": "stdout",
     "output_type": "stream",
     "text": [
      "Setting value...\n",
      "Getting value...\n",
      "37\n",
      "Getting value...\n",
      "98.60000000000001\n",
      "Setting value...\n"
     ]
    }
   ],
   "source": [
    "# Using @property decorator\n",
    "class Celsius:\n",
    "    def __init__(self, temperature=0):\n",
    "        self.temperature = temperature\n",
    "\n",
    "    def to_fahrenheit(self):\n",
    "        return (self.temperature * 1.8) + 32\n",
    "\n",
    "    @property\n",
    "    def temperature(self):\n",
    "        print(\"Getting value...\")\n",
    "        return self._temperature\n",
    "\n",
    "    @temperature.setter\n",
    "    def temperature(self, value):\n",
    "        print(\"Setting value...\")\n",
    "        if value < -273.15:\n",
    "            raise ValueError(\"Temperature below -273 is not possible\")\n",
    "        self._temperature = value\n",
    "\n",
    "\n",
    "# create an object\n",
    "human = Celsius(37)\n",
    "\n",
    "print(human.temperature)\n",
    "\n",
    "print(human.to_fahrenheit())\n",
    "\n",
    "coldest_thing = Celsius(-122)"
   ]
  },
  {
   "cell_type": "code",
   "execution_count": 132,
   "metadata": {},
   "outputs": [
    {
     "name": "stdout",
     "output_type": "stream",
     "text": [
      "GeeksforGeeks\n"
     ]
    }
   ],
   "source": [
    "# Defining class \n",
    "class Portal: \n",
    "  \n",
    "    # Defining __init__ method \n",
    "    def __init__(self): \n",
    "        self.__name ='' \n",
    "      \n",
    "    # Using @property decorator \n",
    "    @property\n",
    "      \n",
    "    # Getter method \n",
    "    def name(self): \n",
    "        return self.__name \n",
    "      \n",
    "    # Setter method \n",
    "    @name.setter \n",
    "    def name(self, val): \n",
    "        self.__name = val \n",
    "  \n",
    "    # Deleter method \n",
    "    @name.deleter \n",
    "    def name(self): \n",
    "        del self.__name \n",
    "\n",
    "        \n",
    "p = Portal(); \n",
    "  \n",
    "# Setting name \n",
    "p.name = 'GeeksforGeeks'\n",
    "  \n",
    "# Prints name \n",
    "print (p.name) \n",
    "  \n",
    "# Deletes name \n",
    "del p.name \n",
    "  \n",
    "# As name is deleted above this  \n",
    "# will throw an error \n",
    "# print (p.name)"
   ]
  },
  {
   "cell_type": "code",
   "execution_count": 164,
   "metadata": {},
   "outputs": [
    {
     "name": "stdout",
     "output_type": "stream",
     "text": [
      "<__main__.Test object at 0x00000181C5AE6188>\n"
     ]
    },
    {
     "ename": "TypeError",
     "evalue": "'str' object is not callable",
     "output_type": "error",
     "traceback": [
      "\u001b[1;31m---------------------------------------------------------------------------\u001b[0m",
      "\u001b[1;31mTypeError\u001b[0m                                 Traceback (most recent call last)",
      "\u001b[1;32m<ipython-input-164-7f337cba991f>\u001b[0m in \u001b[0;36m<module>\u001b[1;34m\u001b[0m\n\u001b[0;32m     18\u001b[0m     \u001b[0mobj\u001b[0m \u001b[1;33m=\u001b[0m \u001b[0mTest\u001b[0m\u001b[1;33m(\u001b[0m\u001b[1;33m)\u001b[0m\u001b[1;33m\u001b[0m\u001b[1;33m\u001b[0m\u001b[0m\n\u001b[0;32m     19\u001b[0m     \u001b[0mprint\u001b[0m\u001b[1;33m(\u001b[0m\u001b[0mobj\u001b[0m\u001b[1;33m)\u001b[0m\u001b[1;33m\u001b[0m\u001b[1;33m\u001b[0m\u001b[0m\n\u001b[1;32m---> 20\u001b[1;33m     \u001b[0mprint\u001b[0m\u001b[1;33m(\u001b[0m\u001b[0mobj\u001b[0m\u001b[1;33m.\u001b[0m\u001b[0mmethodA\u001b[0m\u001b[1;33m(\u001b[0m\u001b[1;33m)\u001b[0m\u001b[1;33m)\u001b[0m\u001b[1;33m\u001b[0m\u001b[1;33m\u001b[0m\u001b[0m\n\u001b[0m\u001b[0;32m     21\u001b[0m \u001b[1;33m\u001b[0m\u001b[0m\n",
      "\u001b[1;31mTypeError\u001b[0m: 'str' object is not callable"
     ]
    }
   ],
   "source": [
    "class Test(object):\n",
    "    \n",
    "    def __init__(self, num = 20):\n",
    "        self.num = num\n",
    "        self.__private_num = 7\n",
    "\n",
    "    def get(self):\n",
    "        return self.__private_num\n",
    "\n",
    "    def set(self, num):\n",
    "        self.__private_num = num\n",
    "        \n",
    "    @property\n",
    "    def methodA(self):\n",
    "        return \"iam mehod a\"\n",
    "    \n",
    "    @static\n",
    "    def methodB():\n",
    "        return \"I am static method\"\n",
    "        \n",
    "if __name__ == \"__main__\":\n",
    "    obj = Test()\n",
    "    print(obj)\n",
    "    print(obj.methodA())\n",
    "    "
   ]
  },
  {
   "cell_type": "code",
   "execution_count": null,
   "metadata": {},
   "outputs": [],
   "source": []
  },
  {
   "cell_type": "markdown",
   "metadata": {},
   "source": [
    "# instance_method @classmethod @staticmethod"
   ]
  },
  {
   "cell_type": "raw",
   "metadata": {},
   "source": [
    "https://realpython.com/instance-class-and-static-methods-demystified/"
   ]
  },
  {
   "cell_type": "code",
   "execution_count": 214,
   "metadata": {},
   "outputs": [
    {
     "name": "stdout",
     "output_type": "stream",
     "text": [
      "('instance method called', <__main__.MyClass object at 0x00000181C5C3CEC8>)\n",
      "________________________\n",
      "\n",
      "('class method called', <class '__main__.MyClass'>)\n",
      "________________________\n",
      "\n"
     ]
    },
    {
     "data": {
      "text/plain": [
       "'static method called'"
      ]
     },
     "execution_count": 214,
     "metadata": {},
     "output_type": "execute_result"
    }
   ],
   "source": [
    "class MyClass:\n",
    "    def method(self):  #instance method\n",
    "        return 'instance method called', self\n",
    "    \n",
    "#      class methods take a cls parameter that points to the class—and not the object instance—when the method is called.\n",
    "\n",
    "    @classmethod\n",
    "    def classmethod(cls):\n",
    "        return 'class method called', cls\n",
    "    \n",
    "#  takes neither a self nor a cls parameter but of course it’s free to accept an arbitrary number of other parameters\n",
    "\n",
    "    @staticmethod\n",
    "    def staticmethod():  #be can pass val a, b, parameters\n",
    "        return 'static method called'\n",
    "    \n",
    "#     Therefore a static method can neither modify object state nor class state. \n",
    "\n",
    "\n",
    "\n",
    "x = MyClass()\n",
    "print(x.method())\n",
    "\n",
    "print(\"________________________\\n\")\n",
    "\n",
    "y = MyClass()\n",
    "print(y.classmethod())   # showed us it doesn’t have access to the <MyClass instance> object,\n",
    "\n",
    "print(\"________________________\\n\")\n",
    "\n",
    "z = MyClass()\n",
    "y.staticmethod()\n"
   ]
  },
  {
   "cell_type": "code",
   "execution_count": 215,
   "metadata": {},
   "outputs": [
    {
     "data": {
      "text/plain": [
       "'static method called'"
      ]
     },
     "execution_count": 215,
     "metadata": {},
     "output_type": "execute_result"
    }
   ],
   "source": [
    "MyClass.staticmethod()"
   ]
  },
  {
   "cell_type": "code",
   "execution_count": 216,
   "metadata": {},
   "outputs": [
    {
     "data": {
      "text/plain": [
       "('class method called', __main__.MyClass)"
      ]
     },
     "execution_count": 216,
     "metadata": {},
     "output_type": "execute_result"
    }
   ],
   "source": [
    "MyClass.classmethod()"
   ]
  },
  {
   "cell_type": "code",
   "execution_count": 231,
   "metadata": {},
   "outputs": [],
   "source": [
    "MyClass.method() #This means there is no way for Python to populate the self argument and therefore the call fails."
   ]
  },
  {
   "cell_type": "markdown",
   "metadata": {},
   "source": [
    "# User of @classmethod"
   ]
  },
  {
   "cell_type": "code",
   "execution_count": 228,
   "metadata": {},
   "outputs": [
    {
     "data": {
      "text/plain": [
       "Pizza(['Veggie', 'Capsicum', 'Pepperoni'])"
      ]
     },
     "execution_count": 228,
     "metadata": {},
     "output_type": "execute_result"
    }
   ],
   "source": [
    "class Pizza:\n",
    "    def __init__(self, ingredients):\n",
    "        self.ingredients = ingredients\n",
    "\n",
    "    def __repr__(self):\n",
    "        return f'Pizza({self.ingredients!r})'\n",
    "    \n",
    "    @classmethod\n",
    "    def margherita(cls):\n",
    "        return cls(['mozzarella', 'tomatoes'])\n",
    "    \n",
    "    @classmethod\n",
    "    def prosciutto(cls):\n",
    "        return cls(['mozzarella', 'tomatoes', 'ham'])\n",
    "    \n",
    "#     Note how I’m using the cls argument in the margherita and prosciutto factory methods instead of calling the Pizza constructor directly.\n",
    "# This is a trick you can use to follow the Don’t Repeat Yourself (DRY) principle. If we decide to rename this class at some point we won’t have to remember updating the constructor name in all of the classmethod factory functions.\n",
    "\n",
    "    \n",
    "Pizza(['Veggie', 'Capsicum', 'Pepperoni'])\n"
   ]
  },
  {
   "cell_type": "code",
   "execution_count": 229,
   "metadata": {},
   "outputs": [
    {
     "data": {
      "text/plain": [
       "Pizza(['mozzarella', 'tomatoes'])"
      ]
     },
     "execution_count": 229,
     "metadata": {},
     "output_type": "execute_result"
    }
   ],
   "source": [
    "Pizza.margherita()"
   ]
  },
  {
   "cell_type": "code",
   "execution_count": 230,
   "metadata": {},
   "outputs": [
    {
     "data": {
      "text/plain": [
       "Pizza(['mozzarella', 'tomatoes', 'ham'])"
      ]
     },
     "execution_count": 230,
     "metadata": {},
     "output_type": "execute_result"
    }
   ],
   "source": [
    "Pizza.prosciutto()"
   ]
  },
  {
   "cell_type": "markdown",
   "metadata": {},
   "source": [
    "Another way to look at this use of class methods is that they allow you to define alternative constructors for your classes.\n",
    "\n",
    "Python only allows one __init__ method per class. Using class methods it’s possible to add as many alternative constructors as necessary. This can make the interface for your classes self-documenting (to a certain degree) and simplify their usage.\n",
    "\n"
   ]
  },
  {
   "cell_type": "markdown",
   "metadata": {},
   "source": [
    "# Use of @staticmethod"
   ]
  },
  {
   "cell_type": "code",
   "execution_count": 241,
   "metadata": {
    "scrolled": true
   },
   "outputs": [
    {
     "data": {
      "text/plain": [
       "50.26548245743669"
      ]
     },
     "execution_count": 241,
     "metadata": {},
     "output_type": "execute_result"
    }
   ],
   "source": [
    "import math\n",
    "\n",
    "class Pizza:\n",
    "    def __init__(self, radius, ingredients):\n",
    "        self.radius = radius\n",
    "        self.ingredients = ingredients\n",
    "\n",
    "    def __repr__(self):\n",
    "        return (f'Pizza({self.radius!r}, '\n",
    "                f'{self.ingredients!r})')\n",
    "\n",
    "    def area(self):\n",
    "        return self.circle_area(self.radius)\n",
    "\n",
    "    @staticmethod\n",
    "    def circle_area(r):\n",
    "        return r ** 2 * math.pi\n",
    "    \n",
    "p = Pizza(4, [\"tomatoes\", \"mozzaerlla\"])\n",
    "p\n",
    "p.area()"
   ]
  },
  {
   "cell_type": "code",
   "execution_count": null,
   "metadata": {},
   "outputs": [],
   "source": []
  },
  {
   "cell_type": "code",
   "execution_count": null,
   "metadata": {},
   "outputs": [],
   "source": []
  }
 ],
 "metadata": {
  "kernelspec": {
   "display_name": "Python 3",
   "language": "python",
   "name": "python3"
  },
  "language_info": {
   "codemirror_mode": {
    "name": "ipython",
    "version": 3
   },
   "file_extension": ".py",
   "mimetype": "text/x-python",
   "name": "python",
   "nbconvert_exporter": "python",
   "pygments_lexer": "ipython3",
   "version": "3.7.4"
  }
 },
 "nbformat": 4,
 "nbformat_minor": 2
}
