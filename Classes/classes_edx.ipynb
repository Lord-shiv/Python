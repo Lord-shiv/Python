{
 "cells": [
  {
   "cell_type": "code",
   "execution_count": 1,
   "metadata": {},
   "outputs": [
    {
     "name": "stdout",
     "output_type": "stream",
     "text": [
      "Added harry to flight successfully\n",
      "Added Ron to flight successfully\n",
      "Added shiv to flight successfully\n",
      "No availabel seats for person\n"
     ]
    }
   ],
   "source": [
    "class Flight():\n",
    "    def __init__(self, capacity):\n",
    "        self.capacity = capacity\n",
    "        self.passengers = []\n",
    "\n",
    "    def add_passenger(self, name):\n",
    "        if not self.available_seats():  # if not any seats or available_seats == 0\n",
    "            return False\n",
    "        self.passengers.append(name)\n",
    "        return True\n",
    "\n",
    "    def available_seats(self):\n",
    "        return self.capacity - len(self.passengers)\n",
    "\n",
    "\n",
    "flight = Flight(3)\n",
    "\n",
    "people = [\"harry\", \"Ron\", \"shiv\", \"Rick\"]\n",
    "\n",
    "for person in people:\n",
    "    '''success = flight.add_passenger(person)\n",
    "    if success: '''\n",
    "    if flight.add_passenger(person):\n",
    "        print(f\"Added {person} to flight successfully\")\n",
    "    else:\n",
    "        print(\"No availabel seats for person\")\n",
    "\n",
    "\n",
    "# https://learning.edx.org/\n"
   ]
  },
  {
   "cell_type": "code",
   "execution_count": null,
   "metadata": {},
   "outputs": [],
   "source": []
  }
 ],
 "metadata": {
  "kernelspec": {
   "display_name": "Python 3",
   "language": "python",
   "name": "python3"
  },
  "language_info": {
   "codemirror_mode": {
    "name": "ipython",
    "version": 3
   },
   "file_extension": ".py",
   "mimetype": "text/x-python",
   "name": "python",
   "nbconvert_exporter": "python",
   "pygments_lexer": "ipython3",
   "version": "3.7.4"
  }
 },
 "nbformat": 4,
 "nbformat_minor": 2
}
