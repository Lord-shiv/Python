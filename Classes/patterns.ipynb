{
 "cells": [
  {
   "cell_type": "code",
   "execution_count": null,
   "metadata": {},
   "outputs": [],
   "source": [
    "class Dog:\n",
    "\tdef __init__(self, name):\n",
    "\t\tself._name = name\n",
    "\tdef speak(self):\n",
    "\t\treturn \"Woof!\"\n",
    "\n",
    "class Cat:\n",
    "\tdef __init__(self, name):\n",
    "\t\tself._name = name\n",
    "\tdef speak(self):\n",
    "\t\treturn \"Meaaoo!\"\n",
    "\n",
    "def get_pet(pet=\"dog\"): # factory pattern\n",
    "\tpets = dict(dog=Dog(\"hope\"), cat=Cat(\"peace\"))\n",
    "\treturn pets[pet]\n",
    "\n",
    "g = get_pet(\"dog\")\n",
    "print(g.speak())\n",
    "\n",
    "c = get_pet(\"cat\")\n",
    "c.speak()"
   ]
  },
  {
   "cell_type": "code",
   "execution_count": null,
   "metadata": {},
   "outputs": [],
   "source": [
    "class Dog:\n",
    "\tdef speak(self):\n",
    "\t\treturn \"Woof!\"\n",
    "\n",
    "\tdef __str__(self):\n",
    "\t\treturn \"Dog\"\n",
    "\n",
    "\n",
    "class DogFactory:  # Dog's concrete factory\n",
    "\n",
    "\tdef get_pet(self):\n",
    "\t\treturn Dog()\n",
    "\n",
    "\tdef get_food(self):\n",
    "\t\treturn \"Dog's food: Pizza with exetra cheez!\"\n",
    "    \n",
    "    \n",
    "    \n",
    "class Tiger:\n",
    "\tdef speak(self):\n",
    "\t\treturn \"Roar!\"\n",
    "\n",
    "\tdef __str__(self):\n",
    "\t\treturn \"Tiger\"\n",
    "    \n",
    "class TigerFactory:  # Tiger's concrete factory\n",
    "\n",
    "\tdef get_pet(self):\n",
    "\t\treturn Tiger()\n",
    "\n",
    "\tdef get_food(self):\n",
    "\t\treturn \"Tiger's food: Antelope with some chilli\"\n",
    "    \n",
    "    \n",
    "\n",
    "\n",
    "class AnimalShop:    #abstract factory pattern\n",
    "\tdef __init__(self, pet_factory=None):\n",
    "\t\tself._pet_factory = pet_factory\n",
    "\n",
    "\n",
    "\tdef show_animal(self):    # concrete factory which will deal with dog's concrete factory\n",
    "\t\tpet = self._pet_factory.get_pet()\n",
    "\t\tpet_food = self._pet_factory.get_food()\n",
    "\n",
    "\t\tprint(\"Our pet is '{}'!\".format(pet))\n",
    "\t\tprint(\"Our pet says hello by '{}'\".format(pet.speak()))\n",
    "\t\tprint(\"Its food is '{}'!\".format(pet_food))\n",
    "\n",
    "\n",
    "# factory = DogFactory()\n",
    "# shop = PetStore(factory)\n",
    "# shop.show_pet()\n",
    "\n",
    "\n",
    "# we_want_tiger = TigerFactory()\n",
    "# buy_me_a_tiger = AnimalShop(we_want_tiger)\n",
    "# buy_me_a_tiger.show_animal()\n",
    "\n",
    "\n",
    "i_need_dog = AnimalShop(DogFactory())\n",
    "i_need_dog.show_animal()"
   ]
  },
  {
   "cell_type": "code",
   "execution_count": null,
   "metadata": {},
   "outputs": [],
   "source": [
    "class A(object): #  or with Python 3 can define class A:\n",
    "    def __init__(self):\n",
    "        print(\"I'm from A\")\n",
    "class B(A):\n",
    "    def __init__(self):\n",
    "        print(\"I'm from B\")\n",
    "        super().__init__()\n",
    "\n",
    "class C(A):\n",
    "    def __init__(self):\n",
    "        print(\"I'm from C\")\n",
    "        super().__init__()\n",
    "\n",
    "class D(B, C):\n",
    "    def __init__(self):\n",
    "        print(\"I'm from D\")\n",
    "        super().__init__()\n",
    "d = D()\n",
    "\n",
    "#     A\n",
    "#    / ⇖\n",
    "#   B ⇒ C\n",
    "#    ⇖ /\n",
    "#     D\n",
    "\n",
    "D.__mro__"
   ]
  },
  {
   "cell_type": "code",
   "execution_count": null,
   "metadata": {},
   "outputs": [],
   "source": [
    "class A(object):  # or class A:\n",
    "    def __init__(self):\n",
    "        print(\"2\")\n",
    "        print(\"I'm from A\")\n",
    "\n",
    "class B(A):\n",
    "    def __init__(self):\n",
    "        print(\"1\")\n",
    "        super().__init__()  # or super(B, self).__init_()\n",
    "        print(\"I'm from B\")\n",
    "        print(\"5\")\n",
    "\n",
    "class C(A):\n",
    "    def __init__(self):\n",
    "        super().__init__()\n",
    "        print(\"3\")\n",
    "        print(\"I'm from C\")\n",
    "        print(\"4\")\n",
    "\n",
    "class D(B, C):\n",
    "    def __init__(self):\n",
    "        super().__init__()\n",
    "        print(\"I'm from D\")\n",
    "d = D()\n",
    "\n",
    "#     A\n",
    "#    / ⇘\n",
    "#   B ⇐ C\n",
    "#    ⇘ /\n",
    "#     D "
   ]
  },
  {
   "cell_type": "markdown",
   "metadata": {},
   "source": [
    "# Singleton"
   ]
  },
  {
   "cell_type": "code",
   "execution_count": null,
   "metadata": {},
   "outputs": [],
   "source": [
    "class Champion:\n",
    "    __variable = None\n",
    "    \n",
    "    def __new__(cls, name, age, nationality):\n",
    "        if cls.__variable is None:\n",
    "            cls.__variable = object.__new__(cls)\n",
    "        cls.__variable.name = name\n",
    "        cls.__variable.nationality = nationality\n",
    "        return cls.__variable\n",
    "    \n",
    "    def __call__(cls, *args, **kwargs):\n",
    "        print(f\"The current champion is {cls.__variable.name} \")\n",
    "\n",
    "champ = Champion(\"Denotay Wilder\", 34, \"US\")\n",
    "champ()\n",
    "\n",
    "champ2 = Champion(\"Tyson Fury\", 34, \"ENG\")\n",
    "champ2()\n",
    "\n",
    "champ()\n",
    "\n",
    "print(champ.name)\n",
    "\n",
    "print(champ2.name)"
   ]
  },
  {
   "cell_type": "code",
   "execution_count": null,
   "metadata": {
    "scrolled": true
   },
   "outputs": [],
   "source": [
    "class MetaClass(type):\n",
    "    \"this is singleton design\"\n",
    "    _var = {}\n",
    "    \n",
    "    def __call__(cls, *args, **kwargs):\n",
    "        if cls not in cls._var:\n",
    "            cls._var[cls] = super(MetaClass, cls).__call__(*args, **kwargs)\n",
    "            return cls._var[cls]\n",
    "        \n",
    "    \n",
    "class A(metaclass=MetaClass):\n",
    "    def __init__(self):\n",
    "        pass\n",
    "    \n",
    "    def methosA(self):\n",
    "        return \"this is the method\"\n",
    "    \n",
    "obj = A()\n",
    "print(obj.methosA())\n",
    "\n",
    "obj1 = A()\n",
    "print(obj1.methosA())"
   ]
  },
  {
   "cell_type": "code",
   "execution_count": null,
   "metadata": {},
   "outputs": [],
   "source": [
    "n = 24\n",
    "if n%2==0 and (n>=2 or n <= 5) or n>20:\n",
    "    print(\"Not Wierd\")\n",
    "else: print(\"Wierd\")\n",
    "    "
   ]
  },
  {
   "cell_type": "code",
   "execution_count": 13,
   "metadata": {},
   "outputs": [
    {
     "name": "stdout",
     "output_type": "stream",
     "text": [
      "Weird\n"
     ]
    }
   ],
   "source": [
    "n = 4\n",
    "ev = n%2 != 0\n",
    "not_ev = n%2 == 0\n",
    "\n",
    "if ev and (n>2 or n<5):\n",
    "    print(\"Not Weird\")\n",
    "if ev and (n>6 or n<20):\n",
    "    print(\"Weird\")\n",
    "if ev and n>20:\n",
    "    print(\"Not Weird\")\n",
    "if not_ev:\n",
    "    print(\"Weird\")"
   ]
  },
  {
   "cell_type": "code",
   "execution_count": 34,
   "metadata": {},
   "outputs": [
    {
     "name": "stdout",
     "output_type": "stream",
     "text": [
      "Weird\n"
     ]
    }
   ],
   "source": [
    "n = 20\n",
    "odd= n%2 != 0\n",
    "ev= n%2 == 0\n",
    "\n",
    "if odd:\n",
    "    print(\"Weird\")\n",
    "\n",
    "if ev and (n>=2 and n<=5):\n",
    "    print(\"kNot Weird\")\n",
    "if ev and (n>=6 and n<=20):\n",
    "    print(\"Weird\")\n",
    "if ev and n>20:\n",
    "    print(\"Not Weird\")"
   ]
  },
  {
   "cell_type": "code",
   "execution_count": 35,
   "metadata": {},
   "outputs": [
    {
     "name": "stdout",
     "output_type": "stream",
     "text": [
      "0\n",
      "1\n",
      "4\n",
      "9\n",
      "16\n"
     ]
    }
   ],
   "source": [
    "n = 5\n",
    "for i in range(5):\n",
    "    print(i**2)"
   ]
  },
  {
   "cell_type": "code",
   "execution_count": 49,
   "metadata": {},
   "outputs": [
    {
     "data": {
      "text/plain": [
       "False"
      ]
     },
     "execution_count": 49,
     "metadata": {},
     "output_type": "execute_result"
    }
   ],
   "source": [
    "def check_leap(year):\n",
    "    if (((year % 4 == 0) and (year % 100 != 0)) or (year % 400 == 0)):\n",
    "        return True\n",
    "    return False\n",
    "\n",
    "check_leap(3455)"
   ]
  },
  {
   "cell_type": "code",
   "execution_count": 52,
   "metadata": {},
   "outputs": [
    {
     "name": "stdout",
     "output_type": "stream",
     "text": [
      "123"
     ]
    }
   ],
   "source": [
    "n = 3\n",
    "for i in range(1, n+1):\n",
    "    print(i, end=\"\")"
   ]
  },
  {
   "cell_type": "code",
   "execution_count": null,
   "metadata": {},
   "outputs": [],
   "source": []
  },
  {
   "cell_type": "code",
   "execution_count": null,
   "metadata": {},
   "outputs": [],
   "source": []
  }
 ],
 "metadata": {
  "kernelspec": {
   "display_name": "Python 3",
   "language": "python",
   "name": "python3"
  },
  "language_info": {
   "codemirror_mode": {
    "name": "ipython",
    "version": 3
   },
   "file_extension": ".py",
   "mimetype": "text/x-python",
   "name": "python",
   "nbconvert_exporter": "python",
   "pygments_lexer": "ipython3",
   "version": "3.7.4"
  }
 },
 "nbformat": 4,
 "nbformat_minor": 2
}
