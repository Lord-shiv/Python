{
 "cells": [
  {
   "cell_type": "code",
   "execution_count": 1,
   "metadata": {},
   "outputs": [
    {
     "data": {
      "text/plain": [
       "29"
      ]
     },
     "execution_count": 1,
     "metadata": {},
     "output_type": "execute_result"
    }
   ],
   "source": [
    "class Mpytho:\n",
    "    \n",
    "    def tow_sum(self, nums, target):\n",
    "        \"\"\"\n",
    "        this func will return indexes of \n",
    "        numbers which are equal two the target\n",
    "        \n",
    "        \"\"\"\n",
    "        numbers_found = {}\n",
    "        for i in range(len(nums)):\n",
    "            num = nums[i] \n",
    "            get_target = target - num\n",
    "            \n",
    "            if num in numbers_found:\n",
    "                return [numbers_found[num], i]\n",
    "            else:\n",
    "                numbers_found[get_target] = i\n",
    "    \n",
    "    month_days = [0, 31, 28, 31, 30, 31, 30, 31, 30, 31, 30, 31]\n",
    "    def is_leap(self, year):\n",
    "        \"\"\"\n",
    "        this func will return num of days \n",
    "        in month with year you specified\n",
    "        \n",
    "        \"\"\"\n",
    "        return year % 4 == 0 and (year % 100 != 0 or year % 400 == 0)\n",
    "\n",
    "    def days_in_month(self, year, month):\n",
    "        if not 1 <= month <= 12:\n",
    "            return \"invalid month\"\n",
    "\n",
    "        if month == 2 and self.is_leap(year):\n",
    "            return 29\n",
    "        return month_days[month]\n",
    "    \n",
    "                \n",
    "# obj_tow_sum = Mpytho()\n",
    "# obj_tow_sum.tow_sum([2,3,4,5], 8)\n",
    "\n",
    "obj_year = Mpytho()\n",
    "obj_year.days_in_month(2020, 2)"
   ]
  },
  {
   "cell_type": "code",
   "execution_count": 6,
   "metadata": {},
   "outputs": [
    {
     "name": "stdout",
     "output_type": "stream",
     "text": [
      "120000\n"
     ]
    }
   ],
   "source": [
    "class Employee:\n",
    "    raise_amount = 1.4\n",
    "    def __init__(self, first, last, pay):\n",
    "        self.first = first\n",
    "        self.last = last\n",
    "        self.pay = pay\n",
    "        self.email = first + '.' + last + \"@compny.com\"\n",
    "        \n",
    "    def fullname(self):\n",
    "        return \"{} {}\".format(self.first, self.last)\n",
    "        \n",
    "        \n",
    "    def apply_raise(self):\n",
    "        self.pay = int(self.pay * self.raise_amount)\n",
    "#     def apply_raise(self):\n",
    "#         self.pay = int(self.pay * Employee.raise_amount)  \n",
    "        \n",
    "#      when we are sure that we don't want to change the vlue in future \n",
    "#      so with self.raise_amout we can change raise later with self.rasie_amout = 2.4 and it will change the amout for that obj\n",
    "    \n",
    "        \n",
    "        \n",
    "        \n",
    "# Employee.fullname(emp1)\n",
    "emp1 = Employee(\"shivam\", \"chouhan\", 50000)\n",
    "emp2 = Employee(\"abhi\", \"chouhan\", 60000)\n",
    "# print(emp1.raise_amount)\n",
    "Employee.__dict__\n",
    "emp2.raise_amount = 2\n",
    "emp2.apply_raise()\n",
    "print(emp2.pay)"
   ]
  },
  {
   "cell_type": "code",
   "execution_count": 7,
   "metadata": {},
   "outputs": [
    {
     "name": "stdout",
     "output_type": "stream",
     "text": [
      "0\n",
      "2\n"
     ]
    }
   ],
   "source": [
    "class Employee:\n",
    "    raise_amount = 0.4\n",
    "    num_of_emps = 0\n",
    "    def __init__(self, first, last, pay):\n",
    "        self.first = first\n",
    "        self.last = last\n",
    "        self.pay = pay\n",
    "        self.email = first + '.' + last + \"@compny.com\"\n",
    "        Employee.num_of_emps += 1\n",
    "        \n",
    "    def fullname(self):\n",
    "        return \"{} {}\".format(self.first, self.last)\n",
    "        \n",
    "        \n",
    "    def apply_raise(self):\n",
    "        self.pay = int(self.pay * self.raise_amount)\n",
    "        \n",
    "        \n",
    "\n",
    "print(Employee.num_of_emps)     \n",
    "# Employee.fullname(emp1)\n",
    "emp1 = Employee(\"shivam\", \"chouhan\", 50000)\n",
    "emp2 = Employee(\"abhi\", \"chouhan\", 60000)\n",
    "\n",
    "print(Employee.num_of_emps)"
   ]
  },
  {
   "cell_type": "code",
   "execution_count": 45,
   "metadata": {},
   "outputs": [
    {
     "name": "stdout",
     "output_type": "stream",
     "text": [
      "1.05\n",
      "1.05\n"
     ]
    },
    {
     "ename": "NameError",
     "evalue": "name 'raise_amt' is not defined",
     "output_type": "error",
     "traceback": [
      "\u001b[1;31m---------------------------------------------------------------------------\u001b[0m",
      "\u001b[1;31mNameError\u001b[0m                                 Traceback (most recent call last)",
      "\u001b[1;32m<ipython-input-45-61327f49b4dd>\u001b[0m in \u001b[0;36m<module>\u001b[1;34m\u001b[0m\n\u001b[0;32m     34\u001b[0m \u001b[0mprint\u001b[0m\u001b[1;33m(\u001b[0m\u001b[0mEmployee\u001b[0m\u001b[1;33m.\u001b[0m\u001b[0mraise_amt\u001b[0m\u001b[1;33m)\u001b[0m\u001b[1;33m\u001b[0m\u001b[1;33m\u001b[0m\u001b[0m\n\u001b[0;32m     35\u001b[0m \u001b[0mprint\u001b[0m\u001b[1;33m(\u001b[0m\u001b[0memp2\u001b[0m\u001b[1;33m.\u001b[0m\u001b[0mraise_amt\u001b[0m\u001b[1;33m)\u001b[0m\u001b[1;33m\u001b[0m\u001b[1;33m\u001b[0m\u001b[0m\n\u001b[1;32m---> 36\u001b[1;33m \u001b[0mprint\u001b[0m\u001b[1;33m(\u001b[0m\u001b[0memp2\u001b[0m\u001b[1;33m.\u001b[0m\u001b[0mapply_raise\u001b[0m\u001b[1;33m(\u001b[0m\u001b[0mraise_amt\u001b[0m\u001b[1;33m)\u001b[0m\u001b[1;33m)\u001b[0m\u001b[1;33m\u001b[0m\u001b[1;33m\u001b[0m\u001b[0m\n\u001b[0m\u001b[0;32m     37\u001b[0m \u001b[1;33m\u001b[0m\u001b[0m\n\u001b[0;32m     38\u001b[0m \u001b[1;31m# emp3 = \"Rick-Doe-90000\"\u001b[0m\u001b[1;33m\u001b[0m\u001b[1;33m\u001b[0m\u001b[1;33m\u001b[0m\u001b[0m\n",
      "\u001b[1;31mNameError\u001b[0m: name 'raise_amt' is not defined"
     ]
    }
   ],
   "source": [
    "class Employee:\n",
    "    raise_amt = 1.04\n",
    "    num_of_emps = 0\n",
    "    def __init__(self, first, last, pay):\n",
    "        self.first = first\n",
    "        self.last = last\n",
    "        self.pay = pay\n",
    "        self.email = first + '.' + last + \"@compny.com\"\n",
    "        Employee.num_of_emps += 1\n",
    "    \n",
    "    def __repr__(self):\n",
    "        return f\"{self.first} {self.last} {self.pay} from repr\"\n",
    "        \n",
    "    def fullname(self):\n",
    "        return \"{} {}\".format(self.first, self.last)\n",
    "        \n",
    "    def apply_raise(self):\n",
    "        self.pay = int(self.pay * self.raise_amount)\n",
    "    \n",
    "    @classmethod\n",
    "    def set_raise_amt(cls, amount):\n",
    "        cls.raise_amt = amount\n",
    "        \n",
    "    @classmethod\n",
    "    def from_string(cls, emp_str):\n",
    "        first, last, pay = emp_str.split('-')\n",
    "        return cls(first, last, pay)  \n",
    "     \n",
    "\n",
    "emp1 = Employee(\"shivam\", \"chouhan\", 50000)\n",
    "emp2 = Employee(\"abhi\", \"chouhan\", 60000)\n",
    "\n",
    "Employee.set_raise_amt(1.05)\n",
    "print(Employee.raise_amt)\n",
    "print(emp2.raise_amt)\n",
    "print(emp2.apply_raise(raise_amt))\n",
    "\n",
    "# emp3 = \"Rick-Doe-90000\"\n",
    "# emp4 = \"Nick-will-45000\"\n",
    "\n",
    "# emp3 = Employee.from_string(emp3)\n",
    "# print(emp3)\n"
   ]
  },
  {
   "cell_type": "code",
   "execution_count": null,
   "metadata": {},
   "outputs": [],
   "source": [
    "class Employee:\n",
    "    raise_amt = 1.04\n",
    "    num_of_emps = 0\n",
    "    def __init__(self, first, last, pay):\n",
    "        self.first = first\n",
    "        self.last = last\n",
    "        self.pay = pay\n",
    "        self.email = first + '.' + last + \"@compny.com\"\n",
    "        Employee.num_of_emps += 1\n",
    "    \n",
    "    def __repr__(self):\n",
    "        return f\"{self.first} {self.last} from repr\"\n",
    "        \n",
    "    def fullname(self):\n",
    "        return \"{} {}\".format(self.first, self.last)\n",
    "        \n",
    "    def apply_raise(self):\n",
    "        self.pay = int(self.pay * self.raise_amount)\n",
    "    \n",
    "    @classmethod\n",
    "    def set_raise_amt(cls, amount):\n",
    "        cls.raise_amt = amount\n",
    "        \n",
    "    @classmethod\n",
    "    def from_string(cls, emp_str):\n",
    "        first, last, pay = emp_str.split('-')\n",
    "        return cls(first, last, pay)  \n",
    "     \n",
    "    @staticmethod\n",
    "    def is_workday(day):\n",
    "        if day.weekday() == 5 or day.weekday() == 6:\n",
    "            return False\n",
    "        return True\n",
    "\n",
    "emp1 = Employee(\"shivam\", \"chouhan\", 50000)\n",
    "emp2 = Employee(\"abhi\", \"chouhan\", 60000)\n",
    "\n",
    "import datetime\n",
    "my_date = datetime.date(2016, 2, 13)\n",
    "\n",
    "\n",
    "print(Employee.is_workday(my_date))"
   ]
  }
 ],
 "metadata": {
  "kernelspec": {
   "display_name": "Python 3",
   "language": "python",
   "name": "python3"
  },
  "language_info": {
   "codemirror_mode": {
    "name": "ipython",
    "version": 3
   },
   "file_extension": ".py",
   "mimetype": "text/x-python",
   "name": "python",
   "nbconvert_exporter": "python",
   "pygments_lexer": "ipython3",
   "version": "3.7.4"
  }
 },
 "nbformat": 4,
 "nbformat_minor": 2
}
