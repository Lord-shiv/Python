{
 "cells": [
  {
   "cell_type": "code",
   "execution_count": 1,
   "metadata": {},
   "outputs": [
    {
     "data": {
      "text/plain": [
       "29"
      ]
     },
     "execution_count": 1,
     "metadata": {},
     "output_type": "execute_result"
    }
   ],
   "source": [
    "class Mpytho:\n",
    "    \n",
    "    def tow_sum(self, nums, target):\n",
    "        \"\"\"\n",
    "        this func will return indexes of \n",
    "        numbers which are equal two the target\n",
    "        \n",
    "        \"\"\"\n",
    "        numbers_found = {}\n",
    "        for i in range(len(nums)):\n",
    "            num = nums[i] \n",
    "            get_target = target - num\n",
    "            \n",
    "            if num in numbers_found:\n",
    "                return [numbers_found[num], i]\n",
    "            else:\n",
    "                numbers_found[get_target] = i\n",
    "    \n",
    "    month_days = [0, 31, 28, 31, 30, 31, 30, 31, 30, 31, 30, 31]\n",
    "    def is_leap(self, year):\n",
    "        \"\"\"\n",
    "        this func will return num of days \n",
    "        in month with year you specified\n",
    "        \n",
    "        \"\"\"\n",
    "        return year % 4 == 0 and (year % 100 != 0 or year % 400 == 0)\n",
    "\n",
    "    def days_in_month(self, year, month):\n",
    "        if not 1 <= month <= 12:\n",
    "            return \"invalid month\"\n",
    "\n",
    "        if month == 2 and self.is_leap(year):\n",
    "            return 29\n",
    "        return month_days[month]\n",
    "    \n",
    "                \n",
    "# obj_tow_sum = Mpytho()\n",
    "# obj_tow_sum.tow_sum([2,3,4,5], 8)\n",
    "\n",
    "obj_year = Mpytho()\n",
    "obj_year.days_in_month(2020, 2)"
   ]
  },
  {
   "cell_type": "code",
   "execution_count": 6,
   "metadata": {},
   "outputs": [
    {
     "name": "stdout",
     "output_type": "stream",
     "text": [
      "120000\n"
     ]
    }
   ],
   "source": [
    "class Employee:\n",
    "    raise_amount = 1.4\n",
    "    def __init__(self, first, last, pay):\n",
    "        self.first = first\n",
    "        self.last = last\n",
    "        self.pay = pay\n",
    "        self.email = first + '.' + last + \"@compny.com\"\n",
    "        \n",
    "    def fullname(self):\n",
    "        return \"{} {}\".format(self.first, self.last)\n",
    "        \n",
    "        \n",
    "    def apply_raise(self):\n",
    "        self.pay = int(self.pay * self.raise_amount)\n",
    "#     def apply_raise(self):\n",
    "#         self.pay = int(self.pay * Employee.raise_amount)  \n",
    "        \n",
    "#      when we are sure that we don't want to change the vlue in future \n",
    "#      so with self.raise_amout we can change raise later with self.rasie_amout = 2.4 and it will change the amout for that obj\n",
    "    \n",
    "        \n",
    "        \n",
    "        \n",
    "# Employee.fullname(emp1)\n",
    "emp1 = Employee(\"shivam\", \"chouhan\", 50000)\n",
    "emp2 = Employee(\"abhi\", \"chouhan\", 60000)\n",
    "# print(emp1.raise_amount)\n",
    "Employee.__dict__\n",
    "emp2.raise_amount = 2\n",
    "emp2.apply_raise()\n",
    "print(emp2.pay)"
   ]
  },
  {
   "cell_type": "code",
   "execution_count": 7,
   "metadata": {},
   "outputs": [
    {
     "name": "stdout",
     "output_type": "stream",
     "text": [
      "0\n",
      "2\n"
     ]
    }
   ],
   "source": [
    "class Employee:\n",
    "    raise_amount = 0.4\n",
    "    num_of_emps = 0\n",
    "    def __init__(self, first, last, pay):\n",
    "        self.first = first\n",
    "        self.last = last\n",
    "        self.pay = pay\n",
    "        self.email = first + '.' + last + \"@compny.com\"\n",
    "        Employee.num_of_emps += 1\n",
    "        \n",
    "    def fullname(self):\n",
    "        return \"{} {}\".format(self.first, self.last)\n",
    "        \n",
    "        \n",
    "    def apply_raise(self):\n",
    "        self.pay = int(self.pay * self.raise_amount)\n",
    "        \n",
    "        \n",
    "\n",
    "print(Employee.num_of_emps)     \n",
    "# Employee.fullname(emp1)\n",
    "emp1 = Employee(\"shivam\", \"chouhan\", 50000)\n",
    "emp2 = Employee(\"abhi\", \"chouhan\", 60000)\n",
    "\n",
    "print(Employee.num_of_emps)"
   ]
  },
  {
   "cell_type": "code",
   "execution_count": 45,
   "metadata": {},
   "outputs": [
    {
     "name": "stdout",
     "output_type": "stream",
     "text": [
      "1.05\n",
      "1.05\n"
     ]
    },
    {
     "ename": "NameError",
     "evalue": "name 'raise_amt' is not defined",
     "output_type": "error",
     "traceback": [
      "\u001b[1;31m---------------------------------------------------------------------------\u001b[0m",
      "\u001b[1;31mNameError\u001b[0m                                 Traceback (most recent call last)",
      "\u001b[1;32m<ipython-input-45-61327f49b4dd>\u001b[0m in \u001b[0;36m<module>\u001b[1;34m\u001b[0m\n\u001b[0;32m     34\u001b[0m \u001b[0mprint\u001b[0m\u001b[1;33m(\u001b[0m\u001b[0mEmployee\u001b[0m\u001b[1;33m.\u001b[0m\u001b[0mraise_amt\u001b[0m\u001b[1;33m)\u001b[0m\u001b[1;33m\u001b[0m\u001b[1;33m\u001b[0m\u001b[0m\n\u001b[0;32m     35\u001b[0m \u001b[0mprint\u001b[0m\u001b[1;33m(\u001b[0m\u001b[0memp2\u001b[0m\u001b[1;33m.\u001b[0m\u001b[0mraise_amt\u001b[0m\u001b[1;33m)\u001b[0m\u001b[1;33m\u001b[0m\u001b[1;33m\u001b[0m\u001b[0m\n\u001b[1;32m---> 36\u001b[1;33m \u001b[0mprint\u001b[0m\u001b[1;33m(\u001b[0m\u001b[0memp2\u001b[0m\u001b[1;33m.\u001b[0m\u001b[0mapply_raise\u001b[0m\u001b[1;33m(\u001b[0m\u001b[0mraise_amt\u001b[0m\u001b[1;33m)\u001b[0m\u001b[1;33m)\u001b[0m\u001b[1;33m\u001b[0m\u001b[1;33m\u001b[0m\u001b[0m\n\u001b[0m\u001b[0;32m     37\u001b[0m \u001b[1;33m\u001b[0m\u001b[0m\n\u001b[0;32m     38\u001b[0m \u001b[1;31m# emp3 = \"Rick-Doe-90000\"\u001b[0m\u001b[1;33m\u001b[0m\u001b[1;33m\u001b[0m\u001b[1;33m\u001b[0m\u001b[0m\n",
      "\u001b[1;31mNameError\u001b[0m: name 'raise_amt' is not defined"
     ]
    }
   ],
   "source": [
    "class Employee:\n",
    "    raise_amt = 1.04\n",
    "    num_of_emps = 0\n",
    "    def __init__(self, first, last, pay):\n",
    "        self.first = first\n",
    "        self.last = last\n",
    "        self.pay = pay\n",
    "        self.email = first + '.' + last + \"@compny.com\"\n",
    "        Employee.num_of_emps += 1\n",
    "    \n",
    "    def __repr__(self):\n",
    "        return f\"{self.first} {self.last} {self.pay} from repr\"\n",
    "        \n",
    "    def fullname(self):\n",
    "        return \"{} {}\".format(self.first, self.last)\n",
    "        \n",
    "    def apply_raise(self):\n",
    "        self.pay = int(self.pay * self.raise_amount)\n",
    "    \n",
    "    @classmethod\n",
    "    def set_raise_amt(cls, amount):\n",
    "        cls.raise_amt = amount\n",
    "        \n",
    "    @classmethod\n",
    "    def from_string(cls, emp_str):\n",
    "        first, last, pay = emp_str.split('-')\n",
    "        return cls(first, last, pay)  \n",
    "     \n",
    "\n",
    "emp1 = Employee(\"shivam\", \"chouhan\", 50000)\n",
    "emp2 = Employee(\"abhi\", \"chouhan\", 60000)\n",
    "\n",
    "Employee.set_raise_amt(1.05)\n",
    "print(Employee.raise_amt)\n",
    "print(emp2.raise_amt)\n",
    "print(emp2.apply_raise(raise_amt))\n",
    "\n",
    "# emp3 = \"Rick-Doe-90000\"\n",
    "# emp4 = \"Nick-will-45000\"\n",
    "\n",
    "# emp3 = Employee.from_string(emp3)\n",
    "# print(emp3)\n"
   ]
  },
  {
   "cell_type": "code",
   "execution_count": 1,
   "metadata": {},
   "outputs": [
    {
     "name": "stdout",
     "output_type": "stream",
     "text": [
      "False\n"
     ]
    }
   ],
   "source": [
    "class Employee:\n",
    "    raise_amt = 1.04\n",
    "    num_of_emps = 0\n",
    "    def __init__(self, first, last, pay):\n",
    "        self.first = first\n",
    "        self.last = last\n",
    "        self.pay = pay\n",
    "        self.email = first + '.' + last + \"@compny.com\"\n",
    "        Employee.num_of_emps += 1\n",
    "    \n",
    "    def __repr__(self):\n",
    "        return f\"{self.first} {self.last} from repr\"\n",
    "        \n",
    "    def fullname(self):\n",
    "        return \"{} {}\".format(self.first, self.last)\n",
    "        \n",
    "    def apply_raise(self):\n",
    "        self.pay = int(self.pay * self.raise_amount)\n",
    "    \n",
    "    @classmethod\n",
    "    def set_raise_amt(cls, amount):\n",
    "        cls.raise_amt = amount\n",
    "        \n",
    "    @classmethod\n",
    "    def from_string(cls, emp_str):\n",
    "        first, last, pay = emp_str.split('-')\n",
    "        return cls(first, last, pay)  \n",
    "     \n",
    "    @staticmethod\n",
    "    def is_workday(day):\n",
    "        if day.weekday() == 5 or day.weekday() == 6:\n",
    "            return False\n",
    "        return True\n",
    "\n",
    "emp1 = Employee(\"shivam\", \"chouhan\", 50000)\n",
    "emp2 = Employee(\"abhi\", \"chouhan\", 60000)\n",
    "\n",
    "import datetime\n",
    "my_date = datetime.date(2016, 2, 13)\n",
    "\n",
    "\n",
    "print(Employee.is_workday(my_date))"
   ]
  },
  {
   "cell_type": "code",
   "execution_count": 24,
   "metadata": {},
   "outputs": [
    {
     "name": "stdout",
     "output_type": "stream",
     "text": [
      "not prime\n"
     ]
    }
   ],
   "source": [
    "# mehtod is fine but will take more than 120000 ms \n",
    "num = 9873492\n",
    "if num>1:\n",
    "    for i in range(2, num):\n",
    "        if (num%i) == 0:\n",
    "            print('not prime')\n",
    "            break\n",
    "    else:\n",
    "        print(\"is prime\")\n",
    "else:\n",
    "    print(\"not prime\")"
   ]
  },
  {
   "cell_type": "code",
   "execution_count": 21,
   "metadata": {},
   "outputs": [],
   "source": []
  },
  {
   "cell_type": "code",
   "execution_count": 32,
   "metadata": {},
   "outputs": [
    {
     "data": {
      "text/plain": [
       "True"
      ]
     },
     "execution_count": 32,
     "metadata": {},
     "output_type": "execute_result"
    }
   ],
   "source": [
    "from math import sqrt\n",
    "def is_prime(number):\n",
    "    if number < 2:\n",
    "        return False\n",
    "    for n in range(2, int(sqrt(number)) + 1):\n",
    "        if number % n == 0:\n",
    "            return False\n",
    "    return True\n",
    "\n",
    "is_prime(2)"
   ]
  },
  {
   "cell_type": "code",
   "execution_count": 41,
   "metadata": {},
   "outputs": [
    {
     "data": {
      "text/plain": [
       "True"
      ]
     },
     "execution_count": 41,
     "metadata": {},
     "output_type": "execute_result"
    }
   ],
   "source": [
    "def is_prime(number):\n",
    "    if number < 2:\n",
    "        return False\n",
    "    for n in range(2, int(number**0.5) + 1):\n",
    "        if number % n == 0:\n",
    "            return False\n",
    "    return True\n",
    "\n",
    "is_prime(2)"
   ]
  },
  {
   "cell_type": "code",
   "execution_count": 42,
   "metadata": {},
   "outputs": [],
   "source": [
    "# little faster\n",
    "def is_prime(n):\n",
    "    if  (n < 2) or (n > 2 and n%2 == 0):\n",
    "        return False\n",
    "    for i in range(3, int(n**.5)+1, 2):\n",
    "        if n%i == 0:\n",
    "            return False\n",
    "    else:\n",
    "        return True"
   ]
  },
  {
   "cell_type": "code",
   "execution_count": 82,
   "metadata": {},
   "outputs": [
    {
     "data": {
      "text/plain": [
       "(2, [2, 3])"
      ]
     },
     "execution_count": 82,
     "metadata": {},
     "output_type": "execute_result"
    }
   ],
   "source": [
    "# series of prime numbers untill a perticular number\n",
    "class countcla:\n",
    "    def count_prime(self, n):\n",
    "        if n<2:\n",
    "            return 0\n",
    "        def prim_check(num):\n",
    "            for i in range(2, num):\n",
    "                if num%i == 0:\n",
    "                    return False\n",
    "            return True\n",
    "        count = 0\n",
    "        j = []\n",
    "        for i in range(2, n):\n",
    "            if prim_check(i):\n",
    "                count += 1\n",
    "                j.append(i)\n",
    "        return count,j\n",
    "            \n",
    "        \n",
    "obj = countcla()\n",
    "obj.count_prime(5)"
   ]
  },
  {
   "cell_type": "code",
   "execution_count": 93,
   "metadata": {},
   "outputs": [
    {
     "data": {
      "text/plain": [
       "4"
      ]
     },
     "execution_count": 93,
     "metadata": {},
     "output_type": "execute_result"
    }
   ],
   "source": [
    "class countcla2:\n",
    "    \"\"\"n = 10\n",
    "        0,1,2,3,4,5,6,7,8,9,10\n",
    "    a =[F,F,T,T,F,T,F,T,F,F,F]  = 4 prime numebrs\"\"\"\n",
    "    def count_primes(self, n: int) -> int:\n",
    "    # Sieve of Eratosthenes\n",
    "        if n < 2: return 0\n",
    "        a = [True] * n\n",
    "        a[0], a[1] = False, False\n",
    "        for i in range(2, int(sqrt(n)) + 1):\n",
    "            for j in range(i*i, n, i):\n",
    "                a[j] = False\n",
    "        count = 0\n",
    "        for i in range(2, n):\n",
    "            if a[i]:\n",
    "                count += 1\n",
    "        return count\n",
    "\n",
    "hello = countcla2()\n",
    "hello.count_primes(8)\n",
    "    "
   ]
  },
  {
   "cell_type": "code",
   "execution_count": 94,
   "metadata": {},
   "outputs": [],
   "source": [
    "class Solution:\n",
    "    def countPrimes(self, n: int) -> int:\n",
    "        if n < 2:\n",
    "            return 0\n",
    "        \n",
    "        primeNumber = [1]*n\n",
    "        for i in range(2, int(n**0.5)+1):\n",
    "            if primeNumber[i]:\n",
    "                primeNumber[i*i:n:i] = [0]*len(primeNumber[i*i:n:i])\n",
    "        return sum(primeNumber) - 2"
   ]
  },
  {
   "cell_type": "code",
   "execution_count": 95,
   "metadata": {},
   "outputs": [],
   "source": [
    "class Solution:\n",
    "    def countPrimes(self, n: int) -> int:\n",
    "        '''\n",
    "        Sieve of Eratosthenes: https://en.wikipedia.org/wiki/Sieve_of_Eratosthenes\n",
    "        '''\n",
    "        if n < 2:\n",
    "            return 0\n",
    "\n",
    "        is_prime = [1] * n        # 0...n-1\n",
    "        is_prime[0] = 0\n",
    "        is_prime[1] = 0\n",
    "        for i in range(2, int(sqrt(n))+1):\n",
    "            if is_prime[i] == 1:   \n",
    "                j = i\n",
    "                while i * j < n:\n",
    "                    is_prime[i*j] = 0\n",
    "                    j += 1\n",
    "        return sum(is_prime)\n",
    "    \n"
   ]
  },
  {
   "cell_type": "code",
   "execution_count": null,
   "metadata": {},
   "outputs": [],
   "source": []
  }
 ],
 "metadata": {
  "kernelspec": {
   "display_name": "Python 3",
   "language": "python",
   "name": "python3"
  },
  "language_info": {
   "codemirror_mode": {
    "name": "ipython",
    "version": 3
   },
   "file_extension": ".py",
   "mimetype": "text/x-python",
   "name": "python",
   "nbconvert_exporter": "python",
   "pygments_lexer": "ipython3",
   "version": "3.7.4"
  }
 },
 "nbformat": 4,
 "nbformat_minor": 2
}
