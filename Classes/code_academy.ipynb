{
 "cells": [
  {
   "cell_type": "markdown",
   "metadata": {},
   "source": [
    "# class"
   ]
  },
  {
   "cell_type": "code",
   "execution_count": 5,
   "metadata": {},
   "outputs": [
    {
     "name": "stdout",
     "output_type": "stream",
     "text": [
      "rick\n",
      "<__main__.Test object at 0x0000020CD11D3DC8>\n"
     ]
    }
   ],
   "source": [
    "class Test:\n",
    "    \n",
    "    a = \"rick\"\n",
    "    b = None\n",
    "\n",
    "#     a and b are only variables defined for the class itself - accessible via Test.a and Test.b and not specific to any instance\n",
    "\n",
    "    def __init__(self):\n",
    "        print(self.a)\n",
    "        self.a = a #will now reference the instance variable\n",
    "        print(a)\n",
    "        self._x = 123\n",
    "        self.__y = 123\n",
    "        b = 'meow' # It is not available from anywhere but the __init__ function as it's not saved in the instance, class or global scope.\n",
    "        \n",
    "b = Test()  # b is the instance of the class Test"
   ]
  },
  {
   "cell_type": "code",
   "execution_count": null,
   "metadata": {},
   "outputs": [],
   "source": [
    "# Define your exception up here:\n",
    "class OutOfStock(Exception):\n",
    "  pass\n",
    "\n",
    "# Update the class below to raise OutOfStock\n",
    "class CandleShop:\n",
    "  name = \"Here's a Hot Tip: Buy Drip Candles\"\n",
    "  def __init__(self, stock):\n",
    "    self.stock = stock\n",
    "    \n",
    "  def buy(self, color):\n",
    "    if self.stock[color] < 1:\n",
    "      raise OutOfStock\n",
    "    self.stock[color] = self.stock[color] - 1\n",
    "\n",
    "candle_shop = CandleShop({'blue': 6, 'red': 2, 'green': 0})\n",
    "candle_shop.buy('blue')\n",
    "\n",
    "\n",
    "# This should raise OutOfStock:\n",
    "# candle_shop.buy('green')"
   ]
  },
  {
   "cell_type": "markdown",
   "metadata": {},
   "source": [
    "# Overriding Methods"
   ]
  },
  {
   "cell_type": "code",
   "execution_count": null,
   "metadata": {},
   "outputs": [],
   "source": [
    "class Message:\n",
    "  def __init__(self, sender, recipient, text):\n",
    "    self.sender = sender\n",
    "    self.recipient = recipient\n",
    "    self.text = text\n",
    "\n",
    "class User:\n",
    "  def __init__(self, username):\n",
    "    self.username = username\n",
    "    \n",
    "  def edit_message(self, message, new_text):\n",
    "    if message.sender == self.username:\n",
    "      message.text = new_text\n",
    "\n",
    "class Admin(User):\n",
    "  def edit_message(self, message, new_text):\n",
    "      message.text = new_text"
   ]
  },
  {
   "cell_type": "markdown",
   "metadata": {},
   "source": [
    "\n",
    "# super()\n"
   ]
  },
  {
   "cell_type": "code",
   "execution_count": null,
   "metadata": {},
   "outputs": [],
   "source": [
    "Overriding methods is really useful in some cases but \n",
    "sometimes we want to add some extra\n",
    "logic to the existing method."
   ]
  },
  {
   "cell_type": "code",
   "execution_count": null,
   "metadata": {},
   "outputs": [],
   "source": [
    "class PotatoSalad:\n",
    "  def __init__(self, potatoes, celery, onions):\n",
    "    self.potatoes = potatoes\n",
    "    self.celery = celery\n",
    "    self.onions = onions\n",
    "\n",
    "class SpecialPotatoSalad(PotatoSalad):\n",
    "  def __init__(self, potatoes, celery, onions):\n",
    "    super().__init__(potatoes, celery, onions)\n",
    "    self.raisins = 40"
   ]
  },
  {
   "cell_type": "markdown",
   "metadata": {},
   "source": [
    "# public protected private"
   ]
  },
  {
   "cell_type": "code",
   "execution_count": 20,
   "metadata": {},
   "outputs": [
    {
     "name": "stdout",
     "output_type": "stream",
     "text": [
      "<__main__.Test object at 0x00000181C59F33C8>\n",
      "230303\n",
      "90\n"
     ]
    }
   ],
   "source": [
    "class Test():\n",
    "    def __init__(self, num):\n",
    "        self.num = num\n",
    "        self.__num2 = 230303\n",
    "    \n",
    "    def get(self):          # to get protected var\n",
    "        return self.__num2\n",
    "    \n",
    "    def set(self, num):     # to set new val to protected var\n",
    "        self.__num2 = num\n",
    "        return self.__num2\n",
    "        \n",
    "if __name__ == \"__main__\":\n",
    "    obj = Test(5)\n",
    "    print(obj)\n",
    "    print(obj.get())\n",
    "    print(obj.set(90))"
   ]
  },
  {
   "cell_type": "markdown",
   "metadata": {},
   "source": [
    "# public "
   ]
  },
  {
   "cell_type": "markdown",
   "metadata": {},
   "source": [
    "(accessible from any part of program)"
   ]
  },
  {
   "cell_type": "code",
   "execution_count": 29,
   "metadata": {},
   "outputs": [
    {
     "name": "stdout",
     "output_type": "stream",
     "text": [
      "<__main__.Hero object at 0x00000181C5805C88>\n",
      "Shiv\n",
      "21\n",
      "Hero name is Shiv and he is 21 years old. we have infomation that he is working on a movie called AI-2021\n"
     ]
    }
   ],
   "source": [
    "class Hero:\n",
    "    def __init__(self, name, age):\n",
    "        \n",
    "        #public data mambers\n",
    "        self.heroName = name\n",
    "        self.heroAge = age\n",
    "        \n",
    "    def moreAbout(self):\n",
    "        return (f\"Hero name is {self.heroName} and he is {self.heroAge} years old. we have infomation that he is working on a movie called AI-2021\")\n",
    "        \n",
    "\n",
    "inst = Hero(\"Shiv\", 21)\n",
    "print(inst)\n",
    "print(inst.heroName)\n",
    "print(inst.heroAge)\n",
    "print(inst.moreAbout())"
   ]
  },
  {
   "cell_type": "markdown",
   "metadata": {},
   "source": [
    "# Protected"
   ]
  },
  {
   "cell_type": "markdown",
   "metadata": {},
   "source": [
    "Protected members of a class are accessible from within the class and are also available to its sub-classes. No other environment is permitted access to it"
   ]
  },
  {
   "cell_type": "code",
   "execution_count": 62,
   "metadata": {},
   "outputs": [
    {
     "ename": "TypeError",
     "evalue": "descriptor 'setter' requires a 'property' object but received a 'function'",
     "output_type": "error",
     "traceback": [
      "\u001b[1;31m---------------------------------------------------------------------------\u001b[0m",
      "\u001b[1;31mTypeError\u001b[0m                                 Traceback (most recent call last)",
      "\u001b[1;32m<ipython-input-62-eda71546c74c>\u001b[0m in \u001b[0;36m<module>\u001b[1;34m\u001b[0m\n\u001b[1;32m----> 1\u001b[1;33m \u001b[1;32mclass\u001b[0m \u001b[0mStudent\u001b[0m\u001b[1;33m:\u001b[0m\u001b[1;33m\u001b[0m\u001b[1;33m\u001b[0m\u001b[0m\n\u001b[0m\u001b[0;32m      2\u001b[0m     \u001b[1;31m#protected data members\u001b[0m\u001b[1;33m\u001b[0m\u001b[1;33m\u001b[0m\u001b[1;33m\u001b[0m\u001b[0m\n\u001b[0;32m      3\u001b[0m     \u001b[0m_name\u001b[0m \u001b[1;33m=\u001b[0m \u001b[1;32mNone\u001b[0m\u001b[1;33m\u001b[0m\u001b[1;33m\u001b[0m\u001b[0m\n\u001b[0;32m      4\u001b[0m     \u001b[0m_roll\u001b[0m \u001b[1;33m=\u001b[0m \u001b[1;32mNone\u001b[0m\u001b[1;33m\u001b[0m\u001b[1;33m\u001b[0m\u001b[0m\n\u001b[0;32m      5\u001b[0m     \u001b[0m_year\u001b[0m \u001b[1;33m=\u001b[0m \u001b[1;32mNone\u001b[0m\u001b[1;33m\u001b[0m\u001b[1;33m\u001b[0m\u001b[0m\n",
      "\u001b[1;32m<ipython-input-62-eda71546c74c>\u001b[0m in \u001b[0;36mStudent\u001b[1;34m()\u001b[0m\n\u001b[0;32m     16\u001b[0m         \u001b[0mprint\u001b[0m\u001b[1;33m(\u001b[0m\u001b[1;34m\"Year: \"\u001b[0m\u001b[1;33m,\u001b[0m \u001b[0mself\u001b[0m\u001b[1;33m.\u001b[0m\u001b[0m_year\u001b[0m\u001b[1;33m)\u001b[0m\u001b[1;33m\u001b[0m\u001b[1;33m\u001b[0m\u001b[0m\n\u001b[0;32m     17\u001b[0m \u001b[1;33m\u001b[0m\u001b[0m\n\u001b[1;32m---> 18\u001b[1;33m     \u001b[1;33m@\u001b[0m\u001b[0mproperty\u001b[0m\u001b[1;33m.\u001b[0m\u001b[0msetter\u001b[0m   \u001b[1;31m#this deco making it protected so only available for this class not even for inherited\u001b[0m\u001b[1;33m\u001b[0m\u001b[1;33m\u001b[0m\u001b[0m\n\u001b[0m\u001b[0;32m     19\u001b[0m     \u001b[1;32mdef\u001b[0m \u001b[0mchange_roll\u001b[0m\u001b[1;33m(\u001b[0m\u001b[0mself\u001b[0m\u001b[1;33m,\u001b[0m \u001b[0mnewRoll\u001b[0m\u001b[1;33m)\u001b[0m\u001b[1;33m:\u001b[0m\u001b[1;33m\u001b[0m\u001b[1;33m\u001b[0m\u001b[0m\n\u001b[0;32m     20\u001b[0m         \u001b[0mself\u001b[0m\u001b[1;33m.\u001b[0m\u001b[0m_roll\u001b[0m \u001b[1;33m=\u001b[0m \u001b[0mnewRoll\u001b[0m\u001b[1;33m\u001b[0m\u001b[1;33m\u001b[0m\u001b[0m\n",
      "\u001b[1;31mTypeError\u001b[0m: descriptor 'setter' requires a 'property' object but received a 'function'"
     ]
    }
   ],
   "source": [
    "class Student:\n",
    "    #protected data members\n",
    "    _name = None\n",
    "    _roll = None\n",
    "    _year = None\n",
    "    \n",
    "    def __init__(self, name, roll, year):\n",
    "        self._name = name\n",
    "        self._roll = roll\n",
    "        self._year = year\n",
    "        \n",
    "    #protected method\n",
    "    def _displayDetails(self):\n",
    "        print(\"Roll: \", self._roll)\n",
    "        print(\"Name: \", self._name)\n",
    "        print(\"Year: \", self._year)\n",
    "    \n",
    "    @property.setter   #this deco making it protected so only available for this class not even for inherited \n",
    "    def change_roll(self, newRoll):\n",
    "        self._roll = newRoll\n",
    "        \n",
    "\n",
    "class New(Student):\n",
    "    \n",
    "    def __init__(self, name, roll, year):\n",
    "        Student.__init__(self, name, roll, year)\n",
    "        \n",
    "    def displayabout(self):\n",
    "        print(\"Name: \", self._name)\n",
    "        self._displayDetails()\n",
    "        \n",
    "\n",
    "insta = New(\"Rick\", 123432, \"Final year\")\n",
    "\n",
    "\n",
    "# insta.change_roll(999)\n",
    "insta.displayabout()\n",
    "\n",
    "stu_insta = Student(\"Morty\", 8888, \"first\")\n",
    "stu_insta.roll = 4444\n",
    "print(stu_insta._displayDetails())"
   ]
  },
  {
   "cell_type": "markdown",
   "metadata": {},
   "source": [
    "# private\n"
   ]
  },
  {
   "cell_type": "markdown",
   "metadata": {},
   "source": [
    "private members of a class are only accessible within the class"
   ]
  },
  {
   "cell_type": "code",
   "execution_count": 58,
   "metadata": {},
   "outputs": [
    {
     "ename": "AttributeError",
     "evalue": "'StudentK' object has no attribute '__display'",
     "output_type": "error",
     "traceback": [
      "\u001b[1;31m---------------------------------------------------------------------------\u001b[0m",
      "\u001b[1;31mAttributeError\u001b[0m                            Traceback (most recent call last)",
      "\u001b[1;32m<ipython-input-58-95ee37977370>\u001b[0m in \u001b[0;36m<module>\u001b[1;34m\u001b[0m\n\u001b[0;32m     10\u001b[0m \u001b[1;33m\u001b[0m\u001b[0m\n\u001b[0;32m     11\u001b[0m \u001b[0minstanc\u001b[0m \u001b[1;33m=\u001b[0m \u001b[0mStudentK\u001b[0m\u001b[1;33m(\u001b[0m\u001b[1;34m\"jasika\"\u001b[0m\u001b[1;33m,\u001b[0m \u001b[1;36m18\u001b[0m\u001b[1;33m)\u001b[0m\u001b[1;33m\u001b[0m\u001b[1;33m\u001b[0m\u001b[0m\n\u001b[1;32m---> 12\u001b[1;33m \u001b[0minstanc\u001b[0m\u001b[1;33m.\u001b[0m\u001b[0m__display\u001b[0m\u001b[1;33m(\u001b[0m\u001b[1;33m)\u001b[0m\u001b[1;33m\u001b[0m\u001b[1;33m\u001b[0m\u001b[0m\n\u001b[0m",
      "\u001b[1;31mAttributeError\u001b[0m: 'StudentK' object has no attribute '__display'"
     ]
    }
   ],
   "source": [
    "class StudentK:\n",
    "    __schoolName = 'XYZ School' # private class attribute\n",
    "\n",
    "    def __init__(self, name, age):\n",
    "        self.__name=name  # private instance attribute\n",
    "        self.__salary=age # private instance attribute\n",
    "    def __display(self):  # private method\n",
    "\t    print('This is private method.')\n",
    "        \n",
    "        \n",
    "instanc = StudentK(\"jasika\", 18)\n",
    "instanc.__display()"
   ]
  },
  {
   "cell_type": "code",
   "execution_count": 59,
   "metadata": {},
   "outputs": [
    {
     "ename": "AttributeError",
     "evalue": "'Modifiers' object has no attribute '__private_member'",
     "output_type": "error",
     "traceback": [
      "\u001b[1;31m---------------------------------------------------------------------------\u001b[0m",
      "\u001b[1;31mAttributeError\u001b[0m                            Traceback (most recent call last)",
      "\u001b[1;32m<ipython-input-59-c63741296fe3>\u001b[0m in \u001b[0;36m<module>\u001b[1;34m\u001b[0m\n\u001b[0;32m      5\u001b[0m \u001b[1;33m\u001b[0m\u001b[0m\n\u001b[0;32m      6\u001b[0m \u001b[0mm\u001b[0m \u001b[1;33m=\u001b[0m \u001b[0mModifiers\u001b[0m\u001b[1;33m(\u001b[0m\u001b[1;34m\"SKAUL05\"\u001b[0m\u001b[1;33m)\u001b[0m\u001b[1;33m\u001b[0m\u001b[1;33m\u001b[0m\u001b[0m\n\u001b[1;32m----> 7\u001b[1;33m \u001b[0mprint\u001b[0m\u001b[1;33m(\u001b[0m\u001b[0mm\u001b[0m\u001b[1;33m.\u001b[0m\u001b[0m__private_member\u001b[0m\u001b[1;33m)\u001b[0m\u001b[1;33m\u001b[0m\u001b[1;33m\u001b[0m\u001b[0m\n\u001b[0m",
      "\u001b[1;31mAttributeError\u001b[0m: 'Modifiers' object has no attribute '__private_member'"
     ]
    }
   ],
   "source": [
    "class Modifiers:\n",
    "\n",
    "    def __init__(self, name):\n",
    "        self.__private_member = name  # Private Attribute\n",
    "\n",
    "m = Modifiers(\"SKAUL05\")\n",
    "print(m.__private_member)"
   ]
  },
  {
   "cell_type": "code",
   "execution_count": 60,
   "metadata": {},
   "outputs": [
    {
     "name": "stdout",
     "output_type": "stream",
     "text": [
      "___________Output_____________\n",
      "SKAUL05\n",
      "Github\n"
     ]
    }
   ],
   "source": [
    "class Modifiers:\n",
    "\n",
    "    def __init__(self, name):\n",
    "        self.__private_member = name  # Private Attribute\n",
    "\n",
    "print(\"___________Output_____________\")\n",
    "m = Modifiers(\"SKAUL05\")\n",
    "print(m._Modifiers__private_member)\n",
    "m._Modifiers__private_member = \"Github\"\n",
    "print(m._Modifiers__private_member)"
   ]
  },
  {
   "cell_type": "code",
   "execution_count": 92,
   "metadata": {},
   "outputs": [
    {
     "name": "stdout",
     "output_type": "stream",
     "text": [
      "you need oxygen\n",
      "you need water\n",
      "you need food\n",
      "you may need it\n"
     ]
    }
   ],
   "source": [
    "# abstract method from parent class must be redefind in child classes\n",
    "\n",
    "from abc import ABC, abstractmethod\n",
    "class Person:\n",
    "    def __init__(self):\n",
    "        pass\n",
    "    \n",
    "    @abstractmethod\n",
    "    def oxygen(self):\n",
    "        return \"you need oxygen\"\n",
    "    \n",
    "    @abstractmethod\n",
    "    def water(self):\n",
    "        return \"you need water\"\n",
    "    \n",
    "    @abstractmethod\n",
    "    def food(self):\n",
    "        return \"you need food\"\n",
    "    \n",
    "    def exercise(self):\n",
    "        return \"you may need it\"\n",
    " \n",
    "\n",
    "class Dog(Person):  \n",
    "   \n",
    "    def oxygen(self):\n",
    "        return \"you need oxygen\"\n",
    "    \n",
    "    \n",
    "    def water(self):\n",
    "        return \"you need water\"\n",
    "    \n",
    "   \n",
    "    def food(self):\n",
    "        return \"you need food\"\n",
    "        \n",
    "\n",
    "dog_a = Dog()\n",
    "print(dog_a.oxygen())\n",
    "print(dog_a.water())\n",
    "print(dog_a.food())\n",
    "print(dog_a.exercise())"
   ]
  },
  {
   "cell_type": "code",
   "execution_count": 72,
   "metadata": {},
   "outputs": [
    {
     "data": {
      "text/plain": [
       "'Car type is SUV'"
      ]
     },
     "execution_count": 72,
     "metadata": {},
     "output_type": "execute_result"
    }
   ],
   "source": [
    "# We can access private var using method layers\n",
    "\n",
    "class Cars:\n",
    "    __my_car = \"SUV\"\n",
    "    \n",
    "    def what(self):\n",
    "        return f\"Car type is {Cars.__my_car}\"\n",
    "    \n",
    "a = Cars() \n",
    "a.what()"
   ]
  },
  {
   "cell_type": "markdown",
   "metadata": {},
   "source": [
    "# Python @property decorator"
   ]
  },
  {
   "cell_type": "code",
   "execution_count": 95,
   "metadata": {},
   "outputs": [
    {
     "name": "stdout",
     "output_type": "stream",
     "text": [
      "37\n",
      "98.60000000000001\n",
      "-387.40000000000003\n"
     ]
    }
   ],
   "source": [
    "# https://www.programiz.com/python-programming/property#:~:text=this%20private%20variable.-,The%20%40property%20Decorator,set%20value%20of%20the%20attribute\n",
    "# Making Getters and Setter methods\n",
    "class Celsius:\n",
    "    def __init__(self, temperature=0):\n",
    "        self.set_temperature(temperature)\n",
    "\n",
    "    def to_fahrenheit(self):\n",
    "        return (self.get_temperature() * 1.8) + 32\n",
    "\n",
    "    # getter method\n",
    "    def get_temperature(self):\n",
    "        return self._temperature\n",
    "\n",
    "    # setter method\n",
    "    def set_temperature(self, value):\n",
    "        if value < -273.15:\n",
    "            raise ValueError(\"Temperature below -273.15 is not possible.\")\n",
    "        self._temperature = value\n",
    "        \n",
    "\n",
    "human = Celsius(37)\n",
    "\n",
    "print(human.get_temperature())\n",
    "print(human.to_fahrenheit())\n",
    "\n",
    "human.set_temperature(-233)\n",
    "\n",
    "print(human.to_fahrenheit())"
   ]
  },
  {
   "cell_type": "code",
   "execution_count": 97,
   "metadata": {},
   "outputs": [
    {
     "name": "stdout",
     "output_type": "stream",
     "text": [
      "Setting value...\n",
      "Getting value...\n",
      "37\n",
      "Getting value...\n",
      "98.60000000000001\n",
      "Setting value...\n"
     ]
    }
   ],
   "source": [
    "# using property class\n",
    "class Celsius:\n",
    "    def __init__(self, temperature=0):\n",
    "        self.temperature = temperature\n",
    "\n",
    "    def to_fahrenheit(self):\n",
    "        return (self.temperature * 1.8) + 32\n",
    "\n",
    "    # getter\n",
    "    def get_temperature(self):\n",
    "        print(\"Getting value...\")\n",
    "        return self._temperature\n",
    "\n",
    "    # setter\n",
    "    def set_temperature(self, value):\n",
    "        print(\"Setting value...\")\n",
    "        if value < -273.15:\n",
    "            raise ValueError(\"Temperature below -273.15 is not possible\")\n",
    "        self._temperature = value\n",
    "\n",
    "    # creating a property object\n",
    "    temperature = property(get_temperature, set_temperature)\n",
    "\n",
    "\n",
    "human = Celsius(37)\n",
    "\n",
    "print(human.temperature)\n",
    "\n",
    "print(human.to_fahrenheit())\n",
    "\n",
    "human.temperature = -122"
   ]
  },
  {
   "cell_type": "code",
   "execution_count": 98,
   "metadata": {},
   "outputs": [],
   "source": [
    "# property(fget=None, fset=None, fdel=None, doc=None)\n",
    "\n",
    "# syntax\n",
    "# doc is a string (like a comment)"
   ]
  },
  {
   "cell_type": "code",
   "execution_count": 100,
   "metadata": {},
   "outputs": [
    {
     "name": "stdout",
     "output_type": "stream",
     "text": [
      "Setting value...\n",
      "Getting value...\n",
      "37\n",
      "Getting value...\n",
      "98.60000000000001\n",
      "Setting value...\n"
     ]
    }
   ],
   "source": [
    "# Using @property decorator\n",
    "class Celsius:\n",
    "    def __init__(self, temperature=0):\n",
    "        self.temperature = temperature\n",
    "\n",
    "    def to_fahrenheit(self):\n",
    "        return (self.temperature * 1.8) + 32\n",
    "\n",
    "    @property\n",
    "    def temperature(self):\n",
    "        print(\"Getting value...\")\n",
    "        return self._temperature\n",
    "\n",
    "    @temperature.setter\n",
    "    def temperature(self, value):\n",
    "        print(\"Setting value...\")\n",
    "        if value < -273.15:\n",
    "            raise ValueError(\"Temperature below -273 is not possible\")\n",
    "        self._temperature = value\n",
    "\n",
    "\n",
    "# create an object\n",
    "human = Celsius(37)\n",
    "\n",
    "print(human.temperature)\n",
    "\n",
    "print(human.to_fahrenheit())\n",
    "\n",
    "coldest_thing = Celsius(-122)"
   ]
  },
  {
   "cell_type": "code",
   "execution_count": 109,
   "metadata": {},
   "outputs": [
    {
     "name": "stdout",
     "output_type": "stream",
     "text": [
      "animal can move\n"
     ]
    }
   ],
   "source": [
    "# Python program showing \n",
    "# abstract class cannot \n",
    "# be an instantiation \n",
    "from abc import ABC,abstractmethod \n",
    "  \n",
    "class Animal(): \n",
    "    def __init__(self):\n",
    "        pass\n",
    "    \n",
    "    @abstractmethod\n",
    "    def move(self): \n",
    "        print(\"animal can move\")\n",
    "    \n",
    "class Human(Animal): \n",
    "    def move(self): \n",
    "        print(\"I can walk and run\") \n",
    "  \n",
    "class Snake(Animal): \n",
    "    def move(self): \n",
    "        print(\"I can crawl\") \n",
    "  \n",
    "class Dog(Animal): \n",
    "    pass\n",
    "  \n",
    "class Lion(Animal): \n",
    "    def move(self): \n",
    "        print(\"I can roar\") \n",
    "  \n",
    "c=Animal()\n",
    "g = Dog()\n",
    "\n",
    "g.move()"
   ]
  },
  {
   "cell_type": "code",
   "execution_count": null,
   "metadata": {},
   "outputs": [],
   "source": []
  }
 ],
 "metadata": {
  "kernelspec": {
   "display_name": "Python 3",
   "language": "python",
   "name": "python3"
  },
  "language_info": {
   "codemirror_mode": {
    "name": "ipython",
    "version": 3
   },
   "file_extension": ".py",
   "mimetype": "text/x-python",
   "name": "python",
   "nbconvert_exporter": "python",
   "pygments_lexer": "ipython3",
   "version": "3.7.4"
  }
 },
 "nbformat": 4,
 "nbformat_minor": 2
}
