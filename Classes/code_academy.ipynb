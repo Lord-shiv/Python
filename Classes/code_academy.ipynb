{
 "cells": [
  {
   "cell_type": "code",
   "execution_count": 7,
   "metadata": {},
   "outputs": [],
   "source": [
    "# Define your exception up here:\n",
    "class OutOfStock(Exception):\n",
    "  pass\n",
    "\n",
    "# Update the class below to raise OutOfStock\n",
    "class CandleShop:\n",
    "  name = \"Here's a Hot Tip: Buy Drip Candles\"\n",
    "  def __init__(self, stock):\n",
    "    self.stock = stock\n",
    "    \n",
    "  def buy(self, color):\n",
    "    if self.stock[color] < 1:\n",
    "      raise OutOfStock\n",
    "    self.stock[color] = self.stock[color] - 1\n",
    "\n",
    "candle_shop = CandleShop({'blue': 6, 'red': 2, 'green': 0})\n",
    "candle_shop.buy('blue')\n",
    "\n",
    "\n",
    "# This should raise OutOfStock:\n",
    "# candle_shop.buy('green')"
   ]
  },
  {
   "cell_type": "markdown",
   "metadata": {},
   "source": [
    "# Overriding Methods"
   ]
  },
  {
   "cell_type": "code",
   "execution_count": 8,
   "metadata": {},
   "outputs": [],
   "source": [
    "class Message:\n",
    "  def __init__(self, sender, recipient, text):\n",
    "    self.sender = sender\n",
    "    self.recipient = recipient\n",
    "    self.text = text\n",
    "\n",
    "class User:\n",
    "  def __init__(self, username):\n",
    "    self.username = username\n",
    "    \n",
    "  def edit_message(self, message, new_text):\n",
    "    if message.sender == self.username:\n",
    "      message.text = new_text\n",
    "\n",
    "class Admin(User):\n",
    "  def edit_message(self, message, new_text):\n",
    "      message.text = new_text"
   ]
  },
  {
   "cell_type": "markdown",
   "metadata": {},
   "source": [
    "\n",
    "# super()\n"
   ]
  },
  {
   "cell_type": "code",
   "execution_count": null,
   "metadata": {},
   "outputs": [],
   "source": [
    "Overriding methods is really useful in some cases but \n",
    "sometimes we want to add some extra\n",
    "logic to the existing method."
   ]
  },
  {
   "cell_type": "code",
   "execution_count": 9,
   "metadata": {},
   "outputs": [],
   "source": [
    "class PotatoSalad:\n",
    "  def __init__(self, potatoes, celery, onions):\n",
    "    self.potatoes = potatoes\n",
    "    self.celery = celery\n",
    "    self.onions = onions\n",
    "\n",
    "class SpecialPotatoSalad(PotatoSalad):\n",
    "  def __init__(self, potatoes, celery, onions):\n",
    "    super().__init__(potatoes, celery, onions)\n",
    "    self.raisins = 40"
   ]
  },
  {
   "cell_type": "markdown",
   "metadata": {},
   "source": [
    "#  interfaces"
   ]
  },
  {
   "cell_type": "code",
   "execution_count": null,
   "metadata": {},
   "outputs": [],
   "source": [
    "class InsurancePolicy:\n",
    "  def __init__(self, price_of_item):\n",
    "    self.price_of_insured_item = price_of_item\n",
    "\n",
    "class VehicleInsurance(InsurancePolicy):\n",
    "  def get_rate(self):\n",
    "    return self.price_of_insured_item * .001\n",
    "\n",
    "class HomeInsurance(InsurancePolicy):\n",
    "  def get_rate(self):\n",
    "    return self.price_of_insured_item * .00005"
   ]
  }
 ],
 "metadata": {
  "kernelspec": {
   "display_name": "Python 3",
   "language": "python",
   "name": "python3"
  },
  "language_info": {
   "codemirror_mode": {
    "name": "ipython",
    "version": 3
   },
   "file_extension": ".py",
   "mimetype": "text/x-python",
   "name": "python",
   "nbconvert_exporter": "python",
   "pygments_lexer": "ipython3",
   "version": "3.7.4"
  }
 },
 "nbformat": 4,
 "nbformat_minor": 2
}
