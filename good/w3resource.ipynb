{
 "cells": [
  {
   "cell_type": "code",
   "execution_count": 1,
   "metadata": {},
   "outputs": [
    {
     "name": "stdout",
     "output_type": "stream",
     "text": [
      "3.7.4 (default, Aug  9 2019, 18:34:13) [MSC v.1915 64 bit (AMD64)]\n"
     ]
    }
   ],
   "source": [
    "import sys\n",
    "print(sys.version)"
   ]
  },
  {
   "cell_type": "code",
   "execution_count": 2,
   "metadata": {},
   "outputs": [
    {
     "name": "stdout",
     "output_type": "stream",
     "text": [
      "2021-03-06 17:36:07.068451\n"
     ]
    }
   ],
   "source": [
    "import datetime\n",
    "now = datetime.datetime.now()\n",
    "print(now)"
   ]
  },
  {
   "cell_type": "code",
   "execution_count": 3,
   "metadata": {},
   "outputs": [
    {
     "name": "stdout",
     "output_type": "stream",
     "text": [
      "enter radious for circle1.1\n",
      "the area is  3.8013271108436504\n"
     ]
    }
   ],
   "source": [
    "from math import pi\n",
    "r = float(input(\"enter radious for circle\"))\n",
    "print(\"the area is \", str(pi*r**2))"
   ]
  },
  {
   "cell_type": "code",
   "execution_count": 21,
   "metadata": {},
   "outputs": [
    {
     "data": {
      "text/plain": [
       "'num is prime'"
      ]
     },
     "execution_count": 21,
     "metadata": {},
     "output_type": "execute_result"
    }
   ],
   "source": [
    "class Check:\n",
    "    def __init__(self):\n",
    "        pass\n",
    "    \n",
    "    def check_prime(self, num):\n",
    "        if num > 1:\n",
    "            for i in range(2, int(num/2) + 1):\n",
    "                if (num%i == 0):\n",
    "                    return  \"number is not prime\"\n",
    "                    break\n",
    "            else:\n",
    "                return \"num is prime\"\n",
    "        else:\n",
    "            return \"num is not prime\"\n",
    "\n",
    "obj = Check()\n",
    "obj.check_prime(11)"
   ]
  },
  {
   "cell_type": "code",
   "execution_count": 4,
   "metadata": {},
   "outputs": [
    {
     "data": {
      "text/plain": [
       "1.8"
      ]
     },
     "execution_count": 4,
     "metadata": {},
     "output_type": "execute_result"
    }
   ],
   "source": [
    "90 * 0.02"
   ]
  },
  {
   "cell_type": "code",
   "execution_count": 2,
   "metadata": {},
   "outputs": [
    {
     "name": "stdout",
     "output_type": "stream",
     "text": [
      "100.4\n"
     ]
    }
   ],
   "source": [
    "def convertor(Celsius):\n",
    "    return (Celsius * 9/5) + 32\n",
    "  #(32°F − 32) × 5/9\n",
    "print(convertor(38))"
   ]
  },
  {
   "cell_type": "code",
   "execution_count": 17,
   "metadata": {},
   "outputs": [
    {
     "data": {
      "text/plain": [
       "12516.67"
      ]
     },
     "execution_count": 17,
     "metadata": {},
     "output_type": "execute_result"
    }
   ],
   "source": [
    "round(37550 / 3, 2)"
   ]
  },
  {
   "cell_type": "code",
   "execution_count": 18,
   "metadata": {},
   "outputs": [
    {
     "name": "stdout",
     "output_type": "stream",
     "text": [
      "Total Ticket Cost: 204910.35\n"
     ]
    }
   ],
   "source": [
    "#lex_auth_01269361601342668881\n",
    "def calculate_total_ticket_cost(no_of_adults, no_of_children):\n",
    "    adult_cost = no_of_adults * 37550\n",
    "    child_cost = no_of_children * (37550 / 3)\n",
    "    both_cost = adult_cost + child_cost\n",
    "    cost_with_tax = both_cost +  (0.07 * both_cost)\n",
    "    holiday_season = cost_with_tax - (0.1 * cost_with_tax)\n",
    "\n",
    "    return round(holiday_season,2)\n",
    "\n",
    "\n",
    "#Provide different values for no_of_adults, no_of_children and test your program\n",
    "total_ticket_cost=calculate_total_ticket_cost(5,2)\n",
    "print(\"Total Ticket Cost:\",total_ticket_cost)\n"
   ]
  },
  {
   "cell_type": "code",
   "execution_count": null,
   "metadata": {},
   "outputs": [],
   "source": [
    "ticket_status=\"Confirmed\"\n",
    "luggage_weight=20\n",
    "weight_limit=30  #Weight limit for the airline\n",
    "extra_luggage_charge=10\n",
    "if(ticket_status==\"Confirmed\"):\n",
    "    if(luggage_weight>0 and luggage_weight<=weight_limit):\n",
    "        print(\"Check-in cleared\")\n",
    "    elif(luggage_weight<=(weight_limit+10)):\n",
    "        extra_luggage_charge=300*(luggage_weight-weight_limit)\n",
    "    else:\n",
    "        extra_luggage_charge=500*(luggage_weight-weight_limit)\n",
    "    if(extra_luggage_charge>0):\n",
    "        print(\"Extra luggage charge is Rs.\", extra_luggage_charge * 2)\n",
    "        print(\"Please make the payment to clear check-in\")\n",
    "else:\n",
    "    print(\"Sorry, ticket is not confirmed\")"
   ]
  },
  {
   "cell_type": "code",
   "execution_count": 19,
   "metadata": {},
   "outputs": [
    {
     "name": "stdout",
     "output_type": "stream",
     "text": [
      "Airport security cleared\n"
     ]
    }
   ],
   "source": [
    "passport_status=\"valid\"\n",
    "ticket_status=\"Confirmed\"\n",
    "luggage_weight=32\n",
    "weight_limit=30  #Weight limit for the airline\n",
    "extra_luggage_charge=600\n",
    "if(passport_status==\"valid\"):\n",
    "    print(\"Airport security cleared\")\n",
    "    if(ticket_status==\"Confirmed\"):\n",
    "        if(luggage_weight>0 and luggage_weight<=weight_limit):\n",
    "            print(\"Check-in cleared\")\n",
    "        elif(luggage_weight<=(weight_limit+10)):\n",
    "            extra_luggage_charge=300*(luggage_weight-weight_limit)\n",
    "    else:\n",
    "        extra_luggage_charge=500*(luggage_weight-weight_limit)\n",
    "        if(extra_luggage_charge>0):\n",
    "            print(\"Extra luggage charge is Rs.\", extra_luggage_charge)\n",
    "            print(\"Please make the payment to clear check-in\")\n",
    "        else:\n",
    "            print(\"Sorry, ticket is not confirmed\")\n",
    "else:\n",
    "    print(\"Invalid passport\")"
   ]
  },
  {
   "cell_type": "code",
   "execution_count": 20,
   "metadata": {},
   "outputs": [
    {
     "data": {
      "text/plain": [
       "0.0"
      ]
     },
     "execution_count": 20,
     "metadata": {},
     "output_type": "execute_result"
    }
   ],
   "source": [
    "0/5"
   ]
  },
  {
   "cell_type": "code",
   "execution_count": 21,
   "metadata": {},
   "outputs": [
    {
     "data": {
      "text/plain": [
       "5.0"
      ]
     },
     "execution_count": 21,
     "metadata": {},
     "output_type": "execute_result"
    }
   ],
   "source": [
    "5/1\n"
   ]
  },
  {
   "cell_type": "code",
   "execution_count": 23,
   "metadata": {},
   "outputs": [
    {
     "data": {
      "text/plain": [
       "False"
      ]
     },
     "execution_count": 23,
     "metadata": {},
     "output_type": "execute_result"
    }
   ],
   "source": [
    "4000 % 2000  != 0"
   ]
  },
  {
   "cell_type": "code",
   "execution_count": 28,
   "metadata": {},
   "outputs": [
    {
     "name": "stdout",
     "output_type": "stream",
     "text": [
      "Number of baggage:10\n",
      "No. of baggage remaining: 90\n",
      "Number of baggage:30\n",
      "No. of baggage remaining: 60\n",
      "Number of baggage:50\n",
      "No. of baggage remaining: 10\n",
      "Number of baggage:10\n",
      "No. of baggage remaining: 0\n"
     ]
    }
   ],
   "source": [
    "baggage_count=100\n",
    "no_of_baggage_picked=0\n",
    "while(baggage_count>0):\n",
    "    no_of_baggage_picked = (int)(input (\"Number of baggage:\"))\n",
    "    baggage_count = baggage_count - no_of_baggage_picked\n",
    "    print(\"No. of baggage remaining:\",baggage_count)"
   ]
  },
  {
   "cell_type": "code",
   "execution_count": 33,
   "metadata": {},
   "outputs": [
    {
     "name": "stdout",
     "output_type": "stream",
     "text": [
      "1\n",
      "2\n",
      "3\n",
      "4\n",
      "5\n"
     ]
    }
   ],
   "source": [
    "num = 5\n",
    "for i in range(1, num+1):\n",
    "    print(i)"
   ]
  },
  {
   "cell_type": "code",
   "execution_count": 36,
   "metadata": {},
   "outputs": [
    {
     "name": "stdout",
     "output_type": "stream",
     "text": [
      "25\n"
     ]
    }
   ],
   "source": [
    "k = 0\n",
    "for i in range(5):\n",
    "    for j in range(5):\n",
    "        k+=1\n",
    "print(k)"
   ]
  },
  {
   "cell_type": "code",
   "execution_count": null,
   "metadata": {},
   "outputs": [],
   "source": []
  }
 ],
 "metadata": {
  "kernelspec": {
   "display_name": "Python 3",
   "language": "python",
   "name": "python3"
  },
  "language_info": {
   "codemirror_mode": {
    "name": "ipython",
    "version": 3
   },
   "file_extension": ".py",
   "mimetype": "text/x-python",
   "name": "python",
   "nbconvert_exporter": "python",
   "pygments_lexer": "ipython3",
   "version": "3.7.4"
  }
 },
 "nbformat": 4,
 "nbformat_minor": 2
}
