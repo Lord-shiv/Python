{
 "cells": [
  {
   "cell_type": "markdown",
   "metadata": {},
   "source": [
    "# Lambda"
   ]
  },
  {
   "cell_type": "code",
   "execution_count": null,
   "metadata": {},
   "outputs": [],
   "source": [
    "# a function without a nme is anonymous func\n",
    "#  lambda keyword is used to definde an anonymous function in pyton\n",
    "#  can have any number of arguments but only one expression\n",
    "\n",
    "def cube(y):\n",
    "    return y*y*y\n",
    "print(cube(3))\n",
    "\n",
    "# Syntax: lambda arguments: expression\n",
    "\n",
    "lambda_cube = lambda y: y*y*y\n",
    "print(lambda_cube(4))"
   ]
  },
  {
   "cell_type": "code",
   "execution_count": null,
   "metadata": {},
   "outputs": [],
   "source": [
    "people = [\n",
    "    {\"name\": \"Harry\", \"house\": \"Gryffindor\"},\n",
    "    {\"name\": \"Cho\", \"house\": \"Ravenclaw\"},\n",
    "    {\"name\": \"Draco\", \"house\": \"Slytherin\"}\n",
    "]\n",
    "\n",
    "def f(person):\n",
    "    return person[\"name\"]  #house\n",
    "\n",
    "people.sort(key=f)\n",
    "\n",
    "print(people)"
   ]
  },
  {
   "cell_type": "code",
   "execution_count": null,
   "metadata": {},
   "outputs": [],
   "source": [
    "people = [\n",
    "    {\"name\": \"Harry\", \"house\": \"Gryffindor\"},\n",
    "    {\"name\": \"Cho\", \"house\": \"Ravenclaw\"},\n",
    "    {\"name\": \"Draco\", \"house\": \"Slytherin\"}\n",
    "]\n",
    "\n",
    "people.sort(key=lambda person: person[\"name\"])\n",
    "\n",
    "print(people)"
   ]
  },
  {
   "cell_type": "markdown",
   "metadata": {},
   "source": [
    "# map function"
   ]
  },
  {
   "cell_type": "markdown",
   "metadata": {},
   "source": [
    "returns iterable with functionality of given function"
   ]
  },
  {
   "cell_type": "raw",
   "metadata": {},
   "source": [
    "Python's map() is a built-in function that allows you to process and transform all the items in an iterable \n",
    "without using an explicit for loop, a technique commonly known as mapping\n",
    "\n",
    "comprehension is definitively better than a map+filter, but if you already have the function you want to apply, map is more succinct\n",
    "\n",
    "syntax: map(fun, iter)\n",
    "\n",
    "output in list and tuples etc.."
   ]
  },
  {
   "cell_type": "code",
   "execution_count": null,
   "metadata": {},
   "outputs": [],
   "source": [
    "numbers = (4,5,6,7)\n",
    "def addition(n):\n",
    "    return n + n\n",
    "\n",
    "results = map(addition, numbers)\n",
    "print(list(results))\n",
    "\n",
    "\n",
    "numbers = (1, 2, 3, 4) \n",
    "result = map(lambda x: x + x, numbers) \n",
    "print(list(result)) \n",
    "\n",
    "\n",
    "g = [84,4,42,21]\n",
    "newlist = map(addition, g)\n",
    "print(set(newlist))            #gives results in list or tuples, set   but not dict\n"
   ]
  },
  {
   "cell_type": "code",
   "execution_count": null,
   "metadata": {},
   "outputs": [],
   "source": [
    "x = range(4)\n",
    "def times2(n):\n",
    "    return n*2\n",
    "\n",
    "x = map(times2, x)\n",
    "print(list(x))"
   ]
  },
  {
   "cell_type": "code",
   "execution_count": null,
   "metadata": {},
   "outputs": [],
   "source": [
    "# result = map(function, iterable) is equivalent to:\n",
    "\n",
    "# result = []\n",
    "# for item in iterable:\n",
    "#     result.append(function(item))\n",
    "\n",
    "class FoodExpert:\n",
    "    \n",
    "    def __init__(self):\n",
    "        self.goodFood = []\n",
    "        \n",
    "    def addGoodFood(self, food):\n",
    "        self.goodFood.append(food)\n",
    "        return food\n",
    "        \n",
    "    def likes(self, x):\n",
    "        return x in self.goodFood\n",
    "    \n",
    "    def prefers(self, x, y):\n",
    "        x_rating = self.goodFood.index(x)\n",
    "        y_rating = self.goodFood.index(y)\n",
    "        if x_rating > y_rating:\n",
    "            return y\n",
    "        else:\n",
    "            return x\n",
    "\n",
    "        \n",
    "f = FoodExpert()\n",
    "g= map(f.addGoodFood, ['eggs', 'bacon', 'burgers', 'pizza'])\n",
    "print(list(g))\n",
    "\n",
    "ob = FoodExpert()\n",
    "bo = f.addGoodFood(['eggs', 'bacon', 'burgers', 'pizza'])\n",
    "print(list(bo))\n"
   ]
  },
  {
   "cell_type": "markdown",
   "metadata": {},
   "source": [
    "# Filter"
   ]
  },
  {
   "cell_type": "markdown",
   "metadata": {},
   "source": [
    "return iterable witch passes the condtion in a function"
   ]
  },
  {
   "cell_type": "code",
   "execution_count": null,
   "metadata": {},
   "outputs": [],
   "source": [
    "x = range(5)\n",
    "def odd(n):\n",
    "    return n % 2\n",
    "\n",
    "z = filter(odd, x)\n",
    "print(tuple(z))\n",
    "\n",
    "x = range(5)\n",
    "def oddo(n):\n",
    "    return n % 2 != 0    #don't care if conditon is true or false\n",
    "\n",
    "y = map(odd, x)\n",
    "print(tuple(y))"
   ]
  },
  {
   "cell_type": "code",
   "execution_count": null,
   "metadata": {},
   "outputs": [],
   "source": [
    "# filters the given sequence with the help of a function that tests each element in the sequence to be true or not.\n",
    "\n",
    "# syntax: filter(function, sequence)\n",
    "\n",
    "\n",
    "def fun(variable):\n",
    "    letters = ['a', 'e', 'i', 'o', 'u']\n",
    "    if (variable in letters):\n",
    "        return True\n",
    "    else:\n",
    "        return False\n",
    "    \n",
    "sequence = ['g', 'e', 'e', 'j', 'k', 's', 'p', 'r'] \n",
    "filtered = filter(fun, sequence)\n",
    "\n",
    "for s in filtered:\n",
    "    print(s)"
   ]
  },
  {
   "cell_type": "markdown",
   "metadata": {},
   "source": [
    "# ListComps "
   ]
  },
  {
   "cell_type": "code",
   "execution_count": null,
   "metadata": {},
   "outputs": [],
   "source": [
    "# -------map()-----------\n",
    "\n",
    "#   listcomp wins      6 vs 7\n",
    "\n",
    "# how many function calls were made to make this list happens\n",
    "\n",
    "def sq2t(n):                     # called 5 times\n",
    "    return n * 2\n",
    "\n",
    "print(list(map(sq2t, range(5))))  # range called 1 time map is called 1 time\n",
    "\n",
    "\n",
    "# -------next-------- \n",
    "\n",
    "\n",
    "listcompe = [sq2t(k) for k in range(5)]  # sq2t fucc called 5 times and range is called 1 time"
   ]
  },
  {
   "cell_type": "code",
   "execution_count": null,
   "metadata": {},
   "outputs": [],
   "source": [
    "# -----------filter-------------\n",
    "\n",
    "#   listcomp wins      1 vs 12\n",
    "\n",
    "\n",
    "def odd(n): return n%2 != 0     # called 10 times \n",
    "\n",
    "h = filter(odd, range(10))  # range called 1 time filter is called 1 time\n",
    "print(list(h))\n",
    "\n",
    "listcom = [i for i in range(10) if i%2 != 0]   # only 1 time witch is range\n",
    "listcom"
   ]
  },
  {
   "cell_type": "code",
   "execution_count": null,
   "metadata": {},
   "outputs": [],
   "source": [
    "import sys\n",
    "stringa = \"shiv\"\n",
    "stringb = \"nick\"\n",
    "\n",
    "\n",
    "sys.intern(string)\n",
    "\n",
    "stringa is stringb"
   ]
  },
  {
   "cell_type": "code",
   "execution_count": null,
   "metadata": {},
   "outputs": [],
   "source": [
    "x = ['foo', [1,2,3], 23.5]\n",
    "y = list(x)                   #copy list\n",
    "\n",
    "y.append('z')\n",
    "print(x)\n",
    "print(y)"
   ]
  },
  {
   "cell_type": "code",
   "execution_count": null,
   "metadata": {},
   "outputs": [],
   "source": [
    "old_list = [1, 2, 3]\n",
    "new_list = old_list.copy()\n",
    "\n",
    "# add an element to list\n",
    "new_list.append('k')\n",
    "\n",
    "print('New List:', new_list)\n",
    "print('Old List:', old_list)"
   ]
  },
  {
   "cell_type": "code",
   "execution_count": null,
   "metadata": {},
   "outputs": [],
   "source": [
    "lst = [3,56,3,36, [2,3,4,]]\n",
    "lst.insert(1, [\"shivam\"])\n",
    "lst.remove([\"shivam\"])\n",
    "\n",
    "lst.count(3)"
   ]
  },
  {
   "cell_type": "code",
   "execution_count": null,
   "metadata": {},
   "outputs": [],
   "source": [
    "# remove\n",
    "m=[[34,345,232],[23,343,342]]\n",
    "[[ subelt for subelt in elt if subelt != 345 ] for elt in m] "
   ]
  },
  {
   "cell_type": "code",
   "execution_count": null,
   "metadata": {},
   "outputs": [],
   "source": [
    "def nested_remove(p, x):\n",
    "    if x in p:\n",
    "        p.remove(x)\n",
    "    else:\n",
    "        for el in p:\n",
    "            if type(el) is list:\n",
    "                nested_remove(el, x)\n",
    "                \n",
    "p = [4,5,6, [3,4,5], [3, 6]]         \n",
    "j = nested_remove(p, 3)\n",
    "print(p)"
   ]
  },
  {
   "cell_type": "code",
   "execution_count": null,
   "metadata": {},
   "outputs": [],
   "source": [
    "l = [[1,2,3,4], [2,3,45]]\n",
    "l[1].remove(45)\n",
    "\n",
    "print(l)"
   ]
  },
  {
   "cell_type": "code",
   "execution_count": null,
   "metadata": {
    "scrolled": true
   },
   "outputs": [],
   "source": [
    "L = [[1, 2, 3], [1, 1, 1], [2,3,1], 'sv', [1, 'shiv']]\n",
    "[item for i in L for item in i ].count(1)"
   ]
  },
  {
   "cell_type": "code",
   "execution_count": null,
   "metadata": {},
   "outputs": [],
   "source": [
    "mylist = [1,7,7,7,3,9,9,9,7,9,10,0] \n",
    "lst = []\n",
    "for i in mylist:\n",
    "    if mylist.count(i) > 2:\n",
    "        lst.append(i)\n",
    "        \n",
    "print(sorted(set(lst)))\n",
    "\n",
    "\n",
    "ylist = sorted(set([i for i in mylist if mylist.count(i) > 2]))"
   ]
  },
  {
   "cell_type": "code",
   "execution_count": null,
   "metadata": {},
   "outputs": [],
   "source": []
  },
  {
   "cell_type": "code",
   "execution_count": null,
   "metadata": {},
   "outputs": [],
   "source": []
  },
  {
   "cell_type": "code",
   "execution_count": null,
   "metadata": {},
   "outputs": [],
   "source": [
    "# import math\n",
    "# math.sqrt(x)\n",
    "def square_root(num):\n",
    "    return int(num ** (1/2))\n",
    "square_root(25)"
   ]
  },
  {
   "cell_type": "code",
   "execution_count": null,
   "metadata": {},
   "outputs": [],
   "source": [
    "\n",
    "# How to format numer to %\n",
    "\n",
    "def win_percentage(wins, losses):\n",
    "    total_games = wins + losses\n",
    "    win_ratio = wins / total_games\n",
    "    return \"{:.0%}\".format(win_ratio)\n",
    "\n",
    "win_percentage(11, 10)"
   ]
  },
  {
   "cell_type": "code",
   "execution_count": null,
   "metadata": {},
   "outputs": [],
   "source": [
    "# how to sum *args passed to func\n",
    "\n",
    "def my_func(*args):\n",
    "    return sum(*args)\n",
    "\n",
    "my_func([2,3,5])"
   ]
  },
  {
   "cell_type": "code",
   "execution_count": null,
   "metadata": {},
   "outputs": [],
   "source": [
    "# string pro\n",
    "\n",
    "def dog_years(name, age):\n",
    "    return name+\", you are \"+str(age * 7)+\" years old in dog years\""
   ]
  },
  {
   "cell_type": "code",
   "execution_count": null,
   "metadata": {},
   "outputs": [],
   "source": [
    "f_name = [\"shivam\", \"shital\", \"Mom\"]\n",
    "l_name = ['Manswalia', 'God', \"God\"]\n",
    "\n",
    "combo = zip(f_name, l_name)\n",
    "# print(list(combo))\n",
    "# for i in combo:\n",
    "#     print(i)"
   ]
  },
  {
   "cell_type": "code",
   "execution_count": null,
   "metadata": {},
   "outputs": [],
   "source": [
    "a = (\"shivam\")\n",
    "x = slice(1, 2)\n",
    "print(a)"
   ]
  },
  {
   "cell_type": "code",
   "execution_count": null,
   "metadata": {},
   "outputs": [],
   "source": [
    "# 5//2*2\n",
    "# how to get even without mod\n",
    "num = 6\n",
    "if num//2*2 == num:\n",
    "    print(\"is even\")\n",
    "else:\n",
    "    print(\"odd\")"
   ]
  },
  {
   "cell_type": "code",
   "execution_count": null,
   "metadata": {},
   "outputs": [],
   "source": [
    "import random\n",
    "\n",
    "num = random.randint(1, 6)\n",
    "print(num)"
   ]
  },
  {
   "cell_type": "code",
   "execution_count": null,
   "metadata": {},
   "outputs": [],
   "source": [
    "# perfect number if 6 = 1,2,3 (divisival of 6) if we sum them and if sum is equal to the number then it is a perfect numebr\n",
    "# we can also check it untill num + 1 and then divide total/2 and it will work the same \n",
    "\n",
    "num = 7\n",
    "total = 0\n",
    "for i in range(1,num):\n",
    "    if num % i== 0:\n",
    "        total += i\n",
    "if total == num:\n",
    "    print(\"Number is perfect\")\n",
    "else:\n",
    "    print(\"Numerb is not perfect\")\n"
   ]
  },
  {
   "cell_type": "code",
   "execution_count": null,
   "metadata": {},
   "outputs": [],
   "source": [
    "a = \"FGHIJKLMNOP\"\n",
    "for i in range(ord(\"G\"), ord(\"Q\")):\n",
    "#     print(i)\n",
    "    pass"
   ]
  },
  {
   "cell_type": "code",
   "execution_count": null,
   "metadata": {},
   "outputs": [],
   "source": [
    "asscci_num = 65\n",
    "for i in range(65, 123):\n",
    "    g = chr(asscci_num)\n",
    "    asscci_num += 1\n",
    "    print(g, end=\" \")"
   ]
  },
  {
   "cell_type": "code",
   "execution_count": null,
   "metadata": {},
   "outputs": [],
   "source": [
    "#   Tuples\n",
    "#   Tuples\n",
    "# \n",
    "# \n",
    "\n",
    "my_info = ('shiv', '21', 'developer')\n",
    "\n",
    "name, age, occupation = my_info\n",
    "age\n",
    "\n",
    "num = (4) # not tuple\n",
    "num = (5,) #tuple"
   ]
  },
  {
   "cell_type": "code",
   "execution_count": null,
   "metadata": {},
   "outputs": [],
   "source": [
    "#  Contiune..\n",
    "# Your computer is the doorman at a bar in a country where the drinking age is 21.\n",
    "ages = [12, 38, 34, 26, 21, 19, 67, 41, 17]\n",
    "\n",
    "for age in ages:\n",
    "    if age < 21:\n",
    "        continue\n",
    "    print(age)"
   ]
  },
  {
   "cell_type": "code",
   "execution_count": null,
   "metadata": {},
   "outputs": [],
   "source": [
    "#  Break\n",
    "#  break\n",
    "dog_breeds_available_for_adoption = ['french_bulldog', 'dalmatian', 'shihtzu', 'poodle', 'collie']\n",
    "dog_breed_I_want = 'dalmatian'\n",
    "\n",
    "for breed in dog_breeds_available_for_adoption:\n",
    "    print(breed)\n",
    "    if dog_breed_I_want == breed:\n",
    "        print(\"They have the dog I want!\")\n",
    "        break"
   ]
  },
  {
   "cell_type": "code",
   "execution_count": null,
   "metadata": {},
   "outputs": [],
   "source": [
    "prices = [30, 25, 40, 20, 20, 35, 50, 35]\n",
    "new_prices = [(less-5) for less in prices]\n",
    "new_prices"
   ]
  },
  {
   "cell_type": "code",
   "execution_count": null,
   "metadata": {},
   "outputs": [],
   "source": []
  },
  {
   "cell_type": "code",
   "execution_count": null,
   "metadata": {},
   "outputs": [],
   "source": [
    "authors_[-1]"
   ]
  },
  {
   "cell_type": "code",
   "execution_count": null,
   "metadata": {},
   "outputs": [],
   "source": [
    "a = \"shivam is a nice person\"\n",
    "g = a.split(\" \")\n",
    "g"
   ]
  },
  {
   "cell_type": "code",
   "execution_count": null,
   "metadata": {},
   "outputs": [],
   "source": [
    "def common_letters(string_one, string_two):\n",
    "    count = []\n",
    "    for i in string_one:\n",
    "        if (i in string_two) and not (i in count):\n",
    "            count.append(i)\n",
    "    return count\n",
    "\n",
    "common_letters(\"shivams\", \"shitals\")"
   ]
  },
  {
   "cell_type": "code",
   "execution_count": null,
   "metadata": {},
   "outputs": [],
   "source": [
    "favorite_fruit_conversation = \"He said, \\'''blueberries are my favorite!\\'''\"\n",
    "favorite_fruit_conversation"
   ]
  },
  {
   "cell_type": "code",
   "execution_count": null,
   "metadata": {},
   "outputs": [],
   "source": [
    "def reversed_listk(lst1, lst2):\n",
    "    for index in range(len(lst1)):\n",
    "        if lst1[index] == lst2[len(lst2) - 1 - index]:\n",
    "            return True\n",
    "        return False\n",
    "reversed_listk([1, 2, 3], [3, 2, 1])"
   ]
  },
  {
   "cell_type": "code",
   "execution_count": null,
   "metadata": {},
   "outputs": [],
   "source": [
    "# lst = [2,34,5]\n",
    "# len(lst)\n",
    "3-1-0"
   ]
  },
  {
   "cell_type": "code",
   "execution_count": null,
   "metadata": {},
   "outputs": [],
   "source": [
    "def same_values(lst1, lst2):\n",
    "    k = []\n",
    "    for i in range(len(lst1)):\n",
    "        if lst1[i] == lst2[i]:\n",
    "            k.append(i)\n",
    "    return k\n",
    "same_values([5, 1, -10, 3, 3], [5, 10, -10, 3, 5])      "
   ]
  },
  {
   "cell_type": "code",
   "execution_count": null,
   "metadata": {},
   "outputs": [],
   "source": [
    "def max_number(nums):\n",
    "    maximum = nums[0]\n",
    "    for number in nums:\n",
    "        if number > maximum:\n",
    "            maximum = number\n",
    "    return maximum\n",
    "max_number([3,4,6,7,9])"
   ]
  },
  {
   "cell_type": "code",
   "execution_count": null,
   "metadata": {},
   "outputs": [],
   "source": [
    "def over_nine_thousand(lst):\n",
    "    sum = 0\n",
    "    for number in lst:\n",
    "        sum += number\n",
    "        if (sum > 9000):\n",
    "            break\n",
    "    return sum\n",
    "over_nine_thousand([8000, 900, 120, 5000])"
   ]
  },
  {
   "cell_type": "code",
   "execution_count": null,
   "metadata": {},
   "outputs": [],
   "source": [
    "celsius = [0, 10, 15, 32, -5, 27, 3]\n",
    "\n",
    "fahrenheit = [(cel * 9/5 + 32) for cel in celsius]\n",
    "\n",
    "print(fahrenheit)"
   ]
  },
  {
   "cell_type": "code",
   "execution_count": null,
   "metadata": {},
   "outputs": [],
   "source": [
    "all_students = [\"Alex\", \"Briana\", \"Cheri\", \"Daniele\", \"Dora\", \"Minerva\", \"Alexa\", \"Obie\", \"Arius\", \"Loki\"]\n",
    "students_in_poetry = []\n",
    "\n",
    "\n",
    "while len(students_in_poetry) < 6:\n",
    "    g = all_students.pop()\n",
    "    students_in_poetry.append(g)\n",
    "print(students_in_poetry)"
   ]
  },
  {
   "cell_type": "code",
   "execution_count": null,
   "metadata": {},
   "outputs": [],
   "source": [
    "# Create a function named double_index that has two parameters: a list named lst and a single number named index.\n",
    "def duble_ind(lista, ind):\n",
    "    if ind >= len(lista):\n",
    "        return lista\n",
    "    else:\n",
    "        new_lst = lista[0:ind]\n",
    "        \n",
    "    new_lst.append(lista[ind]*2)\n",
    "    new_lst = new_lst + lista[ind+1:]\n",
    "    return new_lst\n",
    "    \n",
    "duble_ind([1,2,3,4], 2)"
   ]
  },
  {
   "cell_type": "code",
   "execution_count": null,
   "metadata": {},
   "outputs": [],
   "source": [
    "# Rock paper Scissors\n",
    "def rps(p1, p2):\n",
    "    hand = {'rock':0, 'paper':1, 'scissors':2}\n",
    "    results = ['Draw!', 'Player 1 won!', 'Player 2 won!']\n",
    "    return results[hand[p1] - hand[p2]]\n",
    "\n",
    "print(rps('paper', 'rock'))"
   ]
  },
  {
   "cell_type": "code",
   "execution_count": null,
   "metadata": {},
   "outputs": [],
   "source": [
    "# Positional argument that is optional\n",
    "def f(a=2):\n",
    "    pass\n",
    "\n",
    "\n",
    "f()  # Allowed, argument is optional\n",
    "f(1)  # Allowed, it's a positional argument\n",
    "f(a=1)  # Error, positional only argument\n",
    "\n",
    "\n",
    "# Positional argument that is required \n",
    "def f(a):\n",
    "    pass\n",
    "\n",
    "\n",
    "f()  # Error, argument required\n",
    "f(1)  # Allowed, it's a positional argument\n",
    "f(a=1)  # Error, positional only argument"
   ]
  },
  {
   "cell_type": "code",
   "execution_count": null,
   "metadata": {},
   "outputs": [],
   "source": [
    "# Keyword argument that is optional\n",
    "\n",
    "def f(*, a=1):\n",
    "    pass\n",
    "\n",
    "\n",
    "f()  # Allowed\n",
    "f(1)  # Error, keyword only arguments\n",
    "f(a=1)  # Allowed, it's a keyword argument\n",
    "\n",
    "# keyword argument that is required\n",
    "\n",
    "def f(*, a)\n",
    "    pass\n",
    "\n",
    "\n",
    "f()  # Error, argument required\n",
    "f(1)  # Error, keyword only arguments\n",
    "f(a=1)  # Allowed, it's a keyword argument"
   ]
  },
  {
   "cell_type": "code",
   "execution_count": null,
   "metadata": {},
   "outputs": [],
   "source": [
    "Positional and keyword argument that is optional\n",
    "\n",
    "def f(a=1)\n",
    "    pass\n",
    "\n",
    "\n",
    "f()  # Allowed, argument is optional\n",
    "f(1)  # Allowed, it's a positional argument\n",
    "f(a=1)  # Allowed, it's a keyword argument\n",
    "\n",
    "# In fact this function is the same as\n",
    "def f(*, a=1, /):\n",
    "    pass\n",
    "\n",
    "\n",
    "Positional and keyword argument that is required\n",
    "\n",
    "def f(a):\n",
    "    pass\n",
    "\n",
    "\n",
    "f()  # Error, argument required\n",
    "f(1)  # Allowed, it's a positional argument\n",
    "f(a=1)  # Allowed, it's a keyword argument\n",
    "\n",
    "# In fact this function is the same as\n",
    "def f(*, a, /):\n",
    "    pass"
   ]
  },
  {
   "cell_type": "code",
   "execution_count": null,
   "metadata": {},
   "outputs": [],
   "source": [
    "def truncate_sentences(length, *sentences):\n",
    "    for sentence in sentences:\n",
    "    print(sentence[:length])\n",
    "\n",
    "truncate_sentences(8, \"What's going on here\", \"Looks like we've been cut off\")"
   ]
  },
  {
   "cell_type": "code",
   "execution_count": null,
   "metadata": {},
   "outputs": [],
   "source": [
    "from os.path import join\n",
    "\n",
    "def myjoin(*args):\n",
    "    print(type(args))\n",
    "    joined_string = args[0]\n",
    "    \n",
    "    for arg in args[1:]:\n",
    "        joined_string += '/' + arg\n",
    "        \n",
    "    return joined_string\n",
    "\n",
    "myjoin(\"hi\", \"morgan\", \"welcome\", \"to\",)"
   ]
  },
  {
   "cell_type": "code",
   "execution_count": null,
   "metadata": {},
   "outputs": [],
   "source": [
    "def arbitrary_keyword_args(**kwargs):\n",
    "    print(type(kwargs))\n",
    "    print(kwargs)\n",
    "    # See if there's an \"anything_goes\" keyword arg\n",
    "    # and print it\n",
    "    print(kwargs.get('anything_goes'))\n",
    " \n",
    "g = arbitrary_keyword_args(this_arg=\"wowzers\",anything_goes=101)\n",
    "h = arbitrary_keyword_args(a = \"hi\", b = \"shiv\", c = \"rick\")\n",
    "h"
   ]
  },
  {
   "cell_type": "code",
   "execution_count": null,
   "metadata": {},
   "outputs": [],
   "source": [
    "def rick(**kwargs):\n",
    "    return kwargs\n",
    "\n",
    "rick(a = \"shiv\", b = 34, c = \"rick\", d = 78)"
   ]
  },
  {
   "cell_type": "code",
   "execution_count": null,
   "metadata": {},
   "outputs": [],
   "source": [
    "def concatenate(**words):\n",
    "    result = \"\"\n",
    "    for arg in words.values():\n",
    "        result += arg\n",
    "    return result\n",
    "\n",
    "print(concatenate(a=\"Real\", b=\"Python\", c=\"Is\", d=\"Great\", e=\"!\"))"
   ]
  },
  {
   "cell_type": "code",
   "execution_count": null,
   "metadata": {},
   "outputs": [],
   "source": [
    "d = {'a':\"shiv\", 'b':\"rick\"}\n",
    "x = d.get('b')\n",
    "y =d['b']\n",
    "y"
   ]
  },
  {
   "cell_type": "code",
   "execution_count": null,
   "metadata": {},
   "outputs": [],
   "source": [
    "def func(*args):\n",
    "    print(*args)\n",
    "    \n",
    "func(*['one', 'two', 'three'])\n",
    "func(*('one', 'two', 'three'))\n",
    "func(*{'one', 'two', 'three'})\n",
    "func(*{'one':1, 'two':2, 'three':3})"
   ]
  },
  {
   "cell_type": "code",
   "execution_count": null,
   "metadata": {},
   "outputs": [],
   "source": [
    "def func(**args):\n",
    "    print(args)\n",
    "\n",
    "d = {'arg1': 'one', 'arg2': 'two', 'arg3': 'three'}\n",
    "\n",
    "func(**d)\n",
    "\n",
    "func(**{'one':1, 'two':2, 'three':3})\n",
    "func(**(('one',3), ('two', 2), ('three',3))"
   ]
  },
  {
   "cell_type": "code",
   "execution_count": null,
   "metadata": {},
   "outputs": [],
   "source": [
    "import this"
   ]
  },
  {
   "cell_type": "code",
   "execution_count": null,
   "metadata": {},
   "outputs": [],
   "source": [
    "def takes_many_args(*args):\n",
    "    print(args)\n",
    "\n",
    "long_list_of_args = [145, \"Mexico City\", 10.9, \"85C\"]\n",
    "\n",
    "takes_many_args(*long_list_of_args)"
   ]
  },
  {
   "cell_type": "code",
   "execution_count": null,
   "metadata": {},
   "outputs": [],
   "source": [
    "\n",
    "\n",
    "def myFun(*args,**kwargs): \n",
    "    print(\"args: \", args) \n",
    "    print(\"kwargs: \", kwargs) \n",
    "  \n",
    "  \n",
    "# Now we can use both *args ,**kwargs \n",
    "# to pass arguments to this function : \n",
    "myFun('geeks','for','geeks',first=\"Geeks\",mid=\"for\",last=\"Geeks\") "
   ]
  },
  {
   "cell_type": "code",
   "execution_count": null,
   "metadata": {},
   "outputs": [],
   "source": [
    "SHIPPING_PRICES = {\n",
    "    'Ground': 1,\n",
    "    'Priority': 1.6,\n",
    "    'Overnight': 2.3,\n",
    "}\n",
    "\n",
    "g = SHIPPING_PRICES['Ground']\n",
    "g"
   ]
  },
  {
   "cell_type": "code",
   "execution_count": null,
   "metadata": {},
   "outputs": [],
   "source": [
    "import datetime\n",
    "now = datetime.datetime.now()\n",
    "print (\"Current date and time : \")\n",
    "print (now.strftime(\"%d-%m-%Y %H:%M:%S\"))"
   ]
  },
  {
   "cell_type": "code",
   "execution_count": null,
   "metadata": {},
   "outputs": [],
   "source": [
    "def add_five(num):\n",
    "    def add_two(num):\n",
    "        return num+2\n",
    "    \n",
    "    num_plu_two = add_two(num)\n",
    "    print(num_plu_two + 3)\n",
    "    \n",
    "    \n",
    "add_five(10)\n"
   ]
  },
  {
   "cell_type": "markdown",
   "metadata": {},
   "source": [
    "# decorators"
   ]
  },
  {
   "cell_type": "code",
   "execution_count": null,
   "metadata": {},
   "outputs": [],
   "source": [
    "def greet():\n",
    "    def hello():\n",
    "        print(\"hello we welcome you.\")\n",
    "    def hi():\n",
    "        print(\"hi, How are you.\")\n",
    "    return hello, hi\n",
    "\n",
    "hello, hi = greet()\n",
    "hi()"
   ]
  },
  {
   "cell_type": "code",
   "execution_count": null,
   "metadata": {},
   "outputs": [],
   "source": [
    "def make_pretty(func):\n",
    "    def i_decorates():\n",
    "        print(\"I decorated the object you have provided\")\n",
    "        func()\n",
    "    return i_decorates\n",
    "\n",
    "\n",
    "def takes_object():\n",
    "    print(\"I want to decorate my resume\")\n",
    "    \n",
    "    \n",
    "resume = make_pretty(takes_object)\n",
    "resume()"
   ]
  },
  {
   "cell_type": "code",
   "execution_count": null,
   "metadata": {},
   "outputs": [],
   "source": [
    "@make_pretty\n",
    "def takes_objects():\n",
    "    print(\"i want to modify my car\")\n",
    "    \n",
    "car_mod = takes_objects()\n",
    "car_mod"
   ]
  },
  {
   "cell_type": "code",
   "execution_count": null,
   "metadata": {},
   "outputs": [],
   "source": [
    "def smart_divide(func):\n",
    "    def main_fun(a, b):\n",
    "        print(\"We will devide entered numbers only if they satisfy our conditions: \\n\")\n",
    "        if b == 0:\n",
    "            print(\"Whoops! can't divide\")\n",
    "            return\n",
    "        if type(a) == str or type(b) == str:\n",
    "            print(\"You have provided us string please enter number\")\n",
    "            return \n",
    "        return func(a, b)\n",
    "        \n",
    "    return main_fun\n",
    "\n",
    "\n",
    "@smart_divide\n",
    "def divide(a, b):             #clean & readable\n",
    "    return (\"Answer: \",a/b)\n",
    "\n",
    "c = divide(90, 10)\n",
    "c"
   ]
  },
  {
   "cell_type": "code",
   "execution_count": null,
   "metadata": {},
   "outputs": [],
   "source": [
    "def muliples_30(func):\n",
    "    def inner(*args, **kwargs):\n",
    "        print(\"I will decorate any function\")\n",
    "        return func(*args, **kwargs)\n",
    "    return inner\n"
   ]
  },
  {
   "cell_type": "code",
   "execution_count": null,
   "metadata": {},
   "outputs": [],
   "source": [
    "def star(func):\n",
    "    def inner(*args, **kwargs):\n",
    "        print(\"*\" * 20)\n",
    "        func(*args, **kwargs)\n",
    "        print(\"*\" * 20)\n",
    "    return inner\n",
    "\n",
    "\n",
    "def percent(func):\n",
    "    def inner(*args, **kwargs):\n",
    "        print(\"%\" * 30)\n",
    "        func(*args, **kwargs)\n",
    "        print(\"%\" * 30)\n",
    "    return inner\n",
    "\n",
    "\n",
    "@star\n",
    "@percent\n",
    "def printer(msg):\n",
    "    print(msg)\n",
    "    \n",
    "printer(\"hello\")"
   ]
  },
  {
   "cell_type": "markdown",
   "metadata": {},
   "source": []
  },
  {
   "cell_type": "markdown",
   "metadata": {},
   "source": [
    "# name spaces\n"
   ]
  },
  {
   "cell_type": "code",
   "execution_count": null,
   "metadata": {},
   "outputs": [],
   "source": [
    "type(globals())"
   ]
  },
  {
   "cell_type": "code",
   "execution_count": null,
   "metadata": {},
   "outputs": [],
   "source": [
    "x = \"shiv\"\n",
    "globals()['y'] = 100\n",
    "globals()"
   ]
  },
  {
   "cell_type": "code",
   "execution_count": null,
   "metadata": {},
   "outputs": [],
   "source": [
    "import datetime\n",
    "globals()"
   ]
  },
  {
   "cell_type": "code",
   "execution_count": null,
   "metadata": {},
   "outputs": [],
   "source": [
    "dir(__builtins__)"
   ]
  },
  {
   "cell_type": "code",
   "execution_count": null,
   "metadata": {},
   "outputs": [],
   "source": [
    "3.2 * 10 ** -12"
   ]
  },
  {
   "cell_type": "code",
   "execution_count": null,
   "metadata": {},
   "outputs": [],
   "source": [
    "# Write an expression for a string literal consisting of the following ASCII characters:\n",
    "\n",
    "# Horizontal Tab character\n",
    "# Newline (ASCII Linefeed) character\n",
    "# The character with hexadecimal value 7E\n",
    "\n",
    "\n",
    "\"\\t\\n\\x7E\""
   ]
  },
  {
   "cell_type": "code",
   "execution_count": null,
   "metadata": {},
   "outputs": [],
   "source": [
    "print(r'hello\\n now new line\\n no \\t hello tab')"
   ]
  },
  {
   "cell_type": "code",
   "execution_count": null,
   "metadata": {},
   "outputs": [],
   "source": [
    "def do_twice(func):\n",
    "    def wrapper_do_twice():\n",
    "        func()\n",
    "        func()\n",
    "    return wrapper_do_twice\n",
    "\n",
    "# from decorators import do_twice \n",
    "# we can create diff file for decorators and than can import \n",
    "\n",
    "@do_twice\n",
    "def say_whee():\n",
    "    print(\"Whee\")\n",
    "    \n",
    "say_whee()"
   ]
  },
  {
   "cell_type": "code",
   "execution_count": null,
   "metadata": {},
   "outputs": [],
   "source": [
    "def do_twice_(func):\n",
    "    def wrapper_do_twice(*args, **kwargs):\n",
    "        func(*args, **kwargs)\n",
    "        func(*args, **kwargs)\n",
    "    return wrapper_do_twice\n",
    "\n",
    "@do_twice_\n",
    "def greet(name):\n",
    "    print(f\"hello {name}\")\n",
    "    \n",
    "greet(\"shivam\")\n",
    "greet.__name__\n",
    "help(greet)"
   ]
  },
  {
   "cell_type": "code",
   "execution_count": null,
   "metadata": {},
   "outputs": [],
   "source": [
    "import functools\n",
    "def do_twico(func):\n",
    "    @functools.wraps(func)\n",
    "    def wrapper_do_twice(*args, **kwargs):\n",
    "        func(*args, **kwargs)\n",
    "        return func(*args, **kwargs)\n",
    "    return wrapper_do_twice\n",
    "\n",
    "@do_twico\n",
    "def yahoo():\n",
    "    print(\"yaaahoooo!\")\n",
    "    \n",
    "yahoo.__name__\n",
    "help(yahoo)"
   ]
  },
  {
   "cell_type": "code",
   "execution_count": null,
   "metadata": {},
   "outputs": [],
   "source": [
    "def get_math_fun(operation):\n",
    "    def add(n1, n2):\n",
    "        return n1 + n2\n",
    "    def sub(n1, n2):\n",
    "        return n1 - n2\n",
    "    \n",
    "    if operation == \"+\":\n",
    "        return add\n",
    "    elif operation == \"-\":\n",
    "        return sub\n",
    "    \n",
    "add_me = get_math_fun(\"+\")\n",
    "add_me(2,2)\n",
    "\n",
    "sub_me = get_math_fun(\"-\")\n",
    "sub_me(10,8)"
   ]
  },
  {
   "cell_type": "code",
   "execution_count": null,
   "metadata": {},
   "outputs": [],
   "source": [
    "def title_deco(name_func):\n",
    "    def wrapper():\n",
    "        print(\"Professor: \")\n",
    "        return name_func()\n",
    "    return wrapper()\n",
    "\n",
    "@title_deco\n",
    "def print_my_name():\n",
    "    print(\"we will remeber your name!\")\n",
    "    \n"
   ]
  },
  {
   "cell_type": "code",
   "execution_count": null,
   "metadata": {},
   "outputs": [],
   "source": [
    "def title_d(names_func):\n",
    "    def inner():\n",
    "        print(\"Professor: \")\n",
    "        names_func()\n",
    "    return inner()\n",
    "\n",
    "def shiv():\n",
    "    print(\"shiv\")\n",
    "\n",
    "def rick():\n",
    "    print(\"rick\")\n",
    "    \n",
    "objec = title_d(rick)\n",
    "objec"
   ]
  },
  {
   "cell_type": "code",
   "execution_count": null,
   "metadata": {},
   "outputs": [],
   "source": [
    "def title_d(names_func):\n",
    "    def inner():\n",
    "        print(\"Professor: \")\n",
    "        names_func()\n",
    "    return inner()\n",
    "\n",
    "@title_d\n",
    "def shiv():\n",
    "    print(\"shiv\")\n",
    "@title_d\n",
    "def rick():\n",
    "    print(\"rick\")\n",
    "    "
   ]
  },
  {
   "cell_type": "code",
   "execution_count": null,
   "metadata": {},
   "outputs": [],
   "source": [
    "def title_d(names_func):\n",
    "    def inner(na, la):\n",
    "        print(\"Professor: \")\n",
    "        return names_func(na, la)\n",
    "    return inner\n",
    "\n",
    "@title_d\n",
    "def shiv(na, ln):\n",
    "    print(na, ln)\n",
    "    \n",
    "shiv(\"shivam\", \"chouhan\")"
   ]
  },
  {
   "cell_type": "code",
   "execution_count": null,
   "metadata": {},
   "outputs": [],
   "source": [
    "def title_d(names_func):\n",
    "    def inner(*args):\n",
    "        print(\"Professor: \")\n",
    "        return names_func(*args)\n",
    "    return inner\n",
    "\n",
    "@title_d\n",
    "def shiv(*args):\n",
    "    print(*args)\n",
    "    \n",
    "shiv(\"shiv\", \"is\", \"God\", \"without\", \"powers\")"
   ]
  },
  {
   "cell_type": "code",
   "execution_count": null,
   "metadata": {},
   "outputs": [],
   "source": [
    "def title_do(names_func):\n",
    "    def inner(**kwargs):\n",
    "        for j,k in kwargs.items():\n",
    "            print(k)\n",
    "        return names_func(**kwargs)\n",
    "    return inner\n",
    "\n",
    "@title_do\n",
    "def shiv(**kwargs):\n",
    "    print(*kwargs) # unfortunately it is printing keys\n",
    "    \n",
    "shiv(a=\"shiv\", b=\"is\", c=\"super\", d=\"hero\")\n"
   ]
  },
  {
   "cell_type": "code",
   "execution_count": null,
   "metadata": {},
   "outputs": [],
   "source": [
    "210 * 7"
   ]
  },
  {
   "cell_type": "code",
   "execution_count": null,
   "metadata": {},
   "outputs": [],
   "source": [
    "import sys\n",
    "print(sys.version)"
   ]
  },
  {
   "cell_type": "code",
   "execution_count": null,
   "metadata": {},
   "outputs": [],
   "source": [
    "import datetime\n",
    "now = datetime.datetime.now()\n",
    "print(now)"
   ]
  },
  {
   "cell_type": "code",
   "execution_count": null,
   "metadata": {},
   "outputs": [],
   "source": [
    "from math import pi\n",
    "r = float(input(\"enter radious for circle\"))\n",
    "print(\"the area is \", str(pi*r**2))"
   ]
  },
  {
   "cell_type": "raw",
   "metadata": {},
   "source": [
    "##### slice #####"
   ]
  },
  {
   "cell_type": "code",
   "execution_count": null,
   "metadata": {},
   "outputs": [],
   "source": [
    "a = (\"a\", \"b\", \"c\", \"d\", \"e\", \"f\", \"g\", \"h\")\n",
    "x = slice(8, 2, -1)\n",
    "print(a[x])"
   ]
  },
  {
   "cell_type": "raw",
   "metadata": {},
   "source": [
    "##### split ######"
   ]
  },
  {
   "cell_type": "code",
   "execution_count": null,
   "metadata": {},
   "outputs": [],
   "source": [
    "txt = \"welcome to the jungle\"\n",
    "x = txt.split(\"o\")\n",
    "print(x)\n",
    "\n",
    "txt = \"how are you doing hope you are good\"\n",
    "# setting the maxsplit parameter to 1, will return a list with 2 elements!\n",
    "x = txt.split(\" \", 2)  #limit of spliting\n",
    "print(x)\n"
   ]
  },
  {
   "cell_type": "code",
   "execution_count": null,
   "metadata": {},
   "outputs": [],
   "source": [
    "# mehtod is fine but will take more than 120000 ms \n",
    "num = 9873492\n",
    "if num>1:\n",
    "    for i in range(2, num):\n",
    "        if (num%i) == 0:\n",
    "            print('not prime')\n",
    "            break\n",
    "    else:\n",
    "        print(\"is prime\")\n",
    "else:\n",
    "    print(\"not prime\")"
   ]
  },
  {
   "cell_type": "code",
   "execution_count": null,
   "metadata": {},
   "outputs": [],
   "source": [
    "from math import sqrt\n",
    "def is_prime(number):\n",
    "    if number < 2:\n",
    "        return False\n",
    "    for n in range(2, int(sqrt(number)) + 1):   #number**0.5\n",
    "        print(n)\n",
    "        if number % n == 0:\n",
    "            return False\n",
    "    return True\n",
    "\n",
    "is_prime(137)"
   ]
  },
  {
   "cell_type": "code",
   "execution_count": null,
   "metadata": {},
   "outputs": [],
   "source": [
    "# little faster\n",
    "def is_prime(n):\n",
    "    if  (n < 2) or (n > 2 and n%2 == 0):\n",
    "        return False\n",
    "    for i in range(3, int(n**.5)+1, 2):\n",
    "        print(i)\n",
    "        if n%i == 0:\n",
    "            return False\n",
    "    else:\n",
    "        \n",
    "        \n",
    "        return True\n",
    "    \n",
    "is_prime(319)"
   ]
  },
  {
   "cell_type": "code",
   "execution_count": null,
   "metadata": {},
   "outputs": [],
   "source": [
    "319 ** 0.5"
   ]
  },
  {
   "cell_type": "code",
   "execution_count": null,
   "metadata": {},
   "outputs": [],
   "source": [
    "# series of prime numbers untill a perticular number\n",
    "class countcla:\n",
    "    def count_prime(self, n):\n",
    "        if n<2:\n",
    "            return 0\n",
    "        def prim_check(num):\n",
    "            for i in range(2, num):\n",
    "                if num%i == 0:\n",
    "                    return False\n",
    "            return True\n",
    "        count = 0\n",
    "        j = []\n",
    "        for i in range(2, n):\n",
    "            if prim_check(i):\n",
    "                count += 1\n",
    "                j.append(i)\n",
    "        return count,j\n",
    "            \n",
    "        \n",
    "obj = countcla()\n",
    "obj.count_prime(5)"
   ]
  },
  {
   "cell_type": "code",
   "execution_count": null,
   "metadata": {},
   "outputs": [],
   "source": [
    "class countcla2:\n",
    "    \"\"\"n = 10\n",
    "        0,1,2,3,4,5,6,7,8,9,10\n",
    "    a =[F,F,T,T,F,T,F,T,F,F,F]  = 4 prime numebrs\"\"\"\n",
    "    def count_primes(self, n: int) -> int:\n",
    "    # Sieve of Eratosthenes\n",
    "        if n < 2: return 0\n",
    "        a = [True] * n\n",
    "        a[0], a[1] = False, False\n",
    "        for i in range(2, int(sqrt(n)) + 1):\n",
    "            for j in range(i*i, n, i):\n",
    "                a[j] = False\n",
    "        count = 0\n",
    "        for i in range(2, n):\n",
    "            if a[i]:\n",
    "                count += 1\n",
    "        return count\n",
    "\n",
    "hello = countcla2()\n",
    "hello.count_primes(8)\n",
    "    "
   ]
  },
  {
   "cell_type": "markdown",
   "metadata": {},
   "source": [
    "https://en.wikipedia.org/wiki/Sieve_of_Eratosthenes"
   ]
  },
  {
   "cell_type": "code",
   "execution_count": null,
   "metadata": {},
   "outputs": [],
   "source": [
    "class Solution(object):\n",
    "    def countPrimes(self, n):\n",
    "        count = 0\n",
    "        primes = [False for i in range(n+1)]\n",
    "        for i in range(2,n):\n",
    "            if primes[i] == False:\n",
    "                count+=1\n",
    "                j = 2\n",
    "                while j*i<n:\n",
    "                    primes[j*i] = True\n",
    "                    j+=1\n",
    "        return count\n",
    "ob1 = Solution()\n",
    "print(ob1.countPrimes(50))\n",
    "print(ob1.countPrimes(10))"
   ]
  },
  {
   "cell_type": "code",
   "execution_count": null,
   "metadata": {},
   "outputs": [],
   "source": [
    "def gen_primes():\n",
    "    \"\"\" Generate an infinite sequence of prime numbers.\n",
    "    \"\"\"\n",
    "    # Maps composites to primes witnessing their compositeness.\n",
    "    # This is memory efficient, as the sieve is not \"run forward\"\n",
    "    # indefinitely, but only as long as required by the current\n",
    "    # number being tested.\n",
    "    #\n",
    "    D = {}\n",
    "    \n",
    "    # The running integer that's checked for primeness\n",
    "    q = 2\n",
    "    \n",
    "    while True:\n",
    "        if q not in D:\n",
    "            # q is a new prime.\n",
    "            # Yield it and mark its first multiple that isn't\n",
    "            # already marked in previous iterations\n",
    "            # \n",
    "            yield q\n",
    "            D[q * q] = [q]\n",
    "        else:\n",
    "            # q is composite. D[q] is the list of primes that\n",
    "            # divide it. Since we've reached q, we no longer\n",
    "            # need it in the map, but we'll mark the next \n",
    "            # multiples of its witnesses to prepare for larger\n",
    "            # numbers\n",
    "            # \n",
    "            for p in D[q]:\n",
    "                D.setdefault(p + q, []).append(p)\n",
    "            del D[q]\n",
    "        \n",
    "        q += 1\n",
    "        \n",
    "g = gen_primes()\n",
    "for i in g:\n",
    "    if i < 100:\n",
    "        print(i)\n"
   ]
  },
  {
   "cell_type": "code",
   "execution_count": 3,
   "metadata": {},
   "outputs": [
    {
     "data": {
      "text/plain": [
       "True"
      ]
     },
     "execution_count": 3,
     "metadata": {},
     "output_type": "execute_result"
    }
   ],
   "source": [
    "import re\n",
    "def is_prime(n):\n",
    "    return not re.match(r'^.?$|^(..+?)\\1+$', '1'*n)\n",
    "\n",
    "\n",
    "is_prime(7)"
   ]
  },
  {
   "cell_type": "markdown",
   "metadata": {},
   "source": [
    "# Exceptions"
   ]
  },
  {
   "cell_type": "code",
   "execution_count": null,
   "metadata": {},
   "outputs": [],
   "source": [
    "import sys\n",
    "\n",
    "try:\n",
    "    x = int(input(\"x: \"))\n",
    "    y = int(input(\"y: \"))\n",
    "except ValueError:\n",
    "    print(\"Error: Invalid input\")\n",
    "    sys.exit(1)\n",
    "\n",
    "try:\n",
    "    result = x / y\n",
    "except ZeroDivisionError:\n",
    "    print(\"Error: Cannot divide by 0.\")\n",
    "    # Exit the program\n",
    "    sys.exit(1)\n",
    "\n",
    "print(f\"{x} / {y} = {result}\")"
   ]
  },
  {
   "cell_type": "code",
   "execution_count": null,
   "metadata": {},
   "outputs": [],
   "source": []
  },
  {
   "cell_type": "markdown",
   "metadata": {},
   "source": [
    "# Generator"
   ]
  },
  {
   "cell_type": "code",
   "execution_count": 5,
   "metadata": {},
   "outputs": [
    {
     "name": "stdout",
     "output_type": "stream",
     "text": [
      "This is printed first\n",
      "1\n",
      "This is printed second\n",
      "2\n",
      "This is printed at last\n",
      "3\n"
     ]
    }
   ],
   "source": [
    "def my_gen():\n",
    "    n = 1\n",
    "    print('This is printed first')\n",
    "    # Generator function contains yield statements\n",
    "    yield n\n",
    "\n",
    "    n += 1\n",
    "    print('This is printed second')\n",
    "    yield n\n",
    "\n",
    "    n += 1\n",
    "    print('This is printed at last')\n",
    "    yield n\n",
    "    \n",
    "a = my_gen()\n",
    "print(next(a))\n",
    "print(next(a))\n",
    "print(next(a))\n",
    "# print(next(a))"
   ]
  },
  {
   "cell_type": "code",
   "execution_count": 6,
   "metadata": {},
   "outputs": [
    {
     "name": "stdout",
     "output_type": "stream",
     "text": [
      "This is printed first\n",
      "1\n",
      "This is printed second\n",
      "2\n",
      "This is printed at last\n",
      "3\n"
     ]
    }
   ],
   "source": [
    "# A simple generator function\n",
    "def my_gen():\n",
    "    n = 1\n",
    "    print('This is printed first')\n",
    "    # Generator function contains yield statements\n",
    "    yield n\n",
    "\n",
    "    n += 1\n",
    "    print('This is printed second')\n",
    "    yield n\n",
    "\n",
    "    n += 1\n",
    "    print('This is printed at last')\n",
    "    yield n\n",
    "\n",
    "\n",
    "# Using for loop\n",
    "for item in my_gen():\n",
    "    print(item)"
   ]
  },
  {
   "cell_type": "code",
   "execution_count": 7,
   "metadata": {},
   "outputs": [
    {
     "name": "stdout",
     "output_type": "stream",
     "text": [
      "o\n",
      "l\n",
      "l\n",
      "e\n",
      "h\n"
     ]
    }
   ],
   "source": [
    "def rev_str(my_str):\n",
    "    length = len(my_str)\n",
    "    for i in range(length - 1, -1, -1):\n",
    "        yield my_str[i]\n",
    "\n",
    "\n",
    "# For loop to reverse the string\n",
    "for char in rev_str(\"hello\"):\n",
    "    print(char)"
   ]
  },
  {
   "cell_type": "code",
   "execution_count": 8,
   "metadata": {},
   "outputs": [
    {
     "name": "stdout",
     "output_type": "stream",
     "text": [
      "[1, 9, 36, 100]\n",
      "<generator object <genexpr> at 0x0000029EBA642448>\n"
     ]
    }
   ],
   "source": [
    "# Initialize the list\n",
    "my_list = [1, 3, 6, 10]\n",
    "\n",
    "# square each term using list comprehension\n",
    "list_ = [x**2 for x in my_list]\n",
    "\n",
    "# same thing can be done using a generator expression\n",
    "# generator expressions are surrounded by parenthesis ()\n",
    "generator = (x**2 for x in my_list)\n",
    "\n",
    "print(list_)\n",
    "print(generator)"
   ]
  },
  {
   "cell_type": "code",
   "execution_count": 9,
   "metadata": {},
   "outputs": [],
   "source": [
    "class PowTwo:\n",
    "    def __init__(self, max=0):\n",
    "        self.n = 0\n",
    "        self.max = max\n",
    "\n",
    "    def __iter__(self):\n",
    "        return self\n",
    "\n",
    "    def __next__(self):\n",
    "        if self.n > self.max:\n",
    "            raise StopIteration\n",
    "\n",
    "        result = 2 ** self.n\n",
    "        self.n += 1\n",
    "        return result\n",
    "    \n",
    "#     VS both do the same\n",
    "    \n",
    "def PowTwoGen(max=0):\n",
    "    n = 0\n",
    "    while n < max:\n",
    "        yield 2 ** n\n",
    "        n += 1"
   ]
  },
  {
   "cell_type": "code",
   "execution_count": null,
   "metadata": {},
   "outputs": [],
   "source": []
  }
 ],
 "metadata": {
  "kernelspec": {
   "display_name": "Python 3",
   "language": "python",
   "name": "python3"
  },
  "language_info": {
   "codemirror_mode": {
    "name": "ipython",
    "version": 3
   },
   "file_extension": ".py",
   "mimetype": "text/x-python",
   "name": "python",
   "nbconvert_exporter": "python",
   "pygments_lexer": "ipython3",
   "version": "3.7.4"
  }
 },
 "nbformat": 4,
 "nbformat_minor": 2
}
